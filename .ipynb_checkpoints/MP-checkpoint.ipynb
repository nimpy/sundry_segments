{
 "cells": [
  {
   "cell_type": "code",
   "execution_count": null,
   "metadata": {},
   "outputs": [],
   "source": [
    "### from https://github.com/mratsim/Arraymancer/issues/174\n",
    "\n",
    "def max_pool_forward_fast(x, pool_param):\n",
    "    \"\"\"\n",
    "    A fast implementation of the forward pass for a max pooling layer.\n",
    "    This chooses between the reshape method and the im2col method. If the pooling\n",
    "    regions are square and tile the input image, then we can use the reshape\n",
    "    method which is very fast. Otherwise we fall back on the im2col method, which\n",
    "    is not much faster than the naive method.\n",
    "    \"\"\"\n",
    "    N, C, H, W = x.shape\n",
    "    pool_height, pool_width = pool_param['pool_height'], pool_param['pool_width']\n",
    "    stride = pool_param['stride']\n",
    "\n",
    "    same_size = pool_height == pool_width == stride\n",
    "    tiles = H % pool_height == 0 and W % pool_width == 0\n",
    "    if same_size and tiles:\n",
    "    out, reshape_cache = max_pool_forward_reshape(x, pool_param)\n",
    "    cache = ('reshape', reshape_cache)\n",
    "    else:\n",
    "    out, im2col_cache = max_pool_forward_im2col(x, pool_param)\n",
    "    cache = ('im2col', im2col_cache)\n",
    "    return out, cache\n",
    "\n",
    "def max_pool_forward_reshape(x, pool_param):\n",
    "    \"\"\"\n",
    "    A fast implementation of the forward pass for the max pooling layer that uses\n",
    "    some clever reshaping.\n",
    "    This can only be used for square pooling regions that tile the input.\n",
    "    \"\"\"\n",
    "    N, C, H, W = x.shape\n",
    "    pool_height, pool_width = pool_param['pool_height'], pool_param['pool_width']\n",
    "    stride = pool_param['stride']\n",
    "    assert pool_height == pool_width == stride, 'Invalid pool params'\n",
    "    assert H % pool_height == 0\n",
    "    assert W % pool_height == 0\n",
    "    x_reshaped = x.reshape(N, C, H / pool_height, pool_height,\n",
    "                         W / pool_width, pool_width)\n",
    "    out = x_reshaped.max(axis=3).max(axis=4)\n",
    "\n",
    "    cache = (x, x_reshaped, out)\n",
    "    return out, cache\n",
    "\n",
    "def max_pool_forward_im2col(x, pool_param):\n",
    "    \"\"\"\n",
    "    An implementation of the forward pass for max pooling based on im2col.\n",
    "    This isn't much faster than the naive version, so it should be avoided if\n",
    "    possible.\n",
    "    \"\"\"\n",
    "    N, C, H, W = x.shape\n",
    "    pool_height, pool_width = pool_param['pool_height'], pool_param['pool_width']\n",
    "    stride = pool_param['stride']\n",
    "\n",
    "    assert (H - pool_height) % stride == 0, 'Invalid height'\n",
    "    assert (W - pool_width) % stride == 0, 'Invalid width'\n",
    "\n",
    "    out_height = (H - pool_height) / stride + 1\n",
    "    out_width = (W - pool_width) / stride + 1\n",
    "\n",
    "    x_split = x.reshape(N * C, 1, H, W)\n",
    "    x_cols = im2col(x_split, pool_height, pool_width, padding=0, stride=stride)\n",
    "    x_cols_argmax = np.argmax(x_cols, axis=0)\n",
    "    x_cols_max = x_cols[x_cols_argmax, np.arange(x_cols.shape[1])]\n",
    "    out = x_cols_max.reshape(out_height, out_width, N, C).transpose(2, 3, 0, 1)\n",
    "\n",
    "    cache = (x, x_cols, x_cols_argmax, pool_param)\n",
    "    return out, cache"
   ]
  },
  {
   "cell_type": "code",
   "execution_count": null,
   "metadata": {},
   "outputs": [],
   "source": []
  },
  {
   "cell_type": "code",
   "execution_count": 4,
   "metadata": {},
   "outputs": [],
   "source": [
    "import numpy as np"
   ]
  },
  {
   "cell_type": "code",
   "execution_count": 1,
   "metadata": {},
   "outputs": [],
   "source": [
    "def max_pool_forward_reshape(x, pool_param):\n",
    "    \"\"\"\n",
    "    A fast implementation of the forward pass for the max pooling layer that uses\n",
    "    some clever reshaping.\n",
    "    This can only be used for square pooling regions that tile the input.\n",
    "    \"\"\"\n",
    "    N, C, H, W = x.shape\n",
    "    pool_height, pool_width = pool_param['pool_height'], pool_param['pool_width']\n",
    "    stride = pool_param['stride']\n",
    "    assert pool_height == pool_width == stride, 'Invalid pool params'\n",
    "    assert H % pool_height == 0\n",
    "    assert W % pool_height == 0\n",
    "    x_reshaped = x.reshape(N, C, H / pool_height, pool_height,\n",
    "                         W / pool_width, pool_width)\n",
    "    out = x_reshaped.max(axis=3).max(axis=4)\n",
    "\n",
    "    cache = (x, x_reshaped, out)\n",
    "    return out, cache"
   ]
  },
  {
   "cell_type": "code",
   "execution_count": 38,
   "metadata": {},
   "outputs": [],
   "source": [
    "def mp(x):\n",
    "    \n",
    "    N, C, H, W = x.shape\n",
    "    \n",
    "    temp = 2\n",
    "    \n",
    "    pool_height = temp\n",
    "    pool_width = temp\n",
    "    stride = temp\n",
    "    \n",
    "    x_reshaped = x.reshape(N, C, H // pool_height, pool_height,\n",
    "                         W // pool_width, pool_width)\n",
    "    out = x_reshaped.max(axis=3).max(axis=4)\n",
    "\n",
    "    cache = (x, x_reshaped, out)\n",
    "    return out#, cache"
   ]
  },
  {
   "cell_type": "code",
   "execution_count": 39,
   "metadata": {},
   "outputs": [],
   "source": [
    "x0 = np.arange(16).reshape(4, 4)\n",
    "x1 = (np.arange(16) + 16).reshape(4, 4)\n",
    "x2 = (np.arange(16) + 32).reshape(4, 4)\n",
    "x = np.zeros((1, 3, 4, 4))\n",
    "x[0, 0, :, :] = x0\n",
    "x[0, 1, :, :] = x1\n",
    "x[0, 2, :, :] = x2"
   ]
  },
  {
   "cell_type": "code",
   "execution_count": 40,
   "metadata": {},
   "outputs": [],
   "source": [
    "x0 = np.array(np.random.rand(4, 4) * 10, dtype=np.int32)\n",
    "x1 = np.array(np.random.rand(4, 4) * 100, dtype=np.int32)\n",
    "x2 = np.array(np.random.rand(4, 4) * 1000, dtype=np.int32)\n",
    "x = np.zeros((1, 3, 4, 4))\n",
    "x[0, 0, :, :] = x0\n",
    "x[0, 1, :, :] = x1\n",
    "x[0, 2, :, :] = x2"
   ]
  },
  {
   "cell_type": "code",
   "execution_count": 41,
   "metadata": {},
   "outputs": [
    {
     "data": {
      "text/plain": [
       "array([[[[  4.,   1.,   4.,   0.],\n",
       "         [  0.,   4.,   0.,   2.],\n",
       "         [  8.,   0.,   3.,   1.],\n",
       "         [  7.,   5.,   3.,   8.]],\n",
       "\n",
       "        [[ 73.,  13.,  71.,  22.],\n",
       "         [ 14.,   5.,  31.,  12.],\n",
       "         [ 44.,  72.,  32.,  40.],\n",
       "         [ 93.,  86.,  67.,  72.]],\n",
       "\n",
       "        [[735., 759., 311., 965.],\n",
       "         [591.,  64., 971., 400.],\n",
       "         [689., 932., 983., 574.],\n",
       "         [239., 752.,  33., 220.]]]])"
      ]
     },
     "execution_count": 41,
     "metadata": {},
     "output_type": "execute_result"
    }
   ],
   "source": [
    "x"
   ]
  },
  {
   "cell_type": "code",
   "execution_count": 42,
   "metadata": {},
   "outputs": [
    {
     "data": {
      "text/plain": [
       "array([[[[  4.,   4.],\n",
       "         [  8.,   8.]],\n",
       "\n",
       "        [[ 73.,  71.],\n",
       "         [ 93.,  72.]],\n",
       "\n",
       "        [[759., 971.],\n",
       "         [932., 983.]]]])"
      ]
     },
     "execution_count": 42,
     "metadata": {},
     "output_type": "execute_result"
    }
   ],
   "source": [
    "mp(x)"
   ]
  },
  {
   "cell_type": "code",
   "execution_count": null,
   "metadata": {},
   "outputs": [],
   "source": []
  },
  {
   "cell_type": "code",
   "execution_count": null,
   "metadata": {},
   "outputs": [],
   "source": []
  },
  {
   "cell_type": "code",
   "execution_count": null,
   "metadata": {},
   "outputs": [],
   "source": []
  },
  {
   "cell_type": "code",
   "execution_count": null,
   "metadata": {},
   "outputs": [],
   "source": []
  },
  {
   "cell_type": "code",
   "execution_count": 66,
   "metadata": {},
   "outputs": [],
   "source": [
    "def mp(x):\n",
    "    \n",
    "    C, H, W = x.shape\n",
    "    \n",
    "    temp = 2\n",
    "    \n",
    "    pool_height = temp\n",
    "    pool_width = temp\n",
    "    stride = temp\n",
    "    \n",
    "    x_reshaped = x.reshape(C, H // pool_height, pool_height,\n",
    "                         W // pool_width, pool_width)\n",
    "    out = x_reshaped.max(axis=2).max(axis=3)\n",
    "\n",
    "    cache = (x, x_reshaped, out)\n",
    "    return out#, cache"
   ]
  },
  {
   "cell_type": "code",
   "execution_count": 67,
   "metadata": {},
   "outputs": [],
   "source": [
    "x0 = np.arange(16).reshape(4, 4)\n",
    "x1 = (np.arange(16) + 16).reshape(4, 4)\n",
    "x2 = (np.arange(16) + 32).reshape(4, 4)\n",
    "x = np.zeros((3, 4, 4))\n",
    "x[0, :, :] = x0\n",
    "x[1, :, :] = x1\n",
    "x[2, :, :] = x2"
   ]
  },
  {
   "cell_type": "code",
   "execution_count": 47,
   "metadata": {},
   "outputs": [],
   "source": [
    "x0 = np.array(np.random.rand(4, 4) * 10, dtype=np.int32)\n",
    "x1 = np.array(np.random.rand(4, 4) * 100, dtype=np.int32)\n",
    "x2 = np.array(np.random.rand(4, 4) * 1000, dtype=np.int32)\n",
    "x = np.zeros((3, 4, 4))\n",
    "x[0, :, :] = x0\n",
    "x[1, :, :] = x1\n",
    "x[2, :, :] = x2"
   ]
  },
  {
   "cell_type": "code",
   "execution_count": 68,
   "metadata": {},
   "outputs": [
    {
     "data": {
      "text/plain": [
       "array([[[ 0.,  1.,  2.,  3.],\n",
       "        [ 4.,  5.,  6.,  7.],\n",
       "        [ 8.,  9., 10., 11.],\n",
       "        [12., 13., 14., 15.]],\n",
       "\n",
       "       [[16., 17., 18., 19.],\n",
       "        [20., 21., 22., 23.],\n",
       "        [24., 25., 26., 27.],\n",
       "        [28., 29., 30., 31.]],\n",
       "\n",
       "       [[32., 33., 34., 35.],\n",
       "        [36., 37., 38., 39.],\n",
       "        [40., 41., 42., 43.],\n",
       "        [44., 45., 46., 47.]]])"
      ]
     },
     "execution_count": 68,
     "metadata": {},
     "output_type": "execute_result"
    }
   ],
   "source": [
    "x"
   ]
  },
  {
   "cell_type": "code",
   "execution_count": 69,
   "metadata": {},
   "outputs": [
    {
     "data": {
      "text/plain": [
       "array([[[ 5.,  7.],\n",
       "        [13., 15.]],\n",
       "\n",
       "       [[21., 23.],\n",
       "        [29., 31.]],\n",
       "\n",
       "       [[37., 39.],\n",
       "        [45., 47.]]])"
      ]
     },
     "execution_count": 69,
     "metadata": {},
     "output_type": "execute_result"
    }
   ],
   "source": [
    "mp(x)"
   ]
  },
  {
   "cell_type": "code",
   "execution_count": null,
   "metadata": {},
   "outputs": [],
   "source": []
  },
  {
   "cell_type": "code",
   "execution_count": null,
   "metadata": {},
   "outputs": [],
   "source": []
  },
  {
   "cell_type": "code",
   "execution_count": null,
   "metadata": {},
   "outputs": [],
   "source": []
  },
  {
   "cell_type": "code",
   "execution_count": null,
   "metadata": {},
   "outputs": [],
   "source": []
  },
  {
   "cell_type": "code",
   "execution_count": null,
   "metadata": {},
   "outputs": [],
   "source": []
  },
  {
   "cell_type": "code",
   "execution_count": null,
   "metadata": {},
   "outputs": [],
   "source": []
  },
  {
   "cell_type": "code",
   "execution_count": null,
   "metadata": {},
   "outputs": [],
   "source": []
  },
  {
   "cell_type": "code",
   "execution_count": null,
   "metadata": {},
   "outputs": [],
   "source": []
  },
  {
   "cell_type": "code",
   "execution_count": null,
   "metadata": {},
   "outputs": [],
   "source": []
  },
  {
   "cell_type": "code",
   "execution_count": null,
   "metadata": {},
   "outputs": [],
   "source": []
  },
  {
   "cell_type": "code",
   "execution_count": null,
   "metadata": {},
   "outputs": [],
   "source": []
  },
  {
   "cell_type": "code",
   "execution_count": null,
   "metadata": {},
   "outputs": [],
   "source": []
  },
  {
   "cell_type": "code",
   "execution_count": 92,
   "metadata": {},
   "outputs": [],
   "source": [
    "# this one!\n",
    "\n",
    "def mp(x):\n",
    "    \n",
    "    H, W, C = x.shape\n",
    "    \n",
    "    temp = 2\n",
    "    \n",
    "    pool_height = temp\n",
    "    pool_width = temp\n",
    "    stride = temp\n",
    "    \n",
    "    x_reshaped = x.reshape(H // pool_height, pool_height,\n",
    "                         W // pool_width, pool_width, C)\n",
    "    out = x_reshaped.max(axis=1).max(axis=2)\n",
    "\n",
    "    cache = (x, x_reshaped, out)\n",
    "    return out#, cache"
   ]
  },
  {
   "cell_type": "code",
   "execution_count": 93,
   "metadata": {},
   "outputs": [],
   "source": [
    "x0 = np.arange(16).reshape(4, 4)\n",
    "x1 = (np.arange(16) + 16).reshape(4, 4)\n",
    "x2 = (np.arange(16) + 32).reshape(4, 4)\n",
    "x = np.zeros((4, 4, 3))\n",
    "x[:, :, 0] = x0\n",
    "x[:, :, 1] = x1\n",
    "x[:, :, 2] = x2"
   ]
  },
  {
   "cell_type": "code",
   "execution_count": 96,
   "metadata": {},
   "outputs": [],
   "source": [
    "x0 = np.array(np.random.rand(4, 4) * 10, dtype=np.int32)\n",
    "x1 = np.array(np.random.rand(4, 4) * 100, dtype=np.int32)\n",
    "x2 = np.array(np.random.rand(4, 4) * 1000, dtype=np.int32)\n",
    "x = np.zeros((4, 4, 3))\n",
    "x[:, :, 0] = x0\n",
    "x[:, :, 1] = x1\n",
    "x[:, :, 2] = x2"
   ]
  },
  {
   "cell_type": "code",
   "execution_count": 94,
   "metadata": {},
   "outputs": [
    {
     "data": {
      "text/plain": [
       "array([[[ 0., 16., 32.],\n",
       "        [ 1., 17., 33.],\n",
       "        [ 2., 18., 34.],\n",
       "        [ 3., 19., 35.]],\n",
       "\n",
       "       [[ 4., 20., 36.],\n",
       "        [ 5., 21., 37.],\n",
       "        [ 6., 22., 38.],\n",
       "        [ 7., 23., 39.]],\n",
       "\n",
       "       [[ 8., 24., 40.],\n",
       "        [ 9., 25., 41.],\n",
       "        [10., 26., 42.],\n",
       "        [11., 27., 43.]],\n",
       "\n",
       "       [[12., 28., 44.],\n",
       "        [13., 29., 45.],\n",
       "        [14., 30., 46.],\n",
       "        [15., 31., 47.]]])"
      ]
     },
     "execution_count": 94,
     "metadata": {},
     "output_type": "execute_result"
    }
   ],
   "source": [
    "x"
   ]
  },
  {
   "cell_type": "code",
   "execution_count": 95,
   "metadata": {},
   "outputs": [
    {
     "data": {
      "text/plain": [
       "array([[[ 5., 21., 37.],\n",
       "        [ 7., 23., 39.]],\n",
       "\n",
       "       [[13., 29., 45.],\n",
       "        [15., 31., 47.]]])"
      ]
     },
     "execution_count": 95,
     "metadata": {},
     "output_type": "execute_result"
    }
   ],
   "source": [
    "mp(x)"
   ]
  },
  {
   "cell_type": "code",
   "execution_count": 97,
   "metadata": {},
   "outputs": [
    {
     "data": {
      "text/plain": [
       "array([[[  2.,  41., 659.],\n",
       "        [  9.,  58., 678.],\n",
       "        [  3.,  60., 441.],\n",
       "        [  0.,   9., 222.]],\n",
       "\n",
       "       [[  3.,  99.,  60.],\n",
       "        [  5.,  32., 207.],\n",
       "        [  3.,  73., 633.],\n",
       "        [  9.,  27., 668.]],\n",
       "\n",
       "       [[  7.,  94., 178.],\n",
       "        [  6.,  58., 605.],\n",
       "        [  6.,  87., 393.],\n",
       "        [  1.,  77., 624.]],\n",
       "\n",
       "       [[  0.,  14.,  36.],\n",
       "        [  2.,  80., 587.],\n",
       "        [  2.,  66., 607.],\n",
       "        [  4.,  38., 893.]]])"
      ]
     },
     "execution_count": 97,
     "metadata": {},
     "output_type": "execute_result"
    }
   ],
   "source": [
    "x"
   ]
  },
  {
   "cell_type": "code",
   "execution_count": 98,
   "metadata": {},
   "outputs": [
    {
     "data": {
      "text/plain": [
       "array([[[  9.,  99., 678.],\n",
       "        [  9.,  73., 668.]],\n",
       "\n",
       "       [[  7.,  94., 605.],\n",
       "        [  6.,  87., 893.]]])"
      ]
     },
     "execution_count": 98,
     "metadata": {},
     "output_type": "execute_result"
    }
   ],
   "source": [
    "mp(x)"
   ]
  },
  {
   "cell_type": "code",
   "execution_count": null,
   "metadata": {},
   "outputs": [],
   "source": []
  },
  {
   "cell_type": "code",
   "execution_count": null,
   "metadata": {},
   "outputs": [],
   "source": []
  },
  {
   "cell_type": "code",
   "execution_count": null,
   "metadata": {},
   "outputs": [],
   "source": []
  },
  {
   "cell_type": "code",
   "execution_count": null,
   "metadata": {},
   "outputs": [],
   "source": []
  },
  {
   "cell_type": "code",
   "execution_count": 105,
   "metadata": {},
   "outputs": [],
   "source": [
    "def max_pool(patch_ir):\n",
    "    pool_size = 8\n",
    "    \n",
    "    height, width, nr_channels = patch_ir.shape\n",
    "    \n",
    "    patch_ir_reshaped = patch_ir.reshape(height // pool_size, pool_size,\n",
    "                           width // pool_size, pool_size, nr_channels)\n",
    "    patch_descr = patch_ir_reshaped.max(axis=1).max(axis=2)\n",
    "\n",
    "    return patch_descr"
   ]
  },
  {
   "cell_type": "code",
   "execution_count": 106,
   "metadata": {},
   "outputs": [],
   "source": [
    "patch_ir = np.zeros((8, 16, 32))"
   ]
  },
  {
   "cell_type": "code",
   "execution_count": 107,
   "metadata": {},
   "outputs": [
    {
     "data": {
      "text/plain": [
       "array([[[0., 0., 0., 0., 0., 0., 0., 0., 0., 0., 0., 0., 0., 0., 0., 0.,\n",
       "         0., 0., 0., 0., 0., 0., 0., 0., 0., 0., 0., 0., 0., 0., 0., 0.],\n",
       "        [0., 0., 0., 0., 0., 0., 0., 0., 0., 0., 0., 0., 0., 0., 0., 0.,\n",
       "         0., 0., 0., 0., 0., 0., 0., 0., 0., 0., 0., 0., 0., 0., 0., 0.]]])"
      ]
     },
     "execution_count": 107,
     "metadata": {},
     "output_type": "execute_result"
    }
   ],
   "source": [
    "max_pool(patch_ir)"
   ]
  },
  {
   "cell_type": "code",
   "execution_count": null,
   "metadata": {},
   "outputs": [],
   "source": []
  },
  {
   "cell_type": "code",
   "execution_count": null,
   "metadata": {},
   "outputs": [],
   "source": []
  },
  {
   "cell_type": "code",
   "execution_count": null,
   "metadata": {},
   "outputs": [],
   "source": []
  },
  {
   "cell_type": "code",
   "execution_count": null,
   "metadata": {},
   "outputs": [],
   "source": []
  },
  {
   "cell_type": "code",
   "execution_count": null,
   "metadata": {},
   "outputs": [],
   "source": []
  },
  {
   "cell_type": "code",
   "execution_count": null,
   "metadata": {},
   "outputs": [],
   "source": []
  },
  {
   "cell_type": "code",
   "execution_count": null,
   "metadata": {},
   "outputs": [],
   "source": [
    "# the case where it doesn't tile perfectly (slower implementation)"
   ]
  },
  {
   "cell_type": "code",
   "execution_count": null,
   "metadata": {},
   "outputs": [],
   "source": [
    "def mp_slow(x, pool_param):\n",
    "\n",
    "    N, C, H, W = x.shape\n",
    "    pool_height, pool_width = pool_param['pool_height'], pool_param['pool_width']\n",
    "    stride = pool_param['stride']\n",
    "\n",
    "    assert (H - pool_height) % stride == 0, 'Invalid height'\n",
    "    assert (W - pool_width) % stride == 0, 'Invalid width'\n",
    "\n",
    "    out_height = (H - pool_height) / stride + 1\n",
    "    out_width = (W - pool_width) / stride + 1\n",
    "\n",
    "    x_split = x.reshape(N * C, 1, H, W)\n",
    "    x_cols = im2col(x_split, pool_height, pool_width, padding=0, stride=stride)\n",
    "    x_cols_argmax = np.argmax(x_cols, axis=0)\n",
    "    x_cols_max = x_cols[x_cols_argmax, np.arange(x_cols.shape[1])]\n",
    "    out = x_cols_max.reshape(out_height, out_width, N, C).transpose(2, 3, 0, 1)\n",
    "\n",
    "    cache = (x, x_cols, x_cols_argmax, pool_param)\n",
    "    return out, cache"
   ]
  },
  {
   "cell_type": "code",
   "execution_count": null,
   "metadata": {},
   "outputs": [],
   "source": []
  }
 ],
 "metadata": {
  "kernelspec": {
   "display_name": "Python (tensorflow)",
   "language": "python",
   "name": "tensorflow"
  },
  "language_info": {
   "codemirror_mode": {
    "name": "ipython",
    "version": 3
   },
   "file_extension": ".py",
   "mimetype": "text/x-python",
   "name": "python",
   "nbconvert_exporter": "python",
   "pygments_lexer": "ipython3",
   "version": "3.6.4"
  }
 },
 "nbformat": 4,
 "nbformat_minor": 2
}
