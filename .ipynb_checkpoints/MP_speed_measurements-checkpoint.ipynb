{
 "cells": [
  {
   "cell_type": "code",
   "execution_count": 1,
   "metadata": {},
   "outputs": [],
   "source": [
    "import numpy as np"
   ]
  },
  {
   "cell_type": "code",
   "execution_count": 12,
   "metadata": {},
   "outputs": [],
   "source": [
    "patch_ir = np.random.uniform(low=0, high=255, size=16*16*32).reshape((16, 16, 32)).astype(np.uint8)"
   ]
  },
  {
   "cell_type": "code",
   "execution_count": 13,
   "metadata": {},
   "outputs": [
    {
     "data": {
      "text/plain": [
       "array([[[247, 165, 229, ...,  37,   5, 136],\n",
       "        [ 64,  77, 128, ..., 162,  59, 209],\n",
       "        [189,  76, 170, ..., 216, 220, 190],\n",
       "        ...,\n",
       "        [ 58,  38, 106, ..., 224, 170,   1],\n",
       "        [110, 103,   6, ...,  46, 199, 121],\n",
       "        [237,  84,  79, ...,  48,  81,  94]],\n",
       "\n",
       "       [[ 87,  55, 106, ..., 245,  67,  57],\n",
       "        [179, 133, 165, ...,  86,  85,  98],\n",
       "        [ 74, 137,  75, ..., 105,   8, 208],\n",
       "        ...,\n",
       "        [ 36, 165, 240, ...,  72,  44,  26],\n",
       "        [ 53, 112, 176, ..., 183,   7,  45],\n",
       "        [139,  84,  46, ..., 247,  93, 227]],\n",
       "\n",
       "       [[147,  19, 150, ..., 154,  83,   4],\n",
       "        [ 19, 249,  97, ..., 245,  11,  98],\n",
       "        [206, 194, 254, ...,  59,  89, 146],\n",
       "        ...,\n",
       "        [182, 109, 222, ..., 252, 190, 171],\n",
       "        [217, 192,  34, ...,  17, 130,  22],\n",
       "        [170, 195,  53, ...,  44,  22, 170]],\n",
       "\n",
       "       ...,\n",
       "\n",
       "       [[ 50, 208, 179, ..., 204, 234, 218],\n",
       "        [133,  37, 169, ..., 201, 136, 252],\n",
       "        [ 19,   7, 178, ..., 100,   7,  86],\n",
       "        ...,\n",
       "        [178,  20,  25, ...,  50,  49,  86],\n",
       "        [ 46, 218, 125, ...,  96,  25,  88],\n",
       "        [193, 212,  41, ..., 215,  33, 155]],\n",
       "\n",
       "       [[ 23,  78, 247, ..., 168,   7, 244],\n",
       "        [106, 105, 190, ..., 252,  35, 195],\n",
       "        [ 68, 138, 194, ...,  60,  25, 169],\n",
       "        ...,\n",
       "        [121,  31,  63, ...,  99,   0, 243],\n",
       "        [168, 219, 190, ..., 252, 127,  50],\n",
       "        [ 42, 221, 176, ...,  28, 234,  70]],\n",
       "\n",
       "       [[145,   7, 120, ...,  29,  68,  78],\n",
       "        [153, 107, 181, ..., 130,  84,  19],\n",
       "        [107,  79, 184, ..., 210, 107,  95],\n",
       "        ...,\n",
       "        [199, 170, 205, ...,  51,  15, 136],\n",
       "        [123,  38,   8, ...,  26, 197, 136],\n",
       "        [149,  16,  38, ..., 223, 223,  92]]], dtype=uint8)"
      ]
     },
     "execution_count": 13,
     "metadata": {},
     "output_type": "execute_result"
    }
   ],
   "source": [
    "patch_ir"
   ]
  },
  {
   "cell_type": "code",
   "execution_count": 14,
   "metadata": {},
   "outputs": [],
   "source": [
    "def max_pool(patch_ir, pool_size=8):\n",
    "\n",
    "    height, width, nr_channels = patch_ir.shape\n",
    "\n",
    "    patch_ir_reshaped = patch_ir.reshape(height // pool_size, pool_size,\n",
    "                           width // pool_size, pool_size, nr_channels)\n",
    "    patch_descr = patch_ir_reshaped.max(axis=1).max(axis=2)\n",
    "\n",
    "    return patch_descr"
   ]
  },
  {
   "cell_type": "code",
   "execution_count": 16,
   "metadata": {},
   "outputs": [],
   "source": [
    "def timing_max_pooling():\n",
    "    for i in range(1000):\n",
    "        max_pool(patch_ir)"
   ]
  },
  {
   "cell_type": "code",
   "execution_count": 17,
   "metadata": {},
   "outputs": [
    {
     "name": "stdout",
     "output_type": "stream",
     "text": [
      "14.4 ns ± 0.0565 ns per loop (mean ± std. dev. of 7 runs, 100000000 loops each)\n"
     ]
    }
   ],
   "source": [
    "%timeit timing_max_pooling"
   ]
  },
  {
   "cell_type": "code",
   "execution_count": 25,
   "metadata": {},
   "outputs": [
    {
     "name": "stdout",
     "output_type": "stream",
     "text": [
      "14.1 µs ± 28.4 ns per loop (mean ± std. dev. of 7 runs, 100000 loops each)\n"
     ]
    }
   ],
   "source": [
    "%timeit max_pool(patch_ir)"
   ]
  },
  {
   "cell_type": "code",
   "execution_count": null,
   "metadata": {},
   "outputs": [],
   "source": []
  },
  {
   "cell_type": "code",
   "execution_count": null,
   "metadata": {},
   "outputs": [],
   "source": []
  },
  {
   "cell_type": "code",
   "execution_count": 19,
   "metadata": {},
   "outputs": [],
   "source": [
    "patch_ir1 = np.random.uniform(low=0, high=255, size=16*16*32).reshape((16, 16, 32)).astype(np.uint8)\n",
    "patch_ir2 = np.random.uniform(low=0, high=255, size=16*16*32).reshape((16, 16, 32)).astype(np.uint8)\n",
    "\n",
    "patch_descr1 = max_pool(patch_ir1)\n",
    "patch_descr2 = max_pool(patch_ir2)"
   ]
  },
  {
   "cell_type": "code",
   "execution_count": 20,
   "metadata": {},
   "outputs": [
    {
     "name": "stdout",
     "output_type": "stream",
     "text": [
      "6.93 µs ± 66.7 ns per loop (mean ± std. dev. of 7 runs, 100000 loops each)\n"
     ]
    }
   ],
   "source": [
    "%timeit np.sum(np.subtract(patch_descr1, patch_descr2, dtype=np.float32) ** 2)"
   ]
  },
  {
   "cell_type": "code",
   "execution_count": null,
   "metadata": {},
   "outputs": [],
   "source": []
  },
  {
   "cell_type": "code",
   "execution_count": null,
   "metadata": {},
   "outputs": [],
   "source": []
  },
  {
   "cell_type": "code",
   "execution_count": 22,
   "metadata": {},
   "outputs": [],
   "source": [
    "patch_rgb1 = np.random.uniform(low=0, high=255, size=16*16*3).reshape((16, 16, 3)).astype(np.uint8)\n",
    "patch_rgb2 = np.random.uniform(low=0, high=255, size=16*16*3).reshape((16, 16, 3)).astype(np.uint8)"
   ]
  },
  {
   "cell_type": "code",
   "execution_count": 23,
   "metadata": {},
   "outputs": [
    {
     "name": "stdout",
     "output_type": "stream",
     "text": [
      "8.46 µs ± 72.6 ns per loop (mean ± std. dev. of 7 runs, 100000 loops each)\n"
     ]
    }
   ],
   "source": [
    "%timeit np.sum(np.subtract(patch_rgb1, patch_rgb2, dtype=np.float32) ** 2)"
   ]
  },
  {
   "cell_type": "code",
   "execution_count": null,
   "metadata": {},
   "outputs": [],
   "source": []
  },
  {
   "cell_type": "code",
   "execution_count": null,
   "metadata": {},
   "outputs": [],
   "source": []
  },
  {
   "cell_type": "code",
   "execution_count": null,
   "metadata": {},
   "outputs": [],
   "source": []
  },
  {
   "cell_type": "code",
   "execution_count": null,
   "metadata": {},
   "outputs": [],
   "source": []
  },
  {
   "cell_type": "code",
   "execution_count": 27,
   "metadata": {},
   "outputs": [],
   "source": [
    "def max_pool2(x):\n",
    "    \"\"\"Return maximum in groups of 2x2 for a N,h,w image\"\"\"\n",
    "    N,h,w = x.shape\n",
    "    return np.amax([x[(i>>1)&1::2,i&1::2,:] for i in range(4)],axis=0)"
   ]
  },
  {
   "cell_type": "code",
   "execution_count": 29,
   "metadata": {},
   "outputs": [
    {
     "name": "stdout",
     "output_type": "stream",
     "text": [
      "17 µs ± 69.2 ns per loop (mean ± std. dev. of 7 runs, 100000 loops each)\n"
     ]
    }
   ],
   "source": [
    "%timeit max_pool2(patch_ir)"
   ]
  },
  {
   "cell_type": "code",
   "execution_count": 57,
   "metadata": {},
   "outputs": [],
   "source": [
    "temp = np.arange(16)#.reshape(4,4)"
   ]
  },
  {
   "cell_type": "code",
   "execution_count": 58,
   "metadata": {},
   "outputs": [
    {
     "data": {
      "text/plain": [
       "array([ 0,  1,  2,  3,  4,  5,  6,  7,  8,  9, 10, 11, 12, 13, 14, 15])"
      ]
     },
     "execution_count": 58,
     "metadata": {},
     "output_type": "execute_result"
    }
   ],
   "source": [
    "temp"
   ]
  },
  {
   "cell_type": "code",
   "execution_count": 68,
   "metadata": {},
   "outputs": [
    {
     "name": "stdout",
     "output_type": "stream",
     "text": [
      "0\n",
      "1\n",
      "0\n",
      "1\n",
      "0\n",
      "1\n",
      "0\n",
      "1\n",
      "0\n",
      "1\n",
      "0\n",
      "1\n",
      "0\n",
      "1\n",
      "0\n",
      "1\n"
     ]
    }
   ],
   "source": [
    "for i in range(16):\n",
    "#     print(temp[i&1::2])\n",
    "    print(i&1)"
   ]
  },
  {
   "cell_type": "code",
   "execution_count": 43,
   "metadata": {},
   "outputs": [
    {
     "data": {
      "text/plain": [
       "array([[ 1,  3],\n",
       "       [ 9, 11]])"
      ]
     },
     "execution_count": 43,
     "metadata": {},
     "output_type": "execute_result"
    }
   ],
   "source": [
    "temp[(i>>1)&1::2,i&1::2]"
   ]
  },
  {
   "cell_type": "code",
   "execution_count": null,
   "metadata": {},
   "outputs": [],
   "source": []
  }
 ],
 "metadata": {
  "kernelspec": {
   "display_name": "Python 3",
   "language": "python",
   "name": "python3"
  },
  "language_info": {
   "codemirror_mode": {
    "name": "ipython",
    "version": 3
   },
   "file_extension": ".py",
   "mimetype": "text/x-python",
   "name": "python",
   "nbconvert_exporter": "python",
   "pygments_lexer": "ipython3",
   "version": "3.7.3"
  }
 },
 "nbformat": 4,
 "nbformat_minor": 2
}
