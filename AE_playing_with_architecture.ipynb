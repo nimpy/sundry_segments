{
 "cells": [
  {
   "cell_type": "code",
   "execution_count": 7,
   "metadata": {},
   "outputs": [],
   "source": [
    "from keras.layers import Input, Dense, Convolution2D, MaxPooling2D, UpSampling2D, Conv2D, Flatten, Dense\n",
    "from keras.models import Model, load_model\n",
    "from keras.preprocessing.image import ImageDataGenerator, img_to_array, load_img\n",
    "from keras import backend as K\n",
    "import keras\n",
    "\n",
    "import numpy as np\n",
    "import matplotlib.pyplot as plt\n",
    "\n",
    "from os import listdir\n",
    "from os import system\n",
    "import os\n",
    "import random\n",
    "\n",
    "import imageio"
   ]
  },
  {
   "cell_type": "code",
   "execution_count": 4,
   "metadata": {},
   "outputs": [],
   "source": [
    "img_width, img_height = 16, 16\n",
    "\n",
    "nb_epoch = 50\n",
    "batch_size = 32"
   ]
  },
  {
   "cell_type": "code",
   "execution_count": 21,
   "metadata": {},
   "outputs": [],
   "source": [
    "base_dir = '/home/niaki/Code/ImageNet/tiny-imagenet-200'\n",
    "\n",
    "train_data_dir      = base_dir + '/tiny_train16'\n",
    "validation_data_dir = base_dir + '/tiny_validation16'\n",
    "test_data_dir       = base_dir + '/tiny_test16'\n",
    "\n",
    "train_descrs_dir      = base_dir + '/tiny_sifts/tiny_train16'\n",
    "validation_descrs_dir = base_dir + '/tiny_sifts/tiny_validation16'\n",
    "test_descrs_dir       = base_dir + '/tiny_sifts/tiny_test16'\n",
    "\n",
    "\n",
    "# nb_train_samples = 0\n",
    "# train_folders = os.listdir(train_data_dir)\n",
    "# train_folders.sort()\n",
    "# for folder in train_folders:\n",
    "#     nb_train_samples += len(os.listdir(train_data_dir + '/' + folder))\n",
    "# print(nb_train_samples)\n",
    "\n",
    "# nb_validation_samples = 0\n",
    "# validation_folders = os.listdir(validation_data_dir)\n",
    "# validation_folders.sort()\n",
    "# for folder in validation_folders:\n",
    "#     nb_validation_samples += len(os.listdir(validation_data_dir + '/' + folder))\n",
    "# print(nb_validation_samples)"
   ]
  },
  {
   "cell_type": "code",
   "execution_count": null,
   "metadata": {},
   "outputs": [],
   "source": []
  },
  {
   "cell_type": "code",
   "execution_count": 16,
   "metadata": {},
   "outputs": [],
   "source": [
    "def loading_data(data_dir):\n",
    "    files = listdir(data_dir + '/class0')\n",
    "    files.sort()\n",
    "\n",
    "    images = []\n",
    "\n",
    "    for file in files:\n",
    "        image = imageio.imread(data_dir + '/class0/' + file)\n",
    "    #     image = np.expand_dims(image, axis=0)\n",
    "        images.append(image)\n",
    "\n",
    "    images = np.array(images)\n",
    "    images = images.astype(np.float64) / 255\n",
    "    print(images.shape)\n",
    "    return images"
   ]
  },
  {
   "cell_type": "code",
   "execution_count": 19,
   "metadata": {},
   "outputs": [
    {
     "name": "stdout",
     "output_type": "stream",
     "text": [
      "(157086, 16, 16, 3)\n",
      "(3932, 16, 16, 3)\n"
     ]
    }
   ],
   "source": [
    "x_train = loading_data(train_data_dir)\n",
    "x_validation = loading_data(validation_data_dir)"
   ]
  },
  {
   "cell_type": "code",
   "execution_count": 25,
   "metadata": {},
   "outputs": [],
   "source": [
    "def loading_descrs(descrs_dir):\n",
    "    files = listdir(descrs_dir + '/class0')\n",
    "    files.sort()\n",
    "\n",
    "    descrs = []\n",
    "\n",
    "    for file in files:\n",
    "        descr = np.load(descrs_dir + '/class0/' + file)\n",
    "        descrs.append(descr)\n",
    "\n",
    "    descrs = np.array(descrs)\n",
    "    print(descrs.shape)\n",
    "    return descrs"
   ]
  },
  {
   "cell_type": "code",
   "execution_count": 27,
   "metadata": {},
   "outputs": [
    {
     "name": "stdout",
     "output_type": "stream",
     "text": [
      "(157086, 128)\n",
      "(3932, 128)\n"
     ]
    }
   ],
   "source": [
    "y_train = loading_descrs(train_descrs_dir)\n",
    "y_validation = loading_descrs(validation_descrs_dir)"
   ]
  },
  {
   "cell_type": "code",
   "execution_count": null,
   "metadata": {},
   "outputs": [],
   "source": []
  },
  {
   "cell_type": "code",
   "execution_count": null,
   "metadata": {},
   "outputs": [],
   "source": []
  },
  {
   "cell_type": "code",
   "execution_count": 11,
   "metadata": {},
   "outputs": [
    {
     "name": "stdout",
     "output_type": "stream",
     "text": [
      "_________________________________________________________________\n",
      "Layer (type)                 Output Shape              Param #   \n",
      "=================================================================\n",
      "input_1 (InputLayer)         (None, 16, 16, 3)         0         \n",
      "_________________________________________________________________\n",
      "conv2d_10 (Conv2D)           (None, 16, 16, 32)        896       \n",
      "_________________________________________________________________\n",
      "max_pooling2d_10 (MaxPooling (None, 8, 8, 32)          0         \n",
      "_________________________________________________________________\n",
      "conv2d_11 (Conv2D)           (None, 8, 8, 32)          9248      \n",
      "_________________________________________________________________\n",
      "max_pooling2d_11 (MaxPooling (None, 4, 4, 32)          0         \n",
      "_________________________________________________________________\n",
      "conv2d_12 (Conv2D)           (None, 4, 4, 32)          9248      \n",
      "_________________________________________________________________\n",
      "max_pooling2d_12 (MaxPooling (None, 2, 2, 32)          0         \n",
      "_________________________________________________________________\n",
      "flatten_3 (Flatten)          (None, 128)               0         \n",
      "_________________________________________________________________\n",
      "dense_2 (Dense)              (None, 128)               16512     \n",
      "=================================================================\n",
      "Total params: 35,904\n",
      "Trainable params: 35,904\n",
      "Non-trainable params: 0\n",
      "_________________________________________________________________\n"
     ]
    }
   ],
   "source": [
    "input_shape = (img_width, img_height, 3)\n",
    "input_img = Input(shape=input_shape)\n",
    "\n",
    "x = Conv2D(32, (3, 3), activation=\"relu\", padding=\"same\")(input_img)\n",
    "x = MaxPooling2D((2, 2), padding=\"same\")(x)\n",
    "x = Conv2D(32, (3, 3), activation=\"relu\", padding=\"same\")(x)\n",
    "x = MaxPooling2D((2, 2), padding=\"same\")(x)\n",
    "x = Conv2D(32, (3, 3), activation=\"relu\", padding=\"same\")(x)\n",
    "x = MaxPooling2D((2, 2), padding=\"same\")(x)\n",
    "x = Flatten(data_format=\"channels_last\")(x)\n",
    "encoded = Dense(128, activation=\"relu\")(x)\n",
    "\n",
    "encoder = Model(input_img, encoded)\n",
    "\n",
    "encoder.compile(optimizer='adadelta', loss='binary_crossentropy')\n",
    "\n",
    "encoder.summary()"
   ]
  },
  {
   "cell_type": "code",
   "execution_count": 28,
   "metadata": {},
   "outputs": [
    {
     "name": "stdout",
     "output_type": "stream",
     "text": [
      "Train on 157086 samples, validate on 3932 samples\n",
      "Epoch 1/50\n",
      "157086/157086 [==============================] - 125s 798us/step - loss: -212.4877 - val_loss: -217.3632\n",
      "Epoch 2/50\n",
      "157086/157086 [==============================] - 129s 821us/step - loss: -218.7053 - val_loss: -217.3632\n",
      "Epoch 3/50\n",
      "157086/157086 [==============================] - 131s 834us/step - loss: -218.7053 - val_loss: -217.3632\n",
      "Epoch 4/50\n",
      "157086/157086 [==============================] - 127s 806us/step - loss: -218.7053 - val_loss: -217.3632\n",
      "Epoch 5/50\n",
      "157086/157086 [==============================] - 126s 801us/step - loss: -218.7053 - val_loss: -217.3632\n",
      "Epoch 6/50\n",
      "157086/157086 [==============================] - 126s 800us/step - loss: -218.7053 - val_loss: -217.3632\n",
      "Epoch 7/50\n",
      "157086/157086 [==============================] - 125s 796us/step - loss: -218.7053 - val_loss: -217.3632\n",
      "Epoch 8/50\n",
      "157086/157086 [==============================] - 126s 804us/step - loss: -218.7053 - val_loss: -217.3632\n",
      "Epoch 9/50\n",
      "157086/157086 [==============================] - 129s 820us/step - loss: -218.7053 - val_loss: -217.3632\n",
      "Epoch 10/50\n",
      "157086/157086 [==============================] - 126s 805us/step - loss: -218.7053 - val_loss: -217.3632\n",
      "Epoch 11/50\n",
      "157086/157086 [==============================] - 131s 832us/step - loss: -218.7053 - val_loss: -217.3632\n",
      "Epoch 12/50\n",
      "157086/157086 [==============================] - 153s 975us/step - loss: -218.7053 - val_loss: -217.3632-218.70\n",
      "Epoch 13/50\n",
      "157086/157086 [==============================] - 125s 798us/step - loss: -218.7053 - val_loss: -217.3632\n",
      "Epoch 14/50\n",
      "157086/157086 [==============================] - 126s 804us/step - loss: -218.7053 - val_loss: -217.3632\n",
      "Epoch 15/50\n",
      "157086/157086 [==============================] - 126s 803us/step - loss: -218.7053 - val_loss: -217.3632\n",
      "Epoch 16/50\n",
      "157086/157086 [==============================] - 126s 803us/step - loss: -218.7053 - val_loss: -217.3632\n",
      "Epoch 17/50\n",
      "157086/157086 [==============================] - 127s 811us/step - loss: -218.7053 - val_loss: -217.3632\n",
      "Epoch 18/50\n",
      "157086/157086 [==============================] - 126s 800us/step - loss: -218.7053 - val_loss: -217.3632\n",
      "Epoch 19/50\n",
      "157086/157086 [==============================] - 126s 801us/step - loss: -218.7053 - val_loss: -217.3632\n",
      "Epoch 20/50\n",
      "157086/157086 [==============================] - 126s 803us/step - loss: -218.7053 - val_loss: -217.3632\n",
      "Epoch 21/50\n",
      "157086/157086 [==============================] - 126s 801us/step - loss: -218.7053 - val_loss: -217.3632\n",
      "Epoch 22/50\n",
      "157086/157086 [==============================] - 126s 802us/step - loss: -218.7053 - val_loss: -217.3632\n",
      "Epoch 23/50\n",
      "157086/157086 [==============================] - 127s 806us/step - loss: -218.7053 - val_loss: -217.3632\n",
      "Epoch 24/50\n",
      "157086/157086 [==============================] - 125s 798us/step - loss: -218.7053 - val_loss: -217.3632\n",
      "Epoch 25/50\n",
      "157086/157086 [==============================] - 126s 802us/step - loss: -218.7053 - val_loss: -217.3632\n",
      "Epoch 26/50\n",
      "157086/157086 [==============================] - 126s 804us/step - loss: -218.7053 - val_loss: -217.3632\n",
      "Epoch 27/50\n",
      "157086/157086 [==============================] - 126s 804us/step - loss: -218.7053 - val_loss: -217.3632\n",
      "Epoch 28/50\n",
      "157086/157086 [==============================] - 127s 807us/step - loss: -218.7053 - val_loss: -217.3632\n",
      "Epoch 29/50\n",
      "157086/157086 [==============================] - 126s 800us/step - loss: -218.7053 - val_loss: -217.3632\n",
      "Epoch 30/50\n",
      "157086/157086 [==============================] - 127s 811us/step - loss: -218.7053 - val_loss: -217.3632\n",
      "Epoch 31/50\n",
      "157086/157086 [==============================] - 128s 813us/step - loss: -218.7053 - val_loss: -217.3632\n",
      "Epoch 32/50\n",
      "157086/157086 [==============================] - 122s 776us/step - loss: -218.7053 - val_loss: -217.3632\n",
      "Epoch 33/50\n",
      "157086/157086 [==============================] - 121s 771us/step - loss: -218.7053 - val_loss: -217.3632\n",
      "Epoch 34/50\n",
      "157086/157086 [==============================] - 121s 768us/step - loss: -218.7053 - val_loss: -217.3632\n",
      "Epoch 35/50\n",
      "157086/157086 [==============================] - 121s 773us/step - loss: -218.7053 - val_loss: -217.3632\n",
      "Epoch 36/50\n",
      "157086/157086 [==============================] - 130s 827us/step - loss: -218.7053 - val_loss: -217.3632\n",
      "Epoch 37/50\n",
      "157086/157086 [==============================] - 126s 799us/step - loss: -218.7053 - val_loss: -217.3632\n",
      "Epoch 38/50\n",
      "157086/157086 [==============================] - 124s 787us/step - loss: -218.7053 - val_loss: -217.3632\n",
      "Epoch 39/50\n",
      "157086/157086 [==============================] - 154367s 983ms/step - loss: -218.7053 - val_loss: -217.3632\n",
      "Epoch 40/50\n",
      "157086/157086 [==============================] - 134s 855us/step - loss: -218.7053 - val_loss: -217.3632\n",
      "Epoch 41/50\n",
      "157086/157086 [==============================] - 122s 778us/step - loss: -218.7053 - val_loss: -217.3632\n",
      "Epoch 42/50\n",
      "157086/157086 [==============================] - 140s 888us/step - loss: -218.7053 - val_loss: -217.3632\n",
      "Epoch 43/50\n",
      "157086/157086 [==============================] - 140s 889us/step - loss: -218.7053 - val_loss: -217.3632\n",
      "Epoch 44/50\n",
      "157086/157086 [==============================] - 125s 793us/step - loss: -218.7053 - val_loss: -217.3632\n",
      "Epoch 45/50\n",
      "157086/157086 [==============================] - 128s 812us/step - loss: -218.7053 - val_loss: -217.3632\n",
      "Epoch 46/50\n",
      "157086/157086 [==============================] - 132s 841us/step - loss: -218.7053 - val_loss: -217.3632\n",
      "Epoch 47/50\n",
      "157086/157086 [==============================] - 121s 770us/step - loss: -218.7053 - val_loss: -217.3632\n",
      "Epoch 48/50\n",
      "157086/157086 [==============================] - 125s 795us/step - loss: -218.7053 - val_loss: -217.3632\n",
      "Epoch 49/50\n",
      "157086/157086 [==============================] - 133s 848us/step - loss: -218.7053 - val_loss: -217.3632\n",
      "Epoch 50/50\n",
      "157086/157086 [==============================] - 124s 786us/step - loss: -218.7053 - val_loss: -217.3632\n"
     ]
    },
    {
     "data": {
      "text/plain": [
       "<keras.callbacks.History at 0x7fdcf5689a90>"
      ]
     },
     "execution_count": 28,
     "metadata": {},
     "output_type": "execute_result"
    }
   ],
   "source": [
    "encoder.fit(x_train, y_train,\n",
    "                epochs=50,\n",
    "                batch_size=256,\n",
    "                shuffle=True,\n",
    "                validation_data=(x_validation, y_validation))\n"
   ]
  },
  {
   "cell_type": "code",
   "execution_count": null,
   "metadata": {},
   "outputs": [],
   "source": []
  },
  {
   "cell_type": "code",
   "execution_count": null,
   "metadata": {},
   "outputs": [],
   "source": []
  }
 ],
 "metadata": {
  "kernelspec": {
   "display_name": "Python [conda env:tensorflow]",
   "language": "python",
   "name": "conda-env-tensorflow-py"
  },
  "language_info": {
   "codemirror_mode": {
    "name": "ipython",
    "version": 3
   },
   "file_extension": ".py",
   "mimetype": "text/x-python",
   "name": "python",
   "nbconvert_exporter": "python",
   "pygments_lexer": "ipython3",
   "version": "3.6.4"
  }
 },
 "nbformat": 4,
 "nbformat_minor": 2
}
