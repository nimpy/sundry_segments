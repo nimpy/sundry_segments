{
 "cells": [
  {
   "cell_type": "code",
   "execution_count": 1,
   "metadata": {},
   "outputs": [
    {
     "name": "stderr",
     "output_type": "stream",
     "text": [
      "Using TensorFlow backend.\n"
     ]
    }
   ],
   "source": [
    "from keras.layers import Input, Dense, Convolution2D, MaxPooling2D, UpSampling2D, Conv2D, Flatten, Dense\n",
    "from keras.models import Model, load_model\n",
    "from keras.preprocessing.image import ImageDataGenerator, img_to_array, load_img\n",
    "from keras import backend as K\n",
    "import keras\n",
    "\n",
    "import numpy as np\n",
    "import matplotlib.pyplot as plt\n",
    "\n",
    "from os import listdir\n",
    "from os import system\n",
    "import os\n",
    "import random\n",
    "\n",
    "import imageio"
   ]
  },
  {
   "cell_type": "code",
   "execution_count": 2,
   "metadata": {},
   "outputs": [],
   "source": [
    "img_width, img_height = 16, 16\n",
    "\n",
    "nb_epoch = 50\n",
    "batch_size = 32"
   ]
  },
  {
   "cell_type": "code",
   "execution_count": 3,
   "metadata": {},
   "outputs": [],
   "source": [
    "base_dir = '/home/niaki/Code/ImageNet/tiny-imagenet-200'\n",
    "\n",
    "train_data_dir      = base_dir + '/tiny_train16'\n",
    "validation_data_dir = base_dir + '/tiny_validation16'\n",
    "test_data_dir       = base_dir + '/tiny_test16'\n",
    "\n",
    "train_descrs_dir      = base_dir + '/tiny_sifts/tiny_train16'\n",
    "validation_descrs_dir = base_dir + '/tiny_sifts/tiny_validation16'\n",
    "test_descrs_dir       = base_dir + '/tiny_sifts/tiny_test16'\n",
    "\n",
    "\n",
    "# nb_train_samples = 0\n",
    "# train_folders = os.listdir(train_data_dir)\n",
    "# train_folders.sort()\n",
    "# for folder in train_folders:\n",
    "#     nb_train_samples += len(os.listdir(train_data_dir + '/' + folder))\n",
    "# print(nb_train_samples)\n",
    "\n",
    "# nb_validation_samples = 0\n",
    "# validation_folders = os.listdir(validation_data_dir)\n",
    "# validation_folders.sort()\n",
    "# for folder in validation_folders:\n",
    "#     nb_validation_samples += len(os.listdir(validation_data_dir + '/' + folder))\n",
    "# print(nb_validation_samples)"
   ]
  },
  {
   "cell_type": "code",
   "execution_count": null,
   "metadata": {},
   "outputs": [],
   "source": []
  },
  {
   "cell_type": "code",
   "execution_count": 4,
   "metadata": {},
   "outputs": [],
   "source": [
    "def loading_data(data_dir):\n",
    "    files = listdir(data_dir + '/class0')\n",
    "    files.sort()\n",
    "\n",
    "    images = []\n",
    "\n",
    "    for file in files:\n",
    "        image = imageio.imread(data_dir + '/class0/' + file)\n",
    "    #     image = np.expand_dims(image, axis=0)\n",
    "        images.append(image)\n",
    "\n",
    "    images = np.array(images)\n",
    "    images = images.astype(np.float64) / 255\n",
    "    print(images.shape)\n",
    "    return images"
   ]
  },
  {
   "cell_type": "code",
   "execution_count": 5,
   "metadata": {},
   "outputs": [
    {
     "name": "stdout",
     "output_type": "stream",
     "text": [
      "(157086, 16, 16, 3)\n",
      "(3932, 16, 16, 3)\n"
     ]
    }
   ],
   "source": [
    "x_train = loading_data(train_data_dir)\n",
    "x_validation = loading_data(validation_data_dir)"
   ]
  },
  {
   "cell_type": "code",
   "execution_count": 6,
   "metadata": {},
   "outputs": [],
   "source": [
    "def loading_descrs(descrs_dir):\n",
    "    files = listdir(descrs_dir + '/class0')\n",
    "    files.sort()\n",
    "\n",
    "    descrs = []\n",
    "\n",
    "    for file in files:\n",
    "        descr = np.load(descrs_dir + '/class0/' + file)\n",
    "        descrs.append(descr)\n",
    "\n",
    "    descrs = np.array(descrs)\n",
    "    print(descrs.shape)\n",
    "    return descrs"
   ]
  },
  {
   "cell_type": "code",
   "execution_count": 7,
   "metadata": {},
   "outputs": [
    {
     "name": "stdout",
     "output_type": "stream",
     "text": [
      "(157086, 128)\n",
      "(3932, 128)\n"
     ]
    }
   ],
   "source": [
    "y_train = loading_descrs(train_descrs_dir)\n",
    "y_validation = loading_descrs(validation_descrs_dir)"
   ]
  },
  {
   "cell_type": "code",
   "execution_count": null,
   "metadata": {},
   "outputs": [],
   "source": []
  },
  {
   "cell_type": "code",
   "execution_count": 65,
   "metadata": {},
   "outputs": [
    {
     "name": "stdout",
     "output_type": "stream",
     "text": [
      "_________________________________________________________________\n",
      "Layer (type)                 Output Shape              Param #   \n",
      "=================================================================\n",
      "input_10 (InputLayer)        (None, 16, 16, 3)         0         \n",
      "_________________________________________________________________\n",
      "conv2d_28 (Conv2D)           (None, 16, 16, 32)        896       \n",
      "_________________________________________________________________\n",
      "max_pooling2d_28 (MaxPooling (None, 8, 8, 32)          0         \n",
      "_________________________________________________________________\n",
      "conv2d_29 (Conv2D)           (None, 8, 8, 32)          9248      \n",
      "_________________________________________________________________\n",
      "max_pooling2d_29 (MaxPooling (None, 4, 4, 32)          0         \n",
      "_________________________________________________________________\n",
      "conv2d_30 (Conv2D)           (None, 4, 4, 32)          9248      \n",
      "_________________________________________________________________\n",
      "max_pooling2d_30 (MaxPooling (None, 2, 2, 32)          0         \n",
      "_________________________________________________________________\n",
      "flatten_10 (Flatten)         (None, 128)               0         \n",
      "_________________________________________________________________\n",
      "dense_10 (Dense)             (None, 128)               16512     \n",
      "=================================================================\n",
      "Total params: 35,904\n",
      "Trainable params: 35,904\n",
      "Non-trainable params: 0\n",
      "_________________________________________________________________\n"
     ]
    }
   ],
   "source": [
    "input_shape = (img_width, img_height, 3)\n",
    "input_img = Input(shape=input_shape)\n",
    "\n",
    "x = Conv2D(32, (3, 3), activation=\"relu\", padding=\"same\")(input_img)\n",
    "x = MaxPooling2D((2, 2), padding=\"same\")(x)\n",
    "x = Conv2D(32, (3, 3), activation=\"relu\", padding=\"same\")(x)\n",
    "x = MaxPooling2D((2, 2), padding=\"same\")(x)\n",
    "x = Conv2D(32, (3, 3), activation=\"relu\", padding=\"same\")(x)\n",
    "x = MaxPooling2D((2, 2), padding=\"same\")(x)\n",
    "x = Flatten(data_format=\"channels_last\")(x)\n",
    "encoded = Dense(128, activation=\"relu\")(x)\n",
    "\n",
    "encoder = Model(input_img, encoded)\n",
    "\n",
    "encoder.compile(optimizer='rmsprop', metrics=['accuracy'], loss='mean_squared_error')\n",
    "\n",
    "encoder.summary()"
   ]
  },
  {
   "cell_type": "code",
   "execution_count": 66,
   "metadata": {
    "scrolled": true
   },
   "outputs": [
    {
     "name": "stdout",
     "output_type": "stream",
     "text": [
      "Train on 157086 samples, validate on 3932 samples\n",
      "Epoch 1/50\n",
      "157086/157086 [==============================] - 3s 22us/step - loss: 878.5997 - acc: 0.0339 - val_loss: 724.1771 - val_acc: 0.0463\n",
      "Epoch 2/50\n",
      "157086/157086 [==============================] - 3s 19us/step - loss: 686.1925 - acc: 0.0443 - val_loss: 679.1227 - val_acc: 0.0521\n",
      "Epoch 3/50\n",
      "157086/157086 [==============================] - 3s 19us/step - loss: 596.6774 - acc: 0.0559 - val_loss: 543.2714 - val_acc: 0.0633\n",
      "Epoch 4/50\n",
      "157086/157086 [==============================] - 3s 20us/step - loss: 511.2684 - acc: 0.0666 - val_loss: 498.7569 - val_acc: 0.0949\n",
      "Epoch 5/50\n",
      "157086/157086 [==============================] - 3s 19us/step - loss: 471.8603 - acc: 0.0936 - val_loss: 416.7472 - val_acc: 0.1170\n",
      "Epoch 6/50\n",
      "157086/157086 [==============================] - 3s 18us/step - loss: 407.4200 - acc: 0.1093 - val_loss: 430.1978 - val_acc: 0.1277\n",
      "Epoch 7/50\n",
      "157086/157086 [==============================] - 3s 18us/step - loss: 377.1843 - acc: 0.1120 - val_loss: 362.1172 - val_acc: 0.1114\n",
      "Epoch 8/50\n",
      "157086/157086 [==============================] - 3s 18us/step - loss: 353.7895 - acc: 0.1084 - val_loss: 359.2352 - val_acc: 0.1155\n",
      "Epoch 9/50\n",
      "157086/157086 [==============================] - 3s 18us/step - loss: 335.4668 - acc: 0.1080 - val_loss: 348.8542 - val_acc: 0.1116\n",
      "Epoch 10/50\n",
      "157086/157086 [==============================] - 3s 18us/step - loss: 302.0523 - acc: 0.1077 - val_loss: 283.0937 - val_acc: 0.1007\n",
      "Epoch 11/50\n",
      "157086/157086 [==============================] - 3s 18us/step - loss: 261.0754 - acc: 0.1055 - val_loss: 281.6238 - val_acc: 0.1048\n",
      "Epoch 12/50\n",
      "157086/157086 [==============================] - 3s 19us/step - loss: 247.9851 - acc: 0.1047 - val_loss: 245.0280 - val_acc: 0.0972\n",
      "Epoch 13/50\n",
      "157086/157086 [==============================] - 3s 19us/step - loss: 236.8675 - acc: 0.1047 - val_loss: 238.4591 - val_acc: 0.0989\n",
      "Epoch 14/50\n",
      "157086/157086 [==============================] - 3s 18us/step - loss: 228.3657 - acc: 0.1072 - val_loss: 241.5863 - val_acc: 0.0982\n",
      "Epoch 15/50\n",
      "157086/157086 [==============================] - 3s 19us/step - loss: 220.6578 - acc: 0.1066 - val_loss: 245.4926 - val_acc: 0.1277\n",
      "Epoch 16/50\n",
      "157086/157086 [==============================] - 3s 19us/step - loss: 214.2361 - acc: 0.1101 - val_loss: 244.5195 - val_acc: 0.1106\n",
      "Epoch 17/50\n",
      "157086/157086 [==============================] - 3s 19us/step - loss: 208.7254 - acc: 0.1102 - val_loss: 223.0782 - val_acc: 0.1083\n",
      "Epoch 18/50\n",
      "157086/157086 [==============================] - 3s 19us/step - loss: 203.4988 - acc: 0.1100 - val_loss: 213.5236 - val_acc: 0.1066\n",
      "Epoch 19/50\n",
      "157086/157086 [==============================] - 3s 19us/step - loss: 199.0934 - acc: 0.1109 - val_loss: 201.8474 - val_acc: 0.1076\n",
      "Epoch 20/50\n",
      "157086/157086 [==============================] - 3s 18us/step - loss: 195.4652 - acc: 0.1111 - val_loss: 214.6264 - val_acc: 0.1236\n",
      "Epoch 21/50\n",
      "157086/157086 [==============================] - 3s 18us/step - loss: 191.5956 - acc: 0.1118 - val_loss: 199.7576 - val_acc: 0.1203\n",
      "Epoch 22/50\n",
      "157086/157086 [==============================] - 3s 19us/step - loss: 187.9922 - acc: 0.1116 - val_loss: 177.6916 - val_acc: 0.1106\n",
      "Epoch 23/50\n",
      "157086/157086 [==============================] - 3s 19us/step - loss: 184.9527 - acc: 0.1139 - val_loss: 196.5947 - val_acc: 0.1061\n",
      "Epoch 24/50\n",
      "157086/157086 [==============================] - 3s 18us/step - loss: 182.4945 - acc: 0.1139 - val_loss: 193.6686 - val_acc: 0.1241\n",
      "Epoch 25/50\n",
      "157086/157086 [==============================] - 3s 19us/step - loss: 180.0273 - acc: 0.1148 - val_loss: 178.7942 - val_acc: 0.1017\n",
      "Epoch 26/50\n",
      "157086/157086 [==============================] - 3s 19us/step - loss: 177.1788 - acc: 0.1155 - val_loss: 217.2345 - val_acc: 0.1363\n",
      "Epoch 27/50\n",
      "157086/157086 [==============================] - 3s 19us/step - loss: 175.1629 - acc: 0.1155 - val_loss: 210.6829 - val_acc: 0.1216\n",
      "Epoch 28/50\n",
      "157086/157086 [==============================] - 3s 19us/step - loss: 173.0599 - acc: 0.1160 - val_loss: 175.2562 - val_acc: 0.1350\n",
      "Epoch 29/50\n",
      "157086/157086 [==============================] - 3s 19us/step - loss: 170.7290 - acc: 0.1171 - val_loss: 170.0961 - val_acc: 0.1170\n",
      "Epoch 30/50\n",
      "157086/157086 [==============================] - 3s 19us/step - loss: 168.8926 - acc: 0.1176 - val_loss: 169.6845 - val_acc: 0.1155\n",
      "Epoch 31/50\n",
      "157086/157086 [==============================] - 3s 19us/step - loss: 167.0666 - acc: 0.1168 - val_loss: 159.7464 - val_acc: 0.1147\n",
      "Epoch 32/50\n",
      "157086/157086 [==============================] - 3s 19us/step - loss: 165.4024 - acc: 0.1176 - val_loss: 162.5191 - val_acc: 0.1170\n",
      "Epoch 33/50\n",
      "157086/157086 [==============================] - 3s 19us/step - loss: 163.7623 - acc: 0.1187 - val_loss: 173.1029 - val_acc: 0.1205\n",
      "Epoch 34/50\n",
      "157086/157086 [==============================] - 3s 19us/step - loss: 162.1581 - acc: 0.1191 - val_loss: 185.2307 - val_acc: 0.1228\n",
      "Epoch 35/50\n",
      "157086/157086 [==============================] - 3s 19us/step - loss: 160.5594 - acc: 0.1183 - val_loss: 200.4431 - val_acc: 0.1096\n",
      "Epoch 36/50\n",
      "157086/157086 [==============================] - 3s 19us/step - loss: 159.5675 - acc: 0.1194 - val_loss: 180.2829 - val_acc: 0.1320\n",
      "Epoch 37/50\n",
      "157086/157086 [==============================] - 3s 19us/step - loss: 158.0248 - acc: 0.1207 - val_loss: 161.2356 - val_acc: 0.1211\n",
      "Epoch 38/50\n",
      "157086/157086 [==============================] - 3s 19us/step - loss: 156.1942 - acc: 0.1196 - val_loss: 183.3935 - val_acc: 0.1434\n",
      "Epoch 39/50\n",
      "157086/157086 [==============================] - 3s 19us/step - loss: 155.4461 - acc: 0.1192 - val_loss: 156.0588 - val_acc: 0.1297\n",
      "Epoch 40/50\n",
      "157086/157086 [==============================] - 3s 19us/step - loss: 154.3207 - acc: 0.1203 - val_loss: 145.1338 - val_acc: 0.1241\n",
      "Epoch 41/50\n",
      "157086/157086 [==============================] - 3s 19us/step - loss: 152.8373 - acc: 0.1203 - val_loss: 187.8713 - val_acc: 0.1150\n",
      "Epoch 42/50\n",
      "157086/157086 [==============================] - 3s 19us/step - loss: 152.1666 - acc: 0.1208 - val_loss: 147.3249 - val_acc: 0.1190\n",
      "Epoch 43/50\n",
      "157086/157086 [==============================] - 3s 19us/step - loss: 150.5638 - acc: 0.1205 - val_loss: 139.2157 - val_acc: 0.1246\n",
      "Epoch 44/50\n",
      "157086/157086 [==============================] - 3s 18us/step - loss: 150.0455 - acc: 0.1207 - val_loss: 169.3812 - val_acc: 0.1104\n",
      "Epoch 45/50\n",
      "157086/157086 [==============================] - 3s 19us/step - loss: 149.0137 - acc: 0.1208 - val_loss: 147.4813 - val_acc: 0.1208\n",
      "Epoch 46/50\n",
      "157086/157086 [==============================] - 3s 19us/step - loss: 147.4140 - acc: 0.1210 - val_loss: 174.1200 - val_acc: 0.1195\n",
      "Epoch 47/50\n",
      "157086/157086 [==============================] - 3s 19us/step - loss: 146.4379 - acc: 0.1212 - val_loss: 150.8264 - val_acc: 0.1289\n",
      "Epoch 48/50\n",
      "157086/157086 [==============================] - 3s 19us/step - loss: 145.6939 - acc: 0.1211 - val_loss: 157.8449 - val_acc: 0.1150\n",
      "Epoch 49/50\n",
      "157086/157086 [==============================] - 3s 19us/step - loss: 145.0419 - acc: 0.1213 - val_loss: 142.7402 - val_acc: 0.1363\n",
      "Epoch 50/50\n",
      "157086/157086 [==============================] - 3s 19us/step - loss: 144.0808 - acc: 0.1221 - val_loss: 157.3371 - val_acc: 0.1233\n"
     ]
    }
   ],
   "source": [
    "model_version = '0.0.5_relu_rmsprop_mse'\n",
    "\n",
    "os.system('mkdir ' + base_dir + '/weights' + model_version)\n",
    "checkpointer = keras.callbacks.ModelCheckpoint(base_dir + '/weights' + model_version + '/weights.{epoch:02d}-{val_loss:.2f}.hdf5', monitor='val_loss', verbose=0, save_best_only=False, save_weights_only=False, mode='auto', period=1)\n",
    "\n",
    "encoder.fit(x_train, y_train,\n",
    "                epochs=50,\n",
    "                batch_size=256,\n",
    "                shuffle=True,\n",
    "                validation_data=(x_validation, y_validation),\n",
    "                callbacks=[checkpointer])\n",
    "\n",
    "encoder.save(base_dir + '/encoder' + model_version + '.h5')"
   ]
  },
  {
   "cell_type": "code",
   "execution_count": 14,
   "metadata": {},
   "outputs": [
    {
     "data": {
      "text/plain": [
       "array([[   0.    ,    0.    ,    0.    ,    0.    ,    0.    ,    0.    ,\n",
       "           0.    ,    0.    ,    0.    ,    0.    ,    0.    ,    0.    ,\n",
       "           0.    ,    0.    ,    0.    ,    0.    ,    0.    ,    0.    ,\n",
       "           0.    ,    0.    ,    0.    ,    0.    ,    0.    ,    0.    ,\n",
       "           0.    ,    0.    ,    0.    ,    0.    ,    0.    ,    0.    ,\n",
       "           0.    ,    0.    ,    0.    ,    0.    ,    0.    ,    0.    ,\n",
       "           0.    ,    0.    ,    0.    ,    0.    , 4868.5205, 4023.8813,\n",
       "        4274.1313, 3769.6223, 3908.8608, 3976.735 , 5740.837 , 5447.644 ,\n",
       "        4223.6377, 4570.0483, 3454.2148, 5305.5093, 4480.3125, 5471.8   ,\n",
       "        5694.5645, 4671.992 ,    0.    ,    0.    ,    0.    ,    0.    ,\n",
       "           0.    ,    0.    ,    0.    ,    0.    ,    0.    ,    0.    ,\n",
       "           0.    ,    0.    ,    0.    ,    0.    ,    0.    ,    0.    ,\n",
       "        3938.6873, 4880.0425, 5760.641 ,    0.    ,    0.    , 5033.5723,\n",
       "        5821.17  , 5374.6035, 4484.09  , 4518.711 , 7751.3906, 3958.1023,\n",
       "        3843.7427, 5637.137 , 5404.6323, 5070.25  ,    0.    ,    0.    ,\n",
       "           0.    ,    0.    ,    0.    ,    0.    ,    0.    ,    0.    ,\n",
       "           0.    ,    0.    ,    0.    ,    0.    ,    0.    ,    0.    ,\n",
       "           0.    ,    0.    ,    0.    ,    0.    ,    0.    ,    0.    ,\n",
       "           0.    ,    0.    ,    0.    ,    0.    ,    0.    ,    0.    ,\n",
       "           0.    ,    0.    ,    0.    ,    0.    ,    0.    ,    0.    ,\n",
       "           0.    ,    0.    ,    0.    ,    0.    ,    0.    ,    0.    ,\n",
       "           0.    ,    0.    ]], dtype=float32)"
      ]
     },
     "execution_count": 14,
     "metadata": {},
     "output_type": "execute_result"
    }
   ],
   "source": [
    "encoder.predict(imageio.imread(\"/home/niaki/Code/ImageNet/tiny-imagenet-200/tiny_validation16/class0/patch000042.png\").reshape(1,16,16,3))"
   ]
  },
  {
   "cell_type": "code",
   "execution_count": 67,
   "metadata": {},
   "outputs": [
    {
     "data": {
      "text/plain": [
       "array([[    0.     ,     0.     ,     0.     ,     0.     ,     0.     ,\n",
       "            0.     ,     0.     ,     0.     ,     0.     ,     0.     ,\n",
       "            0.     ,     0.     ,     0.     ,     0.     ,     0.     ,\n",
       "            0.     ,     0.     ,     0.     ,     0.     ,     0.     ,\n",
       "            0.     ,     0.     ,     0.     ,     0.     ,     0.     ,\n",
       "            0.     ,     0.     ,     0.     ,     0.     ,     0.     ,\n",
       "            0.     ,     0.     ,     0.     ,     0.     ,     0.     ,\n",
       "            0.     ,     0.     ,     0.     ,     0.     ,     0.     ,\n",
       "            0.     ,     0.     ,  4424.3037 ,  3236.1387 , 12960.133  ,\n",
       "        12103.912  , 18365.799  ,   827.81384,     0.     ,     0.     ,\n",
       "        10342.382  , 12538.56   , 17413.803  , 13473.148  , 16702.041  ,\n",
       "            0.     ,     0.     ,     0.     ,     0.     ,     0.     ,\n",
       "            0.     ,     0.     ,     0.     ,     0.     ,     0.     ,\n",
       "            0.     ,     0.     ,     0.     ,     0.     ,     0.     ,\n",
       "            0.     ,     0.     ,     0.     ,  4105.208  , 12260.668  ,\n",
       "        14039.6875 , 14318.047  ,  6806.146  , 12831.635  ,     0.     ,\n",
       "            0.     ,  6693.019  , 17456.992  , 18596.709  , 18525.709  ,\n",
       "         9257.509  , 11966.121  ,     0.     ,     0.     ,     0.     ,\n",
       "            0.     ,     0.     ,     0.     ,     0.     ,     0.     ,\n",
       "            0.     ,     0.     ,     0.     ,     0.     ,     0.     ,\n",
       "            0.     ,     0.     ,     0.     ,     0.     ,     0.     ,\n",
       "            0.     ,     0.     ,     0.     ,     0.     ,     0.     ,\n",
       "            0.     ,     0.     ,     0.     ,     0.     ,     0.     ,\n",
       "            0.     ,     0.     ,     0.     ,     0.     ,     0.     ,\n",
       "            0.     ,     0.     ,     0.     ,     0.     ,     0.     ,\n",
       "            0.     ,     0.     ,     0.     ]], dtype=float32)"
      ]
     },
     "execution_count": 67,
     "metadata": {},
     "output_type": "execute_result"
    }
   ],
   "source": [
    "encoder.predict(imageio.imread(\"/home/niaki/Code/ImageNet/tiny-imagenet-200/tiny_validation16/class0/patch000042.png\").reshape(1,16,16,3))"
   ]
  },
  {
   "cell_type": "code",
   "execution_count": null,
   "metadata": {},
   "outputs": [],
   "source": []
  },
  {
   "cell_type": "code",
   "execution_count": 24,
   "metadata": {},
   "outputs": [],
   "source": [
    "def fixed_generator(x_train, y_train):\n",
    "    for i, x in enumerate(x_train):\n",
    "        yield x.reshape((1,16,16,3)), y_train[i].reshape((1,128))"
   ]
  },
  {
   "cell_type": "code",
   "execution_count": 72,
   "metadata": {},
   "outputs": [],
   "source": [
    "def fixed_generator(x_train, y_train, batch_size):\n",
    "    while True:\n",
    "        batch_list_x = []\n",
    "        batch_list_y = []\n",
    "        \n",
    "        for i in range(x_train.shape[0]):\n",
    "            batch_list_x.append(x_train[i])\n",
    "            batch_list_y.append(y_train[i])\n",
    "            if len(batch_list_x) == batch_size:\n",
    "                yield (np.array(batch_list_x),np.array(batch_list_y))\n",
    "                batch_list_x = []\n",
    "                batch_list_y = []\n"
   ]
  },
  {
   "cell_type": "code",
   "execution_count": 73,
   "metadata": {},
   "outputs": [
    {
     "name": "stdout",
     "output_type": "stream",
     "text": [
      "Epoch 1/50\n",
      "157086/157086 [==============================] - 635s 4ms/step - loss: 121.1201 - acc: 0.1237 - val_loss: 118.9131 - val_acc: 0.1239\n",
      "Epoch 2/50\n",
      "157086/157086 [==============================] - 633s 4ms/step - loss: 103.5015 - acc: 0.1250 - val_loss: 95.7820 - val_acc: 0.1338\n",
      "Epoch 3/50\n",
      "157086/157086 [==============================] - 636s 4ms/step - loss: 98.7486 - acc: 0.1275 - val_loss: 97.8074 - val_acc: 0.1413\n",
      "Epoch 4/50\n",
      "157086/157086 [==============================] - 636s 4ms/step - loss: 97.4838 - acc: 0.1287 - val_loss: 96.8871 - val_acc: 0.1273\n",
      "Epoch 5/50\n",
      "157086/157086 [==============================] - 627s 4ms/step - loss: 95.9125 - acc: 0.1309 - val_loss: 101.7384 - val_acc: 0.1229\n",
      "Epoch 6/50\n",
      "157086/157086 [==============================] - 658s 4ms/step - loss: 93.4261 - acc: 0.1320 - val_loss: 119.4924 - val_acc: 0.1032\n",
      "Epoch 7/50\n",
      "157086/157086 [==============================] - 752s 5ms/step - loss: 92.7465 - acc: 0.1319 - val_loss: 93.0222 - val_acc: 0.1380\n",
      "Epoch 8/50\n",
      "157086/157086 [==============================] - 695s 4ms/step - loss: 92.3311 - acc: 0.1311 - val_loss: 89.1448 - val_acc: 0.1406\n",
      "Epoch 9/50\n",
      "157086/157086 [==============================] - 796s 5ms/step - loss: 91.2176 - acc: 0.1315 - val_loss: 102.1627 - val_acc: 0.1345\n",
      "Epoch 10/50\n",
      "157086/157086 [==============================] - 720s 5ms/step - loss: 90.0511 - acc: 0.1317 - val_loss: 93.6865 - val_acc: 0.1399\n",
      "Epoch 11/50\n",
      "157086/157086 [==============================] - 660s 4ms/step - loss: 89.5897 - acc: 0.1320 - val_loss: 96.5792 - val_acc: 0.1390\n",
      "Epoch 12/50\n",
      "157086/157086 [==============================] - 660s 4ms/step - loss: 89.6065 - acc: 0.1326 - val_loss: 95.5471 - val_acc: 0.1446\n",
      "Epoch 13/50\n",
      "157086/157086 [==============================] - 660s 4ms/step - loss: 88.8819 - acc: 0.1324 - val_loss: 93.4584 - val_acc: 0.1271\n",
      "Epoch 14/50\n",
      "157086/157086 [==============================] - 661s 4ms/step - loss: 88.1806 - acc: 0.1317 - val_loss: 86.4524 - val_acc: 0.1378\n",
      "Epoch 15/50\n",
      "157086/157086 [==============================] - 676s 4ms/step - loss: 87.6736 - acc: 0.1323 - val_loss: 85.7969 - val_acc: 0.1655\n",
      "Epoch 16/50\n",
      "157086/157086 [==============================] - 680s 4ms/step - loss: 87.5642 - acc: 0.1335 - val_loss: 91.0162 - val_acc: 0.1497\n",
      "Epoch 17/50\n",
      "157086/157086 [==============================] - 680s 4ms/step - loss: 87.7530 - acc: 0.1335 - val_loss: 101.3062 - val_acc: 0.1314\n",
      "Epoch 18/50\n",
      "157086/157086 [==============================] - 666s 4ms/step - loss: 88.5041 - acc: 0.1331 - val_loss: 114.1111 - val_acc: 0.1481\n",
      "Epoch 19/50\n",
      "157086/157086 [==============================] - 661s 4ms/step - loss: 88.8767 - acc: 0.1327 - val_loss: 86.1597 - val_acc: 0.1089\n",
      "Epoch 20/50\n",
      "157086/157086 [==============================] - 660s 4ms/step - loss: 88.6271 - acc: 0.1328 - val_loss: 105.8161 - val_acc: 0.1492\n",
      "Epoch 21/50\n",
      "157086/157086 [==============================] - 660s 4ms/step - loss: 88.5732 - acc: 0.1323 - val_loss: 92.3995 - val_acc: 0.1756\n",
      "Epoch 22/50\n",
      "157086/157086 [==============================] - 660s 4ms/step - loss: 88.3029 - acc: 0.1315 - val_loss: 89.9374 - val_acc: 0.1195\n",
      "Epoch 23/50\n",
      "157086/157086 [==============================] - 660s 4ms/step - loss: 88.0443 - acc: 0.1313 - val_loss: 91.5191 - val_acc: 0.1225\n",
      "Epoch 24/50\n",
      "157086/157086 [==============================] - 658s 4ms/step - loss: 87.8005 - acc: 0.1311 - val_loss: 83.4349 - val_acc: 0.1340\n",
      "Epoch 25/50\n",
      "157086/157086 [==============================] - 661s 4ms/step - loss: 87.3765 - acc: 0.1315 - val_loss: 83.8534 - val_acc: 0.1439\n",
      "Epoch 26/50\n",
      "157086/157086 [==============================] - 661s 4ms/step - loss: 87.1474 - acc: 0.1309 - val_loss: 84.7301 - val_acc: 0.1466\n",
      "Epoch 27/50\n",
      "157086/157086 [==============================] - 661s 4ms/step - loss: 87.1893 - acc: 0.1299 - val_loss: 111.8662 - val_acc: 0.0951\n",
      "Epoch 28/50\n",
      "157086/157086 [==============================] - 661s 4ms/step - loss: 87.3970 - acc: 0.1291 - val_loss: 83.1910 - val_acc: 0.1458\n",
      "Epoch 29/50\n",
      "157086/157086 [==============================] - 661s 4ms/step - loss: 87.8662 - acc: 0.1286 - val_loss: 92.2120 - val_acc: 0.1508\n",
      "Epoch 30/50\n",
      "157086/157086 [==============================] - 658s 4ms/step - loss: 88.3382 - acc: 0.1280 - val_loss: 84.4130 - val_acc: 0.1542\n",
      "Epoch 31/50\n",
      "157086/157086 [==============================] - 659s 4ms/step - loss: 89.3609 - acc: 0.1276 - val_loss: 96.1726 - val_acc: 0.1488\n",
      "Epoch 32/50\n",
      "157086/157086 [==============================] - 661s 4ms/step - loss: 90.3724 - acc: 0.1276 - val_loss: 89.5834 - val_acc: 0.1396\n",
      "Epoch 33/50\n",
      "157086/157086 [==============================] - 659s 4ms/step - loss: 90.6187 - acc: 0.1273 - val_loss: 93.0348 - val_acc: 0.1326\n",
      "Epoch 34/50\n",
      "157086/157086 [==============================] - 659s 4ms/step - loss: 90.7393 - acc: 0.1268 - val_loss: 87.4178 - val_acc: 0.1281\n",
      "Epoch 35/50\n",
      "157086/157086 [==============================] - 659s 4ms/step - loss: 90.7910 - acc: 0.1266 - val_loss: 91.1277 - val_acc: 0.1343\n",
      "Epoch 36/50\n",
      "157086/157086 [==============================] - 660s 4ms/step - loss: 90.8903 - acc: 0.1268 - val_loss: 93.3533 - val_acc: 0.1091\n",
      "Epoch 37/50\n",
      "157086/157086 [==============================] - 656s 4ms/step - loss: 91.1028 - acc: 0.1272 - val_loss: 103.8022 - val_acc: 0.1519\n",
      "Epoch 38/50\n",
      "157086/157086 [==============================] - 656s 4ms/step - loss: 90.8586 - acc: 0.1272 - val_loss: 93.6335 - val_acc: 0.1521\n",
      "Epoch 39/50\n",
      "157086/157086 [==============================] - 656s 4ms/step - loss: 91.0171 - acc: 0.1278 - val_loss: 106.9177 - val_acc: 0.1281\n",
      "Epoch 40/50\n",
      "157086/157086 [==============================] - 658s 4ms/step - loss: 91.5210 - acc: 0.1286 - val_loss: 86.7304 - val_acc: 0.1362\n",
      "Epoch 41/50\n",
      "157086/157086 [==============================] - 654s 4ms/step - loss: 91.9988 - acc: 0.1294 - val_loss: 99.4953 - val_acc: 0.1395\n",
      "Epoch 42/50\n",
      "157086/157086 [==============================] - 658s 4ms/step - loss: 92.5768 - acc: 0.1301 - val_loss: 95.2267 - val_acc: 0.1501\n",
      "Epoch 43/50\n",
      "157086/157086 [==============================] - 654s 4ms/step - loss: 92.1356 - acc: 0.1308 - val_loss: 90.2966 - val_acc: 0.1499\n",
      "Epoch 44/50\n",
      "157086/157086 [==============================] - 658s 4ms/step - loss: 91.6617 - acc: 0.1308 - val_loss: 89.2536 - val_acc: 0.1383\n",
      "Epoch 45/50\n",
      "157086/157086 [==============================] - 658s 4ms/step - loss: 91.2773 - acc: 0.1310 - val_loss: 92.1716 - val_acc: 0.1504\n",
      "Epoch 46/50\n",
      "157086/157086 [==============================] - 657s 4ms/step - loss: 90.9546 - acc: 0.1317 - val_loss: 85.9363 - val_acc: 0.1357\n",
      "Epoch 47/50\n",
      "157086/157086 [==============================] - 657s 4ms/step - loss: 90.6453 - acc: 0.1320 - val_loss: 97.0053 - val_acc: 0.1193\n",
      "Epoch 48/50\n",
      "157086/157086 [==============================] - 656s 4ms/step - loss: 90.0889 - acc: 0.1328 - val_loss: 92.8472 - val_acc: 0.1128\n",
      "Epoch 49/50\n",
      "157086/157086 [==============================] - 658s 4ms/step - loss: 89.6113 - acc: 0.1334 - val_loss: 90.5225 - val_acc: 0.1457\n",
      "Epoch 50/50\n",
      "157086/157086 [==============================] - 654s 4ms/step - loss: 89.2553 - acc: 0.1345 - val_loss: 92.8160 - val_acc: 0.1753\n"
     ]
    }
   ],
   "source": [
    "model_version = '0.0.5.1_relu_rmsprop_mse_generated'\n",
    "\n",
    "os.system('mkdir ' + base_dir + '/weights' + model_version)\n",
    "checkpointer = keras.callbacks.ModelCheckpoint(base_dir + '/weights' + model_version + '/weights.{epoch:02d}-{val_loss:.2f}.hdf5', monitor='val_loss', verbose=0, save_best_only=False, save_weights_only=False, mode='auto', period=1)\n",
    "\n",
    "encoder.fit_generator(fixed_generator(x_train, y_train, 32),\n",
    "                steps_per_epoch=157086,\n",
    "                epochs=50,\n",
    "                validation_data=fixed_generator(x_validation, y_validation, 32),\n",
    "                validation_steps=3932,\n",
    "                callbacks=[checkpointer]\n",
    "                )\n",
    "\n",
    "encoder.save(base_dir + '/encoder' + model_version + '.h5')"
   ]
  },
  {
   "cell_type": "code",
   "execution_count": 75,
   "metadata": {},
   "outputs": [
    {
     "data": {
      "text/plain": [
       "array([[     0.   ,      0.   ,      0.   ,      0.   ,      0.   ,\n",
       "             0.   ,      0.   ,      0.   ,      0.   ,      0.   ,\n",
       "             0.   ,      0.   ,      0.   ,      0.   ,      0.   ,\n",
       "             0.   ,      0.   ,      0.   ,      0.   ,      0.   ,\n",
       "             0.   ,      0.   ,      0.   ,      0.   ,      0.   ,\n",
       "             0.   ,      0.   ,      0.   ,      0.   ,      0.   ,\n",
       "             0.   ,      0.   ,      0.   ,      0.   ,      0.   ,\n",
       "             0.   ,      0.   ,      0.   ,      0.   ,      0.   ,\n",
       "        311629.72 , 324981.62 , 587550.9  , 300621.44 , 277802.44 ,\n",
       "        620930.5  , 369696.8  , 174378.53 , 356632.44 , 179965.12 ,\n",
       "        311662.3  ,      0.   , 297744.97 , 465017.12 , 118608.24 ,\n",
       "        175118.34 ,      0.   ,      0.   ,      0.   ,      0.   ,\n",
       "             0.   ,      0.   ,      0.   ,      0.   ,      0.   ,\n",
       "             0.   ,      0.   ,      0.   ,      0.   ,      0.   ,\n",
       "             0.   ,      0.   , 203758.33 ,  46789.83 , 370677.12 ,\n",
       "         99011.67 , 282624.1  , 581373.44 , 212476.52 , 272498.88 ,\n",
       "        324719.53 ,  39623.863, 252202.44 ,      0.   , 309481.34 ,\n",
       "        482388.97 ,      0.   , 176703.72 ,      0.   ,      0.   ,\n",
       "             0.   ,      0.   ,      0.   ,      0.   ,      0.   ,\n",
       "             0.   ,      0.   ,      0.   ,      0.   ,      0.   ,\n",
       "             0.   ,      0.   ,      0.   ,      0.   ,      0.   ,\n",
       "             0.   ,      0.   ,      0.   ,      0.   ,      0.   ,\n",
       "             0.   ,      0.   ,      0.   ,      0.   ,      0.   ,\n",
       "             0.   ,      0.   ,      0.   ,      0.   ,      0.   ,\n",
       "             0.   ,      0.   ,      0.   ,      0.   ,      0.   ,\n",
       "             0.   ,      0.   ,      0.   ]], dtype=float32)"
      ]
     },
     "execution_count": 75,
     "metadata": {},
     "output_type": "execute_result"
    }
   ],
   "source": [
    "encoder.predict(imageio.imread(\"/home/niaki/Code/ImageNet/tiny-imagenet-200/tiny_validation16/class0/patch000010.png\").reshape(1,16,16,3))"
   ]
  },
  {
   "cell_type": "code",
   "execution_count": null,
   "metadata": {},
   "outputs": [],
   "source": []
  },
  {
   "cell_type": "code",
   "execution_count": 82,
   "metadata": {},
   "outputs": [],
   "source": [
    "import sys"
   ]
  },
  {
   "cell_type": "code",
   "execution_count": 106,
   "metadata": {},
   "outputs": [],
   "source": [
    "image_path = '/home/niaki/Downloads/Lenna.png'\n",
    "\n",
    "patch_size = 16\n",
    "patch_width = patch_size\n",
    "patch_height = patch_size\n",
    "\n",
    "nearest_patches_nb = -1\n",
    "query_stride = 100\n",
    "compare_stride = 2\n",
    "eps = 0.0001"
   ]
  },
  {
   "cell_type": "code",
   "execution_count": 107,
   "metadata": {},
   "outputs": [],
   "source": [
    "image = imageio.imread(image_path)\n",
    "\n",
    "# to be deleted\n",
    "# image = image[:40, :40, :]\n",
    "\n",
    "image_height = image.shape[0]\n",
    "image_width = image.shape[1]\n",
    "\n",
    "if nearest_patches_nb == -1:\n",
    "    nearest_patches_nb = len(range(0, image_width - patch_size + 1, compare_stride)) * len(range(0, image_height - patch_size + 1, compare_stride))"
   ]
  },
  {
   "cell_type": "code",
   "execution_count": 108,
   "metadata": {},
   "outputs": [],
   "source": [
    "def patch_diff(patch1, patch2):\n",
    "    if patch1.shape != patch2.shape:\n",
    "        print(\"Patches don't have the same shape.\")\n",
    "        return\n",
    "    return np.sum((np.array(patch1, dtype=np.float32) - np.array(patch2, dtype=np.float32))**2)"
   ]
  },
  {
   "cell_type": "code",
   "execution_count": 109,
   "metadata": {},
   "outputs": [
    {
     "name": "stdout",
     "output_type": "stream",
     "text": [
      "4/4"
     ]
    }
   ],
   "source": [
    "results_noisy_descr_patches_diffs = {}\n",
    "results_noisy_descr_patches_x_coords = {}\n",
    "results_noisy_descr_patches_y_coords = {}\n",
    "results_noisy_descr_patches_positions = {}\n",
    "\n",
    "counter_query_patches = 0\n",
    "\n",
    "12, 9\n",
    "122, 168\n",
    "101, 315\n",
    "473, 26\n",
    "\n",
    "compare_stride = 8\n",
    "\n",
    "x_querys = [9, 58, 315, 26] #[9, 168, 315, 26] \n",
    "y_querys = [12, 233, 101, 473] #[12, 122, 101, 473]\n",
    "\n",
    "total_nr_query_patches = len(x_querys)\n",
    "\n",
    "for query_it in range(total_nr_query_patches):\n",
    "    \n",
    "    x_query = x_querys[query_it]\n",
    "    y_query = y_querys[query_it]\n",
    "    \n",
    "    sys.stdout.write(\"\\r\" + str(counter_query_patches + 1) + \"/\" + str(total_nr_query_patches))\n",
    "\n",
    "    query_patch = image[x_query : x_query + patch_size, y_query : y_query + patch_size, :]\n",
    "    query_patch_descr = encoder.predict(np.expand_dims(query_patch, axis=0))[0]\n",
    "#         query_patch_descr = np.mean(query_patch)\n",
    "\n",
    "    counter_compare_patches = 0\n",
    "    compare_patches_scores = {}\n",
    "\n",
    "    patches_diffs = [100000000000]\n",
    "    patches_x_coords = [-1]\n",
    "    patches_y_coords = [-1]\n",
    "    patches_positions = [-1]\n",
    "\n",
    "    for y_compare in range(0, image_width - patch_size + 1, compare_stride):\n",
    "        for x_compare in range(0, image_height - patch_size + 1, compare_stride):\n",
    "                        \n",
    "            compare_patch = image[x_compare : x_compare + patch_size, y_compare : y_compare + patch_size, :]\n",
    "            compare_patch_descr = encoder.predict(np.expand_dims(compare_patch, axis=0))[0]\n",
    "#                 compare_patch_descr = np.mean(compare_patch)\n",
    "\n",
    "            diff = patch_diff(query_patch_descr, compare_patch_descr)\n",
    "#                 diff = (query_patch_descr - compare_patch_descr)**2\n",
    "\n",
    "            if diff < eps:\n",
    "                counter_compare_patches += 1\n",
    "                continue\n",
    "            \n",
    "#             print(diff)\n",
    "            \n",
    "            # sorting\n",
    "            for i in range(len(patches_diffs)):\n",
    "                if diff < patches_diffs[i]:\n",
    "#                     print('ufewhu')\n",
    "                    patches_diffs.insert(i, diff)\n",
    "                    patches_x_coords.insert(i, x_compare)\n",
    "                    patches_y_coords.insert(i, y_compare)\n",
    "                    patches_positions.insert(i, counter_compare_patches)\n",
    "                    break\n",
    "\n",
    "            counter_compare_patches += 1\n",
    "\n",
    "    results_noisy_descr_patches_diffs[counter_query_patches] = patches_diffs[:nearest_patches_nb]\n",
    "    results_noisy_descr_patches_x_coords[counter_query_patches] = patches_x_coords[:nearest_patches_nb]\n",
    "    results_noisy_descr_patches_y_coords[counter_query_patches] = patches_y_coords[:nearest_patches_nb]\n",
    "    results_noisy_descr_patches_positions[counter_query_patches] = patches_positions[:nearest_patches_nb]\n",
    "\n",
    "    counter_query_patches += 1"
   ]
  },
  {
   "cell_type": "code",
   "execution_count": 110,
   "metadata": {},
   "outputs": [
    {
     "data": {
      "image/png": "[encoded data removed]",
      "text/plain": [
       "<Figure size 1224x720 with 24 Axes>"
      ]
     },
     "metadata": {
      "needs_background": "light"
     },
     "output_type": "display_data"
    }
   ],
   "source": [
    "fig = plt.figure(figsize=(17, 10))\n",
    "\n",
    "nr_similar_patches = 5\n",
    "\n",
    "columns = nr_similar_patches + 1\n",
    "rows = total_nr_query_patches\n",
    "\n",
    "counter_query_patches = 0\n",
    "\n",
    "x_querys = [9, 58, 315, 26] #[9, 168, 315, 26] \n",
    "y_querys = [12, 233, 101, 473] #[12, 122, 101, 473]\n",
    "\n",
    "total_nr_query_patches = len(x_querys)\n",
    "\n",
    "for query_it in range(total_nr_query_patches):\n",
    "    \n",
    "    x_query = x_querys[query_it]\n",
    "    y_query = y_querys[query_it]\n",
    "\n",
    "    ax = fig.add_subplot(rows, columns, counter_query_patches * (nr_similar_patches + 1) + 1)\n",
    "    ax.axis('off')\n",
    "    ax.set_title('query')\n",
    "    ax.imshow(image[x_query : x_query + patch_size, y_query : y_query + patch_size, :])\n",
    "\n",
    "    for i in range(nr_similar_patches):\n",
    "        x_compare = results_noisy_descr_patches_x_coords[counter_query_patches][i]\n",
    "        y_compare = results_noisy_descr_patches_y_coords[counter_query_patches][i]\n",
    "\n",
    "#         psnr = calculate_psnr(image[x_query : x_query + patch_size, y_query : y_query + patch_size, :], \n",
    "#                              image[x_compare : x_compare + patch_size, y_compare : y_compare + patch_size, :])\n",
    "        \n",
    "        ax = fig.add_subplot(rows, columns, counter_query_patches * (nr_similar_patches + 1) + 2 + i)\n",
    "        ax.axis('off')\n",
    "#         ax.set_title('S' + str(i + 1))\n",
    "#         ax.set_title(\"{:.2f} [dB]\".format(psnr))\n",
    "        ax.imshow(image[x_compare : x_compare + patch_size, y_compare : y_compare + patch_size, :])\n",
    "\n",
    "    counter_query_patches += 1"
   ]
  },
  {
   "cell_type": "code",
   "execution_count": 113,
   "metadata": {},
   "outputs": [
    {
     "name": "stdout",
     "output_type": "stream",
     "text": [
      "jfdj\n"
     ]
    }
   ],
   "source": [
    "print('jfdj')"
   ]
  },
  {
   "cell_type": "code",
   "execution_count": null,
   "metadata": {},
   "outputs": [],
   "source": []
  }
 ],
 "metadata": {
  "kernelspec": {
   "display_name": "tensorflow",
   "language": "python",
   "name": "tensorflow"
  },
  "language_info": {
   "codemirror_mode": {
    "name": "ipython",
    "version": 3
   },
   "file_extension": ".py",
   "mimetype": "text/x-python",
   "name": "python",
   "nbconvert_exporter": "python",
   "pygments_lexer": "ipython3",
   "version": "3.6.8"
  }
 },
 "nbformat": 4,
 "nbformat_minor": 2
}
