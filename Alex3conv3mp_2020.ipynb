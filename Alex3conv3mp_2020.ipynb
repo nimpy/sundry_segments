{
 "cells": [
  {
   "cell_type": "code",
   "execution_count": 1,
   "metadata": {},
   "outputs": [],
   "source": [
    "import tensorflow as tf\n",
    "from tensorflow import keras\n",
    "from tensorflow.keras.layers import Input, Conv2D, MaxPool2D, UpSampling2D\n",
    "from tensorflow.keras.models import Model, load_model\n",
    "from tensorflow.keras.preprocessing.image import ImageDataGenerator, load_img\n",
    "from tensorflow.keras.callbacks import ModelCheckpoint\n",
    "\n",
    "import numpy as np\n",
    "import matplotlib.pyplot as plt\n",
    "\n",
    "from os import listdir\n",
    "from os import system\n",
    "import os\n",
    "import datetime\n",
    "\n",
    "import imageio\n",
    "from skimage.measure import block_reduce"
   ]
  },
  {
   "cell_type": "code",
   "execution_count": 3,
   "metadata": {},
   "outputs": [],
   "source": [
    "patch_size = 16\n",
    "nb_channels = 3\n",
    "\n",
    "batch_size = 32"
   ]
  },
  {
   "cell_type": "code",
   "execution_count": 4,
   "metadata": {},
   "outputs": [],
   "source": [
    "base_dir = '/home/niaki/Code/ImageNet/tiny-imagenet-200'\n",
    "\n",
    "train_data_dir      = base_dir + '/tiny_train16'\n",
    "validation_data_dir = base_dir + '/tiny_validation16'\n",
    "test_data_dir       = base_dir + '/tiny_test16'"
   ]
  },
  {
   "cell_type": "code",
   "execution_count": 5,
   "metadata": {},
   "outputs": [],
   "source": [
    "def loading_data(dir_patches):\n",
    "    \"\"\"Load all the patches from dir_patches into tensors for training the autoencoder.\n",
    "    Return:\n",
    "        patches_in  -- tensor of stacked patches in their original shape, 16x16\n",
    "        patches_out -- tensor of the original patches downsampled to 8x8\n",
    "    \n",
    "    \"\"\"\n",
    "    files_patches = listdir(dir_patches + '/class0')\n",
    "    files_patches.sort()\n",
    "    \n",
    "    patches_in = []\n",
    "    patches_out = []\n",
    "\n",
    "    \n",
    "    for file_patch in files_patches:\n",
    "        patch_in = imageio.imread(dir_patches + '/class0/' + file_patch)\n",
    "        \n",
    "        patch_out = block_reduce(patch_in, (2, 2, 1), func=np.mean)  # downsample (mean-pool)\n",
    "        \n",
    "        patches_in.append(patch_in)\n",
    "        patches_out.append(patch_out)\n",
    "        \n",
    "\n",
    "    patches_in = np.array(patches_in)\n",
    "    patches_in = patches_in.astype(np.float64) / 255\n",
    "#     patches_in = np.expand_dims(patches_in, -1)  # need this if grayscale\n",
    "    \n",
    "    patches_out = np.array(patches_out)\n",
    "    patches_out = patches_out.astype(np.float64) / 255\n",
    "#     patches_out = np.expand_dims(patches_out, -1)  # need this if grayscale\n",
    "        \n",
    "    print(\"in\", patches_in.shape, \"; out\", patches_out.shape)\n",
    "    \n",
    "    return patches_in, patches_out"
   ]
  },
  {
   "cell_type": "code",
   "execution_count": 6,
   "metadata": {},
   "outputs": [
    {
     "name": "stdout",
     "output_type": "stream",
     "text": [
      "in (157086, 16, 16, 3) ; out (157086, 8, 8, 3)\n",
      "in (3932, 16, 16, 3) ; out (3932, 8, 8, 3)\n"
     ]
    }
   ],
   "source": [
    "x_train, y_train = loading_data(train_data_dir)\n",
    "x_validation, y_validation = loading_data(validation_data_dir)"
   ]
  },
  {
   "cell_type": "code",
   "execution_count": 7,
   "metadata": {},
   "outputs": [
    {
     "data": {
      "image/png": "[encoded data removed]",
      "text/plain": [
       "<Figure size 432x288 with 1 Axes>"
      ]
     },
     "metadata": {
      "needs_background": "light"
     },
     "output_type": "display_data"
    },
    {
     "data": {
      "image/png": "[encoded data removed]",
      "text/plain": [
       "<Figure size 432x288 with 1 Axes>"
      ]
     },
     "metadata": {
      "needs_background": "light"
     },
     "output_type": "display_data"
    }
   ],
   "source": [
    "temp_index = np.random.randint(x_train.shape[0]) #  5429\n",
    "# print(np.array(np.round(x_train[temp_index] * 255), dtype=np.uint8))\n",
    "plt.imshow(np.array(np.round(x_train[temp_index] * 255), dtype=np.uint8))\n",
    "plt.show()\n",
    "plt.imshow(np.array(np.round(y_train[temp_index] * 255), dtype=np.uint8))\n",
    "plt.show()"
   ]
  },
  {
   "cell_type": "code",
   "execution_count": null,
   "metadata": {},
   "outputs": [],
   "source": []
  },
  {
   "cell_type": "code",
   "execution_count": null,
   "metadata": {},
   "outputs": [],
   "source": []
  },
  {
   "cell_type": "code",
   "execution_count": null,
   "metadata": {},
   "outputs": [],
   "source": []
  },
  {
   "cell_type": "code",
   "execution_count": 8,
   "metadata": {},
   "outputs": [
    {
     "name": "stdout",
     "output_type": "stream",
     "text": [
      "Model: \"model\"\n",
      "_________________________________________________________________\n",
      "Layer (type)                 Output Shape              Param #   \n",
      "=================================================================\n",
      "input_1 (InputLayer)         [(None, 16, 16, 3)]       0         \n",
      "_________________________________________________________________\n",
      "conv2d (Conv2D)              (None, 16, 16, 32)        896       \n",
      "_________________________________________________________________\n",
      "conv2d_1 (Conv2D)            (None, 16, 16, 32)        9248      \n",
      "_________________________________________________________________\n",
      "conv2d_2 (Conv2D)            (None, 16, 16, 32)        9248      \n",
      "_________________________________________________________________\n",
      "max_pooling2d (MaxPooling2D) (None, 8, 8, 32)          0         \n",
      "_________________________________________________________________\n",
      "max_pooling2d_1 (MaxPooling2 (None, 4, 4, 32)          0         \n",
      "_________________________________________________________________\n",
      "max_pooling2d_2 (MaxPooling2 (None, 2, 2, 32)          0         \n",
      "_________________________________________________________________\n",
      "conv2d_3 (Conv2D)            (None, 2, 2, 32)          9248      \n",
      "_________________________________________________________________\n",
      "up_sampling2d (UpSampling2D) (None, 4, 4, 32)          0         \n",
      "_________________________________________________________________\n",
      "conv2d_4 (Conv2D)            (None, 4, 4, 32)          9248      \n",
      "_________________________________________________________________\n",
      "up_sampling2d_1 (UpSampling2 (None, 8, 8, 32)          0         \n",
      "_________________________________________________________________\n",
      "conv2d_5 (Conv2D)            (None, 8, 8, 3)           867       \n",
      "=================================================================\n",
      "Total params: 38,755\n",
      "Trainable params: 38,755\n",
      "Non-trainable params: 0\n",
      "_________________________________________________________________\n"
     ]
    }
   ],
   "source": [
    "input_shape = (patch_size, patch_size, nb_channels)\n",
    "input_img = Input(shape=input_shape)\n",
    "\n",
    "x = Conv2D(32, (3, 3), activation=\"relu\", padding=\"same\")(input_img)\n",
    "x = Conv2D(32, (3, 3), activation=\"relu\", padding=\"same\")(x)\n",
    "x = Conv2D(32, (3, 3), activation=\"relu\", padding=\"same\")(x)\n",
    "x = MaxPool2D((2, 2), padding=\"same\")(x)\n",
    "x = MaxPool2D((2, 2), padding=\"same\")(x)\n",
    "encoded = MaxPool2D((2, 2), padding=\"same\")(x)\n",
    "\n",
    "\n",
    "x = Conv2D(32, (3, 3), activation=\"relu\", padding=\"same\")(encoded)\n",
    "x = UpSampling2D((2, 2))(x)\n",
    "x = Conv2D(32, (3, 3), activation=\"relu\", padding=\"same\")(x)\n",
    "x = UpSampling2D((2, 2))(x)\n",
    "decoded = Conv2D(3, (3, 3), activation=\"relu\", padding=\"same\")(x)  # 32\n",
    "# x = UpSampling2D((2, 2))(x)\n",
    "# decoded = Conv2D(3, (3, 3), activation=\"sigmoid\", padding=\"same\")(x)\n",
    "\n",
    "autoencoder = Model(input_img, decoded)\n",
    "autoencoder.compile(optimizer='adadelta', loss='binary_crossentropy')\n",
    "\n",
    "autoencoder.summary()"
   ]
  },
  {
   "cell_type": "code",
   "execution_count": 12,
   "metadata": {},
   "outputs": [],
   "source": [
    "image_datagen = ImageDataGenerator(rotation_range=20, zoom_range=0.15,\n",
    "    width_shift_range=0.2, height_shift_range=0.2, shear_range=0.15,\n",
    "    horizontal_flip=False, fill_mode=\"nearest\")"
   ]
  },
  {
   "cell_type": "code",
   "execution_count": null,
   "metadata": {},
   "outputs": [],
   "source": []
  },
  {
   "cell_type": "code",
   "execution_count": 13,
   "metadata": {},
   "outputs": [
    {
     "data": {
      "text/plain": [
       "'/home/niaki/Code/ImageNet/tiny-imagenet-200'"
      ]
     },
     "execution_count": 13,
     "metadata": {},
     "output_type": "execute_result"
    }
   ],
   "source": [
    "base_dir"
   ]
  },
  {
   "cell_type": "code",
   "execution_count": 14,
   "metadata": {},
   "outputs": [],
   "source": [
    "import wandb\n",
    "from wandb.keras import WandbCallback\n",
    "# os.environ['WANDB_MODE'] = 'dryrun'"
   ]
  },
  {
   "cell_type": "code",
   "execution_count": 15,
   "metadata": {},
   "outputs": [
    {
     "name": "stderr",
     "output_type": "stream",
     "text": [
      "wandb: Currently logged in as: nimpy (use `wandb login --relogin` to force relogin)\n"
     ]
    },
    {
     "data": {
      "text/html": [
       "\n",
       "                Tracking run with wandb version 0.10.7<br/>\n",
       "                Syncing run <strong style=\"color:#cdcd00\">royal-rain-2</strong> to <a href=\"https://wandb.ai\" target=\"_blank\">Weights & Biases</a> <a href=\"https://docs.wandb.com/integrations/jupyter.html\" target=\"_blank\">(Documentation)</a>.<br/>\n",
       "                Project page: <a href=\"https://wandb.ai/nimpy/patch-desc-ae\" target=\"_blank\">https://wandb.ai/nimpy/patch-desc-ae</a><br/>\n",
       "                Run page: <a href=\"https://wandb.ai/nimpy/patch-desc-ae/runs/21dup709\" target=\"_blank\">https://wandb.ai/nimpy/patch-desc-ae/runs/21dup709</a><br/>\n",
       "                Run data is saved locally in <code>wandb/run-20201022_172530-21dup709</code><br/><br/>\n",
       "            "
      ],
      "text/plain": [
       "<IPython.core.display.HTML object>"
      ]
     },
     "metadata": {},
     "output_type": "display_data"
    },
    {
     "data": {
      "text/html": [
       "<h1>Run(21dup709)</h1><p></p><iframe src=\"https://wandb.ai/nimpy/patch-desc-ae/runs/21dup709\" style=\"border:none;width:100%;height:400px\"></iframe>"
      ],
      "text/plain": [
       "<wandb.sdk.wandb_run.Run at 0x7ff08c8f9630>"
      ]
     },
     "execution_count": 15,
     "metadata": {},
     "output_type": "execute_result"
    }
   ],
   "source": [
    "wandb.init(\n",
    "  project=\"patch-desc-ae\",\n",
    "  config={\n",
    "    \"augmentation\": True,\n",
    "    \"elus\": False,\n",
    "    \"downsampling_output\": True,\n",
    "    \"optimizer\": \"adadelta\", \n",
    "    \"loss\": \"binary_crossentropy\",\n",
    "    \"epochs\": 50 }\n",
    ")"
   ]
  },
  {
   "cell_type": "code",
   "execution_count": 18,
   "metadata": {
    "scrolled": true
   },
   "outputs": [
    {
     "name": "stdout",
     "output_type": "stream",
     "text": [
      "/home/niaki/Code/ImageNet/tiny-imagenet-200/weights_patch_desc_ae_20201022_17321416_alex_3conv3mp_2020_augm_relu_dwnsmpl\n",
      "WARNING:tensorflow:`period` argument is deprecated. Please use `save_freq` to specify the frequency in number of samples seen.\n",
      "WARNING:tensorflow:sample_weight modes were coerced from\n",
      "  ...\n",
      "    to  \n",
      "  ['...']\n",
      "WARNING:tensorflow:sample_weight modes were coerced from\n",
      "  ...\n",
      "    to  \n",
      "  ['...']\n",
      "Train for 157086 steps, validate for 3932 steps\n",
      "Epoch 1/50\n",
      "  4906/157086 [..............................] - ETA: 26:24 - loss: 0.6261WARNING:tensorflow:Your input ran out of data; interrupting training. Make sure that your dataset or generator can generate at least `steps_per_epoch * epochs` batches (in this case, 7854300 batches). You may need to use the repeat() function when building your dataset.\n",
      "  4909/157086 [..............................] - ETA: 26:28 - loss: 0.6261Epoch 2/50\n",
      "  4906/157086 [..............................] - ETA: 26:18 - loss: 0.6060WARNING:tensorflow:Your input ran out of data; interrupting training. Make sure that your dataset or generator can generate at least `steps_per_epoch * epochs` batches (in this case, 7854300 batches). You may need to use the repeat() function when building your dataset.\n",
      "  4909/157086 [..............................] - ETA: 26:21 - loss: 0.6060Epoch 3/50\n",
      "  4907/157086 [..............................] - ETA: 26:28 - loss: 0.5952WARNING:tensorflow:Your input ran out of data; interrupting training. Make sure that your dataset or generator can generate at least `steps_per_epoch * epochs` batches (in this case, 7854300 batches). You may need to use the repeat() function when building your dataset.\n",
      "  4909/157086 [..............................] - ETA: 26:31 - loss: 0.5952Epoch 4/50\n",
      "  4904/157086 [..............................] - ETA: 26:25 - loss: 0.5882WARNING:tensorflow:Your input ran out of data; interrupting training. Make sure that your dataset or generator can generate at least `steps_per_epoch * epochs` batches (in this case, 7854300 batches). You may need to use the repeat() function when building your dataset.\n",
      "  4909/157086 [..............................] - ETA: 26:27 - loss: 0.5882Epoch 5/50\n",
      "  4906/157086 [..............................] - ETA: 26:23 - loss: 0.5833WARNING:tensorflow:Your input ran out of data; interrupting training. Make sure that your dataset or generator can generate at least `steps_per_epoch * epochs` batches (in this case, 7854300 batches). You may need to use the repeat() function when building your dataset.\n",
      "  4909/157086 [..............................] - ETA: 26:26 - loss: 0.5833Epoch 6/50\n",
      "  4907/157086 [..............................] - ETA: 26:26 - loss: 0.5799WARNING:tensorflow:Your input ran out of data; interrupting training. Make sure that your dataset or generator can generate at least `steps_per_epoch * epochs` batches (in this case, 7854300 batches). You may need to use the repeat() function when building your dataset.\n",
      "  4909/157086 [..............................] - ETA: 26:29 - loss: 0.5799Epoch 7/50\n",
      "  4905/157086 [..............................] - ETA: 26:35 - loss: 0.5770WARNING:tensorflow:Your input ran out of data; interrupting training. Make sure that your dataset or generator can generate at least `steps_per_epoch * epochs` batches (in this case, 7854300 batches). You may need to use the repeat() function when building your dataset.\n",
      "  4909/157086 [..............................] - ETA: 26:38 - loss: 0.5770Epoch 8/50\n",
      "  4906/157086 [..............................] - ETA: 26:35 - loss: 0.5743WARNING:tensorflow:Your input ran out of data; interrupting training. Make sure that your dataset or generator can generate at least `steps_per_epoch * epochs` batches (in this case, 7854300 batches). You may need to use the repeat() function when building your dataset.\n",
      "  4909/157086 [..............................] - ETA: 26:38 - loss: 0.5743Epoch 9/50\n",
      "  4907/157086 [..............................] - ETA: 26:28 - loss: 0.5720WARNING:tensorflow:Your input ran out of data; interrupting training. Make sure that your dataset or generator can generate at least `steps_per_epoch * epochs` batches (in this case, 7854300 batches). You may need to use the repeat() function when building your dataset.\n",
      "  4909/157086 [..............................] - ETA: 26:31 - loss: 0.5720Epoch 10/50\n",
      "  4909/157086 [..............................] - ETA: 26:40 - loss: 0.5699WARNING:tensorflow:Your input ran out of data; interrupting training. Make sure that your dataset or generator can generate at least `steps_per_epoch * epochs` batches (in this case, 7854300 batches). You may need to use the repeat() function when building your dataset.\n",
      "  4909/157086 [..............................] - ETA: 26:43 - loss: 0.5699Epoch 11/50\n",
      "  4909/157086 [..............................] - ETA: 26:20 - loss: 0.5676WARNING:tensorflow:Your input ran out of data; interrupting training. Make sure that your dataset or generator can generate at least `steps_per_epoch * epochs` batches (in this case, 7854300 batches). You may need to use the repeat() function when building your dataset.\n",
      "  4909/157086 [..............................] - ETA: 26:23 - loss: 0.5676Epoch 12/50\n",
      "  4905/157086 [..............................] - ETA: 26:27 - loss: 0.5657WARNING:tensorflow:Your input ran out of data; interrupting training. Make sure that your dataset or generator can generate at least `steps_per_epoch * epochs` batches (in this case, 7854300 batches). You may need to use the repeat() function when building your dataset.\n",
      "  4909/157086 [..............................] - ETA: 26:30 - loss: 0.5657Epoch 13/50\n",
      "  4908/157086 [..............................] - ETA: 26:21 - loss: 0.5641WARNING:tensorflow:Your input ran out of data; interrupting training. Make sure that your dataset or generator can generate at least `steps_per_epoch * epochs` batches (in this case, 7854300 batches). You may need to use the repeat() function when building your dataset.\n",
      "  4909/157086 [..............................] - ETA: 26:24 - loss: 0.5641Epoch 14/50\n",
      "  4909/157086 [..............................] - ETA: 26:24 - loss: 0.5628WARNING:tensorflow:Your input ran out of data; interrupting training. Make sure that your dataset or generator can generate at least `steps_per_epoch * epochs` batches (in this case, 7854300 batches). You may need to use the repeat() function when building your dataset.\n",
      "  4909/157086 [..............................] - ETA: 26:27 - loss: 0.5628Epoch 15/50\n",
      "  4907/157086 [..............................] - ETA: 26:27 - loss: 0.5618WARNING:tensorflow:Your input ran out of data; interrupting training. Make sure that your dataset or generator can generate at least `steps_per_epoch * epochs` batches (in this case, 7854300 batches). You may need to use the repeat() function when building your dataset.\n",
      "  4909/157086 [..............................] - ETA: 26:29 - loss: 0.5618Epoch 16/50\n",
      "  4909/157086 [..............................] - ETA: 26:27 - loss: 0.5608WARNING:tensorflow:Your input ran out of data; interrupting training. Make sure that your dataset or generator can generate at least `steps_per_epoch * epochs` batches (in this case, 7854300 batches). You may need to use the repeat() function when building your dataset.\n",
      "  4909/157086 [..............................] - ETA: 26:30 - loss: 0.5608Epoch 17/50\n",
      "  4906/157086 [..............................] - ETA: 26:29 - loss: 0.5600WARNING:tensorflow:Your input ran out of data; interrupting training. Make sure that your dataset or generator can generate at least `steps_per_epoch * epochs` batches (in this case, 7854300 batches). You may need to use the repeat() function when building your dataset.\n",
      "  4909/157086 [..............................] - ETA: 26:32 - loss: 0.5600Epoch 18/50\n",
      "  4905/157086 [..............................] - ETA: 26:20 - loss: 0.5594WARNING:tensorflow:Your input ran out of data; interrupting training. Make sure that your dataset or generator can generate at least `steps_per_epoch * epochs` batches (in this case, 7854300 batches). You may need to use the repeat() function when building your dataset.\n"
     ]
    },
    {
     "name": "stdout",
     "output_type": "stream",
     "text": [
      "  4909/157086 [..............................] - ETA: 26:22 - loss: 0.5594Epoch 19/50\n",
      "  4906/157086 [..............................] - ETA: 26:28 - loss: 0.5588WARNING:tensorflow:Your input ran out of data; interrupting training. Make sure that your dataset or generator can generate at least `steps_per_epoch * epochs` batches (in this case, 7854300 batches). You may need to use the repeat() function when building your dataset.\n",
      "  4909/157086 [..............................] - ETA: 26:31 - loss: 0.5588Epoch 20/50\n",
      "  4905/157086 [..............................] - ETA: 26:30 - loss: 0.5582WARNING:tensorflow:Your input ran out of data; interrupting training. Make sure that your dataset or generator can generate at least `steps_per_epoch * epochs` batches (in this case, 7854300 batches). You may need to use the repeat() function when building your dataset.\n",
      "  4909/157086 [..............................] - ETA: 26:32 - loss: 0.5582Epoch 21/50\n",
      "  4907/157086 [..............................] - ETA: 26:29 - loss: 0.5577WARNING:tensorflow:Your input ran out of data; interrupting training. Make sure that your dataset or generator can generate at least `steps_per_epoch * epochs` batches (in this case, 7854300 batches). You may need to use the repeat() function when building your dataset.\n",
      "  4909/157086 [..............................] - ETA: 26:32 - loss: 0.5577Epoch 22/50\n",
      "  4905/157086 [..............................] - ETA: 26:32 - loss: 0.5571WARNING:tensorflow:Your input ran out of data; interrupting training. Make sure that your dataset or generator can generate at least `steps_per_epoch * epochs` batches (in this case, 7854300 batches). You may need to use the repeat() function when building your dataset.\n",
      "  4909/157086 [..............................] - ETA: 26:34 - loss: 0.5571Epoch 23/50\n",
      "  4907/157086 [..............................] - ETA: 26:27 - loss: 0.5566WARNING:tensorflow:Your input ran out of data; interrupting training. Make sure that your dataset or generator can generate at least `steps_per_epoch * epochs` batches (in this case, 7854300 batches). You may need to use the repeat() function when building your dataset.\n",
      "  4909/157086 [..............................] - ETA: 26:29 - loss: 0.5566Epoch 24/50\n",
      "  4905/157086 [..............................] - ETA: 26:33 - loss: 0.5562WARNING:tensorflow:Your input ran out of data; interrupting training. Make sure that your dataset or generator can generate at least `steps_per_epoch * epochs` batches (in this case, 7854300 batches). You may need to use the repeat() function when building your dataset.\n",
      "  4909/157086 [..............................] - ETA: 26:35 - loss: 0.5562Epoch 25/50\n",
      "  4906/157086 [..............................] - ETA: 26:28 - loss: 0.5558WARNING:tensorflow:Your input ran out of data; interrupting training. Make sure that your dataset or generator can generate at least `steps_per_epoch * epochs` batches (in this case, 7854300 batches). You may need to use the repeat() function when building your dataset.\n",
      "  4909/157086 [..............................] - ETA: 26:30 - loss: 0.5558Epoch 26/50\n",
      "  4905/157086 [..............................] - ETA: 26:30 - loss: 0.5555WARNING:tensorflow:Your input ran out of data; interrupting training. Make sure that your dataset or generator can generate at least `steps_per_epoch * epochs` batches (in this case, 7854300 batches). You may need to use the repeat() function when building your dataset.\n",
      "  4909/157086 [..............................] - ETA: 26:32 - loss: 0.5555Epoch 27/50\n",
      "  4907/157086 [..............................] - ETA: 26:25 - loss: 0.5550WARNING:tensorflow:Your input ran out of data; interrupting training. Make sure that your dataset or generator can generate at least `steps_per_epoch * epochs` batches (in this case, 7854300 batches). You may need to use the repeat() function when building your dataset.\n",
      "  4909/157086 [..............................] - ETA: 26:28 - loss: 0.5550Epoch 28/50\n",
      "  4904/157086 [..............................] - ETA: 26:21 - loss: 0.5548WARNING:tensorflow:Your input ran out of data; interrupting training. Make sure that your dataset or generator can generate at least `steps_per_epoch * epochs` batches (in this case, 7854300 batches). You may need to use the repeat() function when building your dataset.\n",
      "  4909/157086 [..............................] - ETA: 26:23 - loss: 0.5547Epoch 29/50\n",
      "  4909/157086 [..............................] - ETA: 26:29 - loss: 0.5544WARNING:tensorflow:Your input ran out of data; interrupting training. Make sure that your dataset or generator can generate at least `steps_per_epoch * epochs` batches (in this case, 7854300 batches). You may need to use the repeat() function when building your dataset.\n",
      "  4909/157086 [..............................] - ETA: 26:32 - loss: 0.5544Epoch 30/50\n",
      "  4906/157086 [..............................] - ETA: 26:38 - loss: 0.5541WARNING:tensorflow:Your input ran out of data; interrupting training. Make sure that your dataset or generator can generate at least `steps_per_epoch * epochs` batches (in this case, 7854300 batches). You may need to use the repeat() function when building your dataset.\n",
      "  4909/157086 [..............................] - ETA: 26:41 - loss: 0.5541Epoch 31/50\n",
      "  4906/157086 [..............................] - ETA: 26:41 - loss: 0.5539WARNING:tensorflow:Your input ran out of data; interrupting training. Make sure that your dataset or generator can generate at least `steps_per_epoch * epochs` batches (in this case, 7854300 batches). You may need to use the repeat() function when building your dataset.\n",
      "  4909/157086 [..............................] - ETA: 26:44 - loss: 0.5539Epoch 32/50\n",
      "  4907/157086 [..............................] - ETA: 26:28 - loss: 0.5536WARNING:tensorflow:Your input ran out of data; interrupting training. Make sure that your dataset or generator can generate at least `steps_per_epoch * epochs` batches (in this case, 7854300 batches). You may need to use the repeat() function when building your dataset.\n",
      "  4909/157086 [..............................] - ETA: 26:31 - loss: 0.5536Epoch 33/50\n",
      "  4909/157086 [..............................] - ETA: 26:43 - loss: 0.5533WARNING:tensorflow:Your input ran out of data; interrupting training. Make sure that your dataset or generator can generate at least `steps_per_epoch * epochs` batches (in this case, 7854300 batches). You may need to use the repeat() function when building your dataset.\n",
      "  4909/157086 [..............................] - ETA: 26:45 - loss: 0.5533Epoch 34/50\n",
      "  4905/157086 [..............................] - ETA: 26:40 - loss: 0.5531WARNING:tensorflow:Your input ran out of data; interrupting training. Make sure that your dataset or generator can generate at least `steps_per_epoch * epochs` batches (in this case, 7854300 batches). You may need to use the repeat() function when building your dataset.\n",
      "  4909/157086 [..............................] - ETA: 26:43 - loss: 0.5531Epoch 35/50\n",
      "  4906/157086 [..............................] - ETA: 26:32 - loss: 0.5528WARNING:tensorflow:Your input ran out of data; interrupting training. Make sure that your dataset or generator can generate at least `steps_per_epoch * epochs` batches (in this case, 7854300 batches). You may need to use the repeat() function when building your dataset.\n",
      "  4909/157086 [..............................] - ETA: 26:35 - loss: 0.5528Epoch 36/50\n",
      "  4908/157086 [..............................] - ETA: 26:33 - loss: 0.5526WARNING:tensorflow:Your input ran out of data; interrupting training. Make sure that your dataset or generator can generate at least `steps_per_epoch * epochs` batches (in this case, 7854300 batches). You may need to use the repeat() function when building your dataset.\n",
      "  4909/157086 [..............................] - ETA: 26:35 - loss: 0.5526Epoch 37/50\n",
      "  4906/157086 [..............................] - ETA: 26:52 - loss: 0.5523WARNING:tensorflow:Your input ran out of data; interrupting training. Make sure that your dataset or generator can generate at least `steps_per_epoch * epochs` batches (in this case, 7854300 batches). You may need to use the repeat() function when building your dataset.\n"
     ]
    },
    {
     "name": "stdout",
     "output_type": "stream",
     "text": [
      "  4909/157086 [..............................] - ETA: 26:55 - loss: 0.5523Epoch 38/50\n",
      "  4909/157086 [..............................] - ETA: 26:44 - loss: 0.5521WARNING:tensorflow:Your input ran out of data; interrupting training. Make sure that your dataset or generator can generate at least `steps_per_epoch * epochs` batches (in this case, 7854300 batches). You may need to use the repeat() function when building your dataset.\n",
      "  4909/157086 [..............................] - ETA: 26:47 - loss: 0.5521Epoch 39/50\n",
      "  4908/157086 [..............................] - ETA: 26:37 - loss: 0.5519WARNING:tensorflow:Your input ran out of data; interrupting training. Make sure that your dataset or generator can generate at least `steps_per_epoch * epochs` batches (in this case, 7854300 batches). You may need to use the repeat() function when building your dataset.\n",
      "  4909/157086 [..............................] - ETA: 26:40 - loss: 0.5519Epoch 40/50\n",
      "  4908/157086 [..............................] - ETA: 26:41 - loss: 0.5518WARNING:tensorflow:Your input ran out of data; interrupting training. Make sure that your dataset or generator can generate at least `steps_per_epoch * epochs` batches (in this case, 7854300 batches). You may need to use the repeat() function when building your dataset.\n",
      "  4909/157086 [..............................] - ETA: 26:44 - loss: 0.5518Epoch 41/50\n",
      "  4907/157086 [..............................] - ETA: 26:42 - loss: 0.5515WARNING:tensorflow:Your input ran out of data; interrupting training. Make sure that your dataset or generator can generate at least `steps_per_epoch * epochs` batches (in this case, 7854300 batches). You may need to use the repeat() function when building your dataset.\n",
      "  4909/157086 [..............................] - ETA: 26:45 - loss: 0.5515Epoch 42/50\n",
      "  4909/157086 [..............................] - ETA: 26:42 - loss: 0.5514WARNING:tensorflow:Your input ran out of data; interrupting training. Make sure that your dataset or generator can generate at least `steps_per_epoch * epochs` batches (in this case, 7854300 batches). You may need to use the repeat() function when building your dataset.\n",
      "  4909/157086 [..............................] - ETA: 26:45 - loss: 0.5514Epoch 43/50\n",
      "  4905/157086 [..............................] - ETA: 26:43 - loss: 0.5512WARNING:tensorflow:Your input ran out of data; interrupting training. Make sure that your dataset or generator can generate at least `steps_per_epoch * epochs` batches (in this case, 7854300 batches). You may need to use the repeat() function when building your dataset.\n",
      "  4909/157086 [..............................] - ETA: 26:46 - loss: 0.5512Epoch 44/50\n",
      "  4907/157086 [..............................] - ETA: 26:51 - loss: 0.5510WARNING:tensorflow:Your input ran out of data; interrupting training. Make sure that your dataset or generator can generate at least `steps_per_epoch * epochs` batches (in this case, 7854300 batches). You may need to use the repeat() function when building your dataset.\n",
      "  4909/157086 [..............................] - ETA: 26:54 - loss: 0.5510Epoch 45/50\n",
      "  4904/157086 [..............................] - ETA: 26:40 - loss: 0.5509WARNING:tensorflow:Your input ran out of data; interrupting training. Make sure that your dataset or generator can generate at least `steps_per_epoch * epochs` batches (in this case, 7854300 batches). You may need to use the repeat() function when building your dataset.\n",
      "  4909/157086 [..............................] - ETA: 26:42 - loss: 0.5509Epoch 46/50\n",
      "  4905/157086 [..............................] - ETA: 26:44 - loss: 0.5507WARNING:tensorflow:Your input ran out of data; interrupting training. Make sure that your dataset or generator can generate at least `steps_per_epoch * epochs` batches (in this case, 7854300 batches). You may need to use the repeat() function when building your dataset.\n",
      "  4909/157086 [..............................] - ETA: 26:46 - loss: 0.5507Epoch 47/50\n",
      "  4909/157086 [..............................] - ETA: 26:43 - loss: 0.5505WARNING:tensorflow:Your input ran out of data; interrupting training. Make sure that your dataset or generator can generate at least `steps_per_epoch * epochs` batches (in this case, 7854300 batches). You may need to use the repeat() function when building your dataset.\n",
      "  4909/157086 [..............................] - ETA: 26:45 - loss: 0.5505Epoch 48/50\n",
      "  4907/157086 [..............................] - ETA: 26:47 - loss: 0.5504WARNING:tensorflow:Your input ran out of data; interrupting training. Make sure that your dataset or generator can generate at least `steps_per_epoch * epochs` batches (in this case, 7854300 batches). You may need to use the repeat() function when building your dataset.\n",
      "  4909/157086 [..............................] - ETA: 26:50 - loss: 0.5504Epoch 49/50\n",
      "  4907/157086 [..............................] - ETA: 26:43 - loss: 0.5502WARNING:tensorflow:Your input ran out of data; interrupting training. Make sure that your dataset or generator can generate at least `steps_per_epoch * epochs` batches (in this case, 7854300 batches). You may need to use the repeat() function when building your dataset.\n",
      "  4909/157086 [..............................] - ETA: 26:46 - loss: 0.5502Epoch 50/50\n",
      "  4907/157086 [..............................] - ETA: 26:43 - loss: 0.5501WARNING:tensorflow:Your input ran out of data; interrupting training. Make sure that your dataset or generator can generate at least `steps_per_epoch * epochs` batches (in this case, 7854300 batches). You may need to use the repeat() function when building your dataset.\n",
      "  4909/157086 [..............................] - ETA: 26:46 - loss: 0.5501"
     ]
    }
   ],
   "source": [
    "model_version = 'patch_desc_ae_' + datetime.datetime.now().strftime(\"%Y%m%d_%H%M%S\") + '16_alex_3conv3mp_2020_augm_relu_dwnsmpl'\n",
    "\n",
    "os.system('mkdir ' + base_dir + '/weights_' + model_version)\n",
    "print(base_dir + '/weights_' + model_version)\n",
    "\n",
    "checkpointer = ModelCheckpoint(base_dir + '/weights' + model_version + '/weights.{epoch:02d}-{val_loss:.2f}.hdf5', monitor='val_loss', verbose=0, save_best_only=False, save_weights_only=False, mode='auto', period=1)\n",
    "\n",
    "history_callback = autoencoder.fit(image_datagen.flow(x_train, y_train, batch_size),\n",
    "                steps_per_epoch=x_train.shape[0],\n",
    "                epochs=50,\n",
    "                validation_data=image_datagen.flow(x_validation, y_validation, batch_size),\n",
    "                validation_steps=x_validation.shape[0],\n",
    "                callbacks=[WandbCallback(data_type=\"image\", predictions=1)]  # checkpointer,\n",
    "                )\n",
    "autoencoder.save(base_dir + '/' + model_version + '.h5')\n",
    "\n",
    "# autoencoder = load_model(base_dir + '/' + model_version + '.h5')"
   ]
  },
  {
   "cell_type": "code",
   "execution_count": 19,
   "metadata": {},
   "outputs": [
    {
     "data": {
      "text/plain": [
       "[]"
      ]
     },
     "execution_count": 19,
     "metadata": {},
     "output_type": "execute_result"
    }
   ],
   "source": [
    "wandb.save(\"patch_desc_ae.h5\")"
   ]
  },
  {
   "cell_type": "code",
   "execution_count": 20,
   "metadata": {},
   "outputs": [
    {
     "ename": "NameError",
     "evalue": "name 'run' is not defined",
     "output_type": "error",
     "traceback": [
      "\u001b[0;31m---------------------------------------------------------------------------\u001b[0m",
      "\u001b[0;31mNameError\u001b[0m                                 Traceback (most recent call last)",
      "\u001b[0;32m<ipython-input-20-7da56333b3d5>\u001b[0m in \u001b[0;36m<module>\u001b[0;34m\u001b[0m\n\u001b[0;32m----> 1\u001b[0;31m \u001b[0mrun\u001b[0m\u001b[0;34m.\u001b[0m\u001b[0mfinish\u001b[0m\u001b[0;34m(\u001b[0m\u001b[0;34m)\u001b[0m\u001b[0;34m\u001b[0m\u001b[0;34m\u001b[0m\u001b[0m\n\u001b[0m",
      "\u001b[0;31mNameError\u001b[0m: name 'run' is not defined"
     ]
    }
   ],
   "source": [
    "run.finish()"
   ]
  },
  {
   "cell_type": "code",
   "execution_count": 23,
   "metadata": {
    "scrolled": true
   },
   "outputs": [
    {
     "data": {
      "text/plain": [
       "{'loss': [0.6260780895730567,\n",
       "  0.6060252179512783,\n",
       "  0.5951909043093382,\n",
       "  0.588207898284687,\n",
       "  0.5833361623148873,\n",
       "  0.5799492780454653,\n",
       "  0.5769948917999261,\n",
       "  0.5743361962744195,\n",
       "  0.5720426948748691,\n",
       "  0.5698638599777025,\n",
       "  0.5676000748724821,\n",
       "  0.5657318284355146,\n",
       "  0.5641393776841065,\n",
       "  0.5627947944526468,\n",
       "  0.5617694119784642,\n",
       "  0.5608027577650637,\n",
       "  0.5600350316976609,\n",
       "  0.5593533768477567,\n",
       "  0.5587979410897435,\n",
       "  0.5582050857955804,\n",
       "  0.5576595787509168,\n",
       "  0.5571195382178122,\n",
       "  0.5566236612007337,\n",
       "  0.5562273534259203,\n",
       "  0.5558319495437104,\n",
       "  0.5555073794478311,\n",
       "  0.5550484862207733,\n",
       "  0.5547436577936862,\n",
       "  0.5544176297240138,\n",
       "  0.5541249228143352,\n",
       "  0.5538740699875232,\n",
       "  0.5535941227033367,\n",
       "  0.5533041276490459,\n",
       "  0.5530735796840777,\n",
       "  0.5528197375556622,\n",
       "  0.5525572038842139,\n",
       "  0.5523434904168886,\n",
       "  0.5521194740207648,\n",
       "  0.5519301754113966,\n",
       "  0.5517560552052996,\n",
       "  0.5515187149046759,\n",
       "  0.5513685217808938,\n",
       "  0.5511926709600107,\n",
       "  0.5510058692489587,\n",
       "  0.5509256292565424,\n",
       "  0.5507246349125703,\n",
       "  0.5505046757507283,\n",
       "  0.5503698822267932,\n",
       "  0.5502059146284369,\n",
       "  0.5500730758269242]}"
      ]
     },
     "execution_count": 23,
     "metadata": {},
     "output_type": "execute_result"
    }
   ],
   "source": [
    "history_callback.history  # why is it not lookint at val_loss? this could also explain why the checkpointer didn't see the validation data"
   ]
  },
  {
   "cell_type": "code",
   "execution_count": null,
   "metadata": {},
   "outputs": [],
   "source": []
  },
  {
   "cell_type": "code",
   "execution_count": null,
   "metadata": {},
   "outputs": [],
   "source": []
  },
  {
   "cell_type": "code",
   "execution_count": null,
   "metadata": {},
   "outputs": [],
   "source": []
  },
  {
   "cell_type": "code",
   "execution_count": null,
   "metadata": {},
   "outputs": [],
   "source": []
  },
  {
   "cell_type": "code",
   "execution_count": null,
   "metadata": {},
   "outputs": [],
   "source": []
  },
  {
   "cell_type": "code",
   "execution_count": null,
   "metadata": {},
   "outputs": [],
   "source": []
  },
  {
   "cell_type": "code",
   "execution_count": null,
   "metadata": {},
   "outputs": [],
   "source": []
  },
  {
   "cell_type": "code",
   "execution_count": null,
   "metadata": {},
   "outputs": [],
   "source": [
    "# didn't execute from here onward"
   ]
  },
  {
   "cell_type": "code",
   "execution_count": 1,
   "metadata": {},
   "outputs": [
    {
     "ename": "NameError",
     "evalue": "name 'base_dir' is not defined",
     "output_type": "error",
     "traceback": [
      "\u001b[0;31m---------------------------------------------------------------------------\u001b[0m",
      "\u001b[0;31mNameError\u001b[0m                                 Traceback (most recent call last)",
      "\u001b[0;32m<ipython-input-1-7458dc43a9f8>\u001b[0m in \u001b[0;36m<module>\u001b[0;34m\u001b[0m\n\u001b[0;32m----> 1\u001b[0;31m \u001b[0mimages_directory\u001b[0m \u001b[0;34m=\u001b[0m \u001b[0mbase_dir\u001b[0m \u001b[0;34m+\u001b[0m \u001b[0;34m'/tiny_test16/class0'\u001b[0m\u001b[0;34m\u001b[0m\u001b[0;34m\u001b[0m\u001b[0m\n\u001b[0m\u001b[1;32m      2\u001b[0m \u001b[0mfiles\u001b[0m \u001b[0;34m=\u001b[0m \u001b[0mos\u001b[0m\u001b[0;34m.\u001b[0m\u001b[0mlistdir\u001b[0m\u001b[0;34m(\u001b[0m\u001b[0mimages_directory\u001b[0m\u001b[0;34m)\u001b[0m\u001b[0;34m\u001b[0m\u001b[0;34m\u001b[0m\u001b[0m\n\u001b[1;32m      3\u001b[0m \u001b[0mfiles\u001b[0m\u001b[0;34m.\u001b[0m\u001b[0msort\u001b[0m\u001b[0;34m(\u001b[0m\u001b[0;34m)\u001b[0m\u001b[0;34m\u001b[0m\u001b[0;34m\u001b[0m\u001b[0m\n\u001b[1;32m      4\u001b[0m \u001b[0;34m\u001b[0m\u001b[0m\n\u001b[1;32m      5\u001b[0m \u001b[0mimages\u001b[0m \u001b[0;34m=\u001b[0m \u001b[0;34m[\u001b[0m\u001b[0;34m]\u001b[0m\u001b[0;34m\u001b[0m\u001b[0;34m\u001b[0m\u001b[0m\n",
      "\u001b[0;31mNameError\u001b[0m: name 'base_dir' is not defined"
     ]
    }
   ],
   "source": [
    "images_directory = base_dir + '/tiny_test16/class0'\n",
    "files = os.listdir(images_directory)\n",
    "files.sort()\n",
    "\n",
    "images = []\n",
    "\n",
    "counter = 0\n",
    "\n",
    "for file in files:\n",
    "    counter += 1\n",
    "    if counter > 100:\n",
    "        break\n",
    "    if not file.startswith('.'):\n",
    "        #print(file)\n",
    "        \n",
    "        img = load_img(images_directory + '/' + file, False, target_size=(patch_size, patch_size))\n",
    "        x = img_to_array(img)\n",
    "        \n",
    "        x = np.expand_dims(x, axis=0)\n",
    "        images.append(x)\n",
    "        \n",
    "\n",
    "\n",
    "images = np.array(images).reshape(np.array(images).shape[0], input_shape[0], input_shape[1], input_shape[2])\n",
    "images /= 255\n",
    "predictions = autoencoder.predict_on_batch(np.array(images))\n",
    "print(\"predictions: \")\n",
    "for i, im1 in enumerate(images):\n",
    "    im_1 = im1.reshape(input_shape)\n",
    "    plt.imshow(im_1, interpolation='nearest')\n",
    "    plt.show()\n",
    "    \n",
    "    pred_1 = predictions[i].reshape(input_shape)\n",
    "    plt.imshow(pred_1, interpolation='nearest')\n",
    "    plt.show()\n",
    "    \n",
    "    print(\"next\")\n"
   ]
  },
  {
   "cell_type": "code",
   "execution_count": 13,
   "metadata": {},
   "outputs": [
    {
     "name": "stdout",
     "output_type": "stream",
     "text": [
      "_________________________________________________________________\n",
      "Layer (type)                 Output Shape              Param #   \n",
      "=================================================================\n",
      "input_1 (InputLayer)         (None, 16, 16, 3)         0         \n",
      "_________________________________________________________________\n",
      "conv2d_1 (Conv2D)            (None, 16, 16, 32)        896       \n",
      "_________________________________________________________________\n",
      "conv2d_2 (Conv2D)            (None, 16, 16, 32)        9248      \n",
      "_________________________________________________________________\n",
      "conv2d_3 (Conv2D)            (None, 16, 16, 32)        9248      \n",
      "_________________________________________________________________\n",
      "max_pooling2d_1 (MaxPooling2 (None, 8, 8, 32)          0         \n",
      "_________________________________________________________________\n",
      "max_pooling2d_2 (MaxPooling2 (None, 4, 4, 32)          0         \n",
      "_________________________________________________________________\n",
      "max_pooling2d_3 (MaxPooling2 (None, 2, 2, 32)          0         \n",
      "=================================================================\n",
      "Total params: 19,392\n",
      "Trainable params: 19,392\n",
      "Non-trainable params: 0\n",
      "_________________________________________________________________\n"
     ]
    }
   ],
   "source": [
    "encoder = Model(input_img, encoded)\n",
    "for layer in encoder.layers:\n",
    "    encoder.get_layer(layer.name).set_weights(autoencoder.get_layer(layer.name).get_weights())\n",
    "encoder.summary()\n",
    "\n",
    "encoder.save(base_dir + '/encoder' + model_version + '.h5')"
   ]
  },
  {
   "cell_type": "code",
   "execution_count": 19,
   "metadata": {},
   "outputs": [],
   "source": [
    "code_shape = (8, 2, 2)\n",
    "\n",
    "images_directory = base_dir + '/tiny_test16/class0'\n",
    "files = os.listdir(images_directory)\n",
    "files.sort()\n",
    "\n",
    "images = []\n",
    "\n",
    "counter = 0\n",
    "\n",
    "for file in files:\n",
    "    counter += 1\n",
    "#     if counter > 100:\n",
    "#         break\n",
    "    if not file.startswith('.'):\n",
    "        #print(file)\n",
    "        \n",
    "        img = load_img(images_directory + '/' + file, False, target_size=(patch_size, patch_size))\n",
    "        x = img_to_array(img)\n",
    "        x = np.expand_dims(x, axis=0)\n",
    "        images.append(x)\n",
    "        \n",
    "\n",
    "\n",
    "images = np.array(images).reshape(np.array(images).shape[0], input_shape[0], input_shape[1], input_shape[2]) #patch_size, patch_size, 3\n",
    "images /= 255\n",
    "predictions = encoder.predict_on_batch(np.array(images))\n",
    "# print(\"predictions: \")\n",
    "\n",
    "# for i, im1 in enumerate(images):\n",
    "#     im_1 = im1.reshape(input_shape)\n",
    "#     plt.imshow(im_1, interpolation='nearest')\n",
    "#     plt.show()\n",
    "    \n",
    "#     pred_1 = predictions[i].reshape(code_shape)\n",
    "#     plt.imshow(pred_1, interpolation='nearest')\n",
    "#     plt.show()\n",
    "    \n",
    "#     print(\"next\")"
   ]
  },
  {
   "cell_type": "code",
   "execution_count": null,
   "metadata": {},
   "outputs": [],
   "source": []
  },
  {
   "cell_type": "code",
   "execution_count": null,
   "metadata": {},
   "outputs": [],
   "source": []
  },
  {
   "cell_type": "code",
   "execution_count": null,
   "metadata": {},
   "outputs": [],
   "source": []
  },
  {
   "cell_type": "code",
   "execution_count": null,
   "metadata": {},
   "outputs": [],
   "source": []
  }
 ],
 "metadata": {
  "kernelspec": {
   "display_name": "tf_2",
   "language": "python",
   "name": "tensorflow"
  },
  "language_info": {
   "codemirror_mode": {
    "name": "ipython",
    "version": 3
   },
   "file_extension": ".py",
   "mimetype": "text/x-python",
   "name": "python",
   "nbconvert_exporter": "python",
   "pygments_lexer": "ipython3",
   "version": "3.7.3"
  }
 },
 "nbformat": 4,
 "nbformat_minor": 2
}
