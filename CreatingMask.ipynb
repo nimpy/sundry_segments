{
 "cells": [
  {
   "cell_type": "code",
   "execution_count": 1,
   "metadata": {},
   "outputs": [],
   "source": [
    "import numpy as np\n",
    "import matplotlib.pyplot as plt\n",
    "import imageio\n",
    "import random"
   ]
  },
  {
   "cell_type": "code",
   "execution_count": 4,
   "metadata": {},
   "outputs": [],
   "source": [
    "img_size = 128\n",
    "\n",
    "img_width, img_height = img_size, img_size\n",
    "file_path = '/home/niaki/Code/inpynting_images/building/mask128_ULcorner.jpg'"
   ]
  },
  {
   "cell_type": "code",
   "execution_count": 5,
   "metadata": {},
   "outputs": [
    {
     "data": {
      "image/png": "[encoded data removed]",
      "text/plain": [
       "<Figure size 432x288 with 1 Axes>"
      ]
     },
     "metadata": {},
     "output_type": "display_data"
    },
    {
     "name": "stdout",
     "output_type": "stream",
     "text": [
      "0\n"
     ]
    }
   ],
   "source": [
    "# for imageio.imwrite:\n",
    "# if it's not uint8 but (some) float, and values are in [0,1], then there's lossy conversion\n",
    "# if it's not uint8 but (some) float, and values are in [0,256), then there's warning\n",
    "\n",
    "\n",
    "#for matplotlib.pyplot:\n",
    "#need values to be in [0,256) for it to show nicely\n",
    "img = np.zeros((img_height, img_width, 3), dtype = np.uint8)\n",
    "\n",
    "counter = 0\n",
    "for j in range(512):\n",
    "    for i in range(512):\n",
    "        temp = 1\n",
    "        #img[i, j] = 255\n",
    "#         if random.random()<0.001:\n",
    "#             img[i, j] = 255\n",
    "#             counter += 1\n",
    "            \n",
    "#             x_range = random.randrange(20)\n",
    "#             y_range = random.randrange(20)\n",
    "            \n",
    "#             for y in range (j - y_range, j + y_range):\n",
    "#                 for x in range (i - x_range, i + x_range):\n",
    "#                     if (x < 512) and (y < 512):\n",
    "#                         img[x, y] = 255\n",
    "\n",
    "# for j in range(2*14, 2*26):\n",
    "#     for i in range(2*30, 2*36):\n",
    "#         img[i, j] = 255\n",
    "\n",
    "\n",
    "\n",
    "\n",
    "for j in range(17, 37):\n",
    "    for i in range(19, 39):\n",
    "        img[i, j] = 255\n",
    "\n",
    "plt.imshow(img, interpolation='nearest')\n",
    "plt.show()\n",
    "\n",
    "imageio.imwrite(file_path, img)\n",
    "print(counter)"
   ]
  },
  {
   "cell_type": "code",
   "execution_count": null,
   "metadata": {},
   "outputs": [],
   "source": []
  }
 ],
 "metadata": {
  "kernelspec": {
   "display_name": "Python 3",
   "language": "python",
   "name": "python3"
  },
  "language_info": {
   "codemirror_mode": {
    "name": "ipython",
    "version": 3
   },
   "file_extension": ".py",
   "mimetype": "text/x-python",
   "name": "python",
   "nbconvert_exporter": "python",
   "pygments_lexer": "ipython3",
   "version": "3.7.3"
  }
 },
 "nbformat": 4,
 "nbformat_minor": 2
}
