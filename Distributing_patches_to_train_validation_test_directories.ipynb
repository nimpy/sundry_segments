{
 "cells": [
  {
   "cell_type": "code",
   "execution_count": 2,
   "metadata": {},
   "outputs": [],
   "source": [
    "from os import listdir\n",
    "from os import system\n",
    "import os\n",
    "import random"
   ]
  },
  {
   "cell_type": "code",
   "execution_count": 4,
   "metadata": {},
   "outputs": [],
   "source": [
    "directory_base = '/scratch/data/test_images_for_inpainting/'\n",
    "\n",
    "directory_all = directory_base + '/all'\n",
    "\n",
    "directory_train = directory_base + '/train/class0'\n",
    "directory_validation = directory_base + '/validation/class0'\n",
    "directory_test = directory_base + '/test/class0'\n",
    "\n",
    "os.system('mkdir ' + directory_base + '/train')\n",
    "os.system('mkdir ' + directory_base + '/validation')\n",
    "os.system('mkdir ' + directory_base + '/test')\n",
    "\n",
    "os.system('mkdir ' + directory_train)\n",
    "os.system('mkdir ' + directory_validation)\n",
    "os.system('mkdir ' + directory_test)\n",
    "\n",
    "\n",
    "files = os.listdir(directory_all)\n",
    "files_count = len(files)\n",
    "\n",
    "random.shuffle(files)\n",
    "\n",
    "cutoff1 = int(files_count * 0.8) # 40000 # int(files_count * 0.8)\n",
    "cutoff2 = int(files_count * 0.9) # 40000 + 5000 # int(files_count * 0.9)\n",
    "cutoff3 = files_count # 40000 + 5000 + 5000 # files_count\n",
    "\n",
    "\n",
    "print(\"train\")\n",
    "for i in range(cutoff1):\n",
    "    os.system(\"mv \" + directory_all + \"/\" + files[i] + \" \" + directory_train + \"/\" + files[i])\n",
    "\n",
    "print(\"validation\")\n",
    "for i in range(cutoff1, cutoff2):\n",
    "    os.system(\"mv \" + directory_all + \"/\" + files[i] + \" \" + directory_validation + \"/\" + files[i])\n",
    "    \n",
    "print(\"test\")\n",
    "for i in range(cutoff2, cutoff3):\n",
    "    os.system(\"mv \" + directory_all + \"/\" + files[i] + \" \" + directory_test + \"/\" + files[i])\n"
   ]
  },
  {
   "cell_type": "code",
   "execution_count": null,
   "metadata": {},
   "outputs": [],
   "source": []
  }
 ],
 "metadata": {
  "kernelspec": {
   "display_name": "Python 3",
   "language": "python",
   "name": "python3"
  },
  "language_info": {
   "codemirror_mode": {
    "name": "ipython",
    "version": 3
   },
   "file_extension": ".py",
   "mimetype": "text/x-python",
   "name": "python",
   "nbconvert_exporter": "python",
   "pygments_lexer": "ipython3",
   "version": "3.7.3"
  }
 },
 "nbformat": 4,
 "nbformat_minor": 2
}
