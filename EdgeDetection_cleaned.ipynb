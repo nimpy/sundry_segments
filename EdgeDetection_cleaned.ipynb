{
 "cells": [
  {
   "cell_type": "code",
   "execution_count": 1,
   "metadata": {},
   "outputs": [],
   "source": [
    "import cv2\n",
    "import imageio\n",
    "import matplotlib.pyplot as plt\n",
    "import numpy as np"
   ]
  },
  {
   "cell_type": "code",
   "execution_count": 79,
   "metadata": {},
   "outputs": [],
   "source": [
    "jian_number = '10'\n",
    "folder_path = '/home/niaki/Code/inpynting_images/Tijana/Jian' + jian_number + '_uint8'\n",
    "image_filename = 'Jian' + jian_number + '_degra.png'\n",
    "mask_filename = 'Jian' + jian_number + 'Mask_inverted.png'\n",
    "edges_filename = 'Jian' + jian_number + '_degra_edges.png'\n",
    "\n",
    "image = imageio.imread(folder_path + '/' + image_filename)\n",
    "mask = imageio.imread(folder_path + '/' + mask_filename)"
   ]
  },
  {
   "cell_type": "code",
   "execution_count": 82,
   "metadata": {},
   "outputs": [],
   "source": [
    "thresh = 500\n",
    "edges = cv2.Canny(image, thresh/3, thresh)  # 50, 200"
   ]
  },
  {
   "cell_type": "code",
   "execution_count": 83,
   "metadata": {},
   "outputs": [
    {
     "data": {
      "text/plain": [
       "<matplotlib.image.AxesImage at 0x7f7e602c39e8>"
      ]
     },
     "execution_count": 83,
     "metadata": {},
     "output_type": "execute_result"
    },
    {
     "data": {
      "image/png": "[encoded data removed]",
      "text/plain": [
       "<Figure size 432x288 with 1 Axes>"
      ]
     },
     "metadata": {
      "needs_background": "light"
     },
     "output_type": "display_data"
    }
   ],
   "source": [
    "plt.imshow(edges)"
   ]
  },
  {
   "cell_type": "code",
   "execution_count": 84,
   "metadata": {},
   "outputs": [],
   "source": [
    "for i in range(edges.shape[0]):\n",
    "    for j in range(edges.shape[1]):\n",
    "        if edges[i,j] == 255:\n",
    "            if mask[i,j,0] == 255 or mask[min(i+1, mask.shape[0]-1),j,0] == 255 or mask[max(i-1, 0),j,0] == 255 or mask[i,min(j+1, mask.shape[1]-1),0] == 255 or mask[i,min(j-1, 0),0] == 255: # \\\n",
    "#                         or mask[min(i+2, mask.shape[0]-1),j,0] == 255 or mask[max(i-2, 0),j,0] == 255 or mask[i,min(j+2, mask.shape[1]-1),0] == 255 or mask[i,min(j-2, 0),0] == 255:\n",
    "                edges[i,j] = 0"
   ]
  },
  {
   "cell_type": "code",
   "execution_count": 85,
   "metadata": {},
   "outputs": [
    {
     "data": {
      "text/plain": [
       "<matplotlib.image.AxesImage at 0x7f7e6029b9b0>"
      ]
     },
     "execution_count": 85,
     "metadata": {},
     "output_type": "execute_result"
    },
    {
     "data": {
      "image/png": "[encoded data removed]",
      "text/plain": [
       "<Figure size 432x288 with 1 Axes>"
      ]
     },
     "metadata": {
      "needs_background": "light"
     },
     "output_type": "display_data"
    }
   ],
   "source": [
    "plt.imshow(edges)"
   ]
  },
  {
   "cell_type": "code",
   "execution_count": 86,
   "metadata": {},
   "outputs": [],
   "source": [
    "imageio.imwrite(folder_path + '/' + edges_filename, edges)"
   ]
  },
  {
   "cell_type": "code",
   "execution_count": null,
   "metadata": {},
   "outputs": [],
   "source": []
  },
  {
   "cell_type": "code",
   "execution_count": null,
   "metadata": {},
   "outputs": [],
   "source": []
  },
  {
   "cell_type": "code",
   "execution_count": null,
   "metadata": {},
   "outputs": [],
   "source": []
  },
  {
   "cell_type": "code",
   "execution_count": 32,
   "metadata": {},
   "outputs": [],
   "source": [
    "# for i in range(edges.shape[0]):\n",
    "#     for j in range(edges.shape[1]):\n",
    "#         if mask[i,j,0] == 255 and edges[i,j] == 255:\n",
    "#             edges[i,j] = 0"
   ]
  }
 ],
 "metadata": {
  "kernelspec": {
   "display_name": "Python (cv)",
   "language": "python",
   "name": "cv"
  },
  "language_info": {
   "codemirror_mode": {
    "name": "ipython",
    "version": 3
   },
   "file_extension": ".py",
   "mimetype": "text/x-python",
   "name": "python",
   "nbconvert_exporter": "python",
   "pygments_lexer": "ipython3",
   "version": "3.7.3"
  }
 },
 "nbformat": 4,
 "nbformat_minor": 2
}
