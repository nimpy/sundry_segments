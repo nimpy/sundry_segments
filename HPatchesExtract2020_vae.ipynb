{
 "cells": [
  {
   "cell_type": "code",
   "execution_count": null,
   "metadata": {},
   "outputs": [],
   "source": [
    "#works with cv virtual environment"
   ]
  },
  {
   "cell_type": "code",
   "execution_count": 1,
   "metadata": {},
   "outputs": [
    {
     "name": "stderr",
     "output_type": "stream",
     "text": [
      "Using Theano backend.\n",
      "WARNING (theano.configdefaults): install mkl with `conda install mkl-service`: No module named mkl\n"
     ]
    }
   ],
   "source": [
    "import numpy as np\n",
    "import tensorflow as tf\n",
    "from tensorflow import keras\n",
    "from tensorflow.keras import layers\n",
    "from keras.models import Model, load_model\n",
    "from keras.preprocessing.image import ImageDataGenerator, load_img\n",
    "\n",
    "import numpy as np\n",
    "import matplotlib.pyplot as plt\n",
    "\n",
    "from os import listdir\n",
    "from os import system\n",
    "import os\n",
    "import random\n",
    "\n",
    "import imageio\n",
    "\n",
    "import sys\n",
    "import glob\n",
    "import cv2"
   ]
  },
  {
   "cell_type": "code",
   "execution_count": 2,
   "metadata": {},
   "outputs": [],
   "source": [
    "folder_path = '/home/niaki/Code/hpatches/hpatches-benchmark/data/hpatches-release'\n",
    "patch_size = 65"
   ]
  },
  {
   "cell_type": "code",
   "execution_count": 3,
   "metadata": {},
   "outputs": [],
   "source": [
    "# all types of patches \n",
    "tps = ['ref','e1','e2','e3','e4','e5','h1','h2','h3','h4','h5',\\\n",
    "       't1','t2','t3','t4','t5']\n",
    "\n",
    "class hpatches_sequence:\n",
    "    \"\"\"Class for loading an HPatches sequence from a sequence folder\"\"\"\n",
    "    itr = tps\n",
    "    def __init__(self,base):\n",
    "        name = base.split('/')\n",
    "        self.name = name[-1]\n",
    "        self.base = base\n",
    "        for t in self.itr:\n",
    "            im_path = os.path.join(base, t+'.png')\n",
    "            im = cv2.imread(im_path,0)\n",
    "            self.N = im.shape[0]/patch_size\n",
    "            setattr(self, t, np.split(im, self.N))"
   ]
  },
  {
   "cell_type": "code",
   "execution_count": 4,
   "metadata": {},
   "outputs": [],
   "source": [
    "seqs = glob.glob(folder_path+'/*')\n",
    "seqs = [os.path.abspath(p) for p in seqs]"
   ]
  },
  {
   "cell_type": "code",
   "execution_count": 5,
   "metadata": {},
   "outputs": [
    {
     "data": {
      "text/plain": [
       "116"
      ]
     },
     "execution_count": 5,
     "metadata": {},
     "output_type": "execute_result"
    }
   ],
   "source": [
    "len(seqs)"
   ]
  },
  {
   "cell_type": "code",
   "execution_count": 6,
   "metadata": {},
   "outputs": [],
   "source": [
    "descr_name = 'vae_0.0.0.9'\n",
    "base_dir = '/home/niaki/Code/sundry_segments/weights'\n",
    "model_version = '0.0.0.9_lr0.0001_50moreepochs'\n",
    "vae_patch_size = 56"
   ]
  },
  {
   "cell_type": "code",
   "execution_count": 7,
   "metadata": {},
   "outputs": [],
   "source": [
    "class Sampling(layers.Layer):\n",
    "    \"\"\"Uses (z_mean, z_log_var) to sample z, the vector encoding a digit.\"\"\"\n",
    "\n",
    "    def call(self, inputs):\n",
    "        z_mean, z_log_var = inputs\n",
    "        batch = tf.shape(z_mean)[0]\n",
    "        dim = tf.shape(z_mean)[1]\n",
    "        epsilon = tf.keras.backend.random_normal(shape=(batch, dim))\n",
    "        return z_mean + tf.exp(0.5 * z_log_var) * epsilon"
   ]
  },
  {
   "cell_type": "code",
   "execution_count": 8,
   "metadata": {},
   "outputs": [
    {
     "name": "stdout",
     "output_type": "stream",
     "text": [
      "__________________________________________________________________________________________________\n",
      "Layer (type)                    Output Shape         Param #     Connected to                     \n",
      "==================================================================================================\n",
      "input_1 (InputLayer)            (None, 56, 56, 1)    0                                            \n",
      "__________________________________________________________________________________________________\n",
      "conv2d (Conv2D)                 (None, 28, 28, 32)   320         input_1[0][0]                    \n",
      "__________________________________________________________________________________________________\n",
      "conv2d_1 (Conv2D)               (None, 14, 14, 64)   18496       conv2d[0][0]                     \n",
      "__________________________________________________________________________________________________\n",
      "conv2d_2 (Conv2D)               (None, 7, 7, 64)     36928       conv2d_1[0][0]                   \n",
      "__________________________________________________________________________________________________\n",
      "flatten (Flatten)               (None, 3136)         0           conv2d_2[0][0]                   \n",
      "__________________________________________________________________________________________________\n",
      "dense (Dense)                   (None, 256)          803072      flatten[0][0]                    \n",
      "__________________________________________________________________________________________________\n",
      "z_mean (Dense)                  (None, 128)          32896       dense[0][0]                      \n",
      "__________________________________________________________________________________________________\n",
      "z_log_var (Dense)               (None, 128)          32896       dense[0][0]                      \n",
      "__________________________________________________________________________________________________\n",
      "sampling (Sampling)             (None, 128)          0           z_mean[0][0]                     \n",
      "                                                                 z_log_var[0][0]                  \n",
      "==================================================================================================\n",
      "Total params: 924,608\n",
      "Trainable params: 924,608\n",
      "Non-trainable params: 0\n",
      "__________________________________________________________________________________________________\n"
     ]
    }
   ],
   "source": [
    "latent_dim = 128\n",
    "\n",
    "encoder_inputs = keras.Input(shape=(vae_patch_size, vae_patch_size, 1))\n",
    "x = layers.Conv2D(32, 3, activation=\"relu\", strides=2, padding=\"same\")(encoder_inputs)\n",
    "x = layers.Conv2D(64, 3, activation=\"relu\", strides=2, padding=\"same\")(x)\n",
    "x = layers.Conv2D(64, 3, activation=\"relu\", strides=2, padding=\"same\")(x)\n",
    "x = layers.Flatten()(x)\n",
    "x = layers.Dense(256, activation=\"relu\")(x)\n",
    "z_mean = layers.Dense(latent_dim, name=\"z_mean\")(x)\n",
    "z_log_var = layers.Dense(latent_dim, name=\"z_log_var\")(x)\n",
    "z = Sampling()([z_mean, z_log_var])\n",
    "encoder = keras.Model(encoder_inputs, [z_mean, z_log_var, z], name=\"encoder\")\n",
    "encoder.summary()"
   ]
  },
  {
   "cell_type": "code",
   "execution_count": 9,
   "metadata": {},
   "outputs": [
    {
     "name": "stdout",
     "output_type": "stream",
     "text": [
      "_________________________________________________________________\n",
      "Layer (type)                 Output Shape              Param #   \n",
      "=================================================================\n",
      "input_2 (InputLayer)         (None, 128)               0         \n",
      "_________________________________________________________________\n",
      "dense_1 (Dense)              (None, 3136)              404544    \n",
      "_________________________________________________________________\n",
      "reshape (Reshape)            (None, 7, 7, 64)          0         \n",
      "_________________________________________________________________\n",
      "conv2d_transpose (Conv2DTran (None, 14, 14, 64)        36928     \n",
      "_________________________________________________________________\n",
      "conv2d_transpose_1 (Conv2DTr (None, 28, 28, 64)        36928     \n",
      "_________________________________________________________________\n",
      "conv2d_transpose_2 (Conv2DTr (None, 56, 56, 32)        18464     \n",
      "_________________________________________________________________\n",
      "conv2d_transpose_3 (Conv2DTr (None, 56, 56, 1)         289       \n",
      "=================================================================\n",
      "Total params: 497,153\n",
      "Trainable params: 497,153\n",
      "Non-trainable params: 0\n",
      "_________________________________________________________________\n"
     ]
    }
   ],
   "source": [
    "latent_inputs = keras.Input(shape=(latent_dim,))\n",
    "x = layers.Dense(7 * 7 * 64, activation=\"relu\")(latent_inputs)\n",
    "x = layers.Reshape((7, 7, 64))(x)\n",
    "x = layers.Conv2DTranspose(64, 3, activation=\"relu\", strides=2, padding=\"same\")(x)\n",
    "x = layers.Conv2DTranspose(64, 3, activation=\"relu\", strides=2, padding=\"same\")(x)\n",
    "x = layers.Conv2DTranspose(32, 3, activation=\"relu\", strides=2, padding=\"same\")(x)\n",
    "decoder_outputs = layers.Conv2DTranspose(1, 3, activation=\"sigmoid\", padding=\"same\")(x)\n",
    "decoder = keras.Model(latent_inputs, decoder_outputs, name=\"decoder\")\n",
    "decoder.summary()"
   ]
  },
  {
   "cell_type": "code",
   "execution_count": 10,
   "metadata": {},
   "outputs": [],
   "source": [
    "class VAE(keras.Model):\n",
    "    def __init__(self, encoder, decoder, **kwargs):\n",
    "        super(VAE, self).__init__(**kwargs)\n",
    "        self.encoder = encoder\n",
    "        self.decoder = decoder\n",
    "\n",
    "    def train_step(self, data):\n",
    "        if isinstance(data, tuple):\n",
    "            data = data[0]\n",
    "        with tf.GradientTape() as tape:\n",
    "            z_mean, z_log_var, z = encoder(data)\n",
    "            reconstruction = decoder(z)\n",
    "            reconstruction_loss = tf.reduce_mean(\n",
    "                keras.losses.binary_crossentropy(data, reconstruction)\n",
    "            )\n",
    "            reconstruction_loss *= 28 * 28\n",
    "            kl_loss = 1 + z_log_var - tf.square(z_mean) - tf.exp(z_log_var)\n",
    "            kl_loss = tf.reduce_mean(kl_loss)\n",
    "            kl_loss *= -0.5\n",
    "            total_loss = reconstruction_loss + kl_loss\n",
    "        grads = tape.gradient(total_loss, self.trainable_weights)\n",
    "        self.optimizer.apply_gradients(zip(grads, self.trainable_weights))\n",
    "        return {\n",
    "            \"loss\": total_loss,\n",
    "            \"reconstruction_loss\": reconstruction_loss,\n",
    "            \"kl_loss\": kl_loss,\n",
    "        }"
   ]
  },
  {
   "cell_type": "code",
   "execution_count": 11,
   "metadata": {},
   "outputs": [],
   "source": [
    "vae = VAE(encoder, decoder)\n",
    "vae.compile(optimizer=keras.optimizers.Adam())"
   ]
  },
  {
   "cell_type": "code",
   "execution_count": 12,
   "metadata": {},
   "outputs": [],
   "source": [
    "vae.load_weights(base_dir + '/vae_' + model_version + '.h5')"
   ]
  },
  {
   "cell_type": "code",
   "execution_count": 13,
   "metadata": {},
   "outputs": [
    {
     "name": "stdout",
     "output_type": "stream",
     "text": [
      "[(None, 128), (None, 128), (None, 128)]\n"
     ]
    }
   ],
   "source": [
    "print(encoder.output_shape)"
   ]
  },
  {
   "cell_type": "code",
   "execution_count": null,
   "metadata": {},
   "outputs": [],
   "source": []
  },
  {
   "cell_type": "code",
   "execution_count": null,
   "metadata": {},
   "outputs": [],
   "source": [
    "# for seq_path in seqs:\n",
    "#     seq = hpatches_sequence(seq_path)\n",
    "#     path = os.path.join(descr_name,seq.name)\n",
    "#     if not os.path.exists(path):\n",
    "#         os.makedirs(path)\n",
    "#     descr = np.zeros((seq.N,2)) # trivial (mi,sigma) descriptor\n",
    "#     for tp in tps:\n",
    "#         print(seq.name+'/'+tp)\n",
    "#         for i,patch in enumerate(getattr(seq, tp)):\n",
    "#             mi = np.mean(patch) # trivial (mi,sigma) descriptor\n",
    "#             sigma = np.std(patch) # trivial (mi,sigma) descriptor\n",
    "#             descr[i] = np.array([mi,sigma])\n",
    "#         np.savetxt(os.path.join(path,tp+'.csv'), descr, delimiter=',') # X is an array"
   ]
  },
  {
   "cell_type": "code",
   "execution_count": 14,
   "metadata": {
    "scrolled": false
   },
   "outputs": [
    {
     "name": "stdout",
     "output_type": "stream",
     "text": [
      "i_kurhaus\n",
      "i_veggies\n",
      "i_fruits\n",
      "v_grace\n",
      "v_bark\n",
      "i_boutique\n",
      "v_tempera\n",
      "i_dome\n",
      "v_busstop\n",
      "v_vitro\n",
      "v_bip\n",
      "v_strand\n",
      "i_salon\n",
      "i_brooklyn\n",
      "i_steps\n",
      "v_samples\n",
      "v_dirtywall\n",
      "i_bologna\n",
      "i_fenis\n",
      "v_wormhole\n",
      "v_posters\n",
      "i_londonbridge\n",
      "i_indiana\n",
      "i_objects\n",
      "i_nijmegen\n",
      "v_cartooncity\n",
      "i_fog\n",
      "v_yard\n",
      "i_tools\n",
      "i_nescafe\n",
      "i_gonnenberg\n",
      "v_gardens\n",
      "i_lionnight\n",
      "v_home\n",
      "i_autannes\n",
      "i_whitebuilding\n",
      "v_wall\n",
      "i_smurf\n",
      "v_yuri\n",
      "i_kions\n",
      "i_greentea\n",
      "i_pinard\n",
      "v_bricks\n",
      "v_charing\n",
      "v_artisans\n",
      "v_there\n",
      "v_wounded\n",
      "v_soldiers\n",
      "v_bees\n",
      "i_zion\n",
      "i_porta\n",
      "v_fest\n",
      "v_calder\n",
      "v_machines\n",
      "i_yellowtent\n",
      "v_sunseason\n",
      "i_resort\n",
      "i_leuven\n",
      "i_crownday\n",
      "i_village\n",
      "v_dogman\n",
      "i_ktirio\n",
      "v_blueprint\n",
      "i_ajuntament\n",
      "i_bridger\n",
      "i_greenhouse\n",
      "v_london\n",
      "i_books\n",
      "i_chestnuts\n",
      "v_courses\n",
      "v_boat\n",
      "v_coffeehouse\n",
      "i_crownnight\n",
      "i_toy\n",
      "v_astronautis\n",
      "i_dc\n",
      "i_nuts\n",
      "v_abstract\n",
      "i_ski\n",
      "i_santuario\n",
      "v_beyus\n",
      "v_tabletop\n",
      "v_underground\n",
      "v_feast\n",
      "i_lionday\n",
      "v_weapons\n",
      "v_bird\n",
      "v_maskedman\n",
      "i_table\n",
      "v_adam\n",
      "i_parking\n",
      "v_laptop\n",
      "v_churchill\n",
      "i_pool\n",
      "i_castle\n",
      "i_melon\n",
      "i_contruction\n",
      "v_wapping\n",
      "v_talent\n",
      "i_miniature\n",
      "v_man\n",
      "v_apprentices\n",
      "v_eastsouth\n",
      "v_azzola\n",
      "i_partyfood\n",
      "v_colors\n",
      "i_school\n",
      "v_war\n",
      "v_graffiti\n",
      "i_duda\n",
      "v_woman\n",
      "i_pencils\n",
      "v_birdwoman\n",
      "i_troulos\n",
      "v_pomegranate\n",
      "v_circus\n"
     ]
    }
   ],
   "source": [
    "for seq_path in seqs:\n",
    "    seq = hpatches_sequence(seq_path)\n",
    "    path = os.path.join(\"hpatches_extracted_descrs\", descr_name, seq.name)\n",
    "    if not os.path.exists(path):\n",
    "        os.makedirs(path)\n",
    "\n",
    "    descr_size_per_patch = 128\n",
    "    descr = np.zeros((seq.N,descr_size_per_patch)) # trivial (mi,sigma) descriptor   \n",
    "    print(seq.name)\n",
    "    for tp in tps:\n",
    "#         print(seq.name+'/'+tp)\n",
    "        for i,patch in enumerate(getattr(seq, tp)):\n",
    "            patch = patch / 255.0\n",
    "#             print(patch)\n",
    "            patch_crop = patch[4: 60, 4: 60]\n",
    "            patch_crop_encoded = encoder.predict(np.expand_dims(np.expand_dims(patch_crop, axis=-1), axis=0))\n",
    "            patch_crop_encoded_flat = patch_crop_encoded[2].flatten()\n",
    "#             print(patch_crop.shape)\n",
    "#             print(patch_crop_encoded[2].shape)\n",
    "#             print(patch_crop_encoded_flat.shape)\n",
    "#             print()\n",
    "            descr[i] = patch_crop_encoded_flat\n",
    "        np.savetxt(os.path.join(path,tp+'.csv'), descr, delimiter=',') # X is an array"
   ]
  },
  {
   "cell_type": "code",
   "execution_count": null,
   "metadata": {},
   "outputs": [],
   "source": []
  }
 ],
 "metadata": {
  "kernelspec": {
   "display_name": "Python [conda env:cv]",
   "language": "python",
   "name": "conda-env-cv-py"
  },
  "language_info": {
   "codemirror_mode": {
    "name": "ipython",
    "version": 2
   },
   "file_extension": ".py",
   "mimetype": "text/x-python",
   "name": "python",
   "nbconvert_exporter": "python",
   "pygments_lexer": "ipython2",
   "version": "2.7.15"
  }
 },
 "nbformat": 4,
 "nbformat_minor": 2
}
