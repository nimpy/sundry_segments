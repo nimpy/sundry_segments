{
 "cells": [
  {
   "cell_type": "code",
   "execution_count": null,
   "metadata": {},
   "outputs": [],
   "source": [
    "#works with cv virtual environment"
   ]
  },
  {
   "cell_type": "code",
   "execution_count": 1,
   "metadata": {},
   "outputs": [],
   "source": [
    "import numpy as np\n",
    "import tensorflow as tf\n",
    "from tensorflow import keras\n",
    "from tensorflow.keras import layers\n",
    "from tensorflow.keras.models import Model, load_model\n",
    "from tensorflow.keras.preprocessing.image import ImageDataGenerator, load_img\n",
    "\n",
    "import numpy as np\n",
    "import matplotlib.pyplot as plt\n",
    "\n",
    "from os import listdir\n",
    "from os import system\n",
    "import os\n",
    "import random\n",
    "\n",
    "import imageio\n",
    "\n",
    "import sys\n",
    "import glob\n",
    "import cv2\n",
    "\n",
    "import pickle"
   ]
  },
  {
   "cell_type": "code",
   "execution_count": 2,
   "metadata": {},
   "outputs": [],
   "source": [
    "# import sys\n",
    "# import glob\n",
    "# import os\n",
    "# import cv2\n",
    "# import numpy as np\n",
    "\n",
    "# from keras.layers import Input, Dense, Convolution2D, MaxPooling2D, UpSampling2D, Conv2D\n",
    "# from keras.models import Model, load_model\n",
    "# from keras.preprocessing.image import ImageDataGenerator, img_to_array, load_img\n",
    "# from keras import backend as K\n",
    "# import keras"
   ]
  },
  {
   "cell_type": "code",
   "execution_count": 3,
   "metadata": {},
   "outputs": [],
   "source": [
    "folder_path = '/home/niaki/Code/hpatches/hpatches-benchmark/data/hpatches-release'\n",
    "patch_size = 65"
   ]
  },
  {
   "cell_type": "code",
   "execution_count": 30,
   "metadata": {},
   "outputs": [],
   "source": [
    "# all types of patches \n",
    "tps = ['ref','e1','e2','e3','e4','e5','h1','h2','h3','h4','h5',\\\n",
    "       't1','t2','t3','t4','t5']\n",
    "\n",
    "class hpatches_sequence:\n",
    "    \"\"\"Class for loading an HPatches sequence from a sequence folder\"\"\"\n",
    "    itr = tps\n",
    "    def __init__(self,base):\n",
    "        name = base.split('/')\n",
    "        self.name = name[-1]\n",
    "        self.base = base\n",
    "        for t in self.itr:\n",
    "            im_path = os.path.join(base, t+'.png')\n",
    "            im = cv2.imread(im_path,0)\n",
    "#             print(im.shape)\n",
    "#             print(im[0,0])\n",
    "#             print(type(im[0,0]))\n",
    "            im_imageio = imageio.imread(im_path)\n",
    "#             print(im_imageio.shape)\n",
    "#             print(im_imageio[0,0])\n",
    "#             print(type(im_imageio[0,0]))\n",
    "            print(np.array_equal(im, im_imageio))\n",
    "#             print()\n",
    "            \n",
    "            self.N = im.shape[0]/patch_size\n",
    "            setattr(self, t, np.split(im, self.N))"
   ]
  },
  {
   "cell_type": "code",
   "execution_count": 5,
   "metadata": {},
   "outputs": [],
   "source": [
    "seqs = glob.glob(folder_path+'/*')\n",
    "seqs = [os.path.abspath(p) for p in seqs]"
   ]
  },
  {
   "cell_type": "code",
   "execution_count": 6,
   "metadata": {},
   "outputs": [
    {
     "data": {
      "text/plain": [
       "116"
      ]
     },
     "execution_count": 6,
     "metadata": {},
     "output_type": "execute_result"
    }
   ],
   "source": [
    "len(seqs)"
   ]
  },
  {
   "cell_type": "code",
   "execution_count": null,
   "metadata": {},
   "outputs": [],
   "source": []
  },
  {
   "cell_type": "code",
   "execution_count": 7,
   "metadata": {},
   "outputs": [],
   "source": [
    "def unpickle_vars(pickle_file_path):\n",
    "    try:\n",
    "        variables = pickle.load(open(pickle_file_path, \"rb\"))\n",
    "        return variables\n",
    "    except Exception as e:\n",
    "        print(\"Problem while trying to unpickle: \", str(e))\n",
    "        return None"
   ]
  },
  {
   "cell_type": "code",
   "execution_count": null,
   "metadata": {},
   "outputs": [],
   "source": []
  },
  {
   "cell_type": "code",
   "execution_count": 8,
   "metadata": {},
   "outputs": [],
   "source": [
    "descr_name = 'vae_0.0.0.4'\n",
    "base_dir = '/home/niaki/Code/sundry_segments/weights'\n",
    "model_version = '0.0.0.4_dataaug_300moreepoch'\n",
    "vae_patch_size = 56"
   ]
  },
  {
   "cell_type": "code",
   "execution_count": 9,
   "metadata": {},
   "outputs": [],
   "source": [
    "latent_dim = 128"
   ]
  },
  {
   "cell_type": "code",
   "execution_count": 10,
   "metadata": {},
   "outputs": [],
   "source": [
    "class Sampling(layers.Layer):\n",
    "    \"\"\"Uses (z_mean, z_log_var) to sample z, the vector encoding a digit.\"\"\"\n",
    "\n",
    "    def call(self, inputs):\n",
    "        z_mean, z_log_var = inputs\n",
    "        batch = tf.shape(z_mean)[0]\n",
    "        dim = tf.shape(z_mean)[1]\n",
    "        epsilon = tf.keras.backend.random_normal(shape=(batch, dim))\n",
    "        return z_mean + tf.exp(0.5 * z_log_var) * epsilon"
   ]
  },
  {
   "cell_type": "code",
   "execution_count": null,
   "metadata": {},
   "outputs": [],
   "source": []
  },
  {
   "cell_type": "code",
   "execution_count": 11,
   "metadata": {},
   "outputs": [],
   "source": [
    "encoder_weights = unpickle_vars('zimnica/pickled_vae_encoder_0.0.0.4_20200713_114306.pickle')"
   ]
  },
  {
   "cell_type": "code",
   "execution_count": 12,
   "metadata": {},
   "outputs": [],
   "source": [
    "decoder_weghts = unpickle_vars('zimnica/pickled_vae_decoder_0.0.0.4_20200713_114306.pickle')"
   ]
  },
  {
   "cell_type": "code",
   "execution_count": 13,
   "metadata": {},
   "outputs": [],
   "source": [
    "init_kernel = encoder_weights[0]\n",
    "init_bias = encoder_weights[1]\n",
    "kernel_initializer = tf.keras.initializers.constant(init_kernel)\n",
    "bias_initializer = tf.keras.initializers.constant(init_bias)"
   ]
  },
  {
   "cell_type": "code",
   "execution_count": 14,
   "metadata": {},
   "outputs": [],
   "source": [
    "class Encoder(layers.Layer):\n",
    "    \"\"\"Maps input patches to a triplet (z_mean, z_log_var, z).\"\"\"\n",
    "\n",
    "    def __init__(self, name=\"encoder\", **kwargs):\n",
    "        super(Encoder, self).__init__(name=name, **kwargs)\n",
    "        \n",
    "        self.conv1 = layers.Conv2D(32, 3, activation=\"relu\", strides=2, padding=\"same\")\n",
    "        self.conv2 = layers.Conv2D(64, 3, activation=\"relu\", strides=2, padding=\"same\")\n",
    "        self.conv3 = layers.Conv2D(64, 3, activation=\"relu\", strides=2, padding=\"same\")\n",
    "        self.flatten = layers.Flatten()\n",
    "        self.dense = layers.Dense(256, activation=\"relu\")\n",
    "        self.dense_mean = layers.Dense(latent_dim, name=\"z_mean\")\n",
    "        self.dense_log_var = layers.Dense(latent_dim, name=\"z_log_var\")\n",
    "        self.sampling = Sampling()\n",
    "        \n",
    "\n",
    "    def call(self, inputs):\n",
    "        x = self.conv1(inputs)\n",
    "        x = self.conv2(x)\n",
    "        x = self.conv3(x)\n",
    "        x = self.flatten(x)\n",
    "        x = self.dense(x)\n",
    "        z_mean = self.dense_mean(x)\n",
    "        z_log_var = self.dense_log_var(x)\n",
    "        z = self.sampling((z_mean, z_log_var))        \n",
    "        return z_mean, z_log_var, z"
   ]
  },
  {
   "cell_type": "code",
   "execution_count": 15,
   "metadata": {},
   "outputs": [],
   "source": [
    "class Decoder(layers.Layer):\n",
    "    \"\"\"Converts z, the encoded patch vector, back into the patch.\"\"\"\n",
    "\n",
    "    def __init__(self, name=\"decoder\", **kwargs):\n",
    "        super(Decoder, self).__init__(name=name, **kwargs)\n",
    "        \n",
    "        self.dense = layers.Dense(7 * 7 * 64, activation=\"relu\")\n",
    "        self.reshape = layers.Reshape((7, 7, 64))\n",
    "        self.conv1 = layers.Conv2DTranspose(64, 3, activation=\"relu\", strides=2, padding=\"same\")\n",
    "        self.conv2 = layers.Conv2DTranspose(64, 3, activation=\"relu\", strides=2, padding=\"same\")\n",
    "        self.conv3 = layers.Conv2DTranspose(32, 3, activation=\"relu\", strides=2, padding=\"same\")\n",
    "        self.conv_output = layers.Conv2DTranspose(1, 3, activation=\"sigmoid\", padding=\"same\")\n",
    "        \n",
    "    def call(self, inputs):\n",
    "        x = self.dense(inputs)\n",
    "        x = self.reshape(x)\n",
    "        x = self.conv1(x)\n",
    "        x = self.conv2(x)\n",
    "        x = self.conv3(x)\n",
    "        x = self.conv_output(x)\n",
    "        return x"
   ]
  },
  {
   "cell_type": "code",
   "execution_count": 16,
   "metadata": {},
   "outputs": [],
   "source": [
    "class VariationalAutoEncoder(keras.Model):\n",
    "    \"\"\"Combines the encoder and decoder into an end-to-end model for training.\"\"\"\n",
    "\n",
    "    def __init__(\n",
    "        self,\n",
    "        name=\"vae\",\n",
    "        **kwargs\n",
    "    ):\n",
    "        super(VariationalAutoEncoder, self).__init__(name=name, **kwargs)\n",
    "        self.encoder = Encoder()\n",
    "        self.decoder = Decoder()\n",
    "\n",
    "    def call(self, inputs):\n",
    "        z_mean, z_log_var, z = self.encoder(inputs)\n",
    "        reconstructed = self.decoder(z)\n",
    "        # Add KL divergence regularization loss.\n",
    "        kl_loss = -0.5 * tf.reduce_mean(\n",
    "            z_log_var - tf.square(z_mean) - tf.exp(z_log_var) + 1\n",
    "        )\n",
    "        self.add_loss(kl_loss)\n",
    "        return reconstructed"
   ]
  },
  {
   "cell_type": "code",
   "execution_count": 17,
   "metadata": {
    "scrolled": false
   },
   "outputs": [],
   "source": [
    "vae = VariationalAutoEncoder()"
   ]
  },
  {
   "cell_type": "code",
   "execution_count": null,
   "metadata": {},
   "outputs": [],
   "source": []
  },
  {
   "cell_type": "code",
   "execution_count": 2,
   "metadata": {},
   "outputs": [
    {
     "data": {
      "text/plain": [
       "'1.4.0'"
      ]
     },
     "execution_count": 2,
     "metadata": {},
     "output_type": "execute_result"
    }
   ],
   "source": [
    "tf.__version__"
   ]
  },
  {
   "cell_type": "code",
   "execution_count": null,
   "metadata": {},
   "outputs": [],
   "source": []
  },
  {
   "cell_type": "code",
   "execution_count": 22,
   "metadata": {},
   "outputs": [],
   "source": [
    "fake_batch = np.ones((5, 56, 56, 1), dtype=np.float32)\n",
    "# fake_batch = tf.data.Dataset.from_tensor_slices(fake_batch)"
   ]
  },
  {
   "cell_type": "code",
   "execution_count": 27,
   "metadata": {
    "scrolled": false
   },
   "outputs": [
    {
     "data": {
      "text/plain": [
       "5"
      ]
     },
     "execution_count": 27,
     "metadata": {},
     "output_type": "execute_result"
    }
   ],
   "source": [
    "len(zip(fake_batch))"
   ]
  },
  {
   "cell_type": "code",
   "execution_count": 28,
   "metadata": {
    "scrolled": true
   },
   "outputs": [
    {
     "ename": "ValueError",
     "evalue": "Layer conv2d expects 1 inputs, but it received 5 input tensors. Inputs received: [array([[[1.],\n        [1.],\n        [1.],\n        ...,\n        [1.],\n        [1.],\n        [1.]],\n\n       [[1.],\n        [1.],\n        [1.],\n        ...,\n        [1.],\n        [1.],\n        [1.]],\n\n       [[1.],\n        [1.],\n        [1.],\n        ...,\n        [1.],\n        [1.],\n        [1.]],\n\n       ...,\n\n       [[1.],\n        [1.],\n        [1.],\n        ...,\n        [1.],\n        [1.],\n        [1.]],\n\n       [[1.],\n        [1.],\n        [1.],\n        ...,\n        [1.],\n        [1.],\n        [1.]],\n\n       [[1.],\n        [1.],\n        [1.],\n        ...,\n        [1.],\n        [1.],\n        [1.]]], dtype=float32), array([[[1.],\n        [1.],\n        [1.],\n        ...,\n        [1.],\n        [1.],\n        [1.]],\n\n       [[1.],\n        [1.],\n        [1.],\n        ...,\n        [1.],\n        [1.],\n        [1.]],\n\n       [[1.],\n        [1.],\n        [1.],\n        ...,\n        [1.],\n        [1.],\n        [1.]],\n\n       ...,\n\n       [[1.],\n        [1.],\n        [1.],\n        ...,\n        [1.],\n        [1.],\n        [1.]],\n\n       [[1.],\n        [1.],\n        [1.],\n        ...,\n        [1.],\n        [1.],\n        [1.]],\n\n       [[1.],\n        [1.],\n        [1.],\n        ...,\n        [1.],\n        [1.],\n        [1.]]], dtype=float32), array([[[1.],\n        [1.],\n        [1.],\n        ...,\n        [1.],\n        [1.],\n        [1.]],\n\n       [[1.],\n        [1.],\n        [1.],\n        ...,\n        [1.],\n        [1.],\n        [1.]],\n\n       [[1.],\n        [1.],\n        [1.],\n        ...,\n        [1.],\n        [1.],\n        [1.]],\n\n       ...,\n\n       [[1.],\n        [1.],\n        [1.],\n        ...,\n        [1.],\n        [1.],\n        [1.]],\n\n       [[1.],\n        [1.],\n        [1.],\n        ...,\n        [1.],\n        [1.],\n        [1.]],\n\n       [[1.],\n        [1.],\n        [1.],\n        ...,\n        [1.],\n        [1.],\n        [1.]]], dtype=float32), array([[[1.],\n        [1.],\n        [1.],\n        ...,\n        [1.],\n        [1.],\n        [1.]],\n\n       [[1.],\n        [1.],\n        [1.],\n        ...,\n        [1.],\n        [1.],\n        [1.]],\n\n       [[1.],\n        [1.],\n        [1.],\n        ...,\n        [1.],\n        [1.],\n        [1.]],\n\n       ...,\n\n       [[1.],\n        [1.],\n        [1.],\n        ...,\n        [1.],\n        [1.],\n        [1.]],\n\n       [[1.],\n        [1.],\n        [1.],\n        ...,\n        [1.],\n        [1.],\n        [1.]],\n\n       [[1.],\n        [1.],\n        [1.],\n        ...,\n        [1.],\n        [1.],\n        [1.]]], dtype=float32), array([[[1.],\n        [1.],\n        [1.],\n        ...,\n        [1.],\n        [1.],\n        [1.]],\n\n       [[1.],\n        [1.],\n        [1.],\n        ...,\n        [1.],\n        [1.],\n        [1.]],\n\n       [[1.],\n        [1.],\n        [1.],\n        ...,\n        [1.],\n        [1.],\n        [1.]],\n\n       ...,\n\n       [[1.],\n        [1.],\n        [1.],\n        ...,\n        [1.],\n        [1.],\n        [1.]],\n\n       [[1.],\n        [1.],\n        [1.],\n        ...,\n        [1.],\n        [1.],\n        [1.]],\n\n       [[1.],\n        [1.],\n        [1.],\n        ...,\n        [1.],\n        [1.],\n        [1.]]], dtype=float32)]",
     "output_type": "error",
     "traceback": [
      "\u001b[0;31m---------------------------------------------------------------------------\u001b[0m",
      "\u001b[0;31mValueError\u001b[0m                                Traceback (most recent call last)",
      "\u001b[0;32m<ipython-input-28-ab01d328b566>\u001b[0m in \u001b[0;36m<module>\u001b[0;34m()\u001b[0m\n\u001b[0;32m----> 1\u001b[0;31m \u001b[0mfake_batch_reconstructed\u001b[0m \u001b[0;34m=\u001b[0m \u001b[0mvae\u001b[0m\u001b[0;34m(\u001b[0m\u001b[0mzip\u001b[0m\u001b[0;34m(\u001b[0m\u001b[0mfake_batch\u001b[0m\u001b[0;34m)\u001b[0m\u001b[0;34m)\u001b[0m\u001b[0;34m\u001b[0m\u001b[0m\n\u001b[0m",
      "\u001b[0;32m/home/niaki/anaconda3/envs/cv/lib/python2.7/site-packages/tensorflow/python/keras/engine/base_layer.pyc\u001b[0m in \u001b[0;36m__call__\u001b[0;34m(self, inputs, *args, **kwargs)\u001b[0m\n\u001b[1;32m    734\u001b[0m \u001b[0;34m\u001b[0m\u001b[0m\n\u001b[1;32m    735\u001b[0m       \u001b[0;32mif\u001b[0m \u001b[0;32mnot\u001b[0m \u001b[0min_deferred_mode\u001b[0m\u001b[0;34m:\u001b[0m\u001b[0;34m\u001b[0m\u001b[0m\n\u001b[0;32m--> 736\u001b[0;31m         \u001b[0moutputs\u001b[0m \u001b[0;34m=\u001b[0m \u001b[0mself\u001b[0m\u001b[0;34m.\u001b[0m\u001b[0mcall\u001b[0m\u001b[0;34m(\u001b[0m\u001b[0minputs\u001b[0m\u001b[0;34m,\u001b[0m \u001b[0;34m*\u001b[0m\u001b[0margs\u001b[0m\u001b[0;34m,\u001b[0m \u001b[0;34m**\u001b[0m\u001b[0mkwargs\u001b[0m\u001b[0;34m)\u001b[0m\u001b[0;34m\u001b[0m\u001b[0m\n\u001b[0m\u001b[1;32m    737\u001b[0m         \u001b[0;32mif\u001b[0m \u001b[0moutputs\u001b[0m \u001b[0;32mis\u001b[0m \u001b[0mNone\u001b[0m\u001b[0;34m:\u001b[0m\u001b[0;34m\u001b[0m\u001b[0m\n\u001b[1;32m    738\u001b[0m           raise ValueError('A layer\\'s `call` method should return a Tensor '\n",
      "\u001b[0;32m<ipython-input-18-96099ae9339d>\u001b[0m in \u001b[0;36mcall\u001b[0;34m(self, inputs)\u001b[0m\n\u001b[1;32m     12\u001b[0m \u001b[0;34m\u001b[0m\u001b[0m\n\u001b[1;32m     13\u001b[0m     \u001b[0;32mdef\u001b[0m \u001b[0mcall\u001b[0m\u001b[0;34m(\u001b[0m\u001b[0mself\u001b[0m\u001b[0;34m,\u001b[0m \u001b[0minputs\u001b[0m\u001b[0;34m)\u001b[0m\u001b[0;34m:\u001b[0m\u001b[0;34m\u001b[0m\u001b[0m\n\u001b[0;32m---> 14\u001b[0;31m         \u001b[0mz_mean\u001b[0m\u001b[0;34m,\u001b[0m \u001b[0mz_log_var\u001b[0m\u001b[0;34m,\u001b[0m \u001b[0mz\u001b[0m \u001b[0;34m=\u001b[0m \u001b[0mself\u001b[0m\u001b[0;34m.\u001b[0m\u001b[0mencoder\u001b[0m\u001b[0;34m(\u001b[0m\u001b[0minputs\u001b[0m\u001b[0;34m)\u001b[0m\u001b[0;34m\u001b[0m\u001b[0m\n\u001b[0m\u001b[1;32m     15\u001b[0m         \u001b[0mreconstructed\u001b[0m \u001b[0;34m=\u001b[0m \u001b[0mself\u001b[0m\u001b[0;34m.\u001b[0m\u001b[0mdecoder\u001b[0m\u001b[0;34m(\u001b[0m\u001b[0mz\u001b[0m\u001b[0;34m)\u001b[0m\u001b[0;34m\u001b[0m\u001b[0m\n\u001b[1;32m     16\u001b[0m         \u001b[0;31m# Add KL divergence regularization loss.\u001b[0m\u001b[0;34m\u001b[0m\u001b[0;34m\u001b[0m\u001b[0m\n",
      "\u001b[0;32m/home/niaki/anaconda3/envs/cv/lib/python2.7/site-packages/tensorflow/python/keras/engine/base_layer.pyc\u001b[0m in \u001b[0;36m__call__\u001b[0;34m(self, inputs, *args, **kwargs)\u001b[0m\n\u001b[1;32m    734\u001b[0m \u001b[0;34m\u001b[0m\u001b[0m\n\u001b[1;32m    735\u001b[0m       \u001b[0;32mif\u001b[0m \u001b[0;32mnot\u001b[0m \u001b[0min_deferred_mode\u001b[0m\u001b[0;34m:\u001b[0m\u001b[0;34m\u001b[0m\u001b[0m\n\u001b[0;32m--> 736\u001b[0;31m         \u001b[0moutputs\u001b[0m \u001b[0;34m=\u001b[0m \u001b[0mself\u001b[0m\u001b[0;34m.\u001b[0m\u001b[0mcall\u001b[0m\u001b[0;34m(\u001b[0m\u001b[0minputs\u001b[0m\u001b[0;34m,\u001b[0m \u001b[0;34m*\u001b[0m\u001b[0margs\u001b[0m\u001b[0;34m,\u001b[0m \u001b[0;34m**\u001b[0m\u001b[0mkwargs\u001b[0m\u001b[0;34m)\u001b[0m\u001b[0;34m\u001b[0m\u001b[0m\n\u001b[0m\u001b[1;32m    737\u001b[0m         \u001b[0;32mif\u001b[0m \u001b[0moutputs\u001b[0m \u001b[0;32mis\u001b[0m \u001b[0mNone\u001b[0m\u001b[0;34m:\u001b[0m\u001b[0;34m\u001b[0m\u001b[0m\n\u001b[1;32m    738\u001b[0m           raise ValueError('A layer\\'s `call` method should return a Tensor '\n",
      "\u001b[0;32m<ipython-input-16-907c8a0e24c1>\u001b[0m in \u001b[0;36mcall\u001b[0;34m(self, inputs)\u001b[0m\n\u001b[1;32m     16\u001b[0m \u001b[0;34m\u001b[0m\u001b[0m\n\u001b[1;32m     17\u001b[0m     \u001b[0;32mdef\u001b[0m \u001b[0mcall\u001b[0m\u001b[0;34m(\u001b[0m\u001b[0mself\u001b[0m\u001b[0;34m,\u001b[0m \u001b[0minputs\u001b[0m\u001b[0;34m)\u001b[0m\u001b[0;34m:\u001b[0m\u001b[0;34m\u001b[0m\u001b[0m\n\u001b[0;32m---> 18\u001b[0;31m         \u001b[0mx\u001b[0m \u001b[0;34m=\u001b[0m \u001b[0mself\u001b[0m\u001b[0;34m.\u001b[0m\u001b[0mconv1\u001b[0m\u001b[0;34m(\u001b[0m\u001b[0minputs\u001b[0m\u001b[0;34m)\u001b[0m\u001b[0;34m\u001b[0m\u001b[0m\n\u001b[0m\u001b[1;32m     19\u001b[0m         \u001b[0mx\u001b[0m \u001b[0;34m=\u001b[0m \u001b[0mself\u001b[0m\u001b[0;34m.\u001b[0m\u001b[0mconv2\u001b[0m\u001b[0;34m(\u001b[0m\u001b[0mx\u001b[0m\u001b[0;34m)\u001b[0m\u001b[0;34m\u001b[0m\u001b[0m\n\u001b[1;32m     20\u001b[0m         \u001b[0mx\u001b[0m \u001b[0;34m=\u001b[0m \u001b[0mself\u001b[0m\u001b[0;34m.\u001b[0m\u001b[0mconv3\u001b[0m\u001b[0;34m(\u001b[0m\u001b[0mx\u001b[0m\u001b[0;34m)\u001b[0m\u001b[0;34m\u001b[0m\u001b[0m\n",
      "\u001b[0;32m/home/niaki/anaconda3/envs/cv/lib/python2.7/site-packages/tensorflow/python/keras/engine/base_layer.pyc\u001b[0m in \u001b[0;36m__call__\u001b[0;34m(self, inputs, *args, **kwargs)\u001b[0m\n\u001b[1;32m    718\u001b[0m \u001b[0;34m\u001b[0m\u001b[0m\n\u001b[1;32m    719\u001b[0m         \u001b[0;31m# Check input assumptions set before layer building, e.g. input rank.\u001b[0m\u001b[0;34m\u001b[0m\u001b[0;34m\u001b[0m\u001b[0m\n\u001b[0;32m--> 720\u001b[0;31m         \u001b[0mself\u001b[0m\u001b[0;34m.\u001b[0m\u001b[0m_assert_input_compatibility\u001b[0m\u001b[0;34m(\u001b[0m\u001b[0minputs\u001b[0m\u001b[0;34m)\u001b[0m\u001b[0;34m\u001b[0m\u001b[0m\n\u001b[0m\u001b[1;32m    721\u001b[0m         \u001b[0;32mif\u001b[0m \u001b[0minput_list\u001b[0m \u001b[0;32mand\u001b[0m \u001b[0mself\u001b[0m\u001b[0;34m.\u001b[0m\u001b[0m_dtype\u001b[0m \u001b[0;32mis\u001b[0m \u001b[0mNone\u001b[0m\u001b[0;34m:\u001b[0m\u001b[0;34m\u001b[0m\u001b[0m\n\u001b[1;32m    722\u001b[0m           \u001b[0;32mtry\u001b[0m\u001b[0;34m:\u001b[0m\u001b[0;34m\u001b[0m\u001b[0m\n",
      "\u001b[0;32m/home/niaki/anaconda3/envs/cv/lib/python2.7/site-packages/tensorflow/python/keras/engine/base_layer.pyc\u001b[0m in \u001b[0;36m_assert_input_compatibility\u001b[0;34m(self, inputs)\u001b[0m\n\u001b[1;32m   1400\u001b[0m                        \u001b[0mstr\u001b[0m\u001b[0;34m(\u001b[0m\u001b[0mlen\u001b[0m\u001b[0;34m(\u001b[0m\u001b[0minput_spec\u001b[0m\u001b[0;34m)\u001b[0m\u001b[0;34m)\u001b[0m \u001b[0;34m+\u001b[0m \u001b[0;34m' inputs, '\u001b[0m\u001b[0;34m\u001b[0m\u001b[0m\n\u001b[1;32m   1401\u001b[0m                        \u001b[0;34m'but it received '\u001b[0m \u001b[0;34m+\u001b[0m \u001b[0mstr\u001b[0m\u001b[0;34m(\u001b[0m\u001b[0mlen\u001b[0m\u001b[0;34m(\u001b[0m\u001b[0minputs\u001b[0m\u001b[0;34m)\u001b[0m\u001b[0;34m)\u001b[0m \u001b[0;34m+\u001b[0m\u001b[0;34m\u001b[0m\u001b[0m\n\u001b[0;32m-> 1402\u001b[0;31m                        ' input tensors. Inputs received: ' + str(inputs))\n\u001b[0m\u001b[1;32m   1403\u001b[0m     \u001b[0;32mfor\u001b[0m \u001b[0minput_index\u001b[0m\u001b[0;34m,\u001b[0m \u001b[0;34m(\u001b[0m\u001b[0mx\u001b[0m\u001b[0;34m,\u001b[0m \u001b[0mspec\u001b[0m\u001b[0;34m)\u001b[0m \u001b[0;32min\u001b[0m \u001b[0menumerate\u001b[0m\u001b[0;34m(\u001b[0m\u001b[0mzip\u001b[0m\u001b[0;34m(\u001b[0m\u001b[0minputs\u001b[0m\u001b[0;34m,\u001b[0m \u001b[0minput_spec\u001b[0m\u001b[0;34m)\u001b[0m\u001b[0;34m)\u001b[0m\u001b[0;34m:\u001b[0m\u001b[0;34m\u001b[0m\u001b[0m\n\u001b[1;32m   1404\u001b[0m       \u001b[0;32mif\u001b[0m \u001b[0mspec\u001b[0m \u001b[0;32mis\u001b[0m \u001b[0mNone\u001b[0m\u001b[0;34m:\u001b[0m\u001b[0;34m\u001b[0m\u001b[0m\n",
      "\u001b[0;31mValueError\u001b[0m: Layer conv2d expects 1 inputs, but it received 5 input tensors. Inputs received: [array([[[1.],\n        [1.],\n        [1.],\n        ...,\n        [1.],\n        [1.],\n        [1.]],\n\n       [[1.],\n        [1.],\n        [1.],\n        ...,\n        [1.],\n        [1.],\n        [1.]],\n\n       [[1.],\n        [1.],\n        [1.],\n        ...,\n        [1.],\n        [1.],\n        [1.]],\n\n       ...,\n\n       [[1.],\n        [1.],\n        [1.],\n        ...,\n        [1.],\n        [1.],\n        [1.]],\n\n       [[1.],\n        [1.],\n        [1.],\n        ...,\n        [1.],\n        [1.],\n        [1.]],\n\n       [[1.],\n        [1.],\n        [1.],\n        ...,\n        [1.],\n        [1.],\n        [1.]]], dtype=float32), array([[[1.],\n        [1.],\n        [1.],\n        ...,\n        [1.],\n        [1.],\n        [1.]],\n\n       [[1.],\n        [1.],\n        [1.],\n        ...,\n        [1.],\n        [1.],\n        [1.]],\n\n       [[1.],\n        [1.],\n        [1.],\n        ...,\n        [1.],\n        [1.],\n        [1.]],\n\n       ...,\n\n       [[1.],\n        [1.],\n        [1.],\n        ...,\n        [1.],\n        [1.],\n        [1.]],\n\n       [[1.],\n        [1.],\n        [1.],\n        ...,\n        [1.],\n        [1.],\n        [1.]],\n\n       [[1.],\n        [1.],\n        [1.],\n        ...,\n        [1.],\n        [1.],\n        [1.]]], dtype=float32), array([[[1.],\n        [1.],\n        [1.],\n        ...,\n        [1.],\n        [1.],\n        [1.]],\n\n       [[1.],\n        [1.],\n        [1.],\n        ...,\n        [1.],\n        [1.],\n        [1.]],\n\n       [[1.],\n        [1.],\n        [1.],\n        ...,\n        [1.],\n        [1.],\n        [1.]],\n\n       ...,\n\n       [[1.],\n        [1.],\n        [1.],\n        ...,\n        [1.],\n        [1.],\n        [1.]],\n\n       [[1.],\n        [1.],\n        [1.],\n        ...,\n        [1.],\n        [1.],\n        [1.]],\n\n       [[1.],\n        [1.],\n        [1.],\n        ...,\n        [1.],\n        [1.],\n        [1.]]], dtype=float32), array([[[1.],\n        [1.],\n        [1.],\n        ...,\n        [1.],\n        [1.],\n        [1.]],\n\n       [[1.],\n        [1.],\n        [1.],\n        ...,\n        [1.],\n        [1.],\n        [1.]],\n\n       [[1.],\n        [1.],\n        [1.],\n        ...,\n        [1.],\n        [1.],\n        [1.]],\n\n       ...,\n\n       [[1.],\n        [1.],\n        [1.],\n        ...,\n        [1.],\n        [1.],\n        [1.]],\n\n       [[1.],\n        [1.],\n        [1.],\n        ...,\n        [1.],\n        [1.],\n        [1.]],\n\n       [[1.],\n        [1.],\n        [1.],\n        ...,\n        [1.],\n        [1.],\n        [1.]]], dtype=float32), array([[[1.],\n        [1.],\n        [1.],\n        ...,\n        [1.],\n        [1.],\n        [1.]],\n\n       [[1.],\n        [1.],\n        [1.],\n        ...,\n        [1.],\n        [1.],\n        [1.]],\n\n       [[1.],\n        [1.],\n        [1.],\n        ...,\n        [1.],\n        [1.],\n        [1.]],\n\n       ...,\n\n       [[1.],\n        [1.],\n        [1.],\n        ...,\n        [1.],\n        [1.],\n        [1.]],\n\n       [[1.],\n        [1.],\n        [1.],\n        ...,\n        [1.],\n        [1.],\n        [1.]],\n\n       [[1.],\n        [1.],\n        [1.],\n        ...,\n        [1.],\n        [1.],\n        [1.]]], dtype=float32)]"
     ]
    }
   ],
   "source": [
    "fake_batch_reconstructed = vae(zip(fake_batch))"
   ]
  },
  {
   "cell_type": "code",
   "execution_count": null,
   "metadata": {},
   "outputs": [],
   "source": []
  },
  {
   "cell_type": "code",
   "execution_count": null,
   "metadata": {},
   "outputs": [],
   "source": []
  },
  {
   "cell_type": "code",
   "execution_count": 18,
   "metadata": {},
   "outputs": [
    {
     "ename": "ValueError",
     "evalue": "You are trying to load a weight file containing 2 layers into a model with 0 layers.",
     "output_type": "error",
     "traceback": [
      "\u001b[0;31m---------------------------------------------------------------------------\u001b[0m",
      "\u001b[0;31mValueError\u001b[0m                                Traceback (most recent call last)",
      "\u001b[0;32m<ipython-input-18-b4893f0365fb>\u001b[0m in \u001b[0;36m<module>\u001b[0;34m()\u001b[0m\n\u001b[0;32m----> 1\u001b[0;31m \u001b[0mvae\u001b[0m\u001b[0;34m.\u001b[0m\u001b[0mload_weights\u001b[0m\u001b[0;34m(\u001b[0m\u001b[0mbase_dir\u001b[0m \u001b[0;34m+\u001b[0m \u001b[0;34m'/vae_'\u001b[0m \u001b[0;34m+\u001b[0m \u001b[0mmodel_version\u001b[0m \u001b[0;34m+\u001b[0m \u001b[0;34m'.h5'\u001b[0m\u001b[0;34m)\u001b[0m\u001b[0;34m\u001b[0m\u001b[0m\n\u001b[0m",
      "\u001b[0;32m/home/niaki/anaconda3/envs/cv/lib/python2.7/site-packages/tensorflow/python/keras/engine/network.pyc\u001b[0m in \u001b[0;36mload_weights\u001b[0;34m(self, filepath, by_name)\u001b[0m\n\u001b[1;32m   1446\u001b[0m         \u001b[0msaving\u001b[0m\u001b[0;34m.\u001b[0m\u001b[0mload_weights_from_hdf5_group_by_name\u001b[0m\u001b[0;34m(\u001b[0m\u001b[0mf\u001b[0m\u001b[0;34m,\u001b[0m \u001b[0mself\u001b[0m\u001b[0;34m.\u001b[0m\u001b[0mlayers\u001b[0m\u001b[0;34m)\u001b[0m\u001b[0;34m\u001b[0m\u001b[0m\n\u001b[1;32m   1447\u001b[0m       \u001b[0;32melse\u001b[0m\u001b[0;34m:\u001b[0m\u001b[0;34m\u001b[0m\u001b[0m\n\u001b[0;32m-> 1448\u001b[0;31m         \u001b[0msaving\u001b[0m\u001b[0;34m.\u001b[0m\u001b[0mload_weights_from_hdf5_group\u001b[0m\u001b[0;34m(\u001b[0m\u001b[0mf\u001b[0m\u001b[0;34m,\u001b[0m \u001b[0mself\u001b[0m\u001b[0;34m.\u001b[0m\u001b[0mlayers\u001b[0m\u001b[0;34m)\u001b[0m\u001b[0;34m\u001b[0m\u001b[0m\n\u001b[0m\u001b[1;32m   1449\u001b[0m \u001b[0;34m\u001b[0m\u001b[0m\n\u001b[1;32m   1450\u001b[0m   \u001b[0;32mdef\u001b[0m \u001b[0m_post_build_cleanup\u001b[0m\u001b[0;34m(\u001b[0m\u001b[0mself\u001b[0m\u001b[0;34m)\u001b[0m\u001b[0;34m:\u001b[0m\u001b[0;34m\u001b[0m\u001b[0m\n",
      "\u001b[0;32m/home/niaki/anaconda3/envs/cv/lib/python2.7/site-packages/tensorflow/python/keras/engine/saving.pyc\u001b[0m in \u001b[0;36mload_weights_from_hdf5_group\u001b[0;34m(f, layers)\u001b[0m\n\u001b[1;32m    778\u001b[0m                      \u001b[0;34m'containing '\u001b[0m \u001b[0;34m+\u001b[0m \u001b[0mstr\u001b[0m\u001b[0;34m(\u001b[0m\u001b[0mlen\u001b[0m\u001b[0;34m(\u001b[0m\u001b[0mlayer_names\u001b[0m\u001b[0;34m)\u001b[0m\u001b[0;34m)\u001b[0m \u001b[0;34m+\u001b[0m\u001b[0;34m\u001b[0m\u001b[0m\n\u001b[1;32m    779\u001b[0m                      \u001b[0;34m' layers into a model with '\u001b[0m \u001b[0;34m+\u001b[0m \u001b[0mstr\u001b[0m\u001b[0;34m(\u001b[0m\u001b[0mlen\u001b[0m\u001b[0;34m(\u001b[0m\u001b[0mfiltered_layers\u001b[0m\u001b[0;34m)\u001b[0m\u001b[0;34m)\u001b[0m \u001b[0;34m+\u001b[0m\u001b[0;34m\u001b[0m\u001b[0m\n\u001b[0;32m--> 780\u001b[0;31m                      ' layers.')\n\u001b[0m\u001b[1;32m    781\u001b[0m \u001b[0;34m\u001b[0m\u001b[0m\n\u001b[1;32m    782\u001b[0m   \u001b[0;31m# We batch weight value assignments in a single backend call\u001b[0m\u001b[0;34m\u001b[0m\u001b[0;34m\u001b[0m\u001b[0m\n",
      "\u001b[0;31mValueError\u001b[0m: You are trying to load a weight file containing 2 layers into a model with 0 layers."
     ]
    }
   ],
   "source": [
    "vae.load_weights(base_dir + '/vae_' + model_version + '.h5')"
   ]
  },
  {
   "cell_type": "code",
   "execution_count": null,
   "metadata": {},
   "outputs": [],
   "source": []
  },
  {
   "cell_type": "code",
   "execution_count": 48,
   "metadata": {},
   "outputs": [
    {
     "data": {
      "text/plain": [
       "[]"
      ]
     },
     "execution_count": 48,
     "metadata": {},
     "output_type": "execute_result"
    }
   ],
   "source": [
    "vae.encoder.conv1.get_weights()"
   ]
  },
  {
   "cell_type": "code",
   "execution_count": 29,
   "metadata": {},
   "outputs": [
    {
     "name": "stdout",
     "output_type": "stream",
     "text": [
      "[(None, 128), (None, 128), (None, 128)]\n"
     ]
    }
   ],
   "source": [
    "print(encoder.output_shape)"
   ]
  },
  {
   "cell_type": "code",
   "execution_count": null,
   "metadata": {},
   "outputs": [],
   "source": []
  },
  {
   "cell_type": "code",
   "execution_count": null,
   "metadata": {},
   "outputs": [],
   "source": [
    "# for seq_path in seqs:\n",
    "#     seq = hpatches_sequence(seq_path)\n",
    "#     path = os.path.join(descr_name,seq.name)\n",
    "#     if not os.path.exists(path):\n",
    "#         os.makedirs(path)\n",
    "#     descr = np.zeros((seq.N,2)) # trivial (mi,sigma) descriptor\n",
    "#     for tp in tps:\n",
    "#         print(seq.name+'/'+tp)\n",
    "#         for i,patch in enumerate(getattr(seq, tp)):\n",
    "#             mi = np.mean(patch) # trivial (mi,sigma) descriptor\n",
    "#             sigma = np.std(patch) # trivial (mi,sigma) descriptor\n",
    "#             descr[i] = np.array([mi,sigma])\n",
    "#         np.savetxt(os.path.join(path,tp+'.csv'), descr, delimiter=',') # X is an array"
   ]
  },
  {
   "cell_type": "code",
   "execution_count": 34,
   "metadata": {},
   "outputs": [
    {
     "data": {
      "text/plain": [
       "'vae_0.0.0.2/i_kurhaus'"
      ]
     },
     "execution_count": 34,
     "metadata": {},
     "output_type": "execute_result"
    }
   ],
   "source": [
    "path"
   ]
  },
  {
   "cell_type": "code",
   "execution_count": 37,
   "metadata": {
    "scrolled": true
   },
   "outputs": [
    {
     "name": "stdout",
     "output_type": "stream",
     "text": [
      "i_kurhaus\n",
      "i_veggies\n",
      "i_fruits\n",
      "v_grace\n",
      "v_bark\n",
      "i_boutique\n",
      "v_tempera\n",
      "i_dome\n",
      "v_busstop\n",
      "v_vitro\n",
      "v_bip\n",
      "v_strand\n",
      "i_salon\n",
      "i_brooklyn\n",
      "i_steps\n",
      "v_samples\n",
      "v_dirtywall\n",
      "i_bologna\n",
      "i_fenis\n",
      "v_wormhole\n",
      "v_posters\n",
      "i_londonbridge\n",
      "i_indiana\n",
      "i_objects\n",
      "i_nijmegen\n",
      "v_cartooncity\n",
      "i_fog\n",
      "v_yard\n",
      "i_tools\n",
      "i_nescafe\n",
      "i_gonnenberg\n",
      "v_gardens\n",
      "i_lionnight\n",
      "v_home\n",
      "i_autannes\n",
      "i_whitebuilding\n",
      "v_wall\n",
      "i_smurf\n",
      "v_yuri\n",
      "i_kions\n",
      "i_greentea\n",
      "i_pinard\n",
      "v_bricks\n",
      "v_charing\n",
      "v_artisans\n",
      "v_there\n",
      "v_wounded\n",
      "v_soldiers\n",
      "v_bees\n",
      "i_zion\n",
      "i_porta\n",
      "v_fest\n",
      "v_calder\n",
      "v_machines\n",
      "i_yellowtent\n",
      "v_sunseason\n",
      "i_resort\n",
      "i_leuven\n",
      "i_crownday\n",
      "i_village\n",
      "v_dogman\n",
      "i_ktirio\n",
      "v_blueprint\n",
      "i_ajuntament\n",
      "i_bridger\n",
      "i_greenhouse\n",
      "v_london\n",
      "i_books\n",
      "i_chestnuts\n",
      "v_courses\n",
      "v_boat\n",
      "v_coffeehouse\n",
      "i_crownnight\n",
      "i_toy\n",
      "v_astronautis\n",
      "i_dc\n",
      "i_nuts\n",
      "v_abstract\n",
      "i_ski\n",
      "i_santuario\n",
      "v_beyus\n",
      "v_tabletop\n",
      "v_underground\n",
      "v_feast\n",
      "i_lionday\n",
      "v_weapons\n",
      "v_bird\n",
      "v_maskedman\n",
      "i_table\n",
      "v_adam\n",
      "i_parking\n",
      "v_laptop\n",
      "v_churchill\n",
      "i_pool\n",
      "i_castle\n",
      "i_melon\n",
      "i_contruction\n",
      "v_wapping\n",
      "v_talent\n",
      "i_miniature\n",
      "v_man\n",
      "v_apprentices\n",
      "v_eastsouth\n",
      "v_azzola\n",
      "i_partyfood\n",
      "v_colors\n",
      "i_school\n",
      "v_war\n",
      "v_graffiti\n",
      "i_duda\n",
      "v_woman\n",
      "i_pencils\n",
      "v_birdwoman\n",
      "i_troulos\n",
      "v_pomegranate\n",
      "v_circus\n"
     ]
    }
   ],
   "source": [
    "for seq_path in seqs:\n",
    "    seq = hpatches_sequence(seq_path)\n",
    "    path = os.path.join(\"hpatches_extracted_descrs\", descr_name, seq.name)\n",
    "    if not os.path.exists(path):\n",
    "        os.makedirs(path)\n",
    "\n",
    "    descr_size_per_patch = 128\n",
    "    descr = np.zeros((seq.N,descr_size_per_patch)) # trivial (mi,sigma) descriptor   \n",
    "    print(seq.name)\n",
    "    for tp in tps:\n",
    "#         print(seq.name+'/'+tp)\n",
    "        for i,patch in enumerate(getattr(seq, tp)):\n",
    "            patch = patch / 255.0\n",
    "#             print(patch)\n",
    "            patch_crop = patch[4: 60, 4: 60]\n",
    "            patch_crop_encoded = encoder.predict(np.expand_dims(np.expand_dims(patch_crop, axis=-1), axis=0))\n",
    "            patch_crop_encoded_flat = patch_crop_encoded[2].flatten()\n",
    "#             print(patch_crop.shape)\n",
    "#             print(patch_crop_encoded[2].shape)\n",
    "#             print(patch_crop_encoded_flat.shape)\n",
    "#             print()\n",
    "            descr[i] = patch_crop_encoded_flat\n",
    "        np.savetxt(os.path.join(path,tp+'.csv'), descr, delimiter=',') # X is an array"
   ]
  },
  {
   "cell_type": "code",
   "execution_count": null,
   "metadata": {},
   "outputs": [],
   "source": []
  },
  {
   "cell_type": "code",
   "execution_count": null,
   "metadata": {},
   "outputs": [],
   "source": []
  },
  {
   "cell_type": "code",
   "execution_count": 31,
   "metadata": {
    "scrolled": false
   },
   "outputs": [
    {
     "name": "stdout",
     "output_type": "stream",
     "text": [
      "True\n",
      "True\n",
      "True\n",
      "True\n",
      "True\n",
      "True\n",
      "True\n",
      "True\n",
      "True\n",
      "True\n",
      "True\n",
      "True\n",
      "True\n",
      "True\n",
      "True\n",
      "True\n",
      "True\n",
      "True\n",
      "True\n",
      "True\n",
      "True\n",
      "True\n",
      "True\n",
      "True\n",
      "True\n",
      "True\n",
      "True\n",
      "True\n",
      "True\n",
      "True\n",
      "True\n",
      "True\n",
      "True\n",
      "True\n",
      "True\n",
      "True\n",
      "True\n",
      "True\n",
      "True\n",
      "True\n",
      "True\n",
      "True\n",
      "True\n",
      "True\n",
      "True\n",
      "True\n",
      "True\n",
      "True\n",
      "True\n",
      "True\n",
      "True\n",
      "True\n",
      "True\n",
      "True\n",
      "True\n",
      "True\n",
      "True\n",
      "True\n",
      "True\n"
     ]
    },
    {
     "ename": "KeyboardInterrupt",
     "evalue": "",
     "output_type": "error",
     "traceback": [
      "\u001b[0;31m---------------------------------------------------------------------------\u001b[0m",
      "\u001b[0;31mKeyboardInterrupt\u001b[0m                         Traceback (most recent call last)",
      "\u001b[0;32m<ipython-input-31-b892c87ccacc>\u001b[0m in \u001b[0;36m<module>\u001b[0;34m()\u001b[0m\n\u001b[1;32m      1\u001b[0m \u001b[0;32mfor\u001b[0m \u001b[0mseq_path\u001b[0m \u001b[0;32min\u001b[0m \u001b[0mseqs\u001b[0m\u001b[0;34m:\u001b[0m\u001b[0;34m\u001b[0m\u001b[0m\n\u001b[0;32m----> 2\u001b[0;31m     \u001b[0mseq\u001b[0m \u001b[0;34m=\u001b[0m \u001b[0mhpatches_sequence\u001b[0m\u001b[0;34m(\u001b[0m\u001b[0mseq_path\u001b[0m\u001b[0;34m)\u001b[0m\u001b[0;34m\u001b[0m\u001b[0m\n\u001b[0m",
      "\u001b[0;32m<ipython-input-30-771ea15be388>\u001b[0m in \u001b[0;36m__init__\u001b[0;34m(self, base)\u001b[0m\n\u001b[1;32m     15\u001b[0m \u001b[0;31m#             print(im[0,0])\u001b[0m\u001b[0;34m\u001b[0m\u001b[0;34m\u001b[0m\u001b[0m\n\u001b[1;32m     16\u001b[0m \u001b[0;31m#             print(type(im[0,0]))\u001b[0m\u001b[0;34m\u001b[0m\u001b[0;34m\u001b[0m\u001b[0m\n\u001b[0;32m---> 17\u001b[0;31m             \u001b[0mim_imageio\u001b[0m \u001b[0;34m=\u001b[0m \u001b[0mimageio\u001b[0m\u001b[0;34m.\u001b[0m\u001b[0mimread\u001b[0m\u001b[0;34m(\u001b[0m\u001b[0mim_path\u001b[0m\u001b[0;34m)\u001b[0m\u001b[0;34m\u001b[0m\u001b[0m\n\u001b[0m\u001b[1;32m     18\u001b[0m \u001b[0;31m#             print(im_imageio.shape)\u001b[0m\u001b[0;34m\u001b[0m\u001b[0;34m\u001b[0m\u001b[0m\n\u001b[1;32m     19\u001b[0m \u001b[0;31m#             print(im_imageio[0,0])\u001b[0m\u001b[0;34m\u001b[0m\u001b[0;34m\u001b[0m\u001b[0m\n",
      "\u001b[0;32m/home/niaki/anaconda3/envs/cv/lib/python2.7/site-packages/imageio/core/functions.pyc\u001b[0m in \u001b[0;36mimread\u001b[0;34m(uri, format, **kwargs)\u001b[0m\n\u001b[1;32m    179\u001b[0m \u001b[0;34m\u001b[0m\u001b[0m\n\u001b[1;32m    180\u001b[0m     \u001b[0;31m# Get reader and read first\u001b[0m\u001b[0;34m\u001b[0m\u001b[0;34m\u001b[0m\u001b[0m\n\u001b[0;32m--> 181\u001b[0;31m     \u001b[0mreader\u001b[0m \u001b[0;34m=\u001b[0m \u001b[0mread\u001b[0m\u001b[0;34m(\u001b[0m\u001b[0muri\u001b[0m\u001b[0;34m,\u001b[0m \u001b[0mformat\u001b[0m\u001b[0;34m,\u001b[0m \u001b[0;34m'i'\u001b[0m\u001b[0;34m,\u001b[0m \u001b[0;34m**\u001b[0m\u001b[0mkwargs\u001b[0m\u001b[0;34m)\u001b[0m\u001b[0;34m\u001b[0m\u001b[0m\n\u001b[0m\u001b[1;32m    182\u001b[0m     \u001b[0;32mwith\u001b[0m \u001b[0mreader\u001b[0m\u001b[0;34m:\u001b[0m\u001b[0;34m\u001b[0m\u001b[0m\n\u001b[1;32m    183\u001b[0m         \u001b[0;32mreturn\u001b[0m \u001b[0mreader\u001b[0m\u001b[0;34m.\u001b[0m\u001b[0mget_data\u001b[0m\u001b[0;34m(\u001b[0m\u001b[0;36m0\u001b[0m\u001b[0;34m)\u001b[0m\u001b[0;34m\u001b[0m\u001b[0m\n",
      "\u001b[0;32m/home/niaki/anaconda3/envs/cv/lib/python2.7/site-packages/imageio/core/functions.pyc\u001b[0m in \u001b[0;36mget_reader\u001b[0;34m(uri, format, mode, **kwargs)\u001b[0m\n\u001b[1;32m    109\u001b[0m \u001b[0;34m\u001b[0m\u001b[0m\n\u001b[1;32m    110\u001b[0m     \u001b[0;31m# Return its reader object\u001b[0m\u001b[0;34m\u001b[0m\u001b[0;34m\u001b[0m\u001b[0m\n\u001b[0;32m--> 111\u001b[0;31m     \u001b[0;32mreturn\u001b[0m \u001b[0mformat\u001b[0m\u001b[0;34m.\u001b[0m\u001b[0mget_reader\u001b[0m\u001b[0;34m(\u001b[0m\u001b[0mrequest\u001b[0m\u001b[0;34m)\u001b[0m\u001b[0;34m\u001b[0m\u001b[0m\n\u001b[0m\u001b[1;32m    112\u001b[0m \u001b[0;34m\u001b[0m\u001b[0m\n\u001b[1;32m    113\u001b[0m \u001b[0;34m\u001b[0m\u001b[0m\n",
      "\u001b[0;32m/home/niaki/anaconda3/envs/cv/lib/python2.7/site-packages/imageio/core/format.pyc\u001b[0m in \u001b[0;36mget_reader\u001b[0;34m(self, request)\u001b[0m\n\u001b[1;32m    156\u001b[0m             raise RuntimeError('Format %s cannot read in mode %r' % \n\u001b[1;32m    157\u001b[0m                                (self.name, select_mode))\n\u001b[0;32m--> 158\u001b[0;31m         \u001b[0;32mreturn\u001b[0m \u001b[0mself\u001b[0m\u001b[0;34m.\u001b[0m\u001b[0mReader\u001b[0m\u001b[0;34m(\u001b[0m\u001b[0mself\u001b[0m\u001b[0;34m,\u001b[0m \u001b[0mrequest\u001b[0m\u001b[0;34m)\u001b[0m\u001b[0;34m\u001b[0m\u001b[0m\n\u001b[0m\u001b[1;32m    159\u001b[0m \u001b[0;34m\u001b[0m\u001b[0m\n\u001b[1;32m    160\u001b[0m     \u001b[0;32mdef\u001b[0m \u001b[0mget_writer\u001b[0m\u001b[0;34m(\u001b[0m\u001b[0mself\u001b[0m\u001b[0;34m,\u001b[0m \u001b[0mrequest\u001b[0m\u001b[0;34m)\u001b[0m\u001b[0;34m:\u001b[0m\u001b[0;34m\u001b[0m\u001b[0m\n",
      "\u001b[0;32m/home/niaki/anaconda3/envs/cv/lib/python2.7/site-packages/imageio/core/format.pyc\u001b[0m in \u001b[0;36m__init__\u001b[0;34m(self, format, request)\u001b[0m\n\u001b[1;32m    205\u001b[0m             \u001b[0mself\u001b[0m\u001b[0;34m.\u001b[0m\u001b[0m_request\u001b[0m \u001b[0;34m=\u001b[0m \u001b[0mrequest\u001b[0m\u001b[0;34m\u001b[0m\u001b[0m\n\u001b[1;32m    206\u001b[0m             \u001b[0;31m# Open the reader/writer\u001b[0m\u001b[0;34m\u001b[0m\u001b[0;34m\u001b[0m\u001b[0m\n\u001b[0;32m--> 207\u001b[0;31m             \u001b[0mself\u001b[0m\u001b[0;34m.\u001b[0m\u001b[0m_open\u001b[0m\u001b[0;34m(\u001b[0m\u001b[0;34m**\u001b[0m\u001b[0mself\u001b[0m\u001b[0;34m.\u001b[0m\u001b[0mrequest\u001b[0m\u001b[0;34m.\u001b[0m\u001b[0mkwargs\u001b[0m\u001b[0;34m.\u001b[0m\u001b[0mcopy\u001b[0m\u001b[0;34m(\u001b[0m\u001b[0;34m)\u001b[0m\u001b[0;34m)\u001b[0m\u001b[0;34m\u001b[0m\u001b[0m\n\u001b[0m\u001b[1;32m    208\u001b[0m \u001b[0;34m\u001b[0m\u001b[0m\n\u001b[1;32m    209\u001b[0m         \u001b[0;34m@\u001b[0m\u001b[0mproperty\u001b[0m\u001b[0;34m\u001b[0m\u001b[0m\n",
      "\u001b[0;32m/home/niaki/anaconda3/envs/cv/lib/python2.7/site-packages/imageio/plugins/freeimage.pyc\u001b[0m in \u001b[0;36m_open\u001b[0;34m(self, flags, ignoregamma)\u001b[0m\n\u001b[1;32m    201\u001b[0m                 \u001b[0mflags\u001b[0m \u001b[0;34m|=\u001b[0m \u001b[0mIO_FLAGS\u001b[0m\u001b[0;34m.\u001b[0m\u001b[0mPNG_IGNOREGAMMA\u001b[0m\u001b[0;34m\u001b[0m\u001b[0m\n\u001b[1;32m    202\u001b[0m             \u001b[0;31m# Enter as usual, with modified flags\u001b[0m\u001b[0;34m\u001b[0m\u001b[0;34m\u001b[0m\u001b[0m\n\u001b[0;32m--> 203\u001b[0;31m             \u001b[0;32mreturn\u001b[0m \u001b[0mFreeimageFormat\u001b[0m\u001b[0;34m.\u001b[0m\u001b[0mReader\u001b[0m\u001b[0;34m.\u001b[0m\u001b[0m_open\u001b[0m\u001b[0;34m(\u001b[0m\u001b[0mself\u001b[0m\u001b[0;34m,\u001b[0m \u001b[0mflags\u001b[0m\u001b[0;34m)\u001b[0m\u001b[0;34m\u001b[0m\u001b[0m\n\u001b[0m\u001b[1;32m    204\u001b[0m \u001b[0;34m\u001b[0m\u001b[0m\n\u001b[1;32m    205\u001b[0m     \u001b[0;31m# --\u001b[0m\u001b[0;34m\u001b[0m\u001b[0;34m\u001b[0m\u001b[0m\n",
      "\u001b[0;32m/home/niaki/anaconda3/envs/cv/lib/python2.7/site-packages/imageio/plugins/freeimage.pyc\u001b[0m in \u001b[0;36m_open\u001b[0;34m(self, flags)\u001b[0m\n\u001b[1;32m     78\u001b[0m             self._bm = fi.create_bitmap(self.request.filename, \n\u001b[1;32m     79\u001b[0m                                         self.format.fif, flags)\n\u001b[0;32m---> 80\u001b[0;31m             \u001b[0mself\u001b[0m\u001b[0;34m.\u001b[0m\u001b[0m_bm\u001b[0m\u001b[0;34m.\u001b[0m\u001b[0mload_from_filename\u001b[0m\u001b[0;34m(\u001b[0m\u001b[0mself\u001b[0m\u001b[0;34m.\u001b[0m\u001b[0mrequest\u001b[0m\u001b[0;34m.\u001b[0m\u001b[0mget_local_filename\u001b[0m\u001b[0;34m(\u001b[0m\u001b[0;34m)\u001b[0m\u001b[0;34m)\u001b[0m\u001b[0;34m\u001b[0m\u001b[0m\n\u001b[0m\u001b[1;32m     81\u001b[0m \u001b[0;34m\u001b[0m\u001b[0m\n\u001b[1;32m     82\u001b[0m         \u001b[0;32mdef\u001b[0m \u001b[0m_close\u001b[0m\u001b[0;34m(\u001b[0m\u001b[0mself\u001b[0m\u001b[0;34m)\u001b[0m\u001b[0;34m:\u001b[0m\u001b[0;34m\u001b[0m\u001b[0m\n",
      "\u001b[0;32m/home/niaki/anaconda3/envs/cv/lib/python2.7/site-packages/imageio/plugins/_freeimage.pyc\u001b[0m in \u001b[0;36mload_from_filename\u001b[0;34m(self, filename)\u001b[0m\n\u001b[1;32m    802\u001b[0m             \u001b[0;31m# Create bitmap\u001b[0m\u001b[0;34m\u001b[0m\u001b[0;34m\u001b[0m\u001b[0m\n\u001b[1;32m    803\u001b[0m             bitmap = lib.FreeImage_Load(self._ftype, efn(filename), \n\u001b[0;32m--> 804\u001b[0;31m                                         self._flags)\n\u001b[0m\u001b[1;32m    805\u001b[0m             \u001b[0mbitmap\u001b[0m \u001b[0;34m=\u001b[0m \u001b[0mctypes\u001b[0m\u001b[0;34m.\u001b[0m\u001b[0mc_void_p\u001b[0m\u001b[0;34m(\u001b[0m\u001b[0mbitmap\u001b[0m\u001b[0;34m)\u001b[0m\u001b[0;34m\u001b[0m\u001b[0m\n\u001b[1;32m    806\u001b[0m \u001b[0;34m\u001b[0m\u001b[0m\n",
      "\u001b[0;31mKeyboardInterrupt\u001b[0m: "
     ]
    }
   ],
   "source": [
    "for seq_path in seqs:\n",
    "    seq = hpatches_sequence(seq_path)"
   ]
  },
  {
   "cell_type": "code",
   "execution_count": null,
   "metadata": {},
   "outputs": [],
   "source": []
  }
 ],
 "metadata": {
  "kernelspec": {
   "display_name": "Python [conda env:cv]",
   "language": "python",
   "name": "conda-env-cv-py"
  },
  "language_info": {
   "codemirror_mode": {
    "name": "ipython",
    "version": 2
   },
   "file_extension": ".py",
   "mimetype": "text/x-python",
   "name": "python",
   "nbconvert_exporter": "python",
   "pygments_lexer": "ipython2",
   "version": "2.7.15"
  }
 },
 "nbformat": 4,
 "nbformat_minor": 2
}
