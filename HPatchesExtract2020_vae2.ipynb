{
 "cells": [
  {
   "cell_type": "code",
   "execution_count": null,
   "metadata": {},
   "outputs": [],
   "source": [
    "#works with cv virtual environment on piggy / tf_2 on janice"
   ]
  },
  {
   "cell_type": "code",
   "execution_count": 1,
   "metadata": {},
   "outputs": [],
   "source": [
    "import numpy as np\n",
    "import tensorflow as tf\n",
    "from tensorflow import keras\n",
    "from tensorflow.keras import layers\n",
    "from tensorflow.keras.models import Model, load_model\n",
    "from tensorflow.keras.preprocessing.image import ImageDataGenerator, load_img\n",
    "\n",
    "import numpy as np\n",
    "import matplotlib.pyplot as plt\n",
    "\n",
    "from os import listdir\n",
    "from os import system\n",
    "import os\n",
    "import random\n",
    "\n",
    "import imageio\n",
    "\n",
    "import sys\n",
    "import glob\n",
    "import cv2\n",
    "\n",
    "import pickle"
   ]
  },
  {
   "cell_type": "code",
   "execution_count": 2,
   "metadata": {},
   "outputs": [],
   "source": [
    "folder_path = '/home/niaki/Code/hpatches/hpatches-benchmark/data/hpatches-release'  # piggy\n",
    "# folder_path = '/scratch/hpatches/hpatches-benchmark/data/hpatches-release'  # janice\n",
    "# folder_path = 'hpatches_seqs/'  # janice\n",
    "patch_size = 65"
   ]
  },
  {
   "cell_type": "code",
   "execution_count": 3,
   "metadata": {},
   "outputs": [],
   "source": [
    "# all types of patches \n",
    "tps = ['ref','e1','e2','e3','e4','e5','h1','h2','h3','h4','h5',\\\n",
    "       't1','t2','t3','t4','t5']\n",
    "\n",
    "class hpatches_sequence:\n",
    "    \"\"\"Class for loading an HPatches sequence from a sequence folder\"\"\"\n",
    "    itr = tps\n",
    "    def __init__(self,base):\n",
    "        name = base.split('/')\n",
    "        self.name = name[-1]\n",
    "        self.base = base\n",
    "        for t in self.itr:\n",
    "            im_path = os.path.join(base, t+'.png')\n",
    "            im = cv2.imread(im_path,0)\n",
    "#             print(im.shape)\n",
    "#             print(im[0,0])\n",
    "#             print(type(im[0,0]))\n",
    "#             im = imageio.imread(im_path)\n",
    "#             print(im_imageio.shape)\n",
    "#             print(im_imageio[0,0])\n",
    "#             print(type(im_imageio[0,0]))\n",
    "#             print(np.array_equal(im, im_imageio))\n",
    "#             print()            \n",
    "            self.N = im.shape[0]//patch_size\n",
    "            setattr(self, t, np.split(im, self.N))"
   ]
  },
  {
   "cell_type": "code",
   "execution_count": 4,
   "metadata": {},
   "outputs": [],
   "source": [
    "seqs = glob.glob(folder_path+'/*')\n",
    "seqs = [os.path.abspath(p) for p in seqs]"
   ]
  },
  {
   "cell_type": "code",
   "execution_count": 5,
   "metadata": {},
   "outputs": [
    {
     "data": {
      "text/plain": [
       "116"
      ]
     },
     "execution_count": 5,
     "metadata": {},
     "output_type": "execute_result"
    }
   ],
   "source": [
    "len(seqs)"
   ]
  },
  {
   "cell_type": "code",
   "execution_count": null,
   "metadata": {},
   "outputs": [],
   "source": []
  },
  {
   "cell_type": "code",
   "execution_count": 6,
   "metadata": {},
   "outputs": [],
   "source": [
    "descr_name = 'vae_0.0.0.4'\n",
    "base_dir = '/home/niaki/Code/sundry_segments/weights'\n",
    "model_version = '0.0.0.4_dataaug_300moreepoch'\n",
    "vae_patch_size = 56"
   ]
  },
  {
   "cell_type": "code",
   "execution_count": 7,
   "metadata": {},
   "outputs": [],
   "source": [
    "latent_dim = 128"
   ]
  },
  {
   "cell_type": "code",
   "execution_count": 8,
   "metadata": {},
   "outputs": [],
   "source": [
    "class Sampling(layers.Layer):\n",
    "    \"\"\"Uses (z_mean, z_log_var) to sample z, the vector encoding a digit.\"\"\"\n",
    "\n",
    "    def call(self, inputs):\n",
    "        z_mean, z_log_var = inputs\n",
    "        batch = tf.shape(z_mean)[0]\n",
    "        dim = tf.shape(z_mean)[1]\n",
    "        epsilon = tf.keras.backend.random_normal(shape=(batch, dim))\n",
    "        return z_mean + tf.exp(0.5 * z_log_var) * epsilon"
   ]
  },
  {
   "cell_type": "code",
   "execution_count": null,
   "metadata": {},
   "outputs": [],
   "source": []
  },
  {
   "cell_type": "code",
   "execution_count": null,
   "metadata": {},
   "outputs": [],
   "source": [
    "# VAE.ipynb-like"
   ]
  },
  {
   "cell_type": "code",
   "execution_count": 9,
   "metadata": {},
   "outputs": [
    {
     "name": "stdout",
     "output_type": "stream",
     "text": [
      "__________________________________________________________________________________________________\n",
      "Layer (type)                    Output Shape         Param #     Connected to                     \n",
      "==================================================================================================\n",
      "input_1 (InputLayer)            (None, 56, 56, 1)    0                                            \n",
      "__________________________________________________________________________________________________\n",
      "conv2d (Conv2D)                 (None, 28, 28, 32)   320         input_1[0][0]                    \n",
      "__________________________________________________________________________________________________\n",
      "conv2d_1 (Conv2D)               (None, 14, 14, 64)   18496       conv2d[0][0]                     \n",
      "__________________________________________________________________________________________________\n",
      "conv2d_2 (Conv2D)               (None, 7, 7, 64)     36928       conv2d_1[0][0]                   \n",
      "__________________________________________________________________________________________________\n",
      "flatten (Flatten)               (None, 3136)         0           conv2d_2[0][0]                   \n",
      "__________________________________________________________________________________________________\n",
      "dense (Dense)                   (None, 256)          803072      flatten[0][0]                    \n",
      "__________________________________________________________________________________________________\n",
      "z_mean (Dense)                  (None, 128)          32896       dense[0][0]                      \n",
      "__________________________________________________________________________________________________\n",
      "z_log_var (Dense)               (None, 128)          32896       dense[0][0]                      \n",
      "__________________________________________________________________________________________________\n",
      "sampling (Sampling)             (None, 128)          0           z_mean[0][0]                     \n",
      "                                                                 z_log_var[0][0]                  \n",
      "==================================================================================================\n",
      "Total params: 924,608\n",
      "Trainable params: 924,608\n",
      "Non-trainable params: 0\n",
      "__________________________________________________________________________________________________\n"
     ]
    }
   ],
   "source": [
    "encoder_inputs = keras.Input(shape=(56, 56, 1))\n",
    "x = layers.Conv2D(32, 3, activation=\"relu\", strides=2, padding=\"same\")(encoder_inputs)\n",
    "x = layers.Conv2D(64, 3, activation=\"relu\", strides=2, padding=\"same\")(x)\n",
    "x = layers.Conv2D(64, 3, activation=\"relu\", strides=2, padding=\"same\")(x)\n",
    "x = layers.Flatten()(x)\n",
    "x = layers.Dense(256, activation=\"relu\")(x)\n",
    "z_mean = layers.Dense(latent_dim, name=\"z_mean\")(x)\n",
    "z_log_var = layers.Dense(latent_dim, name=\"z_log_var\")(x)\n",
    "z = Sampling()([z_mean, z_log_var])\n",
    "vae_encoder = keras.Model(encoder_inputs, [z_mean, z_log_var, z], name=\"encoder\")\n",
    "vae_encoder.summary()"
   ]
  },
  {
   "cell_type": "code",
   "execution_count": 10,
   "metadata": {},
   "outputs": [],
   "source": [
    "vae_encoder.load_weights('weights/vae_encoder_0.0.0.4_dataaug_300moreepoch.h5')"
   ]
  },
  {
   "cell_type": "code",
   "execution_count": null,
   "metadata": {},
   "outputs": [],
   "source": []
  },
  {
   "cell_type": "code",
   "execution_count": null,
   "metadata": {},
   "outputs": [],
   "source": []
  },
  {
   "cell_type": "code",
   "execution_count": null,
   "metadata": {},
   "outputs": [],
   "source": []
  },
  {
   "cell_type": "code",
   "execution_count": null,
   "metadata": {},
   "outputs": [],
   "source": []
  },
  {
   "cell_type": "code",
   "execution_count": null,
   "metadata": {},
   "outputs": [],
   "source": [
    "# VAE2ipynb-like"
   ]
  },
  {
   "cell_type": "code",
   "execution_count": 26,
   "metadata": {},
   "outputs": [],
   "source": [
    "# class Encoder(layers.Layer):\n",
    "#     \"\"\"Maps input patches to a triplet (z_mean, z_log_var, z).\"\"\"\n",
    "\n",
    "#     def __init__(self, name=\"encoder\", **kwargs):\n",
    "#         super(Encoder, self).__init__(name=name, **kwargs)\n",
    "        \n",
    "#         self.conv1 = layers.Conv2D(32, 3, activation=\"relu\", strides=2, padding=\"same\")\n",
    "#         self.conv2 = layers.Conv2D(64, 3, activation=\"relu\", strides=2, padding=\"same\")\n",
    "#         self.conv3 = layers.Conv2D(64, 3, activation=\"relu\", strides=2, padding=\"same\")\n",
    "#         self.flatten = layers.Flatten()\n",
    "#         self.dense = layers.Dense(256, activation=\"relu\")\n",
    "#         self.dense_mean = layers.Dense(latent_dim, name=\"z_mean\")\n",
    "#         self.dense_log_var = layers.Dense(latent_dim, name=\"z_log_var\")\n",
    "#         self.sampling = Sampling()\n",
    "        \n",
    "\n",
    "#     def call(self, inputs):\n",
    "#         x = self.conv1(inputs)\n",
    "#         x = self.conv2(x)\n",
    "#         x = self.conv3(x)\n",
    "#         x = self.flatten(x)\n",
    "#         x = self.dense(x)\n",
    "#         z_mean = self.dense_mean(x)\n",
    "#         z_log_var = self.dense_log_var(x)\n",
    "#         z = self.sampling((z_mean, z_log_var))        \n",
    "#         return z_mean, z_log_var, z"
   ]
  },
  {
   "cell_type": "code",
   "execution_count": 27,
   "metadata": {},
   "outputs": [],
   "source": [
    "# class Decoder(layers.Layer):\n",
    "#     \"\"\"Converts z, the encoded patch vector, back into the patch.\"\"\"\n",
    "\n",
    "#     def __init__(self, name=\"decoder\", **kwargs):\n",
    "#         super(Decoder, self).__init__(name=name, **kwargs)\n",
    "        \n",
    "#         self.dense = layers.Dense(7 * 7 * 64, activation=\"relu\")\n",
    "#         self.reshape = layers.Reshape((7, 7, 64))\n",
    "#         self.conv1 = layers.Conv2DTranspose(64, 3, activation=\"relu\", strides=2, padding=\"same\")\n",
    "#         self.conv2 = layers.Conv2DTranspose(64, 3, activation=\"relu\", strides=2, padding=\"same\")\n",
    "#         self.conv3 = layers.Conv2DTranspose(32, 3, activation=\"relu\", strides=2, padding=\"same\")\n",
    "#         self.conv_output = layers.Conv2DTranspose(1, 3, activation=\"sigmoid\", padding=\"same\")\n",
    "        \n",
    "#     def call(self, inputs):\n",
    "#         x = self.dense(inputs)\n",
    "#         x = self.reshape(x)\n",
    "#         x = self.conv1(x)\n",
    "#         x = self.conv2(x)\n",
    "#         x = self.conv3(x)\n",
    "#         x = self.conv_output(x)\n",
    "#         return x"
   ]
  },
  {
   "cell_type": "code",
   "execution_count": 28,
   "metadata": {},
   "outputs": [],
   "source": [
    "# class VariationalAutoEncoder(keras.Model):\n",
    "#     \"\"\"Combines the encoder and decoder into an end-to-end model for training.\"\"\"\n",
    "\n",
    "#     def __init__(\n",
    "#         self,\n",
    "#         name=\"vae\",\n",
    "#         **kwargs\n",
    "#     ):\n",
    "#         super(VariationalAutoEncoder, self).__init__(name=name, **kwargs)\n",
    "#         self.encoder = Encoder()\n",
    "#         self.decoder = Decoder()\n",
    "\n",
    "#     def call(self, inputs):\n",
    "#         z_mean, z_log_var, z = self.encoder(inputs)\n",
    "#         reconstructed = self.decoder(z)\n",
    "#         # Add KL divergence regularization loss.\n",
    "#         kl_loss = -0.5 * tf.reduce_mean(\n",
    "#             z_log_var - tf.square(z_mean) - tf.exp(z_log_var) + 1\n",
    "#         )\n",
    "#         self.add_loss(kl_loss)\n",
    "#         return reconstructed"
   ]
  },
  {
   "cell_type": "code",
   "execution_count": 29,
   "metadata": {
    "scrolled": false
   },
   "outputs": [],
   "source": [
    "# vae = VariationalAutoEncoder()"
   ]
  },
  {
   "cell_type": "code",
   "execution_count": 30,
   "metadata": {},
   "outputs": [],
   "source": [
    "# # have to do this in order to be able to load_weights into vae, see:\n",
    "# # https://github.com/keras-team/keras/issues/10417\n",
    "# fake_batch = np.ones((5, 56, 56, 1), dtype=np.float32)\n",
    "# fake_batch_reconstructed = vae(fake_batch)"
   ]
  },
  {
   "cell_type": "code",
   "execution_count": 31,
   "metadata": {},
   "outputs": [],
   "source": [
    "# vae.load_weights('/scratch/image_datasets/2_for_learned_brief/ready/vae_' + model_version + '.h5')"
   ]
  },
  {
   "cell_type": "code",
   "execution_count": null,
   "metadata": {},
   "outputs": [],
   "source": []
  },
  {
   "cell_type": "code",
   "execution_count": null,
   "metadata": {},
   "outputs": [],
   "source": []
  },
  {
   "cell_type": "code",
   "execution_count": 14,
   "metadata": {
    "scrolled": true
   },
   "outputs": [
    {
     "name": "stdout",
     "output_type": "stream",
     "text": [
      "i_kurhaus\n",
      "i_veggies\n",
      "i_fruits\n",
      "v_grace\n",
      "v_bark\n",
      "i_boutique\n",
      "v_tempera\n",
      "i_dome\n",
      "v_busstop\n",
      "v_vitro\n",
      "v_bip\n",
      "v_strand\n",
      "i_salon\n",
      "i_brooklyn\n",
      "i_steps\n",
      "v_samples\n",
      "v_dirtywall\n",
      "i_bologna\n",
      "i_fenis\n",
      "v_wormhole\n",
      "v_posters\n",
      "i_londonbridge\n",
      "i_indiana\n",
      "i_objects\n",
      "i_nijmegen\n",
      "v_cartooncity\n",
      "i_fog\n",
      "v_yard\n",
      "i_tools\n",
      "i_nescafe\n",
      "i_gonnenberg\n",
      "v_gardens\n",
      "i_lionnight\n",
      "v_home\n",
      "i_autannes\n",
      "i_whitebuilding\n",
      "v_wall\n",
      "i_smurf\n",
      "v_yuri\n",
      "i_kions\n",
      "i_greentea\n",
      "i_pinard\n",
      "v_bricks\n",
      "v_charing\n",
      "v_artisans\n",
      "v_there\n",
      "v_wounded\n",
      "v_soldiers\n",
      "v_bees\n",
      "i_zion\n",
      "i_porta\n",
      "v_fest\n",
      "v_calder\n",
      "v_machines\n",
      "i_yellowtent\n",
      "v_sunseason\n",
      "i_resort\n",
      "i_leuven\n",
      "i_crownday\n",
      "i_village\n",
      "v_dogman\n",
      "i_ktirio\n",
      "v_blueprint\n",
      "i_ajuntament\n",
      "i_bridger\n",
      "i_greenhouse\n",
      "v_london\n",
      "i_books\n",
      "i_chestnuts\n",
      "v_courses\n",
      "v_boat\n",
      "v_coffeehouse\n",
      "i_crownnight\n",
      "i_toy\n",
      "v_astronautis\n",
      "i_dc\n",
      "i_nuts\n",
      "v_abstract\n",
      "i_ski\n",
      "i_santuario\n",
      "v_beyus\n",
      "v_tabletop\n",
      "v_underground\n",
      "v_feast\n",
      "i_lionday\n",
      "v_weapons\n",
      "v_bird\n",
      "v_maskedman\n",
      "i_table\n",
      "v_adam\n",
      "i_parking\n",
      "v_laptop\n",
      "v_churchill\n",
      "i_pool\n",
      "i_castle\n",
      "i_melon\n",
      "i_contruction\n",
      "v_wapping\n",
      "v_talent\n",
      "i_miniature\n",
      "v_man\n",
      "v_apprentices\n",
      "v_eastsouth\n",
      "v_azzola\n",
      "i_partyfood\n",
      "v_colors\n",
      "i_school\n",
      "v_war\n",
      "v_graffiti\n",
      "i_duda\n",
      "v_woman\n",
      "i_pencils\n",
      "v_birdwoman\n",
      "i_troulos\n",
      "v_pomegranate\n",
      "v_circus\n"
     ]
    }
   ],
   "source": [
    "for seq_path in seqs:\n",
    "    seq = hpatches_sequence(seq_path)\n",
    "    path = os.path.join(\"hpatches_extracted_descrs\", descr_name, seq.name)\n",
    "    if not os.path.exists(path):\n",
    "        os.makedirs(path)\n",
    "\n",
    "    descr_size_per_patch = 128\n",
    "    descr = np.zeros((seq.N,descr_size_per_patch))\n",
    "    print(seq.name)\n",
    "    for tp in tps:\n",
    "#         print(seq.name+'/'+tp)\n",
    "        for i,patch in enumerate(getattr(seq, tp)):\n",
    "            patch = patch / 255.0\n",
    "#             print(patch)\n",
    "            patch_crop = patch[4: 60, 4: 60]\n",
    "            patch_crop_encoded_zzz = vae_encoder.predict(np.expand_dims(np.expand_dims(patch_crop, axis=-1), axis=0))\n",
    "            patch_crop_encoded_zzz = np.array(patch_crop_encoded_zzz)\n",
    "            patch_crop_encoded = patch_crop_encoded_zzz[2]\n",
    "            patch_crop_encoded_flat = patch_crop_encoded_zzz[2].flatten()  \n",
    "#             print(patch_crop.shape)\n",
    "#             print(np.array(patch_crop_encoded).shape)\n",
    "#             print(patch_crop_encoded_flat.shape)\n",
    "#             print(patch_crop_encoded_flat)\n",
    "#             print()\n",
    "            descr[i] = patch_crop_encoded_flat\n",
    "        np.savetxt(os.path.join(path,tp+'.csv'), descr, delimiter=',')"
   ]
  },
  {
   "cell_type": "code",
   "execution_count": null,
   "metadata": {},
   "outputs": [],
   "source": []
  },
  {
   "cell_type": "code",
   "execution_count": null,
   "metadata": {},
   "outputs": [],
   "source": []
  },
  {
   "cell_type": "code",
   "execution_count": null,
   "metadata": {},
   "outputs": [],
   "source": []
  },
  {
   "cell_type": "code",
   "execution_count": null,
   "metadata": {},
   "outputs": [],
   "source": []
  },
  {
   "cell_type": "code",
   "execution_count": null,
   "metadata": {},
   "outputs": [],
   "source": []
  },
  {
   "cell_type": "code",
   "execution_count": null,
   "metadata": {},
   "outputs": [],
   "source": []
  },
  {
   "cell_type": "code",
   "execution_count": null,
   "metadata": {},
   "outputs": [],
   "source": []
  },
  {
   "cell_type": "code",
   "execution_count": null,
   "metadata": {},
   "outputs": [],
   "source": []
  },
  {
   "cell_type": "code",
   "execution_count": null,
   "metadata": {},
   "outputs": [],
   "source": []
  },
  {
   "cell_type": "code",
   "execution_count": null,
   "metadata": {},
   "outputs": [],
   "source": []
  },
  {
   "cell_type": "code",
   "execution_count": null,
   "metadata": {},
   "outputs": [],
   "source": [
    "# loading weights from a model trained in VAE2.ipynb to a model like from VAE.ipynb\n",
    "# (because the HPatches descriptor extraction is faster on piggy, and there I don't have tf2,\n",
    "# and because of that, I am getting error when trying to predict using a model from VAE2...)"
   ]
  },
  {
   "cell_type": "code",
   "execution_count": 45,
   "metadata": {},
   "outputs": [
    {
     "name": "stdout",
     "output_type": "stream",
     "text": [
      "Model: \"encoder\"\n",
      "__________________________________________________________________________________________________\n",
      "Layer (type)                    Output Shape         Param #     Connected to                     \n",
      "==================================================================================================\n",
      "input_3 (InputLayer)            [(None, 56, 56, 1)]  0                                            \n",
      "__________________________________________________________________________________________________\n",
      "conv2d_12 (Conv2D)              (None, 28, 28, 32)   320         input_3[0][0]                    \n",
      "__________________________________________________________________________________________________\n",
      "conv2d_13 (Conv2D)              (None, 14, 14, 64)   18496       conv2d_12[0][0]                  \n",
      "__________________________________________________________________________________________________\n",
      "conv2d_14 (Conv2D)              (None, 7, 7, 64)     36928       conv2d_13[0][0]                  \n",
      "__________________________________________________________________________________________________\n",
      "flatten_4 (Flatten)             (None, 3136)         0           conv2d_14[0][0]                  \n",
      "__________________________________________________________________________________________________\n",
      "dense_6 (Dense)                 (None, 256)          803072      flatten_4[0][0]                  \n",
      "__________________________________________________________________________________________________\n",
      "z_mean (Dense)                  (None, 128)          32896       dense_6[0][0]                    \n",
      "__________________________________________________________________________________________________\n",
      "z_log_var (Dense)               (None, 128)          32896       dense_6[0][0]                    \n",
      "__________________________________________________________________________________________________\n",
      "sampling_4 (Sampling)           (None, 128)          0           z_mean[0][0]                     \n",
      "                                                                 z_log_var[0][0]                  \n",
      "==================================================================================================\n",
      "Total params: 924,608\n",
      "Trainable params: 924,608\n",
      "Non-trainable params: 0\n",
      "__________________________________________________________________________________________________\n"
     ]
    }
   ],
   "source": [
    "encoder_inputs = keras.Input(shape=(56, 56, 1))\n",
    "x = layers.Conv2D(32, 3, activation=\"relu\", strides=2, padding=\"same\")(encoder_inputs)\n",
    "x = layers.Conv2D(64, 3, activation=\"relu\", strides=2, padding=\"same\")(x)\n",
    "x = layers.Conv2D(64, 3, activation=\"relu\", strides=2, padding=\"same\")(x)\n",
    "x = layers.Flatten()(x)\n",
    "x = layers.Dense(256, activation=\"relu\")(x)\n",
    "z_mean = layers.Dense(latent_dim, name=\"z_mean\")(x)\n",
    "z_log_var = layers.Dense(latent_dim, name=\"z_log_var\")(x)\n",
    "z = Sampling()([z_mean, z_log_var])\n",
    "vae_encoder = keras.Model(encoder_inputs, [z_mean, z_log_var, z], name=\"encoder\")\n",
    "vae_encoder.summary()"
   ]
  },
  {
   "cell_type": "code",
   "execution_count": 46,
   "metadata": {},
   "outputs": [
    {
     "name": "stdout",
     "output_type": "stream",
     "text": [
      "<tensorflow.python.keras.engine.input_layer.InputLayer object at 0x7fe7983322e8>\n",
      "<tensorflow.python.keras.layers.convolutional.Conv2D object at 0x7fe798332748>\n",
      "<tensorflow.python.keras.layers.convolutional.Conv2D object at 0x7fe798332d68>\n",
      "<tensorflow.python.keras.layers.convolutional.Conv2D object at 0x7fe798332278>\n",
      "<tensorflow.python.keras.layers.core.Flatten object at 0x7fe79831eac8>\n",
      "<tensorflow.python.keras.layers.core.Dense object at 0x7fe798287e80>\n",
      "<tensorflow.python.keras.layers.core.Dense object at 0x7fe7982875f8>\n",
      "<tensorflow.python.keras.layers.core.Dense object at 0x7fe79829cb00>\n",
      "<__main__.Sampling object at 0x7fe79829c048>\n"
     ]
    }
   ],
   "source": [
    "print(vae_encoder.get_layer(index=0))\n",
    "\n",
    "print(vae_encoder.get_layer(index=1))\n",
    "vae_encoder.get_layer(index=1).set_weights(vae.encoder.conv1.get_weights())\n",
    "\n",
    "print(vae_encoder.get_layer(index=2))\n",
    "vae_encoder.get_layer(index=2).set_weights(vae.encoder.conv2.get_weights())\n",
    "\n",
    "print(vae_encoder.get_layer(index=3))\n",
    "vae_encoder.get_layer(index=3).set_weights(vae.encoder.conv3.get_weights())\n",
    "\n",
    "print(vae_encoder.get_layer(index=4))\n",
    "\n",
    "print(vae_encoder.get_layer(index=5))\n",
    "vae_encoder.get_layer(index=5).set_weights(vae.encoder.dense.get_weights())\n",
    "\n",
    "print(vae_encoder.get_layer(index=6))\n",
    "vae_encoder.get_layer(index=6).set_weights(vae.encoder.dense_mean.get_weights())\n",
    "\n",
    "print(vae_encoder.get_layer(index=7))\n",
    "vae_encoder.get_layer(index=7).set_weights(vae.encoder.dense_log_var.get_weights())\n",
    "\n",
    "print(vae_encoder.get_layer(index=8))"
   ]
  },
  {
   "cell_type": "code",
   "execution_count": null,
   "metadata": {},
   "outputs": [],
   "source": []
  },
  {
   "cell_type": "code",
   "execution_count": null,
   "metadata": {},
   "outputs": [],
   "source": []
  },
  {
   "cell_type": "code",
   "execution_count": 47,
   "metadata": {},
   "outputs": [],
   "source": [
    "patch_crop_encoded_zzz = vae.encoder(np.expand_dims(np.expand_dims(patch_crop, axis=-1), axis=0))"
   ]
  },
  {
   "cell_type": "code",
   "execution_count": 48,
   "metadata": {},
   "outputs": [],
   "source": [
    "patch_crop_encoded_zzz2 = vae_encoder.predict(np.expand_dims(np.expand_dims(patch_crop, axis=-1), axis=0))"
   ]
  },
  {
   "cell_type": "code",
   "execution_count": null,
   "metadata": {},
   "outputs": [],
   "source": [
    "# verify they produce the same results"
   ]
  },
  {
   "cell_type": "code",
   "execution_count": 54,
   "metadata": {},
   "outputs": [
    {
     "data": {
      "text/plain": [
       "True"
      ]
     },
     "execution_count": 54,
     "metadata": {},
     "output_type": "execute_result"
    }
   ],
   "source": [
    "np.array_equal(patch_crop_encoded_zzz[0], patch_crop_encoded_zzz2[0])"
   ]
  },
  {
   "cell_type": "code",
   "execution_count": 55,
   "metadata": {},
   "outputs": [
    {
     "data": {
      "text/plain": [
       "True"
      ]
     },
     "execution_count": 55,
     "metadata": {},
     "output_type": "execute_result"
    }
   ],
   "source": [
    "np.array_equal(patch_crop_encoded_zzz[1], patch_crop_encoded_zzz2[1])"
   ]
  },
  {
   "cell_type": "code",
   "execution_count": 56,
   "metadata": {},
   "outputs": [
    {
     "data": {
      "text/plain": [
       "False"
      ]
     },
     "execution_count": 56,
     "metadata": {},
     "output_type": "execute_result"
    }
   ],
   "source": [
    "# should be false beacause of randomness\n",
    "np.array_equal(patch_crop_encoded_zzz[2], patch_crop_encoded_zzz2[2])"
   ]
  },
  {
   "cell_type": "code",
   "execution_count": 58,
   "metadata": {},
   "outputs": [],
   "source": [
    "vae_encoder.save_weights('weights/vae_encoder_' + model_version + '.h5')"
   ]
  },
  {
   "cell_type": "code",
   "execution_count": null,
   "metadata": {},
   "outputs": [],
   "source": []
  }
 ],
 "metadata": {
  "kernelspec": {
   "display_name": "Python [conda env:cv]",
   "language": "python",
   "name": "conda-env-cv-py"
  },
  "language_info": {
   "codemirror_mode": {
    "name": "ipython",
    "version": 2
   },
   "file_extension": ".py",
   "mimetype": "text/x-python",
   "name": "python",
   "nbconvert_exporter": "python",
   "pygments_lexer": "ipython2",
   "version": "2.7.15"
  }
 },
 "nbformat": 4,
 "nbformat_minor": 2
}
