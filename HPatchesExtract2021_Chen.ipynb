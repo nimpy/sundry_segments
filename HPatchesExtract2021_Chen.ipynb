{
 "cells": [
  {
   "cell_type": "code",
   "execution_count": null,
   "metadata": {},
   "outputs": [],
   "source": [
    "#works with cv virtual environment"
   ]
  },
  {
   "cell_type": "code",
   "execution_count": 1,
   "metadata": {},
   "outputs": [],
   "source": [
    "import numpy as np\n",
    "# import matplotlib.pyplot as plt\n",
    "\n",
    "from os import listdir\n",
    "from os import system\n",
    "import os\n",
    "import random\n",
    "\n",
    "import imageio\n",
    "\n",
    "import sys\n",
    "import glob\n",
    "import cv2"
   ]
  },
  {
   "cell_type": "code",
   "execution_count": 2,
   "metadata": {},
   "outputs": [],
   "source": [
    "folder_path = '/scratch/hpatches/hpatches-benchmark/data/hpatches-release'\n",
    "patch_size = 65"
   ]
  },
  {
   "cell_type": "code",
   "execution_count": 3,
   "metadata": {},
   "outputs": [],
   "source": [
    "# all types of patches \n",
    "tps = ['ref','e1','e2','e3','e4','e5','h1','h2','h3','h4','h5',\\\n",
    "       't1','t2','t3','t4','t5']\n",
    "\n",
    "class hpatches_sequence:\n",
    "    \"\"\"Class for loading an HPatches sequence from a sequence folder\"\"\"\n",
    "    itr = tps\n",
    "    def __init__(self,base):\n",
    "        name = base.split('/')\n",
    "        self.name = name[-1]\n",
    "        self.base = base\n",
    "        for t in self.itr:\n",
    "            im_path = os.path.join(base, t+'.png')\n",
    "            im = cv2.imread(im_path,0)\n",
    "            self.N = im.shape[0]/patch_size\n",
    "            setattr(self, t, np.split(im, self.N))"
   ]
  },
  {
   "cell_type": "code",
   "execution_count": 4,
   "metadata": {},
   "outputs": [],
   "source": [
    "seqs = glob.glob(folder_path+'/*')\n",
    "seqs = [os.path.abspath(p) for p in seqs]"
   ]
  },
  {
   "cell_type": "code",
   "execution_count": 5,
   "metadata": {},
   "outputs": [
    {
     "data": {
      "text/plain": [
       "116"
      ]
     },
     "execution_count": 5,
     "metadata": {},
     "output_type": "execute_result"
    }
   ],
   "source": [
    "len(seqs)"
   ]
  },
  {
   "cell_type": "code",
   "execution_count": 6,
   "metadata": {},
   "outputs": [],
   "source": [
    "descr_name = 'chen'\n",
    "base_dir = '/home/niaki/Projects/patch-desc-ae/other_descriptors'\n",
    "model_version = 'encoderChenEtAl_400it_20210702.npy'"
   ]
  },
  {
   "cell_type": "code",
   "execution_count": null,
   "metadata": {},
   "outputs": [],
   "source": []
  },
  {
   "cell_type": "code",
   "execution_count": null,
   "metadata": {},
   "outputs": [],
   "source": []
  },
  {
   "cell_type": "code",
   "execution_count": 7,
   "metadata": {},
   "outputs": [],
   "source": [
    "def sigmoid(x):\n",
    "    return 1 / (1 + np.exp(-x))"
   ]
  },
  {
   "cell_type": "code",
   "execution_count": 8,
   "metadata": {},
   "outputs": [],
   "source": [
    "input_size = patch_size * patch_size\n",
    "hidden_size = 128"
   ]
  },
  {
   "cell_type": "code",
   "execution_count": 9,
   "metadata": {},
   "outputs": [],
   "source": [
    "theta = np.load(base_dir + '/' + model_version)\n",
    "W1 = theta[0:hidden_size * input_size].reshape(hidden_size, input_size)\n",
    "# W2 = theta[hidden_size * input_size:2 * hidden_size * input_size].reshape(input_size, hidden_size)\n",
    "b1 = theta[2 * hidden_size * input_size:2 * hidden_size * input_size + hidden_size]\n",
    "# b2 = theta[2 * hidden_size * input_size + hidden_size:]"
   ]
  },
  {
   "cell_type": "code",
   "execution_count": null,
   "metadata": {},
   "outputs": [],
   "source": []
  },
  {
   "cell_type": "code",
   "execution_count": 10,
   "metadata": {},
   "outputs": [],
   "source": [
    "# patch = np.zeros((65,65))"
   ]
  },
  {
   "cell_type": "code",
   "execution_count": 11,
   "metadata": {},
   "outputs": [],
   "source": [
    "def compute_chen(patch):\n",
    "    data = np.expand_dims(patch.reshape(patch_size * patch_size), axis=1)\n",
    "    z2 = W1.dot(data) + np.tile(b1, (1, 1)).transpose()\n",
    "    patch_encoding = sigmoid(z2)\n",
    "    return patch_encoding"
   ]
  },
  {
   "cell_type": "code",
   "execution_count": null,
   "metadata": {},
   "outputs": [],
   "source": []
  },
  {
   "cell_type": "code",
   "execution_count": null,
   "metadata": {},
   "outputs": [],
   "source": []
  },
  {
   "cell_type": "code",
   "execution_count": null,
   "metadata": {},
   "outputs": [],
   "source": []
  },
  {
   "cell_type": "code",
   "execution_count": null,
   "metadata": {},
   "outputs": [],
   "source": [
    "# for seq_path in seqs:\n",
    "#     seq = hpatches_sequence(seq_path)\n",
    "#     path = os.path.join(descr_name,seq.name)\n",
    "#     if not os.path.exists(path):\n",
    "#         os.makedirs(path)\n",
    "#     descr = np.zeros((seq.N,2)) # trivial (mi,sigma) descriptor\n",
    "#     for tp in tps:\n",
    "#         print(seq.name+'/'+tp)\n",
    "#         for i,patch in enumerate(getattr(seq, tp)):\n",
    "#             mi = np.mean(patch) # trivial (mi,sigma) descriptor\n",
    "#             sigma = np.std(patch) # trivial (mi,sigma) descriptor\n",
    "#             descr[i] = np.array([mi,sigma])\n",
    "#         np.savetxt(os.path.join(path,tp+'.csv'), descr, delimiter=',') # X is an array"
   ]
  },
  {
   "cell_type": "code",
   "execution_count": 15,
   "metadata": {},
   "outputs": [],
   "source": [
    "save_dir = '/scratch/cloned_repositories/hpatches-benchmark/data/descriptors/'"
   ]
  },
  {
   "cell_type": "code",
   "execution_count": 17,
   "metadata": {
    "scrolled": true
   },
   "outputs": [
    {
     "name": "stdout",
     "output_type": "stream",
     "text": [
      "i_nijmegen\n",
      "i_santuario\n",
      "v_circus\n",
      "i_parking\n",
      "v_grace\n",
      "v_man\n",
      "v_blueprint\n",
      "v_cartooncity\n",
      "v_azzola\n",
      "i_salon\n",
      "i_school\n",
      "v_colors\n",
      "v_wormhole\n",
      "v_weapons\n",
      "v_vitro\n",
      "i_brooklyn\n",
      "i_lionday\n",
      "i_chestnuts\n",
      "i_dome\n",
      "v_war\n",
      "i_fenis\n",
      "v_talent\n",
      "i_boutique\n",
      "i_steps\n",
      "v_churchill\n",
      "i_bridger\n",
      "v_courses\n",
      "i_castle\n",
      "v_bark\n",
      "v_maskedman\n",
      "i_pencils\n",
      "i_miniature\n",
      "v_laptop\n",
      "i_tools\n",
      "v_eastsouth\n",
      "i_troulos\n",
      "i_crownday\n",
      "v_machines\n",
      "i_kions\n",
      "i_zion\n",
      "i_toy\n",
      "v_fest\n",
      "i_ski\n",
      "v_bees\n",
      "v_there\n",
      "i_smurf\n",
      "i_dc\n",
      "i_gonnenberg\n",
      "v_soldiers\n",
      "i_whitebuilding\n",
      "i_greentea\n",
      "v_artisans\n",
      "v_yuri\n",
      "v_birdwoman\n",
      "i_porta\n",
      "i_yellowtent\n",
      "v_yard\n",
      "i_partyfood\n",
      "v_home\n",
      "v_london\n",
      "v_wapping\n",
      "i_autannes\n",
      "v_wall\n",
      "i_leuven\n",
      "i_resort\n",
      "i_books\n",
      "i_indiana\n",
      "v_adam\n",
      "v_underground\n",
      "v_dogman\n",
      "i_ktirio\n",
      "i_objects\n",
      "i_crownnight\n",
      "i_greenhouse\n",
      "v_posters\n",
      "v_calder\n",
      "v_samples\n",
      "i_bologna\n",
      "v_bird\n",
      "i_ajuntament\n",
      "v_tabletop\n",
      "v_feast\n",
      "v_coffeehouse\n",
      "i_nuts\n",
      "v_tempera\n",
      "v_busstop\n",
      "v_beyus\n",
      "i_pinard\n",
      "v_abstract\n",
      "v_bricks\n",
      "i_table\n",
      "i_kurhaus\n",
      "i_veggies\n",
      "v_dirtywall\n",
      "v_astronautis\n",
      "v_boat\n",
      "i_village\n",
      "i_melon\n",
      "v_graffiti\n",
      "v_bip\n",
      "v_pomegranate\n",
      "i_lionnight\n",
      "v_wounded\n",
      "i_duda\n",
      "i_contruction\n",
      "v_woman\n",
      "v_strand\n",
      "v_charing\n",
      "i_londonbridge\n",
      "v_gardens\n",
      "i_nescafe\n",
      "i_fruits\n",
      "v_apprentices\n",
      "i_pool\n",
      "i_fog\n",
      "v_sunseason\n"
     ]
    }
   ],
   "source": [
    "for seq_path in seqs:\n",
    "    seq = hpatches_sequence(seq_path)\n",
    "    path = os.path.join(save_dir, descr_name, seq.name)\n",
    "    if not os.path.exists(path):\n",
    "        os.makedirs(path)\n",
    "\n",
    "    descr_size_per_patch = 128\n",
    "    descr = np.zeros((int(seq.N),descr_size_per_patch))\n",
    "    print(seq.name)\n",
    "    for tp in tps:\n",
    "#         print(seq.name+'/'+tp)\n",
    "        for i,patch in enumerate(getattr(seq, tp)):\n",
    "            patch = patch / 255.0\n",
    "#             print(patch.shape)\n",
    "            patch_encoded = compute_chen(patch)\n",
    "#             print(patch_encoded.shape)\n",
    "            patch_crop_encoded_flat = patch_encoded.flatten()\n",
    "#             print(patch_crop_encoded_flat.shape)\n",
    "#             print()\n",
    "            descr[i] = patch_crop_encoded_flat\n",
    "        np.savetxt(os.path.join(path,tp+'.csv'), descr, delimiter=',')"
   ]
  },
  {
   "cell_type": "code",
   "execution_count": 23,
   "metadata": {},
   "outputs": [
    {
     "data": {
      "text/plain": [
       "1999.0"
      ]
     },
     "execution_count": 23,
     "metadata": {},
     "output_type": "execute_result"
    }
   ],
   "source": [
    "seq.N"
   ]
  },
  {
   "cell_type": "code",
   "execution_count": 25,
   "metadata": {},
   "outputs": [
    {
     "data": {
      "text/plain": [
       "'hpatches_extracted_descrs/chen/i_santuario'"
      ]
     },
     "execution_count": 25,
     "metadata": {},
     "output_type": "execute_result"
    }
   ],
   "source": [
    "path"
   ]
  },
  {
   "cell_type": "code",
   "execution_count": null,
   "metadata": {},
   "outputs": [],
   "source": []
  }
 ],
 "metadata": {
  "kernelspec": {
   "display_name": "Python (cv)",
   "language": "python",
   "name": "cv"
  },
  "language_info": {
   "codemirror_mode": {
    "name": "ipython",
    "version": 3
   },
   "file_extension": ".py",
   "mimetype": "text/x-python",
   "name": "python",
   "nbconvert_exporter": "python",
   "pygments_lexer": "ipython3",
   "version": "3.7.3"
  }
 },
 "nbformat": 4,
 "nbformat_minor": 2
}
