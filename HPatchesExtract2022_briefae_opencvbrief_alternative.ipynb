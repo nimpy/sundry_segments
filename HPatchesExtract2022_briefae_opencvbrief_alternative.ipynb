{
 "cells": [
  {
   "cell_type": "code",
   "execution_count": null,
   "metadata": {},
   "outputs": [],
   "source": [
    "#works with hpatches conda environment"
   ]
  },
  {
   "cell_type": "code",
   "execution_count": 3,
   "metadata": {},
   "outputs": [],
   "source": [
    "import sys\n",
    "import glob\n",
    "import os\n",
    "import cv2\n",
    "import numpy as np\n",
    "\n",
    "from keras.layers import Input, Dense, Convolution2D, MaxPooling2D, UpSampling2D, Conv2D, Flatten\n",
    "from keras.models import Model, load_model\n",
    "from keras.preprocessing.image import ImageDataGenerator\n",
    "from keras import backend as K\n",
    "from keras import initializers\n",
    "import keras"
   ]
  },
  {
   "cell_type": "code",
   "execution_count": 8,
   "metadata": {},
   "outputs": [],
   "source": [
    "folder_path = '/scratch/cloned_repositories/hpatches-benchmark/data/hpatches-release/'\n",
    "patch_size = 65\n",
    "\n",
    "input_patch_size = 56\n",
    "brief_patch_size = 48"
   ]
  },
  {
   "cell_type": "code",
   "execution_count": 9,
   "metadata": {},
   "outputs": [],
   "source": [
    "# all types of patches \n",
    "tps = ['ref','e1','e2','e3','e4','e5','h1','h2','h3','h4','h5',\\\n",
    "       't1','t2','t3','t4','t5']\n",
    "\n",
    "class hpatches_sequence:\n",
    "    \"\"\"Class for loading an HPatches sequence from a sequence folder\"\"\"\n",
    "    itr = tps\n",
    "    def __init__(self,base):\n",
    "        name = base.split('/')\n",
    "        self.name = name[-1]\n",
    "        self.base = base\n",
    "        for t in self.itr:\n",
    "            im_path = os.path.join(base, t+'.png')\n",
    "            im = cv2.imread(im_path,0)\n",
    "            self.N = im.shape[0]/patch_size\n",
    "            setattr(self, t, np.split(im, self.N))"
   ]
  },
  {
   "cell_type": "code",
   "execution_count": 10,
   "metadata": {},
   "outputs": [],
   "source": [
    "seqs = glob.glob(folder_path+'/*')\n",
    "seqs = [os.path.abspath(p) for p in seqs]"
   ]
  },
  {
   "cell_type": "code",
   "execution_count": 11,
   "metadata": {},
   "outputs": [
    {
     "data": {
      "text/plain": [
       "116"
      ]
     },
     "execution_count": 11,
     "metadata": {},
     "output_type": "execute_result"
    }
   ],
   "source": [
    "len(seqs)"
   ]
  },
  {
   "cell_type": "code",
   "execution_count": 18,
   "metadata": {},
   "outputs": [],
   "source": [
    "descr_name = 'learned_brief_64_binary_datagen_100more'\n",
    "base_dir = '/scratch/image_datasets/2_for_learned_brief/ready'\n",
    "model_version = '0.2.0.0.4_whole_datagen_dense1152_conv32_conv32_up_conv32_conv32_up_conv32_conv8_conv1__relu_last_sigmoid_bce_output24X24_increasedgeometricnoise_train50more'"
   ]
  },
  {
   "cell_type": "code",
   "execution_count": 19,
   "metadata": {
    "scrolled": false
   },
   "outputs": [
    {
     "name": "stderr",
     "output_type": "stream",
     "text": [
      "2022-10-18 22:23:36.782521: I tensorflow/core/platform/cpu_feature_guard.cc:193] This TensorFlow binary is optimized with oneAPI Deep Neural Network Library (oneDNN) to use the following CPU instructions in performance-critical operations:  SSE4.1 SSE4.2 AVX AVX2 FMA\n",
      "To enable them in other operations, rebuild TensorFlow with the appropriate compiler flags.\n",
      "2022-10-18 22:23:36.785858: I tensorflow/core/common_runtime/process_util.cc:146] Creating new thread pool with default inter op setting: 2. Tune using inter_op_parallelism_threads for best performance.\n"
     ]
    }
   ],
   "source": [
    "brief_ae = load_model(base_dir + '/brief_ae_' + model_version + '.h5')"
   ]
  },
  {
   "cell_type": "code",
   "execution_count": 7,
   "metadata": {},
   "outputs": [],
   "source": [
    "# for keras brief\n",
    "# averaging_kernel_weight_3x3 = 1./9\n",
    "# weights_dense = np.load(\"/home/niaki/PycharmProjects/learned-brief/weights/weights_dense_64.npy\")"
   ]
  },
  {
   "cell_type": "code",
   "execution_count": 20,
   "metadata": {},
   "outputs": [
    {
     "name": "stdout",
     "output_type": "stream",
     "text": [
      "Model: \"model\"\n",
      "_________________________________________________________________\n",
      " Layer (type)                Output Shape              Param #   \n",
      "=================================================================\n",
      " input_1 (InputLayer)        [(None, 56, 56, 1)]       0         \n",
      "                                                                 \n",
      " conv2d (Conv2D)             (None, 54, 54, 1)         10        \n",
      "                                                                 \n",
      " conv2d_1 (Conv2D)           (None, 52, 52, 1)         10        \n",
      "                                                                 \n",
      " conv2d_2 (Conv2D)           (None, 50, 50, 1)         10        \n",
      "                                                                 \n",
      " conv2d_3 (Conv2D)           (None, 48, 48, 1)         10        \n",
      "                                                                 \n",
      " flatten (Flatten)           (None, 2304)              0         \n",
      "                                                                 \n",
      " dense (Dense)               (None, 512)               1180160   \n",
      "                                                                 \n",
      "=================================================================\n",
      "Total params: 1,180,200\n",
      "Trainable params: 1,180,200\n",
      "Non-trainable params: 0\n",
      "_________________________________________________________________\n"
     ]
    }
   ],
   "source": [
    "input_shape = (input_patch_size, input_patch_size, 1)\n",
    "input_img = Input(shape=input_shape)\n",
    "\n",
    "x = Conv2D(1, (3,3), activation=\"relu\", padding=\"valid\")(input_img)\n",
    "x = Conv2D(1, (3, 3), activation=\"relu\", padding=\"valid\")(x)\n",
    "x = Conv2D(1, (3, 3), activation=\"relu\", padding=\"valid\")(x)\n",
    "average_blurred = Conv2D(1, (3, 3), activation=\"relu\", padding=\"valid\")(x)\n",
    "flattened = Flatten(data_format=\"channels_last\")(average_blurred)\n",
    "briefed = Dense(512, activation=\"sigmoid\")(flattened)\n",
    "\n",
    "brief_encoder = Model(input_img, briefed)\n",
    "\n",
    "for i in range(len(brief_encoder.layers)):\n",
    "    brief_encoder.get_layer(index=i).set_weights(brief_ae.get_layer(index=i).get_weights())\n",
    "\n",
    "brief_encoder.summary()"
   ]
  },
  {
   "cell_type": "code",
   "execution_count": 21,
   "metadata": {},
   "outputs": [
    {
     "name": "stdout",
     "output_type": "stream",
     "text": [
      "(512,)\n",
      "512\n"
     ]
    }
   ],
   "source": [
    "# output shape, and flattened shape\n",
    "print(brief_encoder.output_shape[1:])\n",
    "print(np.prod(brief_encoder.output_shape[1:]))"
   ]
  },
  {
   "cell_type": "code",
   "execution_count": null,
   "metadata": {},
   "outputs": [],
   "source": []
  },
  {
   "cell_type": "code",
   "execution_count": null,
   "metadata": {},
   "outputs": [],
   "source": [
    "# for seq_path in seqs:\n",
    "#     seq = hpatches_sequence(seq_path)\n",
    "#     path = os.path.join(descr_name,seq.name)\n",
    "#     if not os.path.exists(path):\n",
    "#         os.makedirs(path)\n",
    "#     descr = np.zeros((seq.N,2)) # trivial (mi,sigma) descriptor\n",
    "#     for tp in tps:\n",
    "#         print(seq.name+'/'+tp)\n",
    "#         for i,patch in enumerate(getattr(seq, tp)):\n",
    "#             mi = np.mean(patch) # trivial (mi,sigma) descriptor\n",
    "#             sigma = np.std(patch) # trivial (mi,sigma) descriptor\n",
    "#             descr[i] = np.array([mi,sigma])\n",
    "#         np.savetxt(os.path.join(path,tp+'.csv'), descr, delimiter=',') # X is an array"
   ]
  },
  {
   "cell_type": "code",
   "execution_count": null,
   "metadata": {
    "scrolled": true
   },
   "outputs": [],
   "source": [
    "for seq_path in seqs:\n",
    "    seq = hpatches_sequence(seq_path)\n",
    "    path = os.path.join(descr_name,seq.name)\n",
    "    if not os.path.exists(path):\n",
    "        os.makedirs(path)\n",
    "\n",
    "    descr_size_per_patch = np.prod(brief_encoder.output_shape[1:])\n",
    "    descr = np.zeros((int(seq.N),descr_size_per_patch))\n",
    "    \n",
    "    for tp in tps:\n",
    "        print(seq.name+'/'+tp)\n",
    "        for i,patch in enumerate(getattr(seq, tp)):\n",
    "            patch = patch / 255.0\n",
    "#             print(patch)\n",
    "            patch_crop = patch[4: 60, 4: 60]\n",
    "            patch_crop_encoded = brief_encoder.predict(np.expand_dims(np.expand_dims(patch_crop, axis=-1), axis=0))\n",
    "            patch_crop_encoded_flat = patch_crop_encoded.flatten()\n",
    "            \n",
    "            patch_crop_encoded_flat_binary = patch_crop_encoded_flat.round().astype(int)\n",
    "#             print(patch_crop_encoded_flat_binary.shape)\n",
    "#             print(type(patch_crop_encoded_flat_binary[0]))\n",
    "#             print(patch_crop_encoded_flat_binary)\n",
    "#             print()\n",
    "            descr[i] = patch_crop_encoded_flat_binary\n",
    "        np.savetxt(os.path.join(path,tp+'.csv'), descr, delimiter=',')"
   ]
  },
  {
   "cell_type": "code",
   "execution_count": null,
   "metadata": {},
   "outputs": [],
   "source": []
  },
  {
   "cell_type": "code",
   "execution_count": null,
   "metadata": {},
   "outputs": [],
   "source": []
  },
  {
   "cell_type": "code",
   "execution_count": null,
   "metadata": {},
   "outputs": [],
   "source": []
  },
  {
   "cell_type": "code",
   "execution_count": null,
   "metadata": {},
   "outputs": [],
   "source": []
  },
  {
   "cell_type": "code",
   "execution_count": null,
   "metadata": {},
   "outputs": [],
   "source": []
  },
  {
   "cell_type": "code",
   "execution_count": null,
   "metadata": {},
   "outputs": [],
   "source": []
  },
  {
   "cell_type": "code",
   "execution_count": null,
   "metadata": {},
   "outputs": [],
   "source": []
  },
  {
   "cell_type": "code",
   "execution_count": null,
   "metadata": {},
   "outputs": [],
   "source": []
  },
  {
   "cell_type": "code",
   "execution_count": null,
   "metadata": {},
   "outputs": [],
   "source": [
    "descr_name = 'opencv_brief'\n",
    "brief = cv2.xfeatures2d.BriefDescriptorExtractor_create(64, False)\n",
    "keypoint = cv2.KeyPoint((patch_size - 1) / 2, (patch_size - 1) / 2, _size=brief_patch_size)\n",
    "keypoints = [keypoint]"
   ]
  },
  {
   "cell_type": "code",
   "execution_count": null,
   "metadata": {
    "scrolled": true
   },
   "outputs": [],
   "source": [
    "for seq_path in seqs:\n",
    "    seq = hpatches_sequence(seq_path)\n",
    "    path = os.path.join(descr_name,seq.name)\n",
    "    if not os.path.exists(path):\n",
    "        os.makedirs(path)\n",
    "\n",
    "    descr_size_per_patch = 512\n",
    "    descr = np.zeros((int(seq.N),descr_size_per_patch))\n",
    "    \n",
    "    for tp in tps:\n",
    "        print(seq.name+'/'+tp)\n",
    "        for i,patch in enumerate(getattr(seq, tp)):\n",
    "                        \n",
    "            _, descriptors = brief.compute(patch, keypoints)\n",
    "            patch_descr = descriptors[0]\n",
    "            \n",
    "            patch_descr = np.unpackbits(patch_descr)\n",
    "            \n",
    "#             print(patch_descr.shape)\n",
    "#             print(type(patch_descr[0]))\n",
    "#             print(patch_descr)\n",
    "#             print()\n",
    "            descr[i] = patch_descr\n",
    "        np.savetxt(os.path.join(path,tp+'.csv'), descr, delimiter=',')"
   ]
  },
  {
   "cell_type": "code",
   "execution_count": null,
   "metadata": {},
   "outputs": [],
   "source": []
  },
  {
   "cell_type": "code",
   "execution_count": null,
   "metadata": {},
   "outputs": [],
   "source": []
  },
  {
   "cell_type": "code",
   "execution_count": null,
   "metadata": {},
   "outputs": [],
   "source": []
  }
 ],
 "metadata": {
  "kernelspec": {
   "display_name": "phd_hpatches_learnedbrief",
   "language": "python",
   "name": "phd_hpatches_learnedbrief"
  },
  "language_info": {
   "codemirror_mode": {
    "name": "ipython",
    "version": 3
   },
   "file_extension": ".py",
   "mimetype": "text/x-python",
   "name": "python",
   "nbconvert_exporter": "python",
   "pygments_lexer": "ipython3",
   "version": "3.10.6"
  }
 },
 "nbformat": 4,
 "nbformat_minor": 2
}
