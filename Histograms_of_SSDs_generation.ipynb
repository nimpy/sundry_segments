{
 "cells": [
  {
   "cell_type": "code",
   "execution_count": 1,
   "metadata": {},
   "outputs": [
    {
     "name": "stderr",
     "output_type": "stream",
     "text": [
      "Using TensorFlow backend.\n"
     ]
    }
   ],
   "source": [
    "from keras.layers import Input, Dense, Convolution2D, MaxPooling2D, UpSampling2D, Conv2D\n",
    "from keras.models import Model, load_model\n",
    "from keras.preprocessing.image import ImageDataGenerator, img_to_array, load_img\n",
    "from keras import backend as K\n",
    "import keras\n",
    "\n",
    "import numpy as np\n",
    "import matplotlib.pyplot as plt\n",
    "\n",
    "from os import listdir\n",
    "from os import system\n",
    "import os\n",
    "import random\n",
    "\n",
    "import imageio\n",
    "import sys\n",
    "import csv"
   ]
  },
  {
   "cell_type": "code",
   "execution_count": 2,
   "metadata": {},
   "outputs": [],
   "source": [
    "def patch_diff(patch1, patch2):\n",
    "    \"\"\"Computing the sum of squared differences (SSD) between two images.\"\"\"\n",
    "    if patch1.shape != patch2.shape:\n",
    "        print(\"Images don't have the same shape.\")\n",
    "        return\n",
    "    return np.sum((np.array(patch1, dtype=np.float32) - np.array(patch2, dtype=np.float32))**2)"
   ]
  },
  {
   "cell_type": "code",
   "execution_count": 3,
   "metadata": {},
   "outputs": [],
   "source": [
    "# image_path = '/home/niaki/Downloads/barbara.jpg'\n",
    "# image_path = '/home/niaki/Downloads/house.tiff'\n",
    "# image_path = '/home/niaki/Downloads/monarch.png'\n",
    "image_path = '/home/niaki/Downloads/Lenna.png'\n",
    "\n",
    "\n",
    "patch_size = 16\n",
    "patch_width = patch_size\n",
    "patch_height = patch_size\n",
    "\n",
    "nearest_patches_nb = -1\n",
    "query_stride = 100\n",
    "compare_stride = 8\n",
    "eps = 0.0001\n",
    "\n",
    "nr_similar_patches = 40"
   ]
  },
  {
   "cell_type": "code",
   "execution_count": 4,
   "metadata": {},
   "outputs": [],
   "source": [
    "image = imageio.imread(image_path)\n",
    "\n",
    "# to be deleted\n",
    "# image = image[:40, :40, :]\n",
    "\n",
    "image_height = image.shape[0]\n",
    "image_width = image.shape[1]\n",
    "\n",
    "if nearest_patches_nb == -1:\n",
    "    nearest_patches_nb = len(range(0, image_width - patch_size + 1, compare_stride)) * len(range(0, image_height - patch_size + 1, compare_stride))"
   ]
  },
  {
   "cell_type": "code",
   "execution_count": 5,
   "metadata": {},
   "outputs": [
    {
     "name": "stdout",
     "output_type": "stream",
     "text": [
      "25/25"
     ]
    }
   ],
   "source": [
    "# clean image\n",
    "\n",
    "query_x_coords = []\n",
    "query_y_coords = []\n",
    "\n",
    "results_patches_diffs = {}\n",
    "results_patches_x_coords = {}\n",
    "results_patches_y_coords = {}\n",
    "results_patches_positions = {}\n",
    "\n",
    "counter_query_patches = 0\n",
    "\n",
    "# just for the sake of output\n",
    "total_nr_query_patches = len(range(0, image_width - patch_size + 1, query_stride)) * len(range(0, image_height - patch_size + 1, query_stride))\n",
    "\n",
    "for y_query in range(0, image_width - patch_size + 1, query_stride):\n",
    "    for x_query in range(0, image_height - patch_size + 1, query_stride):\n",
    "        sys.stdout.write(\"\\r\" + str(counter_query_patches + 1) + \"/\" + str(total_nr_query_patches))\n",
    "        \n",
    "        query_x_coords.append(x_query)\n",
    "        query_y_coords.append(y_query)        \n",
    "    \n",
    "        query_patch = image[x_query : x_query + patch_size, y_query : y_query + patch_size, :]\n",
    "        \n",
    "        counter_compare_patches = 0\n",
    "        compare_patches_scores = {}\n",
    "        \n",
    "        patches_diffs = [1000000000]\n",
    "        patches_x_coords = [-1]\n",
    "        patches_y_coords = [-1]\n",
    "        patches_positions = [-1]\n",
    "        \n",
    "        for y_compare in range(0, image_width - patch_size + 1, compare_stride):\n",
    "            for x_compare in range(0, image_height - patch_size + 1, compare_stride):\n",
    "                \n",
    "                compare_patch = image[x_compare : x_compare + patch_size, y_compare : y_compare + patch_size, :]\n",
    "                diff = patch_diff(query_patch, compare_patch)\n",
    "                \n",
    "                if diff < eps:\n",
    "                    counter_compare_patches += 1\n",
    "                    continue\n",
    "                \n",
    "                # sorting\n",
    "                for i in range(len(patches_diffs)):\n",
    "                    if diff < patches_diffs[i]:\n",
    "                        patches_diffs.insert(i, diff)\n",
    "                        patches_x_coords.insert(i, x_compare)\n",
    "                        patches_y_coords.insert(i, y_compare)\n",
    "                        patches_positions.insert(i, counter_compare_patches)\n",
    "                        break\n",
    "                \n",
    "                counter_compare_patches += 1\n",
    "                \n",
    "        results_patches_diffs[counter_query_patches] = patches_diffs[:nearest_patches_nb]\n",
    "        results_patches_x_coords[counter_query_patches] = patches_x_coords[:nearest_patches_nb]\n",
    "        results_patches_y_coords[counter_query_patches] = patches_y_coords[:nearest_patches_nb]\n",
    "        results_patches_positions[counter_query_patches] = patches_positions[:nearest_patches_nb]\n",
    "        \n",
    "        counter_query_patches += 1"
   ]
  },
  {
   "cell_type": "code",
   "execution_count": 6,
   "metadata": {},
   "outputs": [],
   "source": [
    "image_noisy = image"
   ]
  },
  {
   "cell_type": "code",
   "execution_count": 24,
   "metadata": {},
   "outputs": [
    {
     "name": "stdout",
     "output_type": "stream",
     "text": [
      "25/25"
     ]
    }
   ],
   "source": [
    "base_dir = '/home/niaki/Code/ImageNet/tiny-imagenet-200'\n",
    "model_version = '16_3conv3mp_2.7' #'16_3conv3mp_2.7\n",
    "encoder = load_model(base_dir + '/encoder' + model_version + '.h5')\n",
    "\n",
    "\n",
    "query_x_coords = []\n",
    "query_y_coords = []\n",
    "\n",
    "results_noisy_descr_patches_diffs = {}\n",
    "results_noisy_descr_patches_x_coords = {}\n",
    "results_noisy_descr_patches_y_coords = {}\n",
    "results_noisy_descr_patches_positions = {}\n",
    "\n",
    "counter_query_patches = 0\n",
    "\n",
    "# just for the sake of output\n",
    "total_nr_query_patches = len(range(0, image_width - patch_size + 1, query_stride)) * len(range(0, image_height - patch_size + 1, query_stride))\n",
    "\n",
    "for y_query in range(0, image_width - patch_size + 1, query_stride):\n",
    "    for x_query in range(0, image_height - patch_size + 1, query_stride):\n",
    "        sys.stdout.write(\"\\r\" + str(counter_query_patches + 1) + \"/\" + str(total_nr_query_patches))\n",
    "        \n",
    "        query_x_coords.append(x_query)\n",
    "        query_y_coords.append(y_query)   \n",
    "\n",
    "        query_patch = image_noisy[x_query : x_query + patch_size, y_query : y_query + patch_size, :]\n",
    "        query_patch_descr = encoder.predict(np.expand_dims(query_patch, axis=0))[0]\n",
    "#         query_patch_descr = np.mean(query_patch)\n",
    "\n",
    "        counter_compare_patches = 0\n",
    "        compare_patches_scores = {}\n",
    "\n",
    "        patches_diffs = [1000000000]\n",
    "        patches_x_coords = [-1]\n",
    "        patches_y_coords = [-1]\n",
    "        patches_positions = [-1]\n",
    "\n",
    "        for y_compare in range(0, image_width - patch_size + 1, compare_stride):\n",
    "            for x_compare in range(0, image_height - patch_size + 1, compare_stride):\n",
    "\n",
    "                compare_patch = image_noisy[x_compare : x_compare + patch_size, y_compare : y_compare + patch_size, :]\n",
    "                compare_patch_descr = encoder.predict(np.expand_dims(compare_patch, axis=0))[0]\n",
    "#                 compare_patch_descr = np.mean(compare_patch)\n",
    "\n",
    "                diff = patch_diff(query_patch_descr, compare_patch_descr)\n",
    "#                 diff = (query_patch_descr - compare_patch_descr)**2\n",
    "\n",
    "                if diff < eps:\n",
    "                    counter_compare_patches += 1\n",
    "                    continue\n",
    "\n",
    "                # sorting\n",
    "                for i in range(len(patches_diffs)):\n",
    "                    if diff < patches_diffs[i]:\n",
    "                        patches_diffs.insert(i, diff)\n",
    "                        patches_x_coords.insert(i, x_compare)\n",
    "                        patches_y_coords.insert(i, y_compare)\n",
    "                        patches_positions.insert(i, counter_compare_patches)\n",
    "                        break\n",
    "\n",
    "                counter_compare_patches += 1\n",
    "\n",
    "        results_noisy_descr_patches_diffs[counter_query_patches] = patches_diffs[:nearest_patches_nb]\n",
    "        results_noisy_descr_patches_x_coords[counter_query_patches] = patches_x_coords[:nearest_patches_nb]\n",
    "        results_noisy_descr_patches_y_coords[counter_query_patches] = patches_y_coords[:nearest_patches_nb]\n",
    "        results_noisy_descr_patches_positions[counter_query_patches] = patches_positions[:nearest_patches_nb]\n",
    "\n",
    "        counter_query_patches += 1"
   ]
  },
  {
   "cell_type": "code",
   "execution_count": null,
   "metadata": {},
   "outputs": [],
   "source": []
  },
  {
   "cell_type": "code",
   "execution_count": null,
   "metadata": {},
   "outputs": [],
   "source": []
  },
  {
   "cell_type": "code",
   "execution_count": 8,
   "metadata": {},
   "outputs": [
    {
     "name": "stderr",
     "output_type": "stream",
     "text": [
      "/scratch/tensorflow/lib/python3.6/site-packages/ipykernel_launcher.py:7: RuntimeWarning: overflow encountered in exp\n",
      "  import sys\n"
     ]
    }
   ],
   "source": [
    "theta = np.load('/home/niaki/temp/encoderChenEtAl_RGB_400it.npy')\n",
    "\n",
    "input_size = 16 * 16 *3\n",
    "hidden_size = 128\n",
    "\n",
    "def sigmoid(x):\n",
    "    return 1 / (1 + np.exp(-x))\n",
    "\n",
    "W1 = theta[0:hidden_size * input_size].reshape(hidden_size, input_size)\n",
    "W2 = theta[hidden_size * input_size:2 * hidden_size * input_size].reshape(input_size, hidden_size)\n",
    "b1 = theta[2 * hidden_size * input_size:2 * hidden_size * input_size + hidden_size]\n",
    "b2 = theta[2 * hidden_size * input_size + hidden_size:]\n",
    "\n",
    "query_x_coords = []\n",
    "query_y_coords = []\n",
    "\n",
    "results_noisy_descr_patches_diffs = {}\n",
    "results_noisy_descr_patches_x_coords = {}\n",
    "results_noisy_descr_patches_y_coords = {}\n",
    "results_noisy_descr_patches_positions = {}\n",
    "\n",
    "counter_query_patches = 0\n",
    "\n",
    "# just for the sake of output\n",
    "total_nr_query_patches = len(range(0, image_width - patch_size + 1, query_stride)) * len(range(0, image_height - patch_size + 1, query_stride))\n",
    "\n",
    "for y_query in range(0, image_width - patch_size + 1, query_stride):\n",
    "    for x_query in range(0, image_height - patch_size + 1, query_stride):\n",
    "#             sys.stdout.write(\"\\r\" + str(counter_query_patches + 1) + \"/\" + str(total_nr_query_patches))\n",
    "\n",
    "        query_x_coords.append(x_query)\n",
    "        query_y_coords.append(y_query)   \n",
    "\n",
    "        query_patch = image_noisy[x_query : x_query + patch_size, y_query : y_query + patch_size, :]\n",
    "#             query_patch_descr = encoder.predict(np.expand_dims(query_patch, axis=0))[0]\n",
    "#         query_patch_descr = np.mean(query_patch)\n",
    "        data = np.expand_dims(query_patch.reshape(patch_size * patch_size * 3), axis=1)\n",
    "        z2 = W1.dot(data) + np.tile(b1, (1, 1)).transpose()\n",
    "        query_patch_descr = sigmoid(z2)\n",
    "\n",
    "\n",
    "        counter_compare_patches = 0\n",
    "        compare_patches_scores = {}\n",
    "\n",
    "        patches_diffs = [1000000000]\n",
    "        patches_x_coords = [-1]\n",
    "        patches_y_coords = [-1]\n",
    "        patches_positions = [-1]\n",
    "\n",
    "        for y_compare in range(0, image_width - patch_size + 1, compare_stride):\n",
    "            for x_compare in range(0, image_height - patch_size + 1, compare_stride):\n",
    "\n",
    "                compare_patch = image_noisy[x_compare : x_compare + patch_size, y_compare : y_compare + patch_size, :]\n",
    "#                     compare_patch_descr = encoder.predict(np.expand_dims(compare_patch, axis=0))[0]\n",
    "#                 compare_patch_descr = np.mean(compare_patch)\n",
    "                data = np.expand_dims(compare_patch.reshape(patch_size * patch_size * 3), axis=1)\n",
    "                z2 = W1.dot(data) + np.tile(b1, (1, 1)).transpose()\n",
    "                compare_patch_descr = sigmoid(z2)    \n",
    "\n",
    "                diff = patch_diff(query_patch_descr, compare_patch_descr)\n",
    "#                 diff = (query_patch_descr - compare_patch_descr)**2\n",
    "\n",
    "                if diff < eps:\n",
    "                    counter_compare_patches += 1\n",
    "                    continue\n",
    "\n",
    "                # sorting\n",
    "                for i in range(len(patches_diffs)):\n",
    "                    if diff < patches_diffs[i]:\n",
    "                        patches_diffs.insert(i, diff)\n",
    "                        patches_x_coords.insert(i, x_compare)\n",
    "                        patches_y_coords.insert(i, y_compare)\n",
    "                        patches_positions.insert(i, counter_compare_patches)\n",
    "                        break\n",
    "\n",
    "                counter_compare_patches += 1\n",
    "\n",
    "        results_noisy_descr_patches_diffs[counter_query_patches] = patches_diffs[:nearest_patches_nb]\n",
    "        results_noisy_descr_patches_x_coords[counter_query_patches] = patches_x_coords[:nearest_patches_nb]\n",
    "        results_noisy_descr_patches_y_coords[counter_query_patches] = patches_y_coords[:nearest_patches_nb]\n",
    "        results_noisy_descr_patches_positions[counter_query_patches] = patches_positions[:nearest_patches_nb]\n",
    "\n",
    "        counter_query_patches += 1\n",
    "\n"
   ]
  },
  {
   "cell_type": "code",
   "execution_count": null,
   "metadata": {},
   "outputs": [],
   "source": []
  },
  {
   "cell_type": "code",
   "execution_count": null,
   "metadata": {},
   "outputs": [],
   "source": []
  },
  {
   "cell_type": "code",
   "execution_count": 31,
   "metadata": {},
   "outputs": [],
   "source": [
    "ssds = []\n",
    "\n",
    "nr_similar_patches = 5\n",
    "\n",
    "for q_it in range(total_nr_query_patches):\n",
    "    for c_it in range(nr_similar_patches):\n",
    "        \n",
    "        # getting the query patch from the clean image\n",
    "        x_query = query_x_coords[q_it]\n",
    "        y_query = query_y_coords[q_it]\n",
    "        query_patch = image[x_query : x_query + patch_size, y_query : y_query + patch_size, :]\n",
    "        \n",
    "        # getting the compare patch from the clean image\n",
    "        x_compare = results_noisy_descr_patches_x_coords[q_it][c_it]\n",
    "        y_compare = results_noisy_descr_patches_y_coords[q_it][c_it]\n",
    "        compare_patch = image[x_compare : x_compare + patch_size, y_compare : y_compare + patch_size, :]\n",
    "        \n",
    "        # calculating the difference in the clean image\n",
    "        actual_diff = patch_diff(query_patch, compare_patch)\n",
    "        ssds.append(actual_diff)\n",
    "        \n",
    "ssds = np.array(ssds)"
   ]
  },
  {
   "cell_type": "code",
   "execution_count": 26,
   "metadata": {},
   "outputs": [
    {
     "name": "stderr",
     "output_type": "stream",
     "text": [
      "/scratch/tensorflow/lib/python3.6/site-packages/ipykernel_launcher.py:2: MatplotlibDeprecationWarning: \n",
      "The 'normed' kwarg was deprecated in Matplotlib 2.1 and will be removed in 3.1. Use 'density' instead.\n",
      "  \n"
     ]
    },
    {
     "data": {
      "image/png": "[encoded data removed]",
      "text/plain": [
       "<Figure size 720x360 with 1 Axes>"
      ]
     },
     "metadata": {
      "needs_background": "light"
     },
     "output_type": "display_data"
    }
   ],
   "source": [
    "plt.figure(figsize=(10, 5))\n",
    "plt.hist(ssds, 100, normed=1)\n",
    "plt.xlim(0, 6000000)\n",
    "plt.show()"
   ]
  },
  {
   "cell_type": "code",
   "execution_count": 29,
   "metadata": {},
   "outputs": [
    {
     "name": "stderr",
     "output_type": "stream",
     "text": [
      "/scratch/tensorflow/lib/python3.6/site-packages/ipykernel_launcher.py:2: MatplotlibDeprecationWarning: \n",
      "The 'normed' kwarg was deprecated in Matplotlib 2.1 and will be removed in 3.1. Use 'density' instead.\n",
      "  \n"
     ]
    },
    {
     "data": {
      "image/png": "[encoded data removed]",
      "text/plain": [
       "<Figure size 720x360 with 1 Axes>"
      ]
     },
     "metadata": {
      "needs_background": "light"
     },
     "output_type": "display_data"
    }
   ],
   "source": [
    "plt.figure(figsize=(10, 5))\n",
    "plt.hist(ssds, 100, normed=1)\n",
    "plt.xlim(0, 6000000)\n",
    "plt.show()"
   ]
  },
  {
   "cell_type": "code",
   "execution_count": 32,
   "metadata": {},
   "outputs": [
    {
     "name": "stderr",
     "output_type": "stream",
     "text": [
      "/scratch/tensorflow/lib/python3.6/site-packages/ipykernel_launcher.py:2: MatplotlibDeprecationWarning: \n",
      "The 'normed' kwarg was deprecated in Matplotlib 2.1 and will be removed in 3.1. Use 'density' instead.\n",
      "  \n"
     ]
    },
    {
     "data": {
      "image/png": "[encoded data removed]",
      "text/plain": [
       "<Figure size 720x360 with 1 Axes>"
      ]
     },
     "metadata": {
      "needs_background": "light"
     },
     "output_type": "display_data"
    }
   ],
   "source": [
    "plt.figure(figsize=(10, 5))\n",
    "plt.hist(ssds, 100, normed=1)\n",
    "plt.xlim(0, 6000000)\n",
    "plt.show()"
   ]
  },
  {
   "cell_type": "code",
   "execution_count": null,
   "metadata": {},
   "outputs": [],
   "source": []
  },
  {
   "cell_type": "code",
   "execution_count": 27,
   "metadata": {},
   "outputs": [
    {
     "name": "stderr",
     "output_type": "stream",
     "text": [
      "/scratch/tensorflow/lib/python3.6/site-packages/ipykernel_launcher.py:2: MatplotlibDeprecationWarning: \n",
      "The 'normed' kwarg was deprecated in Matplotlib 2.1 and will be removed in 3.1. Use 'density' instead.\n",
      "  \n"
     ]
    },
    {
     "data": {
      "image/png": "[encoded data removed]",
      "text/plain": [
       "<Figure size 720x360 with 1 Axes>"
      ]
     },
     "metadata": {
      "needs_background": "light"
     },
     "output_type": "display_data"
    }
   ],
   "source": [
    "plt.figure(figsize=(10, 5))\n",
    "plt.hist(ssds, 1000, normed=1)\n",
    "plt.xlim(0, 6000000)\n",
    "plt.show()"
   ]
  },
  {
   "cell_type": "code",
   "execution_count": 30,
   "metadata": {},
   "outputs": [
    {
     "name": "stderr",
     "output_type": "stream",
     "text": [
      "/scratch/tensorflow/lib/python3.6/site-packages/ipykernel_launcher.py:2: MatplotlibDeprecationWarning: \n",
      "The 'normed' kwarg was deprecated in Matplotlib 2.1 and will be removed in 3.1. Use 'density' instead.\n",
      "  \n"
     ]
    },
    {
     "data": {
      "image/png": "[encoded data removed]",
      "text/plain": [
       "<Figure size 720x360 with 1 Axes>"
      ]
     },
     "metadata": {
      "needs_background": "light"
     },
     "output_type": "display_data"
    }
   ],
   "source": [
    "plt.figure(figsize=(10, 5))\n",
    "plt.hist(ssds, 1000, normed=1)\n",
    "plt.xlim(0, 6000000)\n",
    "plt.show()"
   ]
  },
  {
   "cell_type": "code",
   "execution_count": 33,
   "metadata": {},
   "outputs": [
    {
     "name": "stderr",
     "output_type": "stream",
     "text": [
      "/scratch/tensorflow/lib/python3.6/site-packages/ipykernel_launcher.py:2: MatplotlibDeprecationWarning: \n",
      "The 'normed' kwarg was deprecated in Matplotlib 2.1 and will be removed in 3.1. Use 'density' instead.\n",
      "  \n"
     ]
    },
    {
     "data": {
      "image/png": "[encoded data removed]",
      "text/plain": [
       "<Figure size 720x360 with 1 Axes>"
      ]
     },
     "metadata": {
      "needs_background": "light"
     },
     "output_type": "display_data"
    }
   ],
   "source": [
    "plt.figure(figsize=(10, 5))\n",
    "plt.hist(ssds, 1000, normed=1)\n",
    "plt.xlim(0, 6000000)\n",
    "plt.show()"
   ]
  },
  {
   "cell_type": "code",
   "execution_count": null,
   "metadata": {},
   "outputs": [],
   "source": []
  },
  {
   "cell_type": "code",
   "execution_count": null,
   "metadata": {},
   "outputs": [],
   "source": []
  },
  {
   "cell_type": "code",
   "execution_count": null,
   "metadata": {},
   "outputs": [],
   "source": []
  },
  {
   "cell_type": "code",
   "execution_count": null,
   "metadata": {},
   "outputs": [],
   "source": []
  },
  {
   "cell_type": "code",
   "execution_count": null,
   "metadata": {},
   "outputs": [],
   "source": []
  },
  {
   "cell_type": "code",
   "execution_count": null,
   "metadata": {},
   "outputs": [],
   "source": []
  },
  {
   "cell_type": "code",
   "execution_count": 14,
   "metadata": {},
   "outputs": [
    {
     "name": "stderr",
     "output_type": "stream",
     "text": [
      "/scratch/tensorflow/lib/python3.6/site-packages/ipykernel_launcher.py:2: MatplotlibDeprecationWarning: \n",
      "The 'normed' kwarg was deprecated in Matplotlib 2.1 and will be removed in 3.1. Use 'density' instead.\n",
      "  \n"
     ]
    },
    {
     "data": {
      "image/png": "[encoded data removed]",
      "text/plain": [
       "<Figure size 720x360 with 1 Axes>"
      ]
     },
     "metadata": {
      "needs_background": "light"
     },
     "output_type": "display_data"
    }
   ],
   "source": [
    "plt.figure(figsize=(10, 5))\n",
    "plt.hist(ssds, 100, normed=1)\n",
    "plt.xlim(0, 6000000)\n",
    "plt.show()"
   ]
  },
  {
   "cell_type": "code",
   "execution_count": 17,
   "metadata": {},
   "outputs": [
    {
     "name": "stderr",
     "output_type": "stream",
     "text": [
      "/scratch/tensorflow/lib/python3.6/site-packages/ipykernel_launcher.py:2: MatplotlibDeprecationWarning: \n",
      "The 'normed' kwarg was deprecated in Matplotlib 2.1 and will be removed in 3.1. Use 'density' instead.\n",
      "  \n"
     ]
    },
    {
     "data": {
      "image/png": "[encoded data removed]",
      "text/plain": [
       "<Figure size 720x360 with 1 Axes>"
      ]
     },
     "metadata": {
      "needs_background": "light"
     },
     "output_type": "display_data"
    }
   ],
   "source": [
    "plt.figure(figsize=(10, 5))\n",
    "plt.hist(ssds, 100, normed=1)\n",
    "plt.xlim(0, 6000000)\n",
    "plt.show()"
   ]
  },
  {
   "cell_type": "code",
   "execution_count": 22,
   "metadata": {},
   "outputs": [
    {
     "name": "stderr",
     "output_type": "stream",
     "text": [
      "/scratch/tensorflow/lib/python3.6/site-packages/ipykernel_launcher.py:2: MatplotlibDeprecationWarning: \n",
      "The 'normed' kwarg was deprecated in Matplotlib 2.1 and will be removed in 3.1. Use 'density' instead.\n",
      "  \n"
     ]
    },
    {
     "data": {
      "image/png": "[encoded data removed]",
      "text/plain": [
       "<Figure size 720x360 with 1 Axes>"
      ]
     },
     "metadata": {
      "needs_background": "light"
     },
     "output_type": "display_data"
    }
   ],
   "source": [
    "plt.figure(figsize=(10, 5))\n",
    "plt.hist(ssds, 100, normed=1)\n",
    "plt.xlim(0, 3000000)\n",
    "plt.show()"
   ]
  },
  {
   "cell_type": "code",
   "execution_count": null,
   "metadata": {},
   "outputs": [],
   "source": []
  },
  {
   "cell_type": "code",
   "execution_count": 13,
   "metadata": {},
   "outputs": [
    {
     "name": "stderr",
     "output_type": "stream",
     "text": [
      "/scratch/tensorflow/lib/python3.6/site-packages/ipykernel_launcher.py:2: MatplotlibDeprecationWarning: \n",
      "The 'normed' kwarg was deprecated in Matplotlib 2.1 and will be removed in 3.1. Use 'density' instead.\n",
      "  \n"
     ]
    },
    {
     "data": {
      "image/png": "[encoded data removed]",
      "text/plain": [
       "<Figure size 720x360 with 1 Axes>"
      ]
     },
     "metadata": {
      "needs_background": "light"
     },
     "output_type": "display_data"
    }
   ],
   "source": [
    "plt.figure(figsize=(10, 5))\n",
    "plt.hist(ssds, 1000, normed=1)\n",
    "plt.xlim(0, 6000000)\n",
    "plt.show()"
   ]
  },
  {
   "cell_type": "code",
   "execution_count": 16,
   "metadata": {},
   "outputs": [
    {
     "name": "stderr",
     "output_type": "stream",
     "text": [
      "/scratch/tensorflow/lib/python3.6/site-packages/ipykernel_launcher.py:2: MatplotlibDeprecationWarning: \n",
      "The 'normed' kwarg was deprecated in Matplotlib 2.1 and will be removed in 3.1. Use 'density' instead.\n",
      "  \n"
     ]
    },
    {
     "data": {
      "image/png": "[encoded data removed]",
      "text/plain": [
       "<Figure size 720x360 with 1 Axes>"
      ]
     },
     "metadata": {
      "needs_background": "light"
     },
     "output_type": "display_data"
    }
   ],
   "source": [
    "plt.figure(figsize=(10, 5))\n",
    "plt.hist(ssds, 1000, normed=1)\n",
    "plt.xlim(0, 6000000)\n",
    "plt.show()"
   ]
  },
  {
   "cell_type": "code",
   "execution_count": 23,
   "metadata": {},
   "outputs": [
    {
     "name": "stderr",
     "output_type": "stream",
     "text": [
      "/scratch/tensorflow/lib/python3.6/site-packages/ipykernel_launcher.py:2: MatplotlibDeprecationWarning: \n",
      "The 'normed' kwarg was deprecated in Matplotlib 2.1 and will be removed in 3.1. Use 'density' instead.\n",
      "  \n"
     ]
    },
    {
     "data": {
      "image/png": "[encoded data removed]",
      "text/plain": [
       "<Figure size 720x360 with 1 Axes>"
      ]
     },
     "metadata": {
      "needs_background": "light"
     },
     "output_type": "display_data"
    }
   ],
   "source": [
    "plt.figure(figsize=(10, 5))\n",
    "plt.hist(ssds, 1000, normed=1)\n",
    "plt.xlim(0, 3000000)\n",
    "plt.show()"
   ]
  },
  {
   "cell_type": "code",
   "execution_count": null,
   "metadata": {},
   "outputs": [],
   "source": []
  }
 ],
 "metadata": {
  "kernelspec": {
   "display_name": "tensorflow",
   "language": "python",
   "name": "tensorflow"
  },
  "language_info": {
   "codemirror_mode": {
    "name": "ipython",
    "version": 3
   },
   "file_extension": ".py",
   "mimetype": "text/x-python",
   "name": "python",
   "nbconvert_exporter": "python",
   "pygments_lexer": "ipython3",
   "version": "3.6.8"
  }
 },
 "nbformat": 4,
 "nbformat_minor": 2
}
