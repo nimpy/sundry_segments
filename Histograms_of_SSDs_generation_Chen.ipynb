{
 "cells": [
  {
   "cell_type": "code",
   "execution_count": 13,
   "metadata": {},
   "outputs": [],
   "source": [
    "# from keras.layers import Input, Dense, Convolution2D, MaxPooling2D, UpSampling2D, Conv2D\n",
    "# from keras.models import Model, load_model\n",
    "# from keras.preprocessing.image import ImageDataGenerator, img_to_array, load_img\n",
    "# from keras import backend as K\n",
    "# import keras\n",
    "\n",
    "import numpy as np\n",
    "import matplotlib.pyplot as plt\n",
    "\n",
    "from os import listdir\n",
    "from os import system\n",
    "import os\n",
    "import random\n",
    "\n",
    "import imageio\n",
    "import sys\n",
    "import csv"
   ]
  },
  {
   "cell_type": "code",
   "execution_count": 14,
   "metadata": {},
   "outputs": [],
   "source": [
    "def patch_diff(patch1, patch2):\n",
    "    \"\"\"Computing the sum of squared differences (SSD) between two images.\"\"\"\n",
    "    if patch1.shape != patch2.shape:\n",
    "        print(\"Images don't have the same shape.\")\n",
    "        return\n",
    "    return np.sum((np.array(patch1, dtype=np.float32) - np.array(patch2, dtype=np.float32))**2)"
   ]
  },
  {
   "cell_type": "code",
   "execution_count": 15,
   "metadata": {},
   "outputs": [],
   "source": [
    "# image_path = '/home/niaki/Downloads/barbara.jpg'\n",
    "# image_path = '/home/niaki/Downloads/house.tiff'\n",
    "# image_path = '/home/niaki/Downloads/monarch.png'\n",
    "image_path = '/home/niaki/Downloads/Lenna.png'\n",
    "\n",
    "\n",
    "patch_size = 16\n",
    "patch_width = patch_size\n",
    "patch_height = patch_size\n",
    "\n",
    "nearest_patches_nb = -1\n",
    "query_stride = 300\n",
    "compare_stride = 2\n",
    "eps = 0.0001\n",
    "\n",
    "nr_similar_patches = 40"
   ]
  },
  {
   "cell_type": "code",
   "execution_count": 16,
   "metadata": {},
   "outputs": [],
   "source": [
    "image = imageio.imread(image_path)\n",
    "\n",
    "# to be deleted\n",
    "# image = image[:40, :40, :]\n",
    "\n",
    "image_height = image.shape[0]\n",
    "image_width = image.shape[1]\n",
    "\n",
    "if nearest_patches_nb == -1:\n",
    "    nearest_patches_nb = len(range(0, image_width - patch_size + 1, compare_stride)) * len(range(0, image_height - patch_size + 1, compare_stride))"
   ]
  },
  {
   "cell_type": "code",
   "execution_count": 5,
   "metadata": {},
   "outputs": [
    {
     "name": "stdout",
     "output_type": "stream",
     "text": [
      "25/25"
     ]
    }
   ],
   "source": [
    "# clean image\n",
    "\n",
    "query_x_coords = []\n",
    "query_y_coords = []\n",
    "\n",
    "results_patches_diffs = {}\n",
    "results_patches_x_coords = {}\n",
    "results_patches_y_coords = {}\n",
    "results_patches_positions = {}\n",
    "\n",
    "counter_query_patches = 0\n",
    "\n",
    "# just for the sake of output\n",
    "total_nr_query_patches = len(range(0, image_width - patch_size + 1, query_stride)) * len(range(0, image_height - patch_size + 1, query_stride))\n",
    "\n",
    "for y_query in range(0, image_width - patch_size + 1, query_stride):\n",
    "    for x_query in range(0, image_height - patch_size + 1, query_stride):\n",
    "        sys.stdout.write(\"\\r\" + str(counter_query_patches + 1) + \"/\" + str(total_nr_query_patches))\n",
    "        \n",
    "        query_x_coords.append(x_query)\n",
    "        query_y_coords.append(y_query)        \n",
    "    \n",
    "        query_patch = image[x_query : x_query + patch_size, y_query : y_query + patch_size, :]\n",
    "        \n",
    "        counter_compare_patches = 0\n",
    "        compare_patches_scores = {}\n",
    "        \n",
    "        patches_diffs = [1000000000]\n",
    "        patches_x_coords = [-1]\n",
    "        patches_y_coords = [-1]\n",
    "        patches_positions = [-1]\n",
    "        \n",
    "        for y_compare in range(0, image_width - patch_size + 1, compare_stride):\n",
    "            for x_compare in range(0, image_height - patch_size + 1, compare_stride):\n",
    "                \n",
    "                compare_patch = image[x_compare : x_compare + patch_size, y_compare : y_compare + patch_size, :]\n",
    "                diff = patch_diff(query_patch, compare_patch)\n",
    "                \n",
    "                if diff < eps:\n",
    "                    counter_compare_patches += 1\n",
    "                    continue\n",
    "                \n",
    "                # sorting\n",
    "                for i in range(len(patches_diffs)):\n",
    "                    if diff < patches_diffs[i]:\n",
    "                        patches_diffs.insert(i, diff)\n",
    "                        patches_x_coords.insert(i, x_compare)\n",
    "                        patches_y_coords.insert(i, y_compare)\n",
    "                        patches_positions.insert(i, counter_compare_patches)\n",
    "                        break\n",
    "                \n",
    "                counter_compare_patches += 1\n",
    "                \n",
    "        results_patches_diffs[counter_query_patches] = patches_diffs[:nearest_patches_nb]\n",
    "        results_patches_x_coords[counter_query_patches] = patches_x_coords[:nearest_patches_nb]\n",
    "        results_patches_y_coords[counter_query_patches] = patches_y_coords[:nearest_patches_nb]\n",
    "        results_patches_positions[counter_query_patches] = patches_positions[:nearest_patches_nb]\n",
    "        \n",
    "        counter_query_patches += 1"
   ]
  },
  {
   "cell_type": "code",
   "execution_count": null,
   "metadata": {},
   "outputs": [],
   "source": []
  },
  {
   "cell_type": "code",
   "execution_count": 17,
   "metadata": {},
   "outputs": [],
   "source": [
    "image_noisy = image"
   ]
  },
  {
   "cell_type": "code",
   "execution_count": 18,
   "metadata": {},
   "outputs": [
    {
     "name": "stderr",
     "output_type": "stream",
     "text": [
      "/scratch/tensorflow/lib/python3.6/site-packages/ipykernel_launcher.py:7: RuntimeWarning: overflow encountered in exp\n",
      "  import sys\n"
     ]
    }
   ],
   "source": [
    "theta = np.load('/home/niaki/temp/encoderChenEtAl_RGB_400it.npy')\n",
    "\n",
    "input_size = 16 * 16 *3\n",
    "hidden_size = 128\n",
    "\n",
    "def sigmoid(x):\n",
    "    return 1 / (1 + np.exp(-x))\n",
    "\n",
    "W1 = theta[0:hidden_size * input_size].reshape(hidden_size, input_size)\n",
    "W2 = theta[hidden_size * input_size:2 * hidden_size * input_size].reshape(input_size, hidden_size)\n",
    "b1 = theta[2 * hidden_size * input_size:2 * hidden_size * input_size + hidden_size]\n",
    "b2 = theta[2 * hidden_size * input_size + hidden_size:]\n",
    "\n",
    "query_x_coords = []\n",
    "query_y_coords = []\n",
    "\n",
    "results_noisy_descr_patches_diffs = {}\n",
    "results_noisy_descr_patches_x_coords = {}\n",
    "results_noisy_descr_patches_y_coords = {}\n",
    "results_noisy_descr_patches_positions = {}\n",
    "\n",
    "counter_query_patches = 0\n",
    "\n",
    "# just for the sake of output\n",
    "total_nr_query_patches = len(range(0, image_width - patch_size + 1, query_stride)) * len(range(0, image_height - patch_size + 1, query_stride))\n",
    "\n",
    "for y_query in range(0, image_width - patch_size + 1, query_stride):\n",
    "    for x_query in range(0, image_height - patch_size + 1, query_stride):\n",
    "#             sys.stdout.write(\"\\r\" + str(counter_query_patches + 1) + \"/\" + str(total_nr_query_patches))\n",
    "\n",
    "        query_x_coords.append(x_query)\n",
    "        query_y_coords.append(y_query)   \n",
    "\n",
    "        query_patch = image_noisy[x_query : x_query + patch_size, y_query : y_query + patch_size, :]\n",
    "#             query_patch_descr = encoder.predict(np.expand_dims(query_patch, axis=0))[0]\n",
    "#         query_patch_descr = np.mean(query_patch)\n",
    "        data = np.expand_dims(query_patch.reshape(patch_size * patch_size * 3), axis=1)\n",
    "        z2 = W1.dot(data) + np.tile(b1, (1, 1)).transpose()\n",
    "        query_patch_descr = sigmoid(z2)\n",
    "\n",
    "\n",
    "        counter_compare_patches = 0\n",
    "        compare_patches_scores = {}\n",
    "\n",
    "        patches_diffs = [1000000000]\n",
    "        patches_x_coords = [-1]\n",
    "        patches_y_coords = [-1]\n",
    "        patches_positions = [-1]\n",
    "\n",
    "        for y_compare in range(0, image_width - patch_size + 1, compare_stride):\n",
    "            for x_compare in range(0, image_height - patch_size + 1, compare_stride):\n",
    "\n",
    "                compare_patch = image_noisy[x_compare : x_compare + patch_size, y_compare : y_compare + patch_size, :]\n",
    "#                     compare_patch_descr = encoder.predict(np.expand_dims(compare_patch, axis=0))[0]\n",
    "#                 compare_patch_descr = np.mean(compare_patch)\n",
    "                data = np.expand_dims(compare_patch.reshape(patch_size * patch_size * 3), axis=1)\n",
    "                z2 = W1.dot(data) + np.tile(b1, (1, 1)).transpose()\n",
    "                compare_patch_descr = sigmoid(z2)    \n",
    "\n",
    "                diff = patch_diff(query_patch_descr, compare_patch_descr)\n",
    "#                 diff = (query_patch_descr - compare_patch_descr)**2\n",
    "\n",
    "                if diff < eps:\n",
    "                    counter_compare_patches += 1\n",
    "                    continue\n",
    "\n",
    "                # sorting\n",
    "                for i in range(len(patches_diffs)):\n",
    "                    if diff < patches_diffs[i]:\n",
    "                        patches_diffs.insert(i, diff)\n",
    "                        patches_x_coords.insert(i, x_compare)\n",
    "                        patches_y_coords.insert(i, y_compare)\n",
    "                        patches_positions.insert(i, counter_compare_patches)\n",
    "                        break\n",
    "\n",
    "                counter_compare_patches += 1\n",
    "\n",
    "        results_noisy_descr_patches_diffs[counter_query_patches] = patches_diffs[:nearest_patches_nb]\n",
    "        results_noisy_descr_patches_x_coords[counter_query_patches] = patches_x_coords[:nearest_patches_nb]\n",
    "        results_noisy_descr_patches_y_coords[counter_query_patches] = patches_y_coords[:nearest_patches_nb]\n",
    "        results_noisy_descr_patches_positions[counter_query_patches] = patches_positions[:nearest_patches_nb]\n",
    "\n",
    "        counter_query_patches += 1"
   ]
  },
  {
   "cell_type": "code",
   "execution_count": null,
   "metadata": {},
   "outputs": [],
   "source": []
  },
  {
   "cell_type": "code",
   "execution_count": null,
   "metadata": {},
   "outputs": [],
   "source": []
  },
  {
   "cell_type": "code",
   "execution_count": 9,
   "metadata": {},
   "outputs": [],
   "source": [
    "ssds = []\n",
    "\n",
    "# nr_similar_patches = 20\n",
    "\n",
    "for q_it in range(total_nr_query_patches):\n",
    "    for c_it in range(nr_similar_patches):\n",
    "        \n",
    "        # getting the query patch from the clean image\n",
    "        x_query = query_x_coords[q_it]\n",
    "        y_query = query_y_coords[q_it]\n",
    "        query_patch = image[x_query : x_query + patch_size, y_query : y_query + patch_size, :]\n",
    "        \n",
    "        # getting the compare patch from the clean image\n",
    "        x_compare = results_noisy_descr_patches_x_coords[q_it][c_it]\n",
    "        y_compare = results_noisy_descr_patches_y_coords[q_it][c_it]\n",
    "        compare_patch = image[x_compare : x_compare + patch_size, y_compare : y_compare + patch_size, :]\n",
    "        \n",
    "        # calculating the difference in the clean image\n",
    "        actual_diff = patch_diff(query_patch, compare_patch)\n",
    "        ssds.append(actual_diff)\n",
    "        \n",
    "ssds = np.array(ssds)"
   ]
  },
  {
   "cell_type": "code",
   "execution_count": 11,
   "metadata": {},
   "outputs": [
    {
     "name": "stderr",
     "output_type": "stream",
     "text": [
      "/scratch/tensorflow/lib/python3.6/site-packages/ipykernel_launcher.py:2: MatplotlibDeprecationWarning: \n",
      "The 'normed' kwarg was deprecated in Matplotlib 2.1 and will be removed in 3.1. Use 'density' instead.\n",
      "  \n"
     ]
    },
    {
     "data": {
      "image/png": "[encoded data removed]",
      "text/plain": [
       "<Figure size 720x360 with 1 Axes>"
      ]
     },
     "metadata": {
      "needs_background": "light"
     },
     "output_type": "display_data"
    }
   ],
   "source": [
    "plt.figure(figsize=(10, 5))\n",
    "plt.hist(ssds, 100, normed=1)\n",
    "plt.xlim(0, 6000000)\n",
    "plt.ylim(0, 0.000003)\n",
    "plt.show()"
   ]
  },
  {
   "cell_type": "code",
   "execution_count": 12,
   "metadata": {},
   "outputs": [
    {
     "data": {
      "text/plain": [
       "array([  782429.,   329489.,   328617.,   174191.,   363527.,    74961.,\n",
       "         854359.,   157128.,   378993.,   360670.,   238030.,   687584.,\n",
       "         522506.,   592766.,   548979.,   130431.,   382029.,   121064.,\n",
       "         433678.,   556339.,   285183.,   205862.,   454337.,   186262.,\n",
       "        1154305.,   384828.,   415965.,  1741215.,   517650.,   108249.,\n",
       "         151037.,   129039.,   109211.,  2120980.,  2337883.,  2429463.,\n",
       "        2964850.,  3782303.,  4353968.,  4156386.,   919959.,    91208.,\n",
       "          50466.,   513949.,  1085868.,  1194573.,   779886.,  1184612.,\n",
       "        1566870.,   950587.,   901404.,  1710615.,   821431.,  1173723.,\n",
       "         430163.,   178625.,   146724.,   155569.,  1078626.,   511264.,\n",
       "         235024.,   486451.,    48815.,   229972.,   873921.,   711644.,\n",
       "         371388.,  1958771.,  1934119.,   254427.,   253164.,  1280540.,\n",
       "         729858.,    62374.,   497375.,  1020735.,  1102895.,   493142.,\n",
       "         154573.,   284045.,   417416.,    62816.,   340271.,    59822.,\n",
       "         106488.,   148641.,   639458.,   508663.,   265114.,   503576.,\n",
       "         760122.,  1755784.,   356061.,   859949.,   276709.,    88035.,\n",
       "         496125.,    46451.,    29738.,   368721.,   437702.,   141406.,\n",
       "          58458.,   134543.,   169755.,    63080.,   316741.,   225852.,\n",
       "          72490.,  1045275.,  1033887.,    61925.,    64920.,   622860.,\n",
       "         243024.,   112164.,   182961.,  1917481.,   498907.,   137624.,\n",
       "        1909109.,   509658.,   381882.,  1301619.,  1910534.,  2276231.,\n",
       "        1710356.,  2273182.,  2807018.,  1940083.,   294262.,  2962615.,\n",
       "        1750679.,  2246431.,  1102093.,   710653.,   644284.,   268325.,\n",
       "        2128468.,  1251648.,   789950.,  1263497.,   329075.,   821976.,\n",
       "        1856999.,  1566548.,  1053642.,  3289423.,  3249241.,   864323.,\n",
       "         855420.,  2327160.,  1639188.,   402368.,  1258709.,   357447.,\n",
       "        2136351.,  1275656.,   645471.,   928431.,   733634.,  2052265.,\n",
       "        2207611.,  2696001.,  1368661.,  3504323.,  1104253.,  2027686.,\n",
       "         940799.,  2604357.,  1059166.,  1074276.,  2388957.,  1194988.,\n",
       "        2036549.,  1863643.,  2614746.,  2608376.,  2501534.,  3067417.,\n",
       "        3568397.,  1855768.,   795670.,  3239941.,  2846286.,  2038745.,\n",
       "        1433541.,  1373208.,  1514055.,  2343608.,   264429.,  1307032.,\n",
       "        1967390.,  3888044.,  2446210.,  4170847.,  3734076.,  3238131.,\n",
       "        3446041.,  3745097.,   259310.,   239310.,   296540.,   144525.,\n",
       "         216417.,   148680.,   649102.,   467432.,   389428.,   134369.,\n",
       "         369785.,   582146.,   384868.,   164249.,    43052.,   103536.,\n",
       "          32399.,   149049.,   296680.,   106174.,   579083.,   261166.,\n",
       "          95375.,    52361.,    39876.,  2553307.,   675180.,    46995.,\n",
       "         108843.,   265013.,   159350.,   236661.,    59817.,    32162.,\n",
       "          75137.,   245325.,    98007.,    67486.,   290236.,   415317.,\n",
       "         273187.,    97540.,   137096.,    85739.,   636640.,   429311.,\n",
       "         194696.,   418262.,   643610.,   292045.,  1989880.,   751191.,\n",
       "         237907.,   416993.,   109679.,    33291.,    48864.,   424655.,\n",
       "         357670.,   118976.,    69378.,    73589.,   193443.,    31726.,\n",
       "         240807.,   188882.,    56120.,   908409.,   888699.,    30975.,\n",
       "          39190.,   529482.,   173676.,   129842.,   130401.,  2145779.,\n",
       "         404583.,    74712.,    60523.,    32401.,   407358.,    44063.,\n",
       "          73885.,   169562.,   739427.,   609578.,   316893.,   591567.,\n",
       "         851591.,   439808.,  1709245.,   988422.,   358064.,   601192.,\n",
       "         170444.,    32582.,    36573.,   355740.,   516895.,   212925.,\n",
       "          77175.,   141068.,   109116.,    40215.,   365988.,   314737.,\n",
       "         109133.,  1169776.,  1153224.,    49972.,    57399.,   745325.,\n",
       "         289081.,    78459.,   186992.,  1861188.,   548842.,   155961.,\n",
       "          46404.,    48972.,   571244.,  1018460.,  1104491.,  1023582.,\n",
       "        1603517.,  1050001.,  1416071.,  1353711.,  1224668.,  1100470.,\n",
       "        1380566.,  1404761.,  1740870.,  1321393.,  1179645.,  1360969.,\n",
       "        1067894.,   865488.,  1404778.,   864898.,   975599.,   902938.,\n",
       "        1444550.,  1211248.,  1586525.,  1249014.,  1259900.,  1513643.,\n",
       "        1751504.,  2181004.,  1352496.,  7043616.,  5925576.,  1021576.,\n",
       "        1649354.,  1333839.,  1564255.,  1067367.,  1738042.,  1190675.,\n",
       "         723355.,   989325.,  1663017.,  1033412.,   704335.,   906177.,\n",
       "         682745.,   872061.,   596631.,  1076057.,  1563063.,  2771282.,\n",
       "        6866226.,   938358.,   862885.,  1405574.,  1112690.,   908459.,\n",
       "         624236.,   725988.,  1857722.,   819018.,  1151177.,  2056497.,\n",
       "         854668.,   692599.,   833946.,  1312895.,  4421249.,  2903836.,\n",
       "        1172915.,   794130.,   739623.,  1044519.,   745996.,   988913.,\n",
       "        1732820.,   949511.,  1446442.,  1083807.,   178097.,    30333.,\n",
       "          33875.,   708568.,   904562.,   723509.,   130849.,    91189.,\n",
       "         278293.,   102108.,    79690.,   106103.,  1195979.,   206356.,\n",
       "         418203.,   560615.,   206666.,   674586.,   168945.,   342773.,\n",
       "          92504.,   101667.,   102340.,   449554.,  4322018.,   427437.,\n",
       "         134177.,   288858.,   171926.,    91204.,    84539.,   951712.,\n",
       "         487914.,   224677.,   205770.,    47150.,   578094.,   533277.,\n",
       "          29655.,   211034.,   233082.,  1264476.,   237316.,   552806.,\n",
       "         305538.,   370094.,  1091276.,   263129.,   712492.,   230413.,\n",
       "         299971.,   168631.,   191467.,   900387.,   282602.,   331442.,\n",
       "         172324.,   309099.,   354867.,   163580.,   266520.,   448211.,\n",
       "        1224402.,   368407.,   473236.,   216211.,   299630.,   939948.,\n",
       "         138271.,   290354.,   408238.,   427664.,   809958.,   814529.,\n",
       "         942242.,   970082.,  1274473.,  1795004.,  2192845.,  2089825.,\n",
       "        1051394.,   551435.,   840049.,   792084.,   702202.,   444715.,\n",
       "         586704.,   699477.,   481839.,   448002.,  1586109.,   832758.,\n",
       "         718192.,   823828.,   648252.,  1210398.,  2443678.,  1839006.,\n",
       "        6465852.,   488668.,   517423.,   569664.,   689272.,   973588.,\n",
       "         615808.,   367506.,   942027.,   704685.,  1072584.,   692485.,\n",
       "         876467.,  1895607.,   905840.,  1148114.,  1112810.,   880476.,\n",
       "         636491.,  1940530.,  9046300.,  4220809.,  2870963.,  2583514.,\n",
       "         830514.,  2645543.,  4593704.,  2365442.,  2482839.,  1322913.,\n",
       "        1169133.,  1406793.,  2404820.,  1112340.,  2038054.,  2392833.,\n",
       "        1442334.,  3747719.,  2203643.,  2353286.,  4289843.,  3323063.,\n",
       "        3785373.,  2461102.,  3589534.,  3529780.,  3110705.,  2882928.,\n",
       "        3084765.,  2763622.,  1849307.,  2135334.,  2269331.,  3247327.,\n",
       "        2787178.,  3286181.,  3839677.,  2317692.,  2240900.,  3723120.,\n",
       "        3693978.,  4329863.,    91318.,   162089.,    99955.,    90963.,\n",
       "          80612.,    89593.,   234728.,    96117.,    70712.,  2049549.,\n",
       "        2895347.,  1979648.,  3656182.,  4759161.,  4767444.,  3240301.,\n",
       "        4611412.,  3262550.,  4726263.,   171948.,  4244577.,    86468.,\n",
       "        4660925.,  5615060.,  5618575.,  1133880.,  2990320.,  1433911.,\n",
       "        1211449.,   482190.,  3821907.,  3136889.,    95914.,    79249.,\n",
       "         113162.,    83278.,  3200999.,   219653.,    77686.,  1325367.,\n",
       "         217414.,   319957.,   717809.,    86129.,   497731.,  3304351.,\n",
       "         545957.,   357792.,    71992.,  3412886.,  2902913.,    66901.,\n",
       "         240263.,  3135034.,   197051.,   412670.,   695648.,    73680.,\n",
       "        2964444.,   267453.,  3038760.,   295145.,   922549.,  3000059.,\n",
       "         841810.,   118171.,   678828.,   649931.,   385630.,   355227.,\n",
       "         449196.,   384404.,   325945.,   255988.,   206642.,   303146.,\n",
       "         335453.,   413468.,   394960.,   441728.,   311740.,   181020.,\n",
       "         138481.,   228220.,   257607.,   137809.,   220788.,   400796.,\n",
       "         376082.,   194752.,    54877.,    95576.,   270479.,   411099.,\n",
       "         164901.,   544048.,  1123513.,   841388.,   955037.,   842070.,\n",
       "         757355.,   796950.,   693658.,   649772.,   322487.,   477419.,\n",
       "         512368.,   254296.,   322714.,   920552.,   246790.,   148491.,\n",
       "         477823.,   686539.,   142944.,   769172.,   761517.,  1221890.,\n",
       "         277731.,   766842.,   137002.,   122159.,   179539.,   581431.,\n",
       "         108953.,   155611.,   120656.,   474139.,   394760.,   216715.,\n",
       "         262369.,  1036712.,  2487065.,  2503857.,  3029394.,   189741.,\n",
       "         700848.,   131185.,   145078.,   130448.,   353176.,   193828.,\n",
       "         179890.,   520752.,   175564.,   253121.,   401983.,   386825.,\n",
       "         112380.,   310812.,   653761.,   523335.,   367522.,   280562.,\n",
       "         192627.,   154874.,   248336.,   718512.,   593392.,   586678.,\n",
       "         919784.,  1350068.,  6815692.,  6611486.,  2569660.,  2606033.,\n",
       "        2640365.,  2202717.,  2484343.,  2632923.,  2723205.,  3027011.,\n",
       "        3471789.,  3791487.,  4165955.,  4738016.,  5175066.,  5622762.,\n",
       "        6160446.,   934409.,   808240.,   879215.,  3381556.,  2637757.,\n",
       "        1080151.,  1289227.,  2044544.,  1123064.,  1016957.,  1554095.,\n",
       "        7957601.,  5944636.,  6348746.,  7319138.,  4500944.,  2866067.,\n",
       "         223537.,   119219.,   485064.,   581616.,  1011656.,  1187869.,\n",
       "         523289.,  1247028.,   150028.,   649347.,  4408182.,   604608.,\n",
       "         510020.,   537791.,   482469.,   632846.,  1927218.,   589049.,\n",
       "        1025145.,   964843.,   568576.,   647043.,    62896.,   503721.,\n",
       "        1003105.,   899945.,  1368364.,   450678.,   710923.,   855395.,\n",
       "         643012.,   706222.,  2217777.,   322212.,   430629.,   554777.,\n",
       "        1040077.,   165707.,   803357.,    81538.,   621492.,   230777.,\n",
       "         465176.,   815994.,   988218.,   209558.,  1673450.,  1861353.,\n",
       "        4527479.,  1885082.,  1722552.,   918897.,  1149740.,  1373737.,\n",
       "          62857.,  1865485.,   384703.,   862285.,  1833504.,  2892522.,\n",
       "         437608.,  1487256.,   992478.,  1214890.,  1549212.,  1410891.,\n",
       "         817253.,   940814.,  1010229.,   233049.,  1001309., 10784542.,\n",
       "        1929284.,  1900726.,  2749664.,  9775392.,  9631380.,  4504354.,\n",
       "        4543983.,  4577137.,  3839547.,  4229801.,  4491041.,  4610247.,\n",
       "         902909.,   553532.,   807915.,  1459613.,  3742970.,  1290441.,\n",
       "         821599.,   864484.,   828842.,   888906.,  6223501.,   705719.,\n",
       "         725446.,   666954.,   810439.,   634463.,   722728.,   654308.,\n",
       "        1073550.,   752092.,  1134766.,  1142193.,   751417.,   699963.,\n",
       "        1153066.,  1362333.,  1033491.,  3964911.,  1149152.,  1206716.,\n",
       "        2566493.,  1061232.,  2271194.,  1411142.,  1078062.,  1915212.,\n",
       "        2206274.,  3772651.,  1101934.,  1131676.,    40843.,    97192.,\n",
       "         293705.,    37902.,    42575.,    39586.,  1209967.,  3906587.,\n",
       "        5612026.,  5263420.,   920700.,   711658.,  2212724.,  1944548.,\n",
       "          38147.,    45192.,    57791.,    87565.,   142853.,    76482.,\n",
       "          93598.,    81693.,    76399.,    55938.,   103906.,    53699.,\n",
       "          55339.,    41313.,    52478.,    55061.,    51796.,    52105.,\n",
       "          52473.,    47251.,    45947.,    47708.,    51422.,    35483.,\n",
       "          42192.,    53984.,   131752.,   301041.,   255385.,   284032.,\n",
       "         345270.,    46287.,  1998110.,    56384.,    56436.,    37925.,\n",
       "         248941.,   185932.,   608308.,    61081.,   271983.,   210287.,\n",
       "          56126.,    53937.,   779202.,    61295.,   219491.,   109607.,\n",
       "         333210.,    62328.,    83421.,   118533.,    50298.,   169692.,\n",
       "         767917.,   269166.,    76273.,    59285.,   153435.,   358361.,\n",
       "         207407.,   558816.,    68928.,   344213.,    60642.,    92804.,\n",
       "         380136.,   217973.,   471260.,   344411.,   269440.,   169254.,\n",
       "         529393.,   275130.,   390960.,   322446.,   780066.,    59323.,\n",
       "        1761612.,   276259.,   346605.,  1390769.,   916326.,   899092.,\n",
       "         931774.,   924455.,   925215.,   451449.,   304129.,   331307.,\n",
       "         257811.,   204017.,   355604.,   286997.,  4149995.,   214857.,\n",
       "         197050.,   308619.,   213824.,  1741538.,   280682.,   144191.,\n",
       "         191833.,   344708.,   428653.,   308959.], dtype=float32)"
      ]
     },
     "execution_count": 12,
     "metadata": {},
     "output_type": "execute_result"
    }
   ],
   "source": [
    "ssds"
   ]
  },
  {
   "cell_type": "code",
   "execution_count": null,
   "metadata": {},
   "outputs": [],
   "source": []
  },
  {
   "cell_type": "code",
   "execution_count": null,
   "metadata": {},
   "outputs": [],
   "source": []
  },
  {
   "cell_type": "code",
   "execution_count": 20,
   "metadata": {},
   "outputs": [
    {
     "name": "stderr",
     "output_type": "stream",
     "text": [
      "/scratch/tensorflow/lib/python3.6/site-packages/ipykernel_launcher.py:24: MatplotlibDeprecationWarning: \n",
      "The 'normed' kwarg was deprecated in Matplotlib 2.1 and will be removed in 3.1. Use 'density' instead.\n"
     ]
    },
    {
     "data": {
      "image/png": "[encoded data removed]",
      "text/plain": [
       "<Figure size 720x360 with 1 Axes>"
      ]
     },
     "metadata": {
      "needs_background": "light"
     },
     "output_type": "display_data"
    },
    {
     "data": {
      "image/png": "[encoded data removed]",
      "text/plain": [
       "<Figure size 720x360 with 1 Axes>"
      ]
     },
     "metadata": {
      "needs_background": "light"
     },
     "output_type": "display_data"
    },
    {
     "data": {
      "image/png": "[encoded data removed]",
      "text/plain": [
       "<Figure size 720x360 with 1 Axes>"
      ]
     },
     "metadata": {
      "needs_background": "light"
     },
     "output_type": "display_data"
    },
    {
     "data": {
      "image/png": "[encoded data removed]",
      "text/plain": [
       "<Figure size 720x360 with 1 Axes>"
      ]
     },
     "metadata": {
      "needs_background": "light"
     },
     "output_type": "display_data"
    },
    {
     "data": {
      "image/png": "[encoded data removed]",
      "text/plain": [
       "<Figure size 720x360 with 1 Axes>"
      ]
     },
     "metadata": {
      "needs_background": "light"
     },
     "output_type": "display_data"
    }
   ],
   "source": [
    "for nr_similar_patches in [5,10,20,50,100]:\n",
    "    ssds = []\n",
    "\n",
    "    for q_it in range(total_nr_query_patches):\n",
    "        for c_it in range(nr_similar_patches):\n",
    "\n",
    "            # getting the query patch from the clean image\n",
    "            x_query = query_x_coords[q_it]\n",
    "            y_query = query_y_coords[q_it]\n",
    "            query_patch = image[x_query : x_query + patch_size, y_query : y_query + patch_size, :]\n",
    "\n",
    "            # getting the compare patch from the clean image\n",
    "            x_compare = results_noisy_descr_patches_x_coords[q_it][c_it]\n",
    "            y_compare = results_noisy_descr_patches_y_coords[q_it][c_it]\n",
    "            compare_patch = image[x_compare : x_compare + patch_size, y_compare : y_compare + patch_size, :]\n",
    "\n",
    "            # calculating the difference in the clean image\n",
    "            actual_diff = patch_diff(query_patch, compare_patch)\n",
    "            ssds.append(actual_diff)\n",
    "\n",
    "    ssds = np.array(ssds)\n",
    "    \n",
    "    plt.figure(figsize=(10, 5))\n",
    "    plt.hist(ssds, 50, normed=1)\n",
    "    plt.xlim(0, 6000000)\n",
    "    plt.ylim(0, 0.000004)\n",
    "    plt.show()"
   ]
  },
  {
   "cell_type": "code",
   "execution_count": null,
   "metadata": {},
   "outputs": [],
   "source": []
  }
 ],
 "metadata": {
  "kernelspec": {
   "display_name": "tensorflow",
   "language": "python",
   "name": "tensorflow"
  },
  "language_info": {
   "codemirror_mode": {
    "name": "ipython",
    "version": 3
   },
   "file_extension": ".py",
   "mimetype": "text/x-python",
   "name": "python",
   "nbconvert_exporter": "python",
   "pygments_lexer": "ipython3",
   "version": "3.6.8"
  }
 },
 "nbformat": 4,
 "nbformat_minor": 2
}
