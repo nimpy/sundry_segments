{
 "cells": [
  {
   "cell_type": "code",
   "execution_count": 2,
   "metadata": {},
   "outputs": [
    {
     "name": "stderr",
     "output_type": "stream",
     "text": [
      "Using TensorFlow backend.\n"
     ]
    }
   ],
   "source": [
    "from keras.layers import Input, Dense, Convolution2D, MaxPooling2D, UpSampling2D, Conv2D\n",
    "from keras.models import Model, load_model\n",
    "from keras.preprocessing.image import ImageDataGenerator, img_to_array, load_img\n",
    "from keras import backend as K\n",
    "import keras\n",
    "\n",
    "import numpy as np\n",
    "import matplotlib.pyplot as plt\n",
    "\n",
    "from os import listdir\n",
    "from os import system\n",
    "import os\n",
    "import random\n",
    "\n",
    "import imageio\n",
    "import sys\n",
    "import csv"
   ]
  },
  {
   "cell_type": "code",
   "execution_count": 3,
   "metadata": {},
   "outputs": [],
   "source": [
    "def patch_diff(patch1, patch2):\n",
    "    \"\"\"Computing the sum of squared differences (SSD) between two images.\"\"\"\n",
    "    if patch1.shape != patch2.shape:\n",
    "        print(\"Images don't have the same shape.\")\n",
    "        return\n",
    "    return np.sum((np.array(patch1, dtype=np.float32) - np.array(patch2, dtype=np.float32))**2)"
   ]
  },
  {
   "cell_type": "code",
   "execution_count": 35,
   "metadata": {},
   "outputs": [],
   "source": [
    "# image_path = '/home/niaki/Downloads/barbara.jpg'\n",
    "# image_path = '/home/niaki/Downloads/house.tiff'\n",
    "# image_path = '/home/niaki/Downloads/monarch.png'\n",
    "image_path = '/home/niaki/Downloads/Lenna.png'\n",
    "\n",
    "\n",
    "patch_size = 16\n",
    "patch_width = patch_size\n",
    "patch_height = patch_size\n",
    "\n",
    "nearest_patches_nb = -1\n",
    "query_stride = 300\n",
    "compare_stride = 2\n",
    "eps = 0.0001\n",
    "\n",
    "nr_similar_patches = 40"
   ]
  },
  {
   "cell_type": "code",
   "execution_count": 36,
   "metadata": {},
   "outputs": [],
   "source": [
    "image = imageio.imread(image_path)\n",
    "\n",
    "# to be deleted\n",
    "# image = image[:40, :40, :]\n",
    "\n",
    "image_height = image.shape[0]\n",
    "image_width = image.shape[1]\n",
    "\n",
    "if nearest_patches_nb == -1:\n",
    "    nearest_patches_nb = len(range(0, image_width - patch_size + 1, compare_stride)) * len(range(0, image_height - patch_size + 1, compare_stride))"
   ]
  },
  {
   "cell_type": "code",
   "execution_count": 37,
   "metadata": {},
   "outputs": [
    {
     "name": "stdout",
     "output_type": "stream",
     "text": [
      "4/4"
     ]
    }
   ],
   "source": [
    "# clean image\n",
    "\n",
    "query_x_coords = []\n",
    "query_y_coords = []\n",
    "\n",
    "results_patches_diffs = {}\n",
    "results_patches_x_coords = {}\n",
    "results_patches_y_coords = {}\n",
    "results_patches_positions = {}\n",
    "\n",
    "counter_query_patches = 0\n",
    "\n",
    "# just for the sake of output\n",
    "total_nr_query_patches = len(range(0, image_width - patch_size + 1, query_stride)) * len(range(0, image_height - patch_size + 1, query_stride))\n",
    "\n",
    "for y_query in range(0, image_width - patch_size + 1, query_stride):\n",
    "    for x_query in range(0, image_height - patch_size + 1, query_stride):\n",
    "        sys.stdout.write(\"\\r\" + str(counter_query_patches + 1) + \"/\" + str(total_nr_query_patches))\n",
    "        \n",
    "        query_x_coords.append(x_query)\n",
    "        query_y_coords.append(y_query)        \n",
    "    \n",
    "        query_patch = image[x_query : x_query + patch_size, y_query : y_query + patch_size, :]\n",
    "        \n",
    "        counter_compare_patches = 0\n",
    "        compare_patches_scores = {}\n",
    "        \n",
    "        patches_diffs = [1000000000]\n",
    "        patches_x_coords = [-1]\n",
    "        patches_y_coords = [-1]\n",
    "        patches_positions = [-1]\n",
    "        \n",
    "        for y_compare in range(0, image_width - patch_size + 1, compare_stride):\n",
    "            for x_compare in range(0, image_height - patch_size + 1, compare_stride):\n",
    "                \n",
    "                compare_patch = image[x_compare : x_compare + patch_size, y_compare : y_compare + patch_size, :]\n",
    "                diff = patch_diff(query_patch, compare_patch)\n",
    "                \n",
    "                if diff < eps:\n",
    "                    counter_compare_patches += 1\n",
    "                    continue\n",
    "                \n",
    "                # sorting\n",
    "                for i in range(len(patches_diffs)):\n",
    "                    if diff < patches_diffs[i]:\n",
    "                        patches_diffs.insert(i, diff)\n",
    "                        patches_x_coords.insert(i, x_compare)\n",
    "                        patches_y_coords.insert(i, y_compare)\n",
    "                        patches_positions.insert(i, counter_compare_patches)\n",
    "                        break\n",
    "                \n",
    "                counter_compare_patches += 1\n",
    "                \n",
    "        results_patches_diffs[counter_query_patches] = patches_diffs[:nearest_patches_nb]\n",
    "        results_patches_x_coords[counter_query_patches] = patches_x_coords[:nearest_patches_nb]\n",
    "        results_patches_y_coords[counter_query_patches] = patches_y_coords[:nearest_patches_nb]\n",
    "        results_patches_positions[counter_query_patches] = patches_positions[:nearest_patches_nb]\n",
    "        \n",
    "        counter_query_patches += 1"
   ]
  },
  {
   "cell_type": "code",
   "execution_count": 38,
   "metadata": {},
   "outputs": [],
   "source": [
    "image_noisy = image"
   ]
  },
  {
   "cell_type": "code",
   "execution_count": 39,
   "metadata": {},
   "outputs": [
    {
     "name": "stdout",
     "output_type": "stream",
     "text": [
      "4/4"
     ]
    }
   ],
   "source": [
    "base_dir = '/home/niaki/Code/ImageNet/tiny-imagenet-200'\n",
    "model_version = '16_3conv3mp_2.7' #'16_3conv3mp_2.7\n",
    "encoder = load_model(base_dir + '/encoder' + model_version + '.h5')\n",
    "\n",
    "\n",
    "query_x_coords = []\n",
    "query_y_coords = []\n",
    "\n",
    "results_noisy_descr_patches_diffs = {}\n",
    "results_noisy_descr_patches_x_coords = {}\n",
    "results_noisy_descr_patches_y_coords = {}\n",
    "results_noisy_descr_patches_positions = {}\n",
    "\n",
    "counter_query_patches = 0\n",
    "\n",
    "# just for the sake of output\n",
    "total_nr_query_patches = len(range(0, image_width - patch_size + 1, query_stride)) * len(range(0, image_height - patch_size + 1, query_stride))\n",
    "\n",
    "for y_query in range(0, image_width - patch_size + 1, query_stride):\n",
    "    for x_query in range(0, image_height - patch_size + 1, query_stride):\n",
    "        sys.stdout.write(\"\\r\" + str(counter_query_patches + 1) + \"/\" + str(total_nr_query_patches))\n",
    "        \n",
    "        query_x_coords.append(x_query)\n",
    "        query_y_coords.append(y_query)   \n",
    "\n",
    "        query_patch = image_noisy[x_query : x_query + patch_size, y_query : y_query + patch_size, :]\n",
    "        query_patch_descr = encoder.predict(np.expand_dims(query_patch, axis=0))[0]\n",
    "#         query_patch_descr = np.mean(query_patch)\n",
    "\n",
    "        counter_compare_patches = 0\n",
    "        compare_patches_scores = {}\n",
    "\n",
    "        patches_diffs = [1000000000]\n",
    "        patches_x_coords = [-1]\n",
    "        patches_y_coords = [-1]\n",
    "        patches_positions = [-1]\n",
    "\n",
    "        for y_compare in range(0, image_width - patch_size + 1, compare_stride):\n",
    "            for x_compare in range(0, image_height - patch_size + 1, compare_stride):\n",
    "\n",
    "                compare_patch = image_noisy[x_compare : x_compare + patch_size, y_compare : y_compare + patch_size, :]\n",
    "                compare_patch_descr = encoder.predict(np.expand_dims(compare_patch, axis=0))[0]\n",
    "#                 compare_patch_descr = np.mean(compare_patch)\n",
    "\n",
    "                diff = patch_diff(query_patch_descr, compare_patch_descr)\n",
    "#                 diff = (query_patch_descr - compare_patch_descr)**2\n",
    "\n",
    "                if diff < eps:\n",
    "                    counter_compare_patches += 1\n",
    "                    continue\n",
    "\n",
    "                # sorting\n",
    "                for i in range(len(patches_diffs)):\n",
    "                    if diff < patches_diffs[i]:\n",
    "                        patches_diffs.insert(i, diff)\n",
    "                        patches_x_coords.insert(i, x_compare)\n",
    "                        patches_y_coords.insert(i, y_compare)\n",
    "                        patches_positions.insert(i, counter_compare_patches)\n",
    "                        break\n",
    "\n",
    "                counter_compare_patches += 1\n",
    "\n",
    "        results_noisy_descr_patches_diffs[counter_query_patches] = patches_diffs[:nearest_patches_nb]\n",
    "        results_noisy_descr_patches_x_coords[counter_query_patches] = patches_x_coords[:nearest_patches_nb]\n",
    "        results_noisy_descr_patches_y_coords[counter_query_patches] = patches_y_coords[:nearest_patches_nb]\n",
    "        results_noisy_descr_patches_positions[counter_query_patches] = patches_positions[:nearest_patches_nb]\n",
    "\n",
    "        counter_query_patches += 1"
   ]
  },
  {
   "cell_type": "code",
   "execution_count": null,
   "metadata": {},
   "outputs": [],
   "source": []
  },
  {
   "cell_type": "code",
   "execution_count": null,
   "metadata": {},
   "outputs": [],
   "source": []
  },
  {
   "cell_type": "code",
   "execution_count": null,
   "metadata": {},
   "outputs": [],
   "source": []
  },
  {
   "cell_type": "code",
   "execution_count": null,
   "metadata": {},
   "outputs": [],
   "source": []
  },
  {
   "cell_type": "code",
   "execution_count": 52,
   "metadata": {},
   "outputs": [],
   "source": [
    "ssds = []\n",
    "\n",
    "nr_similar_patches = 5\n",
    "\n",
    "for q_it in range(total_nr_query_patches):\n",
    "    for c_it in range(nr_similar_patches):\n",
    "        \n",
    "        # getting the query patch from the clean image\n",
    "        x_query = query_x_coords[q_it]\n",
    "        y_query = query_y_coords[q_it]\n",
    "        query_patch = image[x_query : x_query + patch_size, y_query : y_query + patch_size, :]\n",
    "        \n",
    "        # getting the compare patch from the clean image\n",
    "        x_compare = results_noisy_descr_patches_x_coords[q_it][c_it]\n",
    "        y_compare = results_noisy_descr_patches_y_coords[q_it][c_it]\n",
    "        compare_patch = image[x_compare : x_compare + patch_size, y_compare : y_compare + patch_size, :]\n",
    "        \n",
    "        # calculating the difference in the clean image\n",
    "        actual_diff = patch_diff(query_patch, compare_patch)\n",
    "        ssds.append(actual_diff)\n",
    "        \n",
    "ssds = np.array(ssds)"
   ]
  },
  {
   "cell_type": "code",
   "execution_count": 53,
   "metadata": {},
   "outputs": [
    {
     "data": {
      "text/plain": [
       "201404.5"
      ]
     },
     "execution_count": 53,
     "metadata": {},
     "output_type": "execute_result"
    }
   ],
   "source": [
    "np.median(ssds)"
   ]
  },
  {
   "cell_type": "code",
   "execution_count": 16,
   "metadata": {},
   "outputs": [
    {
     "name": "stderr",
     "output_type": "stream",
     "text": [
      "/scratch/tensorflow/lib/python3.6/site-packages/ipykernel_launcher.py:2: MatplotlibDeprecationWarning: \n",
      "The 'normed' kwarg was deprecated in Matplotlib 2.1 and will be removed in 3.1. Use 'density' instead.\n",
      "  \n"
     ]
    },
    {
     "data": {
      "image/png": "[encoded data removed]",
      "text/plain": [
       "<Figure size 720x360 with 1 Axes>"
      ]
     },
     "metadata": {
      "needs_background": "light"
     },
     "output_type": "display_data"
    }
   ],
   "source": [
    "plt.figure(figsize=(10, 5))\n",
    "plt.hist(ssds, 100, normed=1)\n",
    "plt.xlim(0, 6000000)\n",
    "plt.ylim(0, 0.000003)\n",
    "plt.show()"
   ]
  },
  {
   "cell_type": "code",
   "execution_count": 17,
   "metadata": {
    "scrolled": true
   },
   "outputs": [
    {
     "data": {
      "text/plain": [
       "array([  402639.,   181925.,   178175.,    56561.,   196071.,   187209.,\n",
       "         179179.,  2281194.,   179042.,    56584.,   181814.,    33974.,\n",
       "         117061.,    50140.,   169813.,    82197.,   187371.,   184418.,\n",
       "          59673.,    65796.,    39609.,   188265.,   131892.,    48497.,\n",
       "          47786.,    48565.,   174191.,    28806.,    35244.,   259980.,\n",
       "          52759.,   106293.,   249637.,    41962.,    62384.,   260433.,\n",
       "          48218.,    38943.,   169061.,    34422.,    24629.,   173245.,\n",
       "          30532.,   209227.,   158387.,    30490.,   211134.,   354275.,\n",
       "          35211.,  1213536.,  2708914.,   310926.,    29551.,    48815.,\n",
       "          41382.,    68557.,    41699.,   106475.,    53456.,   147028.,\n",
       "         155569.,   225150.,    70247.,    54177.,   624381.,    53493.,\n",
       "         159810.,  1750038.,    30142.,   110429.,   121724.,    74995.,\n",
       "          47991.,    68213.,  1327212.,    55923.,    74539.,  1254651.,\n",
       "          44809.,    48802.,   655339.,    50719.,    26562.,    27162.,\n",
       "         343409.,    24327.,    27166.,    42396.,    43116.,    53086.,\n",
       "          26532.,   304298.,    44737.,    24092.,    51386.,    35163.,\n",
       "          23707.,    41887.,    56883.,    26923.,    67482.,    55151.,\n",
       "          57915.,    53449.,    46352.,    62617.,    19913.,    27818.,\n",
       "         134924.,    55131.,    37824.,  1786479.,    41183.,    51826.,\n",
       "          30184.,    63695.,    62816.,    55499.,    34765.,    57502.,\n",
       "          77558.,   605729.,   192187.,    41035.,    25400.,  1279352.,\n",
       "         149894.,   803490.,    76003.,   709613.,   124789.,    55096.,\n",
       "         635219.,   810433.,   118466.,   370268.,    65450.,   243280.,\n",
       "         110705.,    51364.,  1182966.,  1107144.,   337839.,   515498.,\n",
       "         952276.,   106963.,   131950.,   167980.,   514473.,   891054.,\n",
       "         104238.,   167004.,   144336.,   260728.,  1039169.,   248053.,\n",
       "         229565.,   709974.,   964572.,   362941.,  2715058.,  1674723.,\n",
       "        1741882.,  1952345.,  2846286.,  2186702.,  1169509.,  2357140.,\n",
       "        1423774.,  1408885.,  2089233.,  1940357.,  1344865.,  1981426.,\n",
       "         733634.,  3981447.,  1060657.,  2052265.,  1514135.,  2089940.,\n",
       "        2279795.,   986446.,  4219149.,  1701549.,  3233217.,  2483981.,\n",
       "        2049563.,  1431734.,  1338290.,  1903358.,  1373208.,  2034955.,\n",
       "        1294304.,  1679110.,  2812020.,  2269780.,  1111757.,  2891715.,\n",
       "        1769682.,  1632276.,    34959.,  3355013.,    32399.,    51276.,\n",
       "          27253.,    87826.,    74351.,    49048.,    33740.,    29455.,\n",
       "          29039.,   787303.,   290759.,    43052.,    27387.,    95156.,\n",
       "          40237.,    43028.,    30805.,    56631.,   104190.,  3439325.,\n",
       "         106174.,   211338.,  1173555.,    44000.,   441535.,    44349.,\n",
       "          81631.,    69925.,   196080.,   763078.,    39482.,    75137.,\n",
       "          41069.,    55021.,    76457.,    46995.,  1579839.,    47093.,\n",
       "          39441.,   790071.,    57276.,    95058.,   201630.,    25556.,\n",
       "          56223.,    37071.,    59460.,   189621.,  1765568.,    68998.,\n",
       "         130401.,   447646.,    33291.,   108059.,   350296.,    35872.,\n",
       "          29181.,   178478.,   191012.,    99425.,    36168.,   513839.,\n",
       "          30975.,  1812505.,    39190.,    78862.,   362788.,    44781.,\n",
       "         451946.,    67556.,    97816.,   686733.,    40066.,    36811.,\n",
       "         239825.,    36884.,    26043.,    26692.,    83593.,   100050.,\n",
       "          73682.,    79047.,  2009528.,    54020.,  1373671.,    43676.,\n",
       "          34893.,  1008782.,    86850.,    53421.,    96841.,    21403.,\n",
       "         136185.,    43280.,    51700.,    78459.,    60053.,    24289.,\n",
       "          33065.,    24362.,    53715.,    41806.,    55382.,    31079.,\n",
       "          81029.,    57727.,    44063.,    73885.,    46253.,    69286.,\n",
       "         419139.,   133822.,   293233.,    40417.,    39302.,    78695.,\n",
       "          83626.,   112364.,   742266.,  1411027.,  1179645.,   822167.,\n",
       "        1038389.,  1492185.,  1791925.,  1199467.,   978789.,  1064235.,\n",
       "         834246.,  1346557.,  1393241.,  1366360.,  1330999.,  1299813.,\n",
       "        1391373.,  1152253.,  2479686.,   960520.,  1327742.,  1259900.,\n",
       "         866089.,  1422365.,  1050001.,  1765597.,  1334571.,  1215200.,\n",
       "        1265246.,  1478752.,  1857460.,  1296157.,  1388669.,   850513.,\n",
       "        1141707.,  1154085.,   982467.,  1054621.,  1274221.,   959931.,\n",
       "         761673.,  1353544.,   950034.,   970316.,   784959.,  1005550.,\n",
       "         976408.,   824488.,  1563762.,  1448598.,  1128820.,   999846.,\n",
       "         718510.,  1888323.,  1225988.,  1303446.,  2007690.,  2002553.,\n",
       "         725988.,  1017238.,   991326.,  1274237.,   804759.,  1202463.,\n",
       "        1069293.,   917312.,  1301519.,   760390.,  1015905.,  1135436.,\n",
       "        1247086.,  1108649.,   843193.,   882633.,  2478921.,  1242803.,\n",
       "         934420.,  2248981.,   880043.,   923155.,    29655.,   410374.,\n",
       "          46578.,    32043.,    32272.,    31571.,    42098.,   167873.,\n",
       "          36816.,    45197.,    41272.,    56430.,  1248334.,   155125.,\n",
       "          34967.,   302009.,    41975.,    29157.,    44213.,   297779.,\n",
       "          31464.,    26063.,   285059.,    34575.,   211519.,   285434.,\n",
       "          49343.,   269798.,    63926.,   498125.,    51251.,    32970.,\n",
       "          32536.,   395207.,    40212.,    44349.,   345632.,    36744.,\n",
       "          24260.,   438467.,   182529.,   361628.,   497769.,   220770.,\n",
       "         211727.,   245195.,   235076.,   264080.,   301624.,   225908.,\n",
       "         190989.,   185823.,   202778.,  1074515.,   203755.,   219727.,\n",
       "         220349.,   201693.,   226115.,   286348.,   214542.,   238169.,\n",
       "         188767.,   299916.,   506963.,   939573.,   224814.,   300347.,\n",
       "         180651.,   204305.,   208610.,  1055638.,   229093.,   199929.,\n",
       "         222488.,   240442.,   278296.,   191584.,   182241.,   200985.,\n",
       "        2713157.,   619990.,   753638.,   748053.,   521943.,   581668.,\n",
       "        2763350.,   472342.,   495559.,   731971.,   828434.,   805519.,\n",
       "        1185321.,   631115.,   545291.,   449212.,  1418714.,   548195.,\n",
       "        1507546.,   675372.,   898343.,   565931.,   822606.,   430976.,\n",
       "        1379505.,   480552.,   833242.,   457044.,   963040.,  2290748.,\n",
       "         619327.,   641451.,  2045994.,   557558.,   880163.,   584574.,\n",
       "         441352.,   662451.,   872997.,   379450.,  7917715.,  3909678.,\n",
       "        5986215.,  5872405.,  2482839.,  7086516.,  4289281.,   404682.,\n",
       "        4593704.,  8219137.,  8886004.,  5128380.,  7877967.,  8855608.,\n",
       "        8699209.,  9144980.,  5476430.,  2738104.,  7079836.,  2633835.,\n",
       "        3654360.,  8995807.,  5133740.,  3018170.,  6126109.,  4525555.,\n",
       "       10685649.,  6817715.,  9402122.,  5886981.,  5498818.,  9261545.,\n",
       "        8647840.,  7426274.,  2353286.,  7932711.,  7298761.,  5054934.,\n",
       "         830514.,  2822270.,   160519.,    75892.,    91340.,    85047.,\n",
       "          98807.,   126353.,    74073.,    99238.,   499258.,    78827.,\n",
       "         284998.,   114245.,   108606.,   281457.,    91254.,    83239.,\n",
       "         115528.,   114228.,   110626.,    70949.,    88968.,    95651.,\n",
       "         202779.,    87382.,   144537.,   884538.,   106179.,   814183.,\n",
       "         338728.,   141856.,   113144.,   122109.,   127441.,    99207.,\n",
       "         256543.,   454738.,    52511.,    71942.,   439866.,   185787.,\n",
       "          32217.,   922549.,  1193731.,   658781.,   160324.,   874959.,\n",
       "        2061106.,  1219299.,    39155.,  1191437.,   585336.,  1719257.,\n",
       "         185900.,  1862103.,   237776.,  1744249.,   123668.,    34993.,\n",
       "         418822.,    76508.,   277820.,   388940.,    80709.,    68346.,\n",
       "          44227.,   165250.,   219506.,   131061.,    66901.,  1543389.,\n",
       "          56609.,  1191065.,    93216.,   267083.,   318767.,   780827.,\n",
       "         367490.,   260929.,  1884115.,   121514.,    50739.,    74422.,\n",
       "        1918644.,  1525542.,  1586873.,   252199.,    94963.,  2712520.,\n",
       "          97903.,    75277.,    66047.,   571665.,  1097718.,   104122.,\n",
       "         697459.,    35719.,   862423.,   765022.,  1416850.,    57837.,\n",
       "          49453.,   587216.,   439253.,   225432.,  1344962.,    71019.,\n",
       "         341025.,   298359.,  2201092.,   202841.,   252894.,   854532.,\n",
       "         341754.,    68981.,    83662.,    59094.,    87696.,   531149.,\n",
       "         837965.,   556644.,   824779.,   207932.,   499884.,   925037.,\n",
       "         809102.,  2925371.,   975848.,   522029.,    72395.,   947754.,\n",
       "         795614.,   895176.,  2390745.,   942045.,   878605.,   757712.,\n",
       "         954236.,   980274.,   510413.,   514428.,   912274.,   440765.,\n",
       "        2796160.,   271318.,   924567.,  5300742.,   591873.,   312620.,\n",
       "         763395.,   778820.,   334415.,   913516.,  1011418.,   878133.,\n",
       "          73220.,   383138.,   898805.,   755910.,   803031.,   419119.,\n",
       "        2046467.,   524591.,   874298.,   662292.,    54143.,  5397396.,\n",
       "        1289227.,  4108626.,   972389.,  1699176.,   906713.,   559609.,\n",
       "         121728.,   978812.,  1150484.,   752553.,   674368.,  1554095.,\n",
       "        1419181.,   713256.,   895676.,  2003965.,   521082.,   300783.,\n",
       "        1115310.,  1391353.,  1401994.,  4784574.,  1010537.,  1688208.,\n",
       "        1169348.,   666414.,   858473.,   268389.,  1479877.,   877050.,\n",
       "        3347793.,  1255144.,   581616.,  4069670.,    49709.,   197569.,\n",
       "         384437.,   154262.,   250530.,   241225.,   574692.,   365809.,\n",
       "         358734.,   215452.,    86329.,   554842.,   982312.,   389729.,\n",
       "         244172.,    67430.,  1285544.,   199411.,   362128.,   318503.,\n",
       "         234880.,    32965.,   496676.,   227365.,   314974.,   274024.,\n",
       "         328913.,   628487.,   293171.,   461024.,  2665129.,    93645.,\n",
       "         241424.,    85894.,    47395.,   391029.,   145209.,   676647.,\n",
       "         272973.,    44365.,  1749364.,   581731.,  1201370.,  1433113.,\n",
       "         745047.,  1614600.,  1322998.,  1666696.,   741973.,  1299954.,\n",
       "         855860.,   777457.,  1397718.,  1599626.,   834065.,   830030.,\n",
       "         918930.,  1459112.,  1151495.,   563470.,   953968.,   908458.,\n",
       "         932588.,   384703.,  1045118.,  1078130.,  1282883.,  1123149.,\n",
       "         284385.,  1355055.,  1217834.,  1078742.,  1325396.,   995820.,\n",
       "         972627.,    62857.,  1079865.,  1570203.,  1567152.,   864038.,\n",
       "         694852.,   846937.,  1028228.,   781315.,  1061232.,   786327.,\n",
       "         993946.,   878019.,  1036722.,   785100.,  1058095.,   756645.,\n",
       "         831012.,   966691.,   886542.,   944164.,   924026.,  1210779.,\n",
       "         909149.,  1044736.,   763046.,   783283.,   938397.,   934122.,\n",
       "        1188832.,   975832.,   779598.,  1065888.,  2570234.,   972220.,\n",
       "        1098909.,   910933.,   751394.,   800274.,   824047.,  1043747.,\n",
       "         963103.,   961402.,   891346.,   915520.,   148300.,   259724.,\n",
       "         207271.,    37902.,    67335.,   835266.,    52478.,    45640.,\n",
       "         325204.,   482784.,   888527.,    73156.,   133951.,   474296.,\n",
       "          41282.,    57045.,    52473.,    69210.,   115528.,   255723.,\n",
       "        1030776.,    73686.,    95018.,    75391.,   113753.,   269747.,\n",
       "          51422.,    44287.,   139892.,    53984.,   284787.,    41313.,\n",
       "          38147.,    47073.,   242313.,   195684.,    64599.,    51333.,\n",
       "         150467.,    53699.,   141055.,    80967.,   239407.,    66836.,\n",
       "         213792.,   158532.,   251797.,   197393.,    82819.,    63340.,\n",
       "          38419.,   135994.,    59294.,   171339.,    76012.,    55732.,\n",
       "          55399.,   571280.,   267005.,    59084.,   183159.,    59380.,\n",
       "         202619.,    79096.,   220264.,    54413.,  1298326.,    51620.,\n",
       "          66218.,   207402.,    58976.,    56932.,   160509.,    72263.,\n",
       "         167916.,   213997.,   163327.,    54282.,   587435.,    71610.,\n",
       "        2155125.,   576866.,  1470214.,  1362235.,   355235.,   472155.,\n",
       "         695889.,  1290275.,  2460262.,   600054.,  2865756.,   574964.,\n",
       "          64619.,  1456588.,  1315031.,   551363.,  2201197.,  1483744.,\n",
       "        1343967.,  1860929.,   409443.,  2279460.,   969697.,   676019.,\n",
       "         360404.,  2075375.,  2394541.,   326342.,   624512.,   290475.,\n",
       "        1463256.,   994392.,  2017509.,  1166434.,  1261195.,  1291652.,\n",
       "        1136535.,   528157.,   337750.,   611259.], dtype=float32)"
      ]
     },
     "execution_count": 17,
     "metadata": {},
     "output_type": "execute_result"
    }
   ],
   "source": [
    "ssds"
   ]
  },
  {
   "cell_type": "code",
   "execution_count": null,
   "metadata": {},
   "outputs": [],
   "source": []
  },
  {
   "cell_type": "code",
   "execution_count": null,
   "metadata": {},
   "outputs": [],
   "source": []
  },
  {
   "cell_type": "code",
   "execution_count": 54,
   "metadata": {},
   "outputs": [
    {
     "name": "stderr",
     "output_type": "stream",
     "text": [
      "/scratch/tensorflow/lib/python3.6/site-packages/ipykernel_launcher.py:24: MatplotlibDeprecationWarning: \n",
      "The 'normed' kwarg was deprecated in Matplotlib 2.1 and will be removed in 3.1. Use 'density' instead.\n"
     ]
    },
    {
     "data": {
      "image/png": "[encoded data removed]",
      "text/plain": [
       "<Figure size 720x360 with 1 Axes>"
      ]
     },
     "metadata": {
      "needs_background": "light"
     },
     "output_type": "display_data"
    },
    {
     "data": {
      "image/png": "[encoded data removed]",
      "text/plain": [
       "<Figure size 720x360 with 1 Axes>"
      ]
     },
     "metadata": {
      "needs_background": "light"
     },
     "output_type": "display_data"
    },
    {
     "data": {
      "image/png": "[encoded data removed]",
      "text/plain": [
       "<Figure size 720x360 with 1 Axes>"
      ]
     },
     "metadata": {
      "needs_background": "light"
     },
     "output_type": "display_data"
    },
    {
     "data": {
      "image/png": "[encoded data removed]",
      "text/plain": [
       "<Figure size 720x360 with 1 Axes>"
      ]
     },
     "metadata": {
      "needs_background": "light"
     },
     "output_type": "display_data"
    },
    {
     "data": {
      "image/png": "[encoded data removed]",
      "text/plain": [
       "<Figure size 720x360 with 1 Axes>"
      ]
     },
     "metadata": {
      "needs_background": "light"
     },
     "output_type": "display_data"
    }
   ],
   "source": [
    "for nr_similar_patches in [5,10,20,50,100]:\n",
    "    ssds = []\n",
    "\n",
    "    for q_it in range(total_nr_query_patches):\n",
    "        for c_it in range(nr_similar_patches):\n",
    "\n",
    "            # getting the query patch from the clean image\n",
    "            x_query = query_x_coords[q_it]\n",
    "            y_query = query_y_coords[q_it]\n",
    "            query_patch = image[x_query : x_query + patch_size, y_query : y_query + patch_size, :]\n",
    "\n",
    "            # getting the compare patch from the clean image\n",
    "            x_compare = results_noisy_descr_patches_x_coords[q_it][c_it]\n",
    "            y_compare = results_noisy_descr_patches_y_coords[q_it][c_it]\n",
    "            compare_patch = image[x_compare : x_compare + patch_size, y_compare : y_compare + patch_size, :]\n",
    "\n",
    "            # calculating the difference in the clean image\n",
    "            actual_diff = patch_diff(query_patch, compare_patch)\n",
    "            ssds.append(actual_diff)\n",
    "\n",
    "    ssds = np.array(ssds)\n",
    "    \n",
    "    plt.figure(figsize=(10, 5))\n",
    "    plt.hist(ssds, 50, normed=1)\n",
    "    plt.xlim(0, 6000000)\n",
    "    plt.ylim(0, 0.000004)\n",
    "    plt.show()"
   ]
  },
  {
   "cell_type": "code",
   "execution_count": 47,
   "metadata": {},
   "outputs": [
    {
     "data": {
      "text/plain": [
       "193746.0"
      ]
     },
     "execution_count": 47,
     "metadata": {},
     "output_type": "execute_result"
    }
   ],
   "source": [
    "np.median(ssds)"
   ]
  },
  {
   "cell_type": "code",
   "execution_count": null,
   "metadata": {},
   "outputs": [],
   "source": []
  }
 ],
 "metadata": {
  "kernelspec": {
   "display_name": "tensorflow",
   "language": "python",
   "name": "tensorflow"
  },
  "language_info": {
   "codemirror_mode": {
    "name": "ipython",
    "version": 3
   },
   "file_extension": ".py",
   "mimetype": "text/x-python",
   "name": "python",
   "nbconvert_exporter": "python",
   "pygments_lexer": "ipython3",
   "version": "3.6.8"
  }
 },
 "nbformat": 4,
 "nbformat_minor": 2
}
