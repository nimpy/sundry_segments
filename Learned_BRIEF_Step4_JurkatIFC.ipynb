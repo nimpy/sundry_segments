{
 "cells": [
  {
   "cell_type": "code",
   "execution_count": 1,
   "metadata": {},
   "outputs": [
    {
     "name": "stderr",
     "output_type": "stream",
     "text": [
      "Using TensorFlow backend.\n"
     ]
    }
   ],
   "source": [
    "from keras.layers import Input, Conv2D, Dense, Flatten, Reshape, UpSampling2D\n",
    "from keras.models import Model, load_model\n",
    "from keras.preprocessing.image import ImageDataGenerator, load_img\n",
    "from keras import backend as K\n",
    "from keras import initializers\n",
    "import keras\n",
    "\n",
    "import numpy as np\n",
    "import matplotlib.pyplot as plt\n",
    "\n",
    "from os import listdir\n",
    "from os import system\n",
    "import os\n",
    "import random\n",
    "\n",
    "import imageio\n",
    "\n",
    "from skimage.measure import block_reduce"
   ]
  },
  {
   "cell_type": "code",
   "execution_count": 3,
   "metadata": {},
   "outputs": [],
   "source": [
    "brief_patch_size = 48  # default value of PATCH_SIZE in OpenCV implementation\n",
    "input_patch_size = 56  # larger than the default value, s.t. the blurring is done using valid padding\n",
    "\n",
    "batch_size = 32"
   ]
  },
  {
   "cell_type": "code",
   "execution_count": 5,
   "metadata": {},
   "outputs": [],
   "source": [
    "base_dir = '/scratch/jurkat_ifc/ch3_dataset'\n",
    "\n",
    "train_data_dir      = base_dir + '/train'\n",
    "validation_data_dir = base_dir + '/validation'\n",
    "test_data_dir       = base_dir + '/test'"
   ]
  },
  {
   "cell_type": "code",
   "execution_count": 7,
   "metadata": {},
   "outputs": [],
   "source": [
    "def loading_data(dir_patches):\n",
    "    \"\"\"Load all the patches from dir_patches into tensors for training the autoencoder.\n",
    "    Return:\n",
    "        patches_in  -- tensor of stacked patches in their original shape, 56x56\n",
    "        patches_out -- tensor of the original patches center cropped to 48x48 \n",
    "                       and then downsampled to 24x24\n",
    "    \n",
    "    \"\"\"\n",
    "    files_patches = listdir(dir_patches)\n",
    "    files_patches.sort()\n",
    "    \n",
    "    patches_in = []\n",
    "    patches_out = []\n",
    "\n",
    "    \n",
    "    for file_patch in files_patches:\n",
    "        patch_orig = imageio.imread(dir_patches + '/' + file_patch)\n",
    "        patch_in = np.zeros((input_patch_size, input_patch_size))\n",
    "        patch_in[: 55, : 55] = patch_orig\n",
    "        patch_in[55, :] = patch_in[54, :]\n",
    "        patch_in[:, 55] = patch_in[:, 54]\n",
    "         \n",
    "        patch_out = patch_in[5: 53, 5: 53]  # center-crop to 48x48 (original BRIEF input patch size)\n",
    "        patch_out = block_reduce(patch_out, (2, 2), func=np.mean)  # downsample (mean-pool)\n",
    "        \n",
    "        patches_in.append(patch_in)\n",
    "        patches_out.append(patch_out)\n",
    "        \n",
    "\n",
    "    patches_in = np.array(patches_in)\n",
    "    patches_in = patches_in.astype(np.float64) / 255\n",
    "    patches_in = np.expand_dims(patches_in, -1)\n",
    "    \n",
    "    patches_out = np.array(patches_out)\n",
    "    patches_out = patches_out.astype(np.float64) / 255\n",
    "    patches_out = np.expand_dims(patches_out, -1)\n",
    "        \n",
    "    print(\"in\", patches_in.shape, \"; out\", patches_out.shape)\n",
    "    \n",
    "    return patches_in, patches_out"
   ]
  },
  {
   "cell_type": "code",
   "execution_count": 8,
   "metadata": {},
   "outputs": [
    {
     "name": "stdout",
     "output_type": "stream",
     "text": [
      "in (25809, 56, 56, 1) ; out (25809, 24, 24, 1)\n",
      "in (3227, 56, 56, 1) ; out (3227, 24, 24, 1)\n"
     ]
    }
   ],
   "source": [
    "x_train, y_train = loading_data(train_data_dir)\n",
    "x_validation, y_validation = loading_data(validation_data_dir)"
   ]
  },
  {
   "cell_type": "code",
   "execution_count": 17,
   "metadata": {},
   "outputs": [
    {
     "data": {
      "text/plain": [
       "<matplotlib.image.AxesImage at 0x7fcf64682978>"
      ]
     },
     "execution_count": 17,
     "metadata": {},
     "output_type": "execute_result"
    },
    {
     "data": {
      "image/png": "[encoded data removed]",
      "text/plain": [
       "<Figure size 432x288 with 1 Axes>"
      ]
     },
     "metadata": {
      "needs_background": "light"
     },
     "output_type": "display_data"
    }
   ],
   "source": [
    "plt.imshow(np.array(y_validation[25, :, :, 0] * 255, dtype=np.uint8), cmap='gray')"
   ]
  },
  {
   "cell_type": "code",
   "execution_count": 19,
   "metadata": {},
   "outputs": [],
   "source": [
    "image_datagen = ImageDataGenerator(rotation_range=30, zoom_range=0.2,\n",
    "    width_shift_range=0.3, height_shift_range=0.3, shear_range=0.2,\n",
    "    horizontal_flip=False, fill_mode=\"nearest\")"
   ]
  },
  {
   "cell_type": "code",
   "execution_count": 24,
   "metadata": {},
   "outputs": [],
   "source": [
    "brief_ae = load_model('/home/niaki/Projects/learned-brief/weights_pub/learned_brief_ae_20200605.h5')"
   ]
  },
  {
   "cell_type": "code",
   "execution_count": null,
   "metadata": {
    "scrolled": true
   },
   "outputs": [
    {
     "name": "stdout",
     "output_type": "stream",
     "text": [
      "Epoch 1/50\n",
      " 2813/25809 [==>...........................] - ETA: 14:48 - loss: 0.6388"
     ]
    }
   ],
   "source": [
    "model_version = '0.0.0.0_pretrainedLearnedBRIEF_output24X24'\n",
    "\n",
    "os.system('mkdir ' + base_dir + '/weights' + model_version)\n",
    "\n",
    "checkpointer = keras.callbacks.ModelCheckpoint(\n",
    "    base_dir + '/weights' + model_version + '/weights.{epoch:02d}-{val_loss:.2f}.hdf5', monitor='val_loss',\n",
    "    verbose=0, save_best_only=False, save_weights_only=False, mode='auto', period=1)\n",
    "\n",
    "history_callback = brief_ae.fit_generator(image_datagen.flow(x_train, y_train, batch_size),\n",
    "                steps_per_epoch=x_train.shape[0],\n",
    "                epochs=50,\n",
    "                validation_data=image_datagen.flow(x_validation, y_validation, batch_size),\n",
    "                validation_steps=x_validation.shape[0],\n",
    "                callbacks=[checkpointer]\n",
    "                )\n",
    "\n",
    "brief_ae.save(base_dir + '/brief_ae_step4_' + model_version + '.h5')\n",
    "\n",
    "# brief_ae = load_model(base_dir + '/brief_ae_' + model_version + '.h5')"
   ]
  },
  {
   "cell_type": "code",
   "execution_count": null,
   "metadata": {},
   "outputs": [],
   "source": []
  },
  {
   "cell_type": "code",
   "execution_count": null,
   "metadata": {},
   "outputs": [],
   "source": []
  }
 ],
 "metadata": {
  "kernelspec": {
   "display_name": "Python (tf2)",
   "language": "python",
   "name": "tensorflow"
  },
  "language_info": {
   "codemirror_mode": {
    "name": "ipython",
    "version": 3
   },
   "file_extension": ".py",
   "mimetype": "text/x-python",
   "name": "python",
   "nbconvert_exporter": "python",
   "pygments_lexer": "ipython3",
   "version": "3.7.3"
  }
 },
 "nbformat": 4,
 "nbformat_minor": 2
}
