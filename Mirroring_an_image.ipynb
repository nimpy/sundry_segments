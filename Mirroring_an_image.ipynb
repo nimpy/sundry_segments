{
 "cells": [
  {
   "cell_type": "code",
   "execution_count": 17,
   "metadata": {},
   "outputs": [],
   "source": [
    "import imageio\n",
    "import numpy as np"
   ]
  },
  {
   "cell_type": "code",
   "execution_count": 45,
   "metadata": {},
   "outputs": [],
   "source": [
    "base_dir = \"/home/niaki/Downloads\"\n",
    "\n",
    "filepath_crop = \"/monarch_cropped.png\"\n",
    "filepath_img = filepath_crop[:-4] + \"_mirrored.png\""
   ]
  },
  {
   "cell_type": "code",
   "execution_count": 46,
   "metadata": {},
   "outputs": [
    {
     "name": "stdout",
     "output_type": "stream",
     "text": [
      "(312, 884, 3)\n"
     ]
    }
   ],
   "source": [
    "crop = imageio.imread(base_dir + filepath_crop)\n",
    "\n",
    "img = np.zeros((crop.shape[0], crop.shape[1] * 2, crop.shape[2]), dtype=np.uint8)\n",
    "crop_flipped = crop[...,::-1,:]\n",
    "img[:, : crop.shape[1]:, :] = crop\n",
    "img[:, crop.shape[1]: , :] = crop_flipped\n",
    "\n",
    "print(img.shape)"
   ]
  },
  {
   "cell_type": "code",
   "execution_count": 47,
   "metadata": {},
   "outputs": [],
   "source": [
    "imageio.imsave(base_dir + filepath_img, img)"
   ]
  },
  {
   "cell_type": "code",
   "execution_count": null,
   "metadata": {},
   "outputs": [],
   "source": []
  },
  {
   "cell_type": "code",
   "execution_count": null,
   "metadata": {},
   "outputs": [],
   "source": []
  }
 ],
 "metadata": {
  "kernelspec": {
   "display_name": "Python 3",
   "language": "python",
   "name": "python3"
  },
  "language_info": {
   "codemirror_mode": {
    "name": "ipython",
    "version": 3
   },
   "file_extension": ".py",
   "mimetype": "text/x-python",
   "name": "python",
   "nbconvert_exporter": "python",
   "pygments_lexer": "ipython3",
   "version": "3.7.3"
  }
 },
 "nbformat": 4,
 "nbformat_minor": 2
}
