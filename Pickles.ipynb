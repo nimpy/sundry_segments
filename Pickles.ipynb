{
 "cells": [
  {
   "cell_type": "code",
   "execution_count": 13,
   "metadata": {},
   "outputs": [],
   "source": [
    "import pickle\n",
    "import datetime\n",
    "\n",
    "def pickle_vars(var1, var2):\n",
    "    pickle_file_path = 'zimnica/pickled_vars_' + datetime.datetime.now().strftime(\"%Y%m%d_%H%M%S\") + '.pickle'\n",
    "    try:\n",
    "        pickle.dump((var1, var2), open(pickle_file_path, \"wb\"))\n",
    "    except Exception as e:\n",
    "        print(\"Problem while trying to pickle: \", str(e))\n",
    "        \n",
    "def unpickle_vars(pickle_file_path):\n",
    "    try:\n",
    "        var1, var2 = pickle.load(open(pickle_file_path, \"rb\"))\n",
    "        return var1, var2\n",
    "    except Exception as e:\n",
    "        print(\"Problem while trying to unpickle: \", str(e))\n",
    "        return None"
   ]
  },
  {
   "cell_type": "code",
   "execution_count": 14,
   "metadata": {},
   "outputs": [],
   "source": [
    "a = 69\n",
    "b = \"kupusnjaca\""
   ]
  },
  {
   "cell_type": "code",
   "execution_count": 15,
   "metadata": {},
   "outputs": [],
   "source": [
    "pickle_vars(a, b)"
   ]
  },
  {
   "cell_type": "code",
   "execution_count": 16,
   "metadata": {},
   "outputs": [],
   "source": [
    "unpickled_a, unpickled_b = unpickle_vars(\"zimnica/pickled_vars_20191212_163234.pickle\")"
   ]
  },
  {
   "cell_type": "code",
   "execution_count": null,
   "metadata": {},
   "outputs": [],
   "source": []
  }
 ],
 "metadata": {
  "kernelspec": {
   "display_name": "Python 3",
   "language": "python",
   "name": "python3"
  },
  "language_info": {
   "codemirror_mode": {
    "name": "ipython",
    "version": 3
   },
   "file_extension": ".py",
   "mimetype": "text/x-python",
   "name": "python",
   "nbconvert_exporter": "python",
   "pygments_lexer": "ipython3",
   "version": "3.7.3"
  }
 },
 "nbformat": 4,
 "nbformat_minor": 2
}
