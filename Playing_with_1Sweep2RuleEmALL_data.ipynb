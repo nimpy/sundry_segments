{
 "cells": [
  {
   "cell_type": "code",
   "execution_count": 7,
   "id": "grateful-municipality",
   "metadata": {},
   "outputs": [],
   "source": [
    "import pandas as pd\n",
    "import numpy as np\n",
    "import os\n",
    "import matplotlib.pyplot as plt\n",
    "from mpl_toolkits.mplot3d import Axes3D\n",
    "import seaborn"
   ]
  },
  {
   "cell_type": "code",
   "execution_count": 2,
   "id": "growing-configuration",
   "metadata": {},
   "outputs": [],
   "source": [
    "sweep_df = pd.read_csv(os.path.join('/home/niaki/Downloads/1Sweep2RuleEmALL.csv'))"
   ]
  },
  {
   "cell_type": "code",
   "execution_count": 3,
   "id": "substantial-operations",
   "metadata": {},
   "outputs": [],
   "source": [
    "hpatches_overall = sweep_df['hpatches_overall']\n",
    "matching_overall = sweep_df['matching_overall']\n",
    "retrieval_overall = sweep_df['retrieval_overall']\n",
    "verification_overall = sweep_df['verification_overall']\n",
    "mse = sweep_df['mse']\n",
    "ssim = sweep_df['ssim']"
   ]
  },
  {
   "cell_type": "code",
   "execution_count": 4,
   "id": "boxed-overall",
   "metadata": {},
   "outputs": [
    {
     "data": {
      "text/plain": [
       "array([[1.       , 0.2082757],\n",
       "       [0.2082757, 1.       ]])"
      ]
     },
     "execution_count": 4,
     "metadata": {},
     "output_type": "execute_result"
    }
   ],
   "source": [
    "np.corrcoef(hpatches_overall, mse)"
   ]
  },
  {
   "cell_type": "code",
   "execution_count": 5,
   "id": "american-supplement",
   "metadata": {},
   "outputs": [
    {
     "data": {
      "text/plain": [
       "array([[1.        , 0.82544729],\n",
       "       [0.82544729, 1.        ]])"
      ]
     },
     "execution_count": 5,
     "metadata": {},
     "output_type": "execute_result"
    }
   ],
   "source": [
    "np.corrcoef(hpatches_overall, ssim)"
   ]
  },
  {
   "cell_type": "code",
   "execution_count": null,
   "id": "addressed-retro",
   "metadata": {},
   "outputs": [],
   "source": []
  },
  {
   "cell_type": "code",
   "execution_count": null,
   "id": "imposed-watson",
   "metadata": {},
   "outputs": [],
   "source": []
  },
  {
   "cell_type": "code",
   "execution_count": 6,
   "id": "overhead-repair",
   "metadata": {},
   "outputs": [
    {
     "data": {
      "text/plain": [
       "array([[1.        , 0.35100004],\n",
       "       [0.35100004, 1.        ]])"
      ]
     },
     "execution_count": 6,
     "metadata": {},
     "output_type": "execute_result"
    }
   ],
   "source": [
    "np.corrcoef(matching_overall, mse)"
   ]
  },
  {
   "cell_type": "code",
   "execution_count": 7,
   "id": "corresponding-poultry",
   "metadata": {},
   "outputs": [
    {
     "data": {
      "text/plain": [
       "array([[1.        , 0.18654916],\n",
       "       [0.18654916, 1.        ]])"
      ]
     },
     "execution_count": 7,
     "metadata": {},
     "output_type": "execute_result"
    }
   ],
   "source": [
    "np.corrcoef(retrieval_overall, mse)"
   ]
  },
  {
   "cell_type": "code",
   "execution_count": 8,
   "id": "official-dinner",
   "metadata": {},
   "outputs": [
    {
     "data": {
      "text/plain": [
       "array([[1.        , 0.08068894],\n",
       "       [0.08068894, 1.        ]])"
      ]
     },
     "execution_count": 8,
     "metadata": {},
     "output_type": "execute_result"
    }
   ],
   "source": [
    "np.corrcoef(verification_overall, mse)"
   ]
  },
  {
   "cell_type": "code",
   "execution_count": null,
   "id": "noble-negotiation",
   "metadata": {},
   "outputs": [],
   "source": []
  },
  {
   "cell_type": "code",
   "execution_count": 9,
   "id": "weighted-spiritual",
   "metadata": {},
   "outputs": [
    {
     "data": {
      "text/plain": [
       "array([[1.        , 0.87323188],\n",
       "       [0.87323188, 1.        ]])"
      ]
     },
     "execution_count": 9,
     "metadata": {},
     "output_type": "execute_result"
    }
   ],
   "source": [
    "np.corrcoef(matching_overall, ssim)"
   ]
  },
  {
   "cell_type": "code",
   "execution_count": 10,
   "id": "understanding-recording",
   "metadata": {},
   "outputs": [
    {
     "data": {
      "text/plain": [
       "array([[1.      , 0.828136],\n",
       "       [0.828136, 1.      ]])"
      ]
     },
     "execution_count": 10,
     "metadata": {},
     "output_type": "execute_result"
    }
   ],
   "source": [
    "np.corrcoef(retrieval_overall, ssim)"
   ]
  },
  {
   "cell_type": "code",
   "execution_count": 11,
   "id": "internal-aruba",
   "metadata": {},
   "outputs": [
    {
     "data": {
      "text/plain": [
       "array([[1.        , 0.71637939],\n",
       "       [0.71637939, 1.        ]])"
      ]
     },
     "execution_count": 11,
     "metadata": {},
     "output_type": "execute_result"
    }
   ],
   "source": [
    "np.corrcoef(verification_overall, ssim)"
   ]
  },
  {
   "cell_type": "code",
   "execution_count": null,
   "id": "studied-accounting",
   "metadata": {},
   "outputs": [],
   "source": []
  },
  {
   "cell_type": "code",
   "execution_count": 6,
   "id": "periodic-latex",
   "metadata": {
    "scrolled": true
   },
   "outputs": [
    {
     "name": "stdout",
     "output_type": "stream",
     "text": [
      "royal-sweep-8\n",
      "wise-sweep-7\n",
      "usual-sweep-4\n",
      "revived-sweep-3\n",
      "astral-sweep-24\n",
      "pretty-sweep-23\n",
      "eager-sweep-20\n",
      "true-sweep-19\n",
      "sandy-sweep-16\n",
      "laced-sweep-15\n",
      "lyric-sweep-12\n",
      "solar-sweep-11\n",
      "astral-sweep-8\n",
      "eager-sweep-7\n",
      "lilac-sweep-4\n",
      "mild-sweep-3\n",
      "hopeful-sweep-64\n",
      "splendid-sweep-63\n",
      "blooming-sweep-62\n",
      "easy-sweep-61\n",
      "helpful-sweep-60\n",
      "pretty-sweep-59\n",
      "dry-sweep-58\n",
      "frosty-sweep-57\n",
      "silver-sweep-56\n",
      "still-sweep-55\n",
      "bumbling-sweep-54\n",
      "efficient-sweep-53\n",
      "smart-sweep-52\n",
      "royal-sweep-51\n",
      "rose-sweep-50\n",
      "dry-sweep-49\n",
      "pretty-sweep-48\n",
      "bumbling-sweep-47\n",
      "ruby-sweep-46\n",
      "confused-sweep-45\n",
      "amber-sweep-44\n",
      "astral-sweep-43\n",
      "clear-sweep-42\n",
      "cerulean-sweep-41\n",
      "devoted-sweep-40\n",
      "spring-sweep-39\n",
      "toasty-sweep-38\n",
      "glamorous-sweep-37\n",
      "smart-sweep-36\n",
      "woven-sweep-35\n",
      "sweepy-sweep-34\n",
      "comic-sweep-33\n",
      "dazzling-sweep-32\n",
      "scarlet-sweep-31\n",
      "grateful-sweep-30\n",
      "silver-sweep-29\n",
      "likely-sweep-28\n",
      "clear-sweep-27\n",
      "ruby-sweep-26\n",
      "giddy-sweep-25\n",
      "skilled-sweep-24\n",
      "tough-sweep-23\n",
      "exalted-sweep-22\n",
      "comic-sweep-21\n",
      "lemon-sweep-20\n",
      "apricot-sweep-19\n",
      "hopeful-sweep-18\n",
      "floral-sweep-17\n",
      "fresh-sweep-16\n",
      "graceful-sweep-15\n",
      "trim-sweep-14\n",
      "quiet-sweep-13\n",
      "copper-sweep-12\n",
      "fearless-sweep-11\n",
      "confused-sweep-10\n",
      "visionary-sweep-9\n",
      "lunar-sweep-8\n",
      "electric-sweep-7\n",
      "dainty-sweep-6\n",
      "fresh-sweep-5\n",
      "exalted-sweep-4\n",
      "glad-sweep-3\n",
      "misunderstood-sweep-2\n",
      "stellar-sweep-1\n"
     ]
    }
   ],
   "source": [
    "for index, row in sweep_df.iterrows():\n",
    "    print(row['Name'])"
   ]
  },
  {
   "cell_type": "code",
   "execution_count": 19,
   "id": "consolidated-grade",
   "metadata": {
    "scrolled": true
   },
   "outputs": [
    {
     "name": "stdout",
     "output_type": "stream",
     "text": [
      "['Name' 'Runtime' 'num_epochs' 'activation_fn' 'data_augm_level'\n",
      " 'latent_size' 'loss_fn' 'vae_beta_norm' 'variational' 'hpatches_overall'\n",
      " 'matching_overall' 'retrieval_overall' 'verification_overall' 'mse'\n",
      " 'psnr' 'ssim' 'loss' 'matching_e' 'matching_h' 'matching_t'\n",
      " 'retrieval_e_100' 'retrieval_e_1000' 'retrieval_e_10000'\n",
      " 'retrieval_e_15000' 'retrieval_e_20000' 'retrieval_e_500'\n",
      " 'retrieval_e_5000' 'retrieval_e_mean' 'retrieval_h_100'\n",
      " 'retrieval_h_1000' 'retrieval_h_10000' 'retrieval_h_15000'\n",
      " 'retrieval_h_20000' 'retrieval_h_500' 'retrieval_h_5000'\n",
      " 'retrieval_h_mean' 'retrieval_mean_100' 'retrieval_mean_1000'\n",
      " 'retrieval_mean_10000' 'retrieval_mean_15000' 'retrieval_mean_20000'\n",
      " 'retrieval_mean_500' 'retrieval_mean_5000' 'retrieval_t_100'\n",
      " 'retrieval_t_1000' 'retrieval_t_10000' 'retrieval_t_15000'\n",
      " 'retrieval_t_20000' 'retrieval_t_500' 'retrieval_t_5000'\n",
      " 'retrieval_t_mean' 'verification_e_inter_balanced_auc'\n",
      " 'verification_e_inter_imbalanced_ap' 'verification_e_intra_balanced_auc'\n",
      " 'verification_e_intra_imbalanced_ap' 'verification_h_inter_balanced_auc'\n",
      " 'verification_h_inter_imbalanced_ap' 'verification_h_intra_balanced_auc'\n",
      " 'verification_h_intra_imbalanced_ap'\n",
      " 'verification_mean_inter_balanced_auc'\n",
      " 'verification_mean_inter_imbalanced_ap' 'verification_mean_inter_mean'\n",
      " 'verification_mean_intra_balanced_auc'\n",
      " 'verification_mean_intra_imbalanced_ap' 'verification_mean_intra_mean'\n",
      " 'verification_t_inter_balanced_auc' 'verification_t_inter_imbalanced_ap'\n",
      " 'verification_t_intra_balanced_auc' 'verification_t_intra_imbalanced_ap'\n",
      " 'val_loss' 'val_mse']\n",
      "['Name' 'Runtime' 'num_epochs' 'activation_fn' 'data_augm_level'\n",
      " 'latent_size' 'loss_fn' 'vae_beta_norm' 'variational' 'hpatches_overall'\n",
      " 'matching_overall' 'retrieval_overall' 'verification_overall' 'mse'\n",
      " 'psnr' 'ssim' 'loss' 'matching_e' 'matching_h' 'matching_t'\n",
      " 'retrieval_e_100' 'retrieval_e_1000' 'retrieval_e_10000'\n",
      " 'retrieval_e_15000' 'retrieval_e_20000' 'retrieval_e_500'\n",
      " 'retrieval_e_5000' 'retrieval_e_mean' 'retrieval_h_100'\n",
      " 'retrieval_h_1000' 'retrieval_h_10000' 'retrieval_h_15000'\n",
      " 'retrieval_h_20000' 'retrieval_h_500' 'retrieval_h_5000'\n",
      " 'retrieval_h_mean' 'retrieval_mean_100' 'retrieval_mean_1000'\n",
      " 'retrieval_mean_10000' 'retrieval_mean_15000' 'retrieval_mean_20000'\n",
      " 'retrieval_mean_500' 'retrieval_mean_5000' 'retrieval_t_100'\n",
      " 'retrieval_t_1000' 'retrieval_t_10000' 'retrieval_t_15000'\n",
      " 'retrieval_t_20000' 'retrieval_t_500' 'retrieval_t_5000'\n",
      " 'retrieval_t_mean' 'verification_e_inter_balanced_auc'\n",
      " 'verification_e_inter_imbalanced_ap' 'verification_e_intra_balanced_auc'\n",
      " 'verification_e_intra_imbalanced_ap' 'verification_h_inter_balanced_auc'\n",
      " 'verification_h_inter_imbalanced_ap' 'verification_h_intra_balanced_auc'\n",
      " 'verification_h_intra_imbalanced_ap'\n",
      " 'verification_mean_inter_balanced_auc'\n",
      " 'verification_mean_inter_imbalanced_ap' 'verification_mean_inter_mean'\n",
      " 'verification_mean_intra_balanced_auc'\n",
      " 'verification_mean_intra_imbalanced_ap' 'verification_mean_intra_mean'\n",
      " 'verification_t_inter_balanced_auc' 'verification_t_inter_imbalanced_ap'\n",
      " 'verification_t_intra_balanced_auc' 'verification_t_intra_imbalanced_ap'\n",
      " 'val_loss' 'val_mse']\n"
     ]
    }
   ],
   "source": [
    "new_columns = sweep_df.columns.values\n",
    "print(new_columns)\n",
    "for i, column in enumerate(new_columns):\n",
    "    new_column = column.replace('.', '_')\n",
    "    new_columns[i] = new_column\n",
    "print(new_columns)\n",
    "sweep_df.columns = new_columns"
   ]
  },
  {
   "cell_type": "code",
   "execution_count": 20,
   "id": "decent-facing",
   "metadata": {
    "scrolled": true
   },
   "outputs": [
    {
     "name": "stdout",
     "output_type": "stream",
     "text": [
      "Name\n",
      "Runtime\n",
      "num_epochs\n",
      "activation_fn\n",
      "data_augm_level\n",
      "latent_size\n",
      "loss_fn\n",
      "vae_beta_norm\n",
      "variational\n",
      "hpatches_overall\n",
      "matching_overall\n",
      "retrieval_overall\n",
      "verification_overall\n",
      "mse\n",
      "psnr\n",
      "ssim\n",
      "loss\n",
      "matching_e\n",
      "matching_h\n",
      "matching_t\n",
      "retrieval_e_100\n",
      "retrieval_e_1000\n",
      "retrieval_e_10000\n",
      "retrieval_e_15000\n",
      "retrieval_e_20000\n",
      "retrieval_e_500\n",
      "retrieval_e_5000\n",
      "retrieval_e_mean\n",
      "retrieval_h_100\n",
      "retrieval_h_1000\n",
      "retrieval_h_10000\n",
      "retrieval_h_15000\n",
      "retrieval_h_20000\n",
      "retrieval_h_500\n",
      "retrieval_h_5000\n",
      "retrieval_h_mean\n",
      "retrieval_mean_100\n",
      "retrieval_mean_1000\n",
      "retrieval_mean_10000\n",
      "retrieval_mean_15000\n",
      "retrieval_mean_20000\n",
      "retrieval_mean_500\n",
      "retrieval_mean_5000\n",
      "retrieval_t_100\n",
      "retrieval_t_1000\n",
      "retrieval_t_10000\n",
      "retrieval_t_15000\n",
      "retrieval_t_20000\n",
      "retrieval_t_500\n",
      "retrieval_t_5000\n",
      "retrieval_t_mean\n",
      "verification_e_inter_balanced_auc\n",
      "verification_e_inter_imbalanced_ap\n",
      "verification_e_intra_balanced_auc\n",
      "verification_e_intra_imbalanced_ap\n",
      "verification_h_inter_balanced_auc\n",
      "verification_h_inter_imbalanced_ap\n",
      "verification_h_intra_balanced_auc\n",
      "verification_h_intra_imbalanced_ap\n",
      "verification_mean_inter_balanced_auc\n",
      "verification_mean_inter_imbalanced_ap\n",
      "verification_mean_inter_mean\n",
      "verification_mean_intra_balanced_auc\n",
      "verification_mean_intra_imbalanced_ap\n",
      "verification_mean_intra_mean\n",
      "verification_t_inter_balanced_auc\n",
      "verification_t_inter_imbalanced_ap\n",
      "verification_t_intra_balanced_auc\n",
      "verification_t_intra_imbalanced_ap\n",
      "val_loss\n",
      "val_mse\n"
     ]
    }
   ],
   "source": [
    "for table_head in sweep_df:\n",
    "    print(table_head)"
   ]
  },
  {
   "cell_type": "code",
   "execution_count": null,
   "id": "deadly-merchandise",
   "metadata": {},
   "outputs": [],
   "source": []
  },
  {
   "cell_type": "code",
   "execution_count": 8,
   "id": "adapted-satellite",
   "metadata": {
    "scrolled": true
   },
   "outputs": [
    {
     "name": "stdout",
     "output_type": "stream",
     "text": [
      "royal-sweep-8\n",
      "wise-sweep-7\n",
      "usual-sweep-4\n",
      "revived-sweep-3\n",
      "devoted-sweep-40\n",
      "spring-sweep-39\n",
      "toasty-sweep-38\n",
      "glamorous-sweep-37\n",
      "smart-sweep-36\n",
      "woven-sweep-35\n",
      "sweepy-sweep-34\n",
      "comic-sweep-33\n",
      "lunar-sweep-8\n",
      "electric-sweep-7\n",
      "dainty-sweep-6\n",
      "fresh-sweep-5\n",
      "exalted-sweep-4\n",
      "glad-sweep-3\n",
      "misunderstood-sweep-2\n",
      "stellar-sweep-1\n"
     ]
    }
   ],
   "source": [
    "for row in sweep_df.itertuples():\n",
    "    if row.data_augm_level == 0:\n",
    "        print(row.Name)\n",
    "#         print(row)"
   ]
  },
  {
   "cell_type": "code",
   "execution_count": 9,
   "id": "synthetic-timber",
   "metadata": {},
   "outputs": [
    {
     "data": {
      "text/plain": [
       "Pandas(Index=0, Name='royal-sweep-8', Runtime=31060, num_epochs=400, activation_fn='relu', data_augm_level=0, latent_size=32, loss_fn='msssim', vae_beta_norm=0.0, variational=0, hpatches_overall=0.3545690273, matching_overall=0.1267631091, retrieval_overall=0.3068372607, verification_overall=0.6301067119, mse=0.01317608025, psnr=18.28709319, ssim=0.3911444105, loss=-0.8098895885, _18=0.2526714815, _19=0.09178368452, _20=0.03583416126, _21=0.6886335452, _22=0.5088266451, _23=0.3779855582, _24=0.3577376901, _25=0.3448784574, _26=0.5562929528, _27=0.4158528682, _28=0.4643153846, _29=0.5486368285, _30=0.3144296758, _31=0.1849678154, _32=0.1686636639, _33=0.1588899426, _34=0.3701683318, _35=0.2185455028, _36=0.2806145251, _37=0.5539036393, _38=0.3381635249, _39=0.2190221399, _40=0.2034473419, _41=0.1938620061, _42=0.3889342844, _43=0.2505282164, _44=0.4244405499, _45=0.1912342542, _46=0.09411307253, _47=0.08394070675, _48=0.07781753111, _49=0.2403415376, _50=0.1171862981, _51=0.1755820215, _52=0.834033845, _53=0.6570178164, _54=0.8004833228, _55=0.5758297097, _56=0.769878345, _57=0.5291116597, _58=0.72985799, _59=0.4400967238, _60=0.7762221787, _61=0.5458142678, _62=0.6610182232, _63=0.7377244854, _64=0.4606659159, _65=0.5991952007, _66=0.7247543462, _67=0.4513133272, _68=0.6828321434, _69=0.3660713142, val_loss=-0.8084245576, val_mse=0.01326824259)"
      ]
     },
     "execution_count": 9,
     "metadata": {},
     "output_type": "execute_result"
    }
   ],
   "source": [
    "next(sweep_df.itertuples())"
   ]
  },
  {
   "cell_type": "code",
   "execution_count": 10,
   "id": "grand-proxy",
   "metadata": {},
   "outputs": [
    {
     "data": {
      "text/plain": [
       "Pandas(Name='royal-sweep-8', Runtime=31060, num_epochs=400, activation_fn='relu', data_augm_level=0, latent_size=32, loss_fn='msssim', vae_beta_norm=0.0, variational=0, hpatches_overall=0.3545690273, matching_overall=0.1267631091, retrieval_overall=0.3068372607, verification_overall=0.6301067119, mse=0.01317608025, psnr=18.28709319, ssim=0.3911444105, loss=-0.8098895885, _17=0.2526714815, _18=0.09178368452, _19=0.03583416126, _20=0.6886335452, _21=0.5088266451, _22=0.3779855582, _23=0.3577376901, _24=0.3448784574, _25=0.5562929528, _26=0.4158528682, _27=0.4643153846, _28=0.5486368285, _29=0.3144296758, _30=0.1849678154, _31=0.1686636639, _32=0.1588899426, _33=0.3701683318, _34=0.2185455028, _35=0.2806145251, _36=0.5539036393, _37=0.3381635249, _38=0.2190221399, _39=0.2034473419, _40=0.1938620061, _41=0.3889342844, _42=0.2505282164, _43=0.4244405499, _44=0.1912342542, _45=0.09411307253, _46=0.08394070675, _47=0.07781753111, _48=0.2403415376, _49=0.1171862981, _50=0.1755820215, _51=0.834033845, _52=0.6570178164, _53=0.8004833228, _54=0.5758297097, _55=0.769878345, _56=0.5291116597, _57=0.72985799, _58=0.4400967238, _59=0.7762221787, _60=0.5458142678, _61=0.6610182232, _62=0.7377244854, _63=0.4606659159, _64=0.5991952007, _65=0.7247543462, _66=0.4513133272, _67=0.6828321434, _68=0.3660713142, val_loss=-0.8084245576, val_mse=0.01326824259)"
      ]
     },
     "execution_count": 10,
     "metadata": {},
     "output_type": "execute_result"
    }
   ],
   "source": [
    "next(sweep_df.itertuples(index=False))  # doesn't assign Index field"
   ]
  },
  {
   "cell_type": "code",
   "execution_count": 11,
   "id": "individual-uganda",
   "metadata": {
    "scrolled": true
   },
   "outputs": [
    {
     "data": {
      "text/plain": [
       "('royal-sweep-8',\n",
       " 31060,\n",
       " 400,\n",
       " 'relu',\n",
       " 0,\n",
       " 32,\n",
       " 'msssim',\n",
       " 0.0,\n",
       " 0,\n",
       " 0.3545690273,\n",
       " 0.1267631091,\n",
       " 0.3068372607,\n",
       " 0.6301067119,\n",
       " 0.01317608025,\n",
       " 18.28709319,\n",
       " 0.3911444105,\n",
       " -0.8098895885,\n",
       " 0.2526714815,\n",
       " 0.09178368452,\n",
       " 0.03583416126,\n",
       " 0.6886335452,\n",
       " 0.5088266451,\n",
       " 0.3779855582,\n",
       " 0.3577376901,\n",
       " 0.3448784574,\n",
       " 0.5562929528,\n",
       " 0.4158528682,\n",
       " 0.4643153846,\n",
       " 0.5486368285,\n",
       " 0.3144296758,\n",
       " 0.1849678154,\n",
       " 0.1686636639,\n",
       " 0.1588899426,\n",
       " 0.3701683318,\n",
       " 0.2185455028,\n",
       " 0.2806145251,\n",
       " 0.5539036393,\n",
       " 0.3381635249,\n",
       " 0.2190221399,\n",
       " 0.2034473419,\n",
       " 0.1938620061,\n",
       " 0.3889342844,\n",
       " 0.2505282164,\n",
       " 0.4244405499,\n",
       " 0.1912342542,\n",
       " 0.09411307253,\n",
       " 0.08394070675,\n",
       " 0.07781753111,\n",
       " 0.2403415376,\n",
       " 0.1171862981,\n",
       " 0.1755820215,\n",
       " 0.834033845,\n",
       " 0.6570178164,\n",
       " 0.8004833228,\n",
       " 0.5758297097,\n",
       " 0.769878345,\n",
       " 0.5291116597,\n",
       " 0.72985799,\n",
       " 0.4400967238,\n",
       " 0.7762221787,\n",
       " 0.5458142678,\n",
       " 0.6610182232,\n",
       " 0.7377244854,\n",
       " 0.4606659159,\n",
       " 0.5991952007,\n",
       " 0.7247543462,\n",
       " 0.4513133272,\n",
       " 0.6828321434,\n",
       " 0.3660713142,\n",
       " -0.8084245576,\n",
       " 0.01326824259)"
      ]
     },
     "execution_count": 11,
     "metadata": {},
     "output_type": "execute_result"
    }
   ],
   "source": [
    "next(sweep_df.itertuples(index=False, name=None))  # returns a tuple"
   ]
  },
  {
   "cell_type": "code",
   "execution_count": null,
   "id": "loaded-particle",
   "metadata": {},
   "outputs": [],
   "source": []
  },
  {
   "cell_type": "code",
   "execution_count": null,
   "id": "dynamic-reading",
   "metadata": {},
   "outputs": [],
   "source": []
  },
  {
   "cell_type": "code",
   "execution_count": 12,
   "id": "discrete-uruguay",
   "metadata": {},
   "outputs": [],
   "source": [
    "def find_row_with_inputs(activation_fn, data_augm_level, loss_fn, vae_beta_norm):\n",
    "    for row in sweep_df.itertuples():\n",
    "        if row.activation_fn == activation_fn and row.data_augm_level == data_augm_level and \\\n",
    "             row.loss_fn == loss_fn and row.vae_beta_norm == vae_beta_norm:\n",
    "            print(row.Name)\n",
    "            return row"
   ]
  },
  {
   "cell_type": "code",
   "execution_count": 13,
   "id": "synthetic-triumph",
   "metadata": {},
   "outputs": [
    {
     "name": "stdout",
     "output_type": "stream",
     "text": [
      "royal-sweep-8\n"
     ]
    }
   ],
   "source": [
    "row = find_row_with_inputs('relu', 0, 'msssim', 0.0)"
   ]
  },
  {
   "cell_type": "code",
   "execution_count": 14,
   "id": "trying-reduction",
   "metadata": {},
   "outputs": [
    {
     "data": {
      "text/plain": [
       "400"
      ]
     },
     "execution_count": 14,
     "metadata": {},
     "output_type": "execute_result"
    }
   ],
   "source": [
    "row.num_epochs"
   ]
  },
  {
   "cell_type": "code",
   "execution_count": null,
   "id": "romance-integration",
   "metadata": {},
   "outputs": [],
   "source": []
  },
  {
   "cell_type": "code",
   "execution_count": null,
   "id": "immune-samoa",
   "metadata": {},
   "outputs": [],
   "source": []
  },
  {
   "cell_type": "code",
   "execution_count": null,
   "id": "charged-tulsa",
   "metadata": {},
   "outputs": [],
   "source": []
  },
  {
   "cell_type": "code",
   "execution_count": null,
   "id": "ongoing-grade",
   "metadata": {},
   "outputs": [],
   "source": []
  },
  {
   "cell_type": "code",
   "execution_count": 21,
   "id": "norwegian-arnold",
   "metadata": {},
   "outputs": [],
   "source": [
    "temp_df = pd.read_csv(os.path.join('/home/niaki/Downloads/e3.csv'))"
   ]
  },
  {
   "cell_type": "code",
   "execution_count": 22,
   "id": "several-chocolate",
   "metadata": {},
   "outputs": [
    {
     "data": {
      "text/html": [
       "<div>\n",
       "<style scoped>\n",
       "    .dataframe tbody tr th:only-of-type {\n",
       "        vertical-align: middle;\n",
       "    }\n",
       "\n",
       "    .dataframe tbody tr th {\n",
       "        vertical-align: top;\n",
       "    }\n",
       "\n",
       "    .dataframe thead th {\n",
       "        text-align: right;\n",
       "    }\n",
       "</style>\n",
       "<table border=\"1\" class=\"dataframe\">\n",
       "  <thead>\n",
       "    <tr style=\"text-align: right;\">\n",
       "      <th></th>\n",
       "      <th>1.071721315383911133e+00</th>\n",
       "      <th>-6.975237727165222168e-01</th>\n",
       "      <th>-2.060569763183593750e+00</th>\n",
       "      <th>1.463334679603576660e+00</th>\n",
       "      <th>-5.147826671600341797e-02</th>\n",
       "      <th>-3.298784732818603516e+00</th>\n",
       "      <th>1.887164115905761719e+00</th>\n",
       "      <th>-1.189883470535278320e+00</th>\n",
       "      <th>-2.049411296844482422e+00</th>\n",
       "      <th>6.203038692474365234e-01</th>\n",
       "      <th>...</th>\n",
       "      <th>-1.912714242935180664e-01</th>\n",
       "      <th>-1.346344709396362305e+00</th>\n",
       "      <th>-1.436850190162658691e+00</th>\n",
       "      <th>2.863420009613037109e+00</th>\n",
       "      <th>1.958500623703002930e+00</th>\n",
       "      <th>-1.323023319244384766e+00</th>\n",
       "      <th>2.125678539276123047e+00</th>\n",
       "      <th>-1.106899023056030273e+00</th>\n",
       "      <th>-1.027957797050476074e+00</th>\n",
       "      <th>-2.985531091690063477e-01</th>\n",
       "    </tr>\n",
       "  </thead>\n",
       "  <tbody>\n",
       "    <tr>\n",
       "      <th>0</th>\n",
       "      <td>-1.196015</td>\n",
       "      <td>0.370765</td>\n",
       "      <td>0.191393</td>\n",
       "      <td>1.056168</td>\n",
       "      <td>-2.203231</td>\n",
       "      <td>0.687224</td>\n",
       "      <td>-0.161455</td>\n",
       "      <td>-0.300846</td>\n",
       "      <td>-0.499169</td>\n",
       "      <td>-0.849616</td>\n",
       "      <td>...</td>\n",
       "      <td>-0.098201</td>\n",
       "      <td>-0.986195</td>\n",
       "      <td>-1.648736</td>\n",
       "      <td>0.587143</td>\n",
       "      <td>-0.446989</td>\n",
       "      <td>1.032872</td>\n",
       "      <td>0.422314</td>\n",
       "      <td>-0.091870</td>\n",
       "      <td>0.479513</td>\n",
       "      <td>-2.092504</td>\n",
       "    </tr>\n",
       "    <tr>\n",
       "      <th>1</th>\n",
       "      <td>0.916045</td>\n",
       "      <td>-1.571269</td>\n",
       "      <td>-1.777616</td>\n",
       "      <td>-1.284020</td>\n",
       "      <td>0.463565</td>\n",
       "      <td>-5.122662</td>\n",
       "      <td>0.769087</td>\n",
       "      <td>1.492496</td>\n",
       "      <td>-2.305452</td>\n",
       "      <td>-0.024201</td>\n",
       "      <td>...</td>\n",
       "      <td>-3.704327</td>\n",
       "      <td>5.641026</td>\n",
       "      <td>2.057657</td>\n",
       "      <td>1.616672</td>\n",
       "      <td>-0.330786</td>\n",
       "      <td>-2.241348</td>\n",
       "      <td>-1.925252</td>\n",
       "      <td>-3.732348</td>\n",
       "      <td>-6.796799</td>\n",
       "      <td>-1.341560</td>\n",
       "    </tr>\n",
       "    <tr>\n",
       "      <th>2</th>\n",
       "      <td>0.853670</td>\n",
       "      <td>0.958714</td>\n",
       "      <td>-0.063351</td>\n",
       "      <td>-3.209044</td>\n",
       "      <td>-0.570292</td>\n",
       "      <td>-0.919766</td>\n",
       "      <td>0.857920</td>\n",
       "      <td>3.006751</td>\n",
       "      <td>-0.381379</td>\n",
       "      <td>0.783066</td>\n",
       "      <td>...</td>\n",
       "      <td>1.608433</td>\n",
       "      <td>0.398752</td>\n",
       "      <td>2.402145</td>\n",
       "      <td>-0.034562</td>\n",
       "      <td>0.661890</td>\n",
       "      <td>-2.394299</td>\n",
       "      <td>-3.595423</td>\n",
       "      <td>0.180507</td>\n",
       "      <td>-1.124519</td>\n",
       "      <td>-1.313283</td>\n",
       "    </tr>\n",
       "    <tr>\n",
       "      <th>3</th>\n",
       "      <td>1.300358</td>\n",
       "      <td>3.045589</td>\n",
       "      <td>-1.389175</td>\n",
       "      <td>-0.518559</td>\n",
       "      <td>-1.311524</td>\n",
       "      <td>-0.269138</td>\n",
       "      <td>-1.019830</td>\n",
       "      <td>0.756470</td>\n",
       "      <td>-0.289013</td>\n",
       "      <td>1.208836</td>\n",
       "      <td>...</td>\n",
       "      <td>0.776514</td>\n",
       "      <td>-2.911224</td>\n",
       "      <td>-0.090332</td>\n",
       "      <td>1.581681</td>\n",
       "      <td>0.490052</td>\n",
       "      <td>-3.806558</td>\n",
       "      <td>-0.571023</td>\n",
       "      <td>1.295546</td>\n",
       "      <td>3.161850</td>\n",
       "      <td>-0.889239</td>\n",
       "    </tr>\n",
       "    <tr>\n",
       "      <th>4</th>\n",
       "      <td>0.097911</td>\n",
       "      <td>3.893971</td>\n",
       "      <td>0.833545</td>\n",
       "      <td>-6.198056</td>\n",
       "      <td>-1.527376</td>\n",
       "      <td>-1.138692</td>\n",
       "      <td>0.064994</td>\n",
       "      <td>1.091284</td>\n",
       "      <td>3.935318</td>\n",
       "      <td>1.969850</td>\n",
       "      <td>...</td>\n",
       "      <td>3.409590</td>\n",
       "      <td>1.477768</td>\n",
       "      <td>-0.766617</td>\n",
       "      <td>-1.679354</td>\n",
       "      <td>5.855882</td>\n",
       "      <td>3.251256</td>\n",
       "      <td>-7.531929</td>\n",
       "      <td>0.163280</td>\n",
       "      <td>0.455451</td>\n",
       "      <td>1.275477</td>\n",
       "    </tr>\n",
       "    <tr>\n",
       "      <th>...</th>\n",
       "      <td>...</td>\n",
       "      <td>...</td>\n",
       "      <td>...</td>\n",
       "      <td>...</td>\n",
       "      <td>...</td>\n",
       "      <td>...</td>\n",
       "      <td>...</td>\n",
       "      <td>...</td>\n",
       "      <td>...</td>\n",
       "      <td>...</td>\n",
       "      <td>...</td>\n",
       "      <td>...</td>\n",
       "      <td>...</td>\n",
       "      <td>...</td>\n",
       "      <td>...</td>\n",
       "      <td>...</td>\n",
       "      <td>...</td>\n",
       "      <td>...</td>\n",
       "      <td>...</td>\n",
       "      <td>...</td>\n",
       "      <td>...</td>\n",
       "    </tr>\n",
       "    <tr>\n",
       "      <th>1994</th>\n",
       "      <td>-0.743324</td>\n",
       "      <td>-2.254470</td>\n",
       "      <td>-2.997527</td>\n",
       "      <td>1.255867</td>\n",
       "      <td>0.321246</td>\n",
       "      <td>-0.463607</td>\n",
       "      <td>-1.934700</td>\n",
       "      <td>-0.053736</td>\n",
       "      <td>-0.812330</td>\n",
       "      <td>0.658266</td>\n",
       "      <td>...</td>\n",
       "      <td>-2.188491</td>\n",
       "      <td>2.822297</td>\n",
       "      <td>0.633185</td>\n",
       "      <td>0.112312</td>\n",
       "      <td>-1.961811</td>\n",
       "      <td>-1.964058</td>\n",
       "      <td>-0.106723</td>\n",
       "      <td>-2.580929</td>\n",
       "      <td>-2.585653</td>\n",
       "      <td>-0.755925</td>\n",
       "    </tr>\n",
       "    <tr>\n",
       "      <th>1995</th>\n",
       "      <td>0.719800</td>\n",
       "      <td>-0.601975</td>\n",
       "      <td>0.503059</td>\n",
       "      <td>5.622789</td>\n",
       "      <td>-0.526940</td>\n",
       "      <td>0.039601</td>\n",
       "      <td>-3.442703</td>\n",
       "      <td>1.122977</td>\n",
       "      <td>-0.661697</td>\n",
       "      <td>2.457945</td>\n",
       "      <td>...</td>\n",
       "      <td>-2.880846</td>\n",
       "      <td>1.949525</td>\n",
       "      <td>2.936770</td>\n",
       "      <td>1.039319</td>\n",
       "      <td>-5.222342</td>\n",
       "      <td>0.184251</td>\n",
       "      <td>-0.822154</td>\n",
       "      <td>-0.361210</td>\n",
       "      <td>0.172861</td>\n",
       "      <td>0.824934</td>\n",
       "    </tr>\n",
       "    <tr>\n",
       "      <th>1996</th>\n",
       "      <td>-0.732217</td>\n",
       "      <td>-0.000484</td>\n",
       "      <td>-1.336199</td>\n",
       "      <td>0.187531</td>\n",
       "      <td>3.047167</td>\n",
       "      <td>-2.369049</td>\n",
       "      <td>-0.361550</td>\n",
       "      <td>-3.352042</td>\n",
       "      <td>-0.675345</td>\n",
       "      <td>-2.027706</td>\n",
       "      <td>...</td>\n",
       "      <td>-1.910454</td>\n",
       "      <td>4.842132</td>\n",
       "      <td>-0.026758</td>\n",
       "      <td>0.311609</td>\n",
       "      <td>-2.380913</td>\n",
       "      <td>-2.062700</td>\n",
       "      <td>-0.204079</td>\n",
       "      <td>-1.079148</td>\n",
       "      <td>-2.660998</td>\n",
       "      <td>2.250524</td>\n",
       "    </tr>\n",
       "    <tr>\n",
       "      <th>1997</th>\n",
       "      <td>1.164050</td>\n",
       "      <td>0.361293</td>\n",
       "      <td>-1.999117</td>\n",
       "      <td>-1.221888</td>\n",
       "      <td>1.983729</td>\n",
       "      <td>-2.510895</td>\n",
       "      <td>-1.295686</td>\n",
       "      <td>-1.663007</td>\n",
       "      <td>-0.124832</td>\n",
       "      <td>-1.388221</td>\n",
       "      <td>...</td>\n",
       "      <td>0.331265</td>\n",
       "      <td>5.985922</td>\n",
       "      <td>-0.141550</td>\n",
       "      <td>0.664725</td>\n",
       "      <td>-1.067734</td>\n",
       "      <td>-2.078010</td>\n",
       "      <td>-2.529442</td>\n",
       "      <td>0.054497</td>\n",
       "      <td>-1.624064</td>\n",
       "      <td>1.478889</td>\n",
       "    </tr>\n",
       "    <tr>\n",
       "      <th>1998</th>\n",
       "      <td>2.927921</td>\n",
       "      <td>-4.340204</td>\n",
       "      <td>-0.601727</td>\n",
       "      <td>1.956658</td>\n",
       "      <td>0.726672</td>\n",
       "      <td>-0.872973</td>\n",
       "      <td>0.756978</td>\n",
       "      <td>0.543743</td>\n",
       "      <td>-2.703698</td>\n",
       "      <td>-1.308032</td>\n",
       "      <td>...</td>\n",
       "      <td>-2.841563</td>\n",
       "      <td>2.377695</td>\n",
       "      <td>0.394680</td>\n",
       "      <td>1.566900</td>\n",
       "      <td>-1.085911</td>\n",
       "      <td>0.945089</td>\n",
       "      <td>-0.679531</td>\n",
       "      <td>-1.660054</td>\n",
       "      <td>-0.787851</td>\n",
       "      <td>1.448961</td>\n",
       "    </tr>\n",
       "  </tbody>\n",
       "</table>\n",
       "<p>1999 rows × 32 columns</p>\n",
       "</div>"
      ],
      "text/plain": [
       "      1.071721315383911133e+00  -6.975237727165222168e-01  \\\n",
       "0                    -1.196015                   0.370765   \n",
       "1                     0.916045                  -1.571269   \n",
       "2                     0.853670                   0.958714   \n",
       "3                     1.300358                   3.045589   \n",
       "4                     0.097911                   3.893971   \n",
       "...                        ...                        ...   \n",
       "1994                 -0.743324                  -2.254470   \n",
       "1995                  0.719800                  -0.601975   \n",
       "1996                 -0.732217                  -0.000484   \n",
       "1997                  1.164050                   0.361293   \n",
       "1998                  2.927921                  -4.340204   \n",
       "\n",
       "      -2.060569763183593750e+00  1.463334679603576660e+00  \\\n",
       "0                      0.191393                  1.056168   \n",
       "1                     -1.777616                 -1.284020   \n",
       "2                     -0.063351                 -3.209044   \n",
       "3                     -1.389175                 -0.518559   \n",
       "4                      0.833545                 -6.198056   \n",
       "...                         ...                       ...   \n",
       "1994                  -2.997527                  1.255867   \n",
       "1995                   0.503059                  5.622789   \n",
       "1996                  -1.336199                  0.187531   \n",
       "1997                  -1.999117                 -1.221888   \n",
       "1998                  -0.601727                  1.956658   \n",
       "\n",
       "      -5.147826671600341797e-02  -3.298784732818603516e+00  \\\n",
       "0                     -2.203231                   0.687224   \n",
       "1                      0.463565                  -5.122662   \n",
       "2                     -0.570292                  -0.919766   \n",
       "3                     -1.311524                  -0.269138   \n",
       "4                     -1.527376                  -1.138692   \n",
       "...                         ...                        ...   \n",
       "1994                   0.321246                  -0.463607   \n",
       "1995                  -0.526940                   0.039601   \n",
       "1996                   3.047167                  -2.369049   \n",
       "1997                   1.983729                  -2.510895   \n",
       "1998                   0.726672                  -0.872973   \n",
       "\n",
       "      1.887164115905761719e+00  -1.189883470535278320e+00  \\\n",
       "0                    -0.161455                  -0.300846   \n",
       "1                     0.769087                   1.492496   \n",
       "2                     0.857920                   3.006751   \n",
       "3                    -1.019830                   0.756470   \n",
       "4                     0.064994                   1.091284   \n",
       "...                        ...                        ...   \n",
       "1994                 -1.934700                  -0.053736   \n",
       "1995                 -3.442703                   1.122977   \n",
       "1996                 -0.361550                  -3.352042   \n",
       "1997                 -1.295686                  -1.663007   \n",
       "1998                  0.756978                   0.543743   \n",
       "\n",
       "      -2.049411296844482422e+00  6.203038692474365234e-01  ...  \\\n",
       "0                     -0.499169                 -0.849616  ...   \n",
       "1                     -2.305452                 -0.024201  ...   \n",
       "2                     -0.381379                  0.783066  ...   \n",
       "3                     -0.289013                  1.208836  ...   \n",
       "4                      3.935318                  1.969850  ...   \n",
       "...                         ...                       ...  ...   \n",
       "1994                  -0.812330                  0.658266  ...   \n",
       "1995                  -0.661697                  2.457945  ...   \n",
       "1996                  -0.675345                 -2.027706  ...   \n",
       "1997                  -0.124832                 -1.388221  ...   \n",
       "1998                  -2.703698                 -1.308032  ...   \n",
       "\n",
       "      -1.912714242935180664e-01  -1.346344709396362305e+00  \\\n",
       "0                     -0.098201                  -0.986195   \n",
       "1                     -3.704327                   5.641026   \n",
       "2                      1.608433                   0.398752   \n",
       "3                      0.776514                  -2.911224   \n",
       "4                      3.409590                   1.477768   \n",
       "...                         ...                        ...   \n",
       "1994                  -2.188491                   2.822297   \n",
       "1995                  -2.880846                   1.949525   \n",
       "1996                  -1.910454                   4.842132   \n",
       "1997                   0.331265                   5.985922   \n",
       "1998                  -2.841563                   2.377695   \n",
       "\n",
       "      -1.436850190162658691e+00  2.863420009613037109e+00  \\\n",
       "0                     -1.648736                  0.587143   \n",
       "1                      2.057657                  1.616672   \n",
       "2                      2.402145                 -0.034562   \n",
       "3                     -0.090332                  1.581681   \n",
       "4                     -0.766617                 -1.679354   \n",
       "...                         ...                       ...   \n",
       "1994                   0.633185                  0.112312   \n",
       "1995                   2.936770                  1.039319   \n",
       "1996                  -0.026758                  0.311609   \n",
       "1997                  -0.141550                  0.664725   \n",
       "1998                   0.394680                  1.566900   \n",
       "\n",
       "      1.958500623703002930e+00  -1.323023319244384766e+00  \\\n",
       "0                    -0.446989                   1.032872   \n",
       "1                    -0.330786                  -2.241348   \n",
       "2                     0.661890                  -2.394299   \n",
       "3                     0.490052                  -3.806558   \n",
       "4                     5.855882                   3.251256   \n",
       "...                        ...                        ...   \n",
       "1994                 -1.961811                  -1.964058   \n",
       "1995                 -5.222342                   0.184251   \n",
       "1996                 -2.380913                  -2.062700   \n",
       "1997                 -1.067734                  -2.078010   \n",
       "1998                 -1.085911                   0.945089   \n",
       "\n",
       "      2.125678539276123047e+00  -1.106899023056030273e+00  \\\n",
       "0                     0.422314                  -0.091870   \n",
       "1                    -1.925252                  -3.732348   \n",
       "2                    -3.595423                   0.180507   \n",
       "3                    -0.571023                   1.295546   \n",
       "4                    -7.531929                   0.163280   \n",
       "...                        ...                        ...   \n",
       "1994                 -0.106723                  -2.580929   \n",
       "1995                 -0.822154                  -0.361210   \n",
       "1996                 -0.204079                  -1.079148   \n",
       "1997                 -2.529442                   0.054497   \n",
       "1998                 -0.679531                  -1.660054   \n",
       "\n",
       "      -1.027957797050476074e+00  -2.985531091690063477e-01  \n",
       "0                      0.479513                  -2.092504  \n",
       "1                     -6.796799                  -1.341560  \n",
       "2                     -1.124519                  -1.313283  \n",
       "3                      3.161850                  -0.889239  \n",
       "4                      0.455451                   1.275477  \n",
       "...                         ...                        ...  \n",
       "1994                  -2.585653                  -0.755925  \n",
       "1995                   0.172861                   0.824934  \n",
       "1996                  -2.660998                   2.250524  \n",
       "1997                  -1.624064                   1.478889  \n",
       "1998                  -0.787851                   1.448961  \n",
       "\n",
       "[1999 rows x 32 columns]"
      ]
     },
     "execution_count": 22,
     "metadata": {},
     "output_type": "execute_result"
    }
   ],
   "source": [
    "temp_df"
   ]
  },
  {
   "cell_type": "code",
   "execution_count": 25,
   "id": "cheap-composition",
   "metadata": {},
   "outputs": [],
   "source": [
    "histogram = []\n",
    "for row in temp_df.itertuples(index=False, name=None):\n",
    "    for cell in row:\n",
    "        histogram.append(cell)"
   ]
  },
  {
   "cell_type": "code",
   "execution_count": 26,
   "id": "handed-cheese",
   "metadata": {},
   "outputs": [],
   "source": []
  },
  {
   "cell_type": "code",
   "execution_count": 29,
   "id": "tutorial-looking",
   "metadata": {
    "scrolled": true
   },
   "outputs": [
    {
     "data": {
      "text/plain": [
       "(array([4.000e+00, 4.000e+00, 3.000e+00, 4.000e+00, 1.000e+00, 5.000e+00,\n",
       "        1.200e+01, 1.000e+01, 1.400e+01, 2.600e+01, 3.600e+01, 4.600e+01,\n",
       "        7.600e+01, 9.800e+01, 1.250e+02, 1.860e+02, 2.960e+02, 4.040e+02,\n",
       "        6.310e+02, 7.970e+02, 1.226e+03, 1.686e+03, 2.323e+03, 3.091e+03,\n",
       "        3.992e+03, 4.867e+03, 5.898e+03, 6.528e+03, 6.536e+03, 5.817e+03,\n",
       "        5.091e+03, 3.948e+03, 3.056e+03, 2.281e+03, 1.606e+03, 1.084e+03,\n",
       "        7.380e+02, 5.080e+02, 3.110e+02, 2.170e+02, 1.370e+02, 1.010e+02,\n",
       "        5.700e+01, 3.000e+01, 2.300e+01, 1.800e+01, 7.000e+00, 4.000e+00,\n",
       "        2.000e+00, 7.000e+00]),\n",
       " array([-14.65705681, -14.13530577, -13.61355473, -13.09180368,\n",
       "        -12.57005264, -12.0483016 , -11.52655056, -11.00479952,\n",
       "        -10.48304848,  -9.96129744,  -9.43954639,  -8.91779535,\n",
       "         -8.39604431,  -7.87429327,  -7.35254223,  -6.83079119,\n",
       "         -6.30904015,  -5.7872891 ,  -5.26553806,  -4.74378702,\n",
       "         -4.22203598,  -3.70028494,  -3.1785339 ,  -2.65678286,\n",
       "         -2.13503181,  -1.61328077,  -1.09152973,  -0.56977869,\n",
       "         -0.04802765,   0.47372339,   0.99547443,   1.51722548,\n",
       "          2.03897652,   2.56072756,   3.0824786 ,   3.60422964,\n",
       "          4.12598068,   4.64773172,   5.16948277,   5.69123381,\n",
       "          6.21298485,   6.73473589,   7.25648693,   7.77823797,\n",
       "          8.29998901,   8.82174006,   9.3434911 ,   9.86524214,\n",
       "         10.38699318,  10.90874422,  11.43049526]),\n",
       " <BarContainer object of 50 artists>)"
      ]
     },
     "execution_count": 29,
     "metadata": {},
     "output_type": "execute_result"
    },
    {
     "data": {
      "image/png": "[encoded data removed]",
      "text/plain": [
       "<Figure size 432x288 with 1 Axes>"
      ]
     },
     "metadata": {
      "needs_background": "light"
     },
     "output_type": "display_data"
    }
   ],
   "source": [
    "plt.hist(histogram, 50)"
   ]
  },
  {
   "cell_type": "code",
   "execution_count": null,
   "id": "matched-experiment",
   "metadata": {},
   "outputs": [],
   "source": []
  },
  {
   "cell_type": "code",
   "execution_count": null,
   "id": "raising-button",
   "metadata": {},
   "outputs": [],
   "source": []
  },
  {
   "cell_type": "code",
   "execution_count": null,
   "id": "earlier-weekly",
   "metadata": {},
   "outputs": [],
   "source": []
  },
  {
   "cell_type": "code",
   "execution_count": null,
   "id": "exciting-wealth",
   "metadata": {},
   "outputs": [],
   "source": []
  },
  {
   "cell_type": "code",
   "execution_count": null,
   "id": "leading-hudson",
   "metadata": {},
   "outputs": [],
   "source": []
  },
  {
   "cell_type": "code",
   "execution_count": null,
   "id": "everyday-laser",
   "metadata": {},
   "outputs": [],
   "source": [
    "sweep_ae_df"
   ]
  },
  {
   "cell_type": "code",
   "execution_count": 4,
   "id": "august-pricing",
   "metadata": {},
   "outputs": [
    {
     "name": "stderr",
     "output_type": "stream",
     "text": [
      "/home/niaki/venvs/torch/lib/python3.7/site-packages/pandas/core/indexing.py:1720: SettingWithCopyWarning: \n",
      "A value is trying to be set on a copy of a slice from a DataFrame.\n",
      "Try using .loc[row_indexer,col_indexer] = value instead\n",
      "\n",
      "See the caveats in the documentation: https://pandas.pydata.org/pandas-docs/stable/user_guide/indexing.html#returning-a-view-versus-a-copy\n",
      "  self._setitem_single_column(loc, value, pi)\n"
     ]
    }
   ],
   "source": [
    "sweep_ae_df = sweep_df.loc[sweep_df['variational'] == 0]\n",
    "\n",
    "sweep_ae_df.loc[sweep_ae_df['activation_fn'] == 'relu', 'activation_fn'] = 0\n",
    "sweep_ae_df.loc[sweep_ae_df['activation_fn'] == 'elu', 'activation_fn'] = 1\n",
    "\n",
    "sweep_ae_df.loc[sweep_ae_df['loss_fn'] == 'msssim', 'loss_fn'] = 0\n",
    "sweep_ae_df.loc[sweep_ae_df['loss_fn'] == 'bce', 'loss_fn'] = 1\n"
   ]
  },
  {
   "cell_type": "code",
   "execution_count": null,
   "id": "ultimate-season",
   "metadata": {},
   "outputs": [],
   "source": []
  },
  {
   "cell_type": "code",
   "execution_count": null,
   "id": "worldwide-manhattan",
   "metadata": {},
   "outputs": [],
   "source": []
  },
  {
   "cell_type": "code",
   "execution_count": 5,
   "id": "joint-justice",
   "metadata": {
    "scrolled": false
   },
   "outputs": [
    {
     "data": {
      "image/png": "[encoded data removed]",
      "text/plain": [
       "<Figure size 432x288 with 2 Axes>"
      ]
     },
     "metadata": {
      "needs_background": "light"
     },
     "output_type": "display_data"
    }
   ],
   "source": [
    "# sweep_ae_df = sweep_df.loc[sweep_df['variational'] == 0]\n",
    "\n",
    "\n",
    "fig = plt.figure()\n",
    "ax = fig.add_subplot(111, projection='3d')\n",
    "img = ax.scatter(sweep_ae_df.activation_fn, sweep_ae_df.data_augm_level, sweep_ae_df.loss_fn, c=sweep_ae_df.hpatches_overall)\n",
    "\n",
    "fig.colorbar(img)\n",
    "plt.show()"
   ]
  },
  {
   "cell_type": "code",
   "execution_count": null,
   "id": "presidential-slave",
   "metadata": {},
   "outputs": [],
   "source": []
  },
  {
   "cell_type": "code",
   "execution_count": null,
   "id": "subjective-tender",
   "metadata": {},
   "outputs": [],
   "source": []
  },
  {
   "cell_type": "code",
   "execution_count": null,
   "id": "interstate-maintenance",
   "metadata": {},
   "outputs": [],
   "source": []
  },
  {
   "cell_type": "code",
   "execution_count": null,
   "id": "handy-member",
   "metadata": {},
   "outputs": [],
   "source": []
  },
  {
   "cell_type": "code",
   "execution_count": 11,
   "id": "expanded-european",
   "metadata": {},
   "outputs": [],
   "source": [
    "sweep_ae_df = sweep_df.loc[sweep_df['variational'] == 0]"
   ]
  },
  {
   "cell_type": "code",
   "execution_count": null,
   "id": "incoming-retirement",
   "metadata": {},
   "outputs": [],
   "source": [
    "fg = seaborn.FacetGrid(data=(sweep_ae_df.data_augm_level, sweep_ae_df.hpatches_overall, sweep_ae_df.activation_fn), hue='activation_fn', hue_order=sweep_ae_df.activation_fn, aspect=1.61)\n",
    "fg.map(pyplot.scatter, 'x label', 'y label').add_legend()"
   ]
  },
  {
   "cell_type": "code",
   "execution_count": null,
   "id": "recorded-cooling",
   "metadata": {},
   "outputs": [],
   "source": []
  },
  {
   "cell_type": "code",
   "execution_count": 20,
   "id": "efficient-valentine",
   "metadata": {
    "scrolled": true
   },
   "outputs": [
    {
     "ename": "TypeError",
     "evalue": "only integer scalar arrays can be converted to a scalar index",
     "output_type": "error",
     "traceback": [
      "\u001b[0;31m---------------------------------------------------------------------------\u001b[0m",
      "\u001b[0;31mTypeError\u001b[0m                                 Traceback (most recent call last)",
      "\u001b[0;32m<ipython-input-20-4c4ece2949e2>\u001b[0m in \u001b[0;36m<module>\u001b[0;34m\u001b[0m\n\u001b[1;32m      1\u001b[0m \u001b[0mfg\u001b[0m \u001b[0;34m=\u001b[0m \u001b[0mseaborn\u001b[0m\u001b[0;34m.\u001b[0m\u001b[0mFacetGrid\u001b[0m\u001b[0;34m(\u001b[0m\u001b[0mdata\u001b[0m\u001b[0;34m=\u001b[0m\u001b[0;34m(\u001b[0m\u001b[0mnp\u001b[0m\u001b[0;34m.\u001b[0m\u001b[0marray\u001b[0m\u001b[0;34m(\u001b[0m\u001b[0msweep_ae_df\u001b[0m\u001b[0;34m.\u001b[0m\u001b[0mdata_augm_level\u001b[0m\u001b[0;34m)\u001b[0m\u001b[0;34m,\u001b[0m \u001b[0mnp\u001b[0m\u001b[0;34m.\u001b[0m\u001b[0marray\u001b[0m\u001b[0;34m(\u001b[0m\u001b[0msweep_ae_df\u001b[0m\u001b[0;34m.\u001b[0m\u001b[0mhpatches_overall\u001b[0m\u001b[0;34m)\u001b[0m\u001b[0;34m)\u001b[0m\u001b[0;34m)\u001b[0m\u001b[0;34m\u001b[0m\u001b[0;34m\u001b[0m\u001b[0m\n\u001b[0;32m----> 2\u001b[0;31m \u001b[0mfg\u001b[0m\u001b[0;34m.\u001b[0m\u001b[0mmap\u001b[0m\u001b[0;34m(\u001b[0m\u001b[0mplt\u001b[0m\u001b[0;34m.\u001b[0m\u001b[0mscatter\u001b[0m\u001b[0;34m,\u001b[0m \u001b[0;34m'x label'\u001b[0m\u001b[0;34m,\u001b[0m \u001b[0;34m'y label'\u001b[0m\u001b[0;34m)\u001b[0m\u001b[0;31m#.add_legend()\u001b[0m\u001b[0;34m\u001b[0m\u001b[0;34m\u001b[0m\u001b[0m\n\u001b[0m",
      "\u001b[0;32m~/venvs/torch/lib/python3.7/site-packages/seaborn/axisgrid.py\u001b[0m in \u001b[0;36mmap\u001b[0;34m(self, func, *args, **kwargs)\u001b[0m\n\u001b[1;32m    649\u001b[0m \u001b[0;34m\u001b[0m\u001b[0m\n\u001b[1;32m    650\u001b[0m         \u001b[0;31m# Iterate over the data subsets\u001b[0m\u001b[0;34m\u001b[0m\u001b[0;34m\u001b[0m\u001b[0;34m\u001b[0m\u001b[0m\n\u001b[0;32m--> 651\u001b[0;31m         \u001b[0;32mfor\u001b[0m \u001b[0;34m(\u001b[0m\u001b[0mrow_i\u001b[0m\u001b[0;34m,\u001b[0m \u001b[0mcol_j\u001b[0m\u001b[0;34m,\u001b[0m \u001b[0mhue_k\u001b[0m\u001b[0;34m)\u001b[0m\u001b[0;34m,\u001b[0m \u001b[0mdata_ijk\u001b[0m \u001b[0;32min\u001b[0m \u001b[0mself\u001b[0m\u001b[0;34m.\u001b[0m\u001b[0mfacet_data\u001b[0m\u001b[0;34m(\u001b[0m\u001b[0;34m)\u001b[0m\u001b[0;34m:\u001b[0m\u001b[0;34m\u001b[0m\u001b[0;34m\u001b[0m\u001b[0m\n\u001b[0m\u001b[1;32m    652\u001b[0m \u001b[0;34m\u001b[0m\u001b[0m\n\u001b[1;32m    653\u001b[0m             \u001b[0;31m# If this subset is null, move on\u001b[0m\u001b[0;34m\u001b[0m\u001b[0;34m\u001b[0m\u001b[0;34m\u001b[0m\u001b[0m\n",
      "\u001b[0;32m~/venvs/torch/lib/python3.7/site-packages/seaborn/axisgrid.py\u001b[0m in \u001b[0;36mfacet_data\u001b[0;34m(self)\u001b[0m\n\u001b[1;32m    603\u001b[0m                                                     \u001b[0menumerate\u001b[0m\u001b[0;34m(\u001b[0m\u001b[0mcol_masks\u001b[0m\u001b[0;34m)\u001b[0m\u001b[0;34m,\u001b[0m\u001b[0;34m\u001b[0m\u001b[0;34m\u001b[0m\u001b[0m\n\u001b[1;32m    604\u001b[0m                                                     enumerate(hue_masks)):\n\u001b[0;32m--> 605\u001b[0;31m             \u001b[0mdata_ijk\u001b[0m \u001b[0;34m=\u001b[0m \u001b[0mdata\u001b[0m\u001b[0;34m[\u001b[0m\u001b[0mrow\u001b[0m \u001b[0;34m&\u001b[0m \u001b[0mcol\u001b[0m \u001b[0;34m&\u001b[0m \u001b[0mhue\u001b[0m \u001b[0;34m&\u001b[0m \u001b[0mself\u001b[0m\u001b[0;34m.\u001b[0m\u001b[0m_not_na\u001b[0m\u001b[0;34m]\u001b[0m\u001b[0;34m\u001b[0m\u001b[0;34m\u001b[0m\u001b[0m\n\u001b[0m\u001b[1;32m    606\u001b[0m             \u001b[0;32myield\u001b[0m \u001b[0;34m(\u001b[0m\u001b[0mi\u001b[0m\u001b[0;34m,\u001b[0m \u001b[0mj\u001b[0m\u001b[0;34m,\u001b[0m \u001b[0mk\u001b[0m\u001b[0;34m)\u001b[0m\u001b[0;34m,\u001b[0m \u001b[0mdata_ijk\u001b[0m\u001b[0;34m\u001b[0m\u001b[0;34m\u001b[0m\u001b[0m\n\u001b[1;32m    607\u001b[0m \u001b[0;34m\u001b[0m\u001b[0m\n",
      "\u001b[0;31mTypeError\u001b[0m: only integer scalar arrays can be converted to a scalar index"
     ]
    },
    {
     "data": {
      "image/png": "[encoded data removed]",
      "text/plain": [
       "<Figure size 216x216 with 1 Axes>"
      ]
     },
     "metadata": {
      "needs_background": "light"
     },
     "output_type": "display_data"
    }
   ],
   "source": [
    "fg = seaborn.FacetGrid(data=(np.array(sweep_ae_df.data_augm_level), np.array(sweep_ae_df.hpatches_overall)))\n",
    "fg.map(plt.scatter, 'x label', 'y label')#.add_legend()"
   ]
  },
  {
   "cell_type": "code",
   "execution_count": null,
   "id": "cleared-voice",
   "metadata": {},
   "outputs": [],
   "source": []
  },
  {
   "cell_type": "code",
   "execution_count": 23,
   "id": "conceptual-delhi",
   "metadata": {},
   "outputs": [
    {
     "name": "stderr",
     "output_type": "stream",
     "text": [
      "/home/niaki/venvs/torch/lib/python3.7/site-packages/ipykernel_launcher.py:7: SettingWithCopyWarning: \n",
      "A value is trying to be set on a copy of a slice from a DataFrame.\n",
      "Try using .loc[row_indexer,col_indexer] = value instead\n",
      "\n",
      "See the caveats in the documentation: https://pandas.pydata.org/pandas-docs/stable/user_guide/indexing.html#returning-a-view-versus-a-copy\n",
      "  import sys\n"
     ]
    },
    {
     "data": {
      "image/png": "[encoded data removed]",
      "text/plain": [
       "<Figure size 432x288 with 1 Axes>"
      ]
     },
     "metadata": {
      "needs_background": "light"
     },
     "output_type": "display_data"
    }
   ],
   "source": [
    "def dfScatter(df, xcol='data_augm_level', ycol='hpatches_overall', catcol='activation_fn'):\n",
    "    fig, ax = plt.subplots()\n",
    "    categories = np.unique(df[catcol])\n",
    "    colors = np.linspace(0, 1, len(categories))\n",
    "    colordict = dict(zip(categories, colors))  \n",
    "\n",
    "    df[\"Color\"] = df[catcol].apply(lambda x: colordict[x])\n",
    "    ax.scatter(df[xcol], df[ycol], c=df.Color)\n",
    "    return fig\n",
    "\n",
    "\n",
    "#     df = pd.DataFrame({'Height':np.random.normal(size=10),\n",
    "#                        'Weight':np.random.normal(size=10),\n",
    "#                        'Gender': [\"Male\",\"Male\",\"Unknown\",\"Male\",\"Male\",\n",
    "#                                   \"Female\",\"Did not respond\",\"Unknown\",\"Female\",\"Female\"]})    \n",
    "fig = dfScatter(sweep_ae_df)\n",
    "# fig.savefig('fig1.png')\n",
    "plt.show()"
   ]
  },
  {
   "cell_type": "code",
   "execution_count": 64,
   "id": "prerequisite-portuguese",
   "metadata": {},
   "outputs": [
    {
     "name": "stderr",
     "output_type": "stream",
     "text": [
      "/home/niaki/venvs/torch/lib/python3.7/site-packages/ipykernel_launcher.py:11: SettingWithCopyWarning: \n",
      "A value is trying to be set on a copy of a slice from a DataFrame.\n",
      "Try using .loc[row_indexer,col_indexer] = value instead\n",
      "\n",
      "See the caveats in the documentation: https://pandas.pydata.org/pandas-docs/stable/user_guide/indexing.html#returning-a-view-versus-a-copy\n",
      "  # This is added back by InteractiveShellApp.init_path()\n"
     ]
    },
    {
     "data": {
      "image/png": "[encoded data removed]",
      "text/plain": [
       "<Figure size 432x288 with 1 Axes>"
      ]
     },
     "metadata": {
      "needs_background": "light"
     },
     "output_type": "display_data"
    }
   ],
   "source": [
    "def dfScatter(df, xcol='data_augm_level', ycol='hpatches_overall', colourcol='activation_fn', shapecol='loss_fn'):\n",
    "    fig, ax = plt.subplots()\n",
    "    colour_categories = np.unique(df[colourcol])\n",
    "    colors = ['tab:orange', 'tab:blue']\n",
    "    colordict = dict(zip(colour_categories, colors))\n",
    "#     shape_categories = np.unique(df[shapecol])\n",
    "#     shapes = [\"o\", \"s\"]\n",
    "#     shapedict = dict(zip(shape_categories, shapes))\n",
    "    \n",
    "\n",
    "    df[\"Color\"] = df[colourcol].apply(lambda x: colordict[x])\n",
    "#     df[\"Shape\"] = df[shapecol].apply(lambda x: shapedict[x])\n",
    "    \n",
    "    dfmsssim = df.loc[df['loss_fn'] == 'msssim']\n",
    "    dfbce = df.loc[df['loss_fn'] == 'bce']\n",
    "    ax.scatter(dfmsssim[xcol], dfmsssim[ycol], c=dfmsssim.Color, marker='x')\n",
    "    ax.scatter(dfbce[xcol], dfbce[ycol], c=dfbce.Color, marker='o')\n",
    "    return fig\n",
    "\n",
    "\n",
    "  \n",
    "fig = dfScatter(sweep_ae_df)\n",
    "# fig.savefig('fig1.png')\n",
    "plt.show()"
   ]
  },
  {
   "cell_type": "code",
   "execution_count": 27,
   "id": "confused-dress",
   "metadata": {},
   "outputs": [
    {
     "data": {
      "text/plain": [
       "array([0., 1.])"
      ]
     },
     "execution_count": 27,
     "metadata": {},
     "output_type": "execute_result"
    }
   ],
   "source": [
    "np.linspace(0, 1, len(np.unique(sweep_ae_df.activation_fn)))"
   ]
  },
  {
   "cell_type": "code",
   "execution_count": 54,
   "id": "broadband-guinea",
   "metadata": {
    "scrolled": true
   },
   "outputs": [
    {
     "data": {
      "image/png": "[encoded data removed]",
      "text/plain": [
       "<Figure size 432x288 with 1 Axes>"
      ]
     },
     "metadata": {
      "needs_background": "light"
     },
     "output_type": "display_data"
    },
    {
     "data": {
      "image/png": "[encoded data removed]",
      "text/plain": [
       "<Figure size 432x288 with 1 Axes>"
      ]
     },
     "metadata": {
      "needs_background": "light"
     },
     "output_type": "display_data"
    }
   ],
   "source": [
    "dfmsssim = sweep_ae_df.loc[sweep_ae_df['loss_fn'] == 'msssim']\n",
    "dfbce = sweep_ae_df.loc[sweep_ae_df['loss_fn'] == 'bce']\n",
    "\n",
    "ax1 = dfmsssim.plot.scatter(x='data_augm_level',\n",
    "                      y='hpatches_overall',\n",
    "                      c='Color',\n",
    "                      marker='x')\n",
    "\n",
    "ax2 = dfbce.plot.scatter(x='data_augm_level',\n",
    "                      y='hpatches_overall',\n",
    "                      c='Color',\n",
    "                      marker='o')"
   ]
  },
  {
   "cell_type": "code",
   "execution_count": null,
   "id": "typical-sitting",
   "metadata": {},
   "outputs": [],
   "source": []
  },
  {
   "cell_type": "code",
   "execution_count": null,
   "id": "biblical-taiwan",
   "metadata": {},
   "outputs": [],
   "source": []
  },
  {
   "cell_type": "code",
   "execution_count": null,
   "id": "cheap-shark",
   "metadata": {},
   "outputs": [],
   "source": []
  },
  {
   "cell_type": "code",
   "execution_count": null,
   "id": "wrong-technical",
   "metadata": {},
   "outputs": [],
   "source": []
  },
  {
   "cell_type": "code",
   "execution_count": 62,
   "id": "directed-driver",
   "metadata": {},
   "outputs": [],
   "source": [
    "sweep_vae_df = sweep_df.loc[sweep_df['variational'] == 1]"
   ]
  },
  {
   "cell_type": "code",
   "execution_count": null,
   "id": "instructional-empire",
   "metadata": {},
   "outputs": [],
   "source": [
    "sweep_vae_df"
   ]
  },
  {
   "cell_type": "code",
   "execution_count": null,
   "id": "continental-transformation",
   "metadata": {},
   "outputs": [],
   "source": []
  },
  {
   "cell_type": "code",
   "execution_count": 89,
   "id": "successful-lawsuit",
   "metadata": {},
   "outputs": [
    {
     "name": "stderr",
     "output_type": "stream",
     "text": [
      "/home/niaki/venvs/torch/lib/python3.7/site-packages/ipykernel_launcher.py:24: SettingWithCopyWarning: \n",
      "A value is trying to be set on a copy of a slice from a DataFrame.\n",
      "Try using .loc[row_indexer,col_indexer] = value instead\n",
      "\n",
      "See the caveats in the documentation: https://pandas.pydata.org/pandas-docs/stable/user_guide/indexing.html#returning-a-view-versus-a-copy\n"
     ]
    },
    {
     "data": {
      "image/png": "[encoded data removed]",
      "text/plain": [
       "<Figure size 720x360 with 1 Axes>"
      ]
     },
     "metadata": {
      "needs_background": "light"
     },
     "output_type": "display_data"
    }
   ],
   "source": [
    "def dfScatter3D(df, xcol='data_augm_level', ycol='vae_beta_norm', zcol='hpatches_overall', colourcol='activation_fn', shapecol='loss_fn'):\n",
    "#     fig, ax = plt.subplots()\n",
    "#     colour_categories = np.unique(df[colourcol])\n",
    "#     colors = ['tab:orange', 'tab:blue']\n",
    "#     colordict = dict(zip(colour_categories, colors))\n",
    "\n",
    "#     df[\"Color\"] = df[colourcol].apply(lambda x: colordict[x])\n",
    "    \n",
    "#     dfmsssim = df.loc[df['loss_fn'] == 'msssim']\n",
    "#     dfbce = df.loc[df['loss_fn'] == 'bce']\n",
    "#     ax.scatter(dfmsssim[xcol], dfmsssim[ycol], c=dfmsssim.Color, marker='x')\n",
    "#     ax.scatter(dfbce[xcol], dfbce[ycol], c=dfbce.Color, marker='o')\n",
    "#     return fig\n",
    "\n",
    "    fig = plt.figure(figsize=(10,5))\n",
    "    ax = Axes3D(fig)\n",
    "#     ax.set_yscale('log')\n",
    "    ax.view_init(20, 60)\n",
    "\n",
    "    colour_categories = np.unique(df[colourcol])\n",
    "    colors = ['tab:orange', 'tab:blue']\n",
    "    colordict = dict(zip(colour_categories, colors))\n",
    "\n",
    "    df[\"Color\"] = df[colourcol].apply(lambda x: colordict[x])\n",
    "    dfmsssim = df.loc[df['loss_fn'] == 'msssim']\n",
    "    dfbce = df.loc[df['loss_fn'] == 'bce']\n",
    "        \n",
    "    \n",
    "    ax.scatter(dfmsssim[xcol], dfmsssim[ycol], dfmsssim[zcol], c=dfmsssim.Color, marker='x')\n",
    "    ax.scatter(dfbce[xcol], dfbce[ycol], dfbce[zcol], c=dfbce.Color, marker='o')\n",
    "    \n",
    "    return fig\n",
    "\n",
    "\n",
    "fig = dfScatter3D(sweep_vae_df)\n",
    "fig.savefig('fig1.pdf')\n",
    "plt.show()"
   ]
  },
  {
   "cell_type": "code",
   "execution_count": null,
   "id": "southern-charger",
   "metadata": {},
   "outputs": [],
   "source": []
  }
 ],
 "metadata": {
  "kernelspec": {
   "display_name": "Python (torch)",
   "language": "python",
   "name": "torch"
  },
  "language_info": {
   "codemirror_mode": {
    "name": "ipython",
    "version": 3
   },
   "file_extension": ".py",
   "mimetype": "text/x-python",
   "name": "python",
   "nbconvert_exporter": "python",
   "pygments_lexer": "ipython3",
   "version": "3.7.2"
  }
 },
 "nbformat": 4,
 "nbformat_minor": 5
}
