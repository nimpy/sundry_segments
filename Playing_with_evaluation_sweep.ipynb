{
 "cells": [
  {
   "cell_type": "code",
   "execution_count": 1,
   "id": "studied-london",
   "metadata": {},
   "outputs": [],
   "source": [
    "import pandas as pd\n",
    "import numpy as np\n",
    "import os\n",
    "import matplotlib.pyplot as plt"
   ]
  },
  {
   "cell_type": "code",
   "execution_count": 3,
   "id": "seven-cabinet",
   "metadata": {},
   "outputs": [],
   "source": [
    "sweep_df = pd.read_csv(os.path.join('/home/niaki/Downloads/1Sweep2RuleEmALL_evaluation_msssim_voi_onlyBCE.csv'))"
   ]
  },
  {
   "cell_type": "code",
   "execution_count": 4,
   "id": "aging-cornell",
   "metadata": {},
   "outputs": [],
   "source": [
    "hpatches_overall = sweep_df['hpatches_overall']\n",
    "matching_overall = sweep_df['matching_overall']\n",
    "retrieval_overall = sweep_df['retrieval_overall']\n",
    "verification_overall = sweep_df['verification_overall']\n",
    "\n",
    "mse = sweep_df['mse']\n",
    "psnr = sweep_df['psnr']\n",
    "ssim = sweep_df['ssim']\n",
    "msssim = sweep_df['msssim']\n",
    "\n",
    "are = sweep_df['are']\n",
    "\n",
    "nrmse_eucl = sweep_df['nrmse_eucl']\n",
    "nrmse_minmax = sweep_df['nrmse_minmax']\n",
    "nrmse_mean = sweep_df['nrmse_mean']\n",
    "\n",
    "voi_oi = sweep_df['voi_oi']\n",
    "voi_io = sweep_df['voi_io']\n",
    "voi = sweep_df['voi']\n",
    "\n",
    "rmse_sw = sweep_df['rmse_sw']\n",
    "uqi = sweep_df['uqi']\n",
    "ergas = sweep_df['ergas']\n",
    "scc = sweep_df['scc']\n",
    "# sam = sweep_df['sam']  # it's always a NaN\n",
    "vifp = sweep_df['vifp']\n",
    "psnrb = sweep_df['psnrb']"
   ]
  },
  {
   "cell_type": "code",
   "execution_count": 5,
   "id": "recent-casting",
   "metadata": {},
   "outputs": [],
   "source": [
    "benchmark_metrics = [hpatches_overall, matching_overall, retrieval_overall, verification_overall]\n",
    "approximate_metrics = [mse, psnr, ssim, msssim, are, nrmse_eucl, nrmse_minmax, nrmse_mean, voi_oi, voi_io, voi, rmse_sw, uqi, ergas, scc, vifp, psnrb]\n",
    "\n",
    "all_metrics = benchmark_metrics + approximate_metrics"
   ]
  },
  {
   "cell_type": "code",
   "execution_count": null,
   "id": "sixth-increase",
   "metadata": {},
   "outputs": [],
   "source": []
  },
  {
   "cell_type": "code",
   "execution_count": 6,
   "id": "younger-butterfly",
   "metadata": {},
   "outputs": [],
   "source": [
    "corr_matrix = np.corrcoef(all_metrics)"
   ]
  },
  {
   "cell_type": "code",
   "execution_count": 7,
   "id": "selected-candy",
   "metadata": {
    "scrolled": true
   },
   "outputs": [
    {
     "data": {
      "text/plain": [
       "array([[ 1.  ,  0.99,  1.  ,  0.98, -0.85,  0.93,  0.8 ,  0.05, -0.26,\n",
       "         0.08,  0.06,  0.09, -0.13,  0.1 , -0.16,  0.07,  0.01,  0.12,\n",
       "         0.12,  0.08, -0.04],\n",
       "       [ 0.99,  1.  ,  0.99,  0.96, -0.85,  0.92,  0.79,  0.1 , -0.3 ,\n",
       "         0.04,  0.02,  0.04, -0.08,  0.05, -0.12,  0.03,  0.05,  0.09,\n",
       "         0.16,  0.13,  0.  ],\n",
       "       [ 1.  ,  0.99,  1.  ,  0.96, -0.87,  0.93,  0.81,  0.08, -0.29,\n",
       "         0.06,  0.03,  0.06, -0.11,  0.07, -0.15,  0.05,  0.03,  0.1 ,\n",
       "         0.15,  0.11, -0.02],\n",
       "       [ 0.98,  0.96,  0.96,  1.  , -0.8 ,  0.89,  0.74, -0.04, -0.16,\n",
       "         0.17,  0.15,  0.17, -0.2 ,  0.18, -0.22,  0.16, -0.07,  0.18,\n",
       "         0.01, -0.01, -0.12],\n",
       "       [-0.85, -0.85, -0.87, -0.8 ,  1.  , -0.98, -0.99, -0.08,  0.48,\n",
       "         0.03,  0.03,  0.04,  0.12, -0.04,  0.21,  0.02,  0.04,  0.05,\n",
       "        -0.31, -0.14,  0.09],\n",
       "       [ 0.93,  0.92,  0.93,  0.89, -0.98,  1.  ,  0.96,  0.08, -0.42,\n",
       "        -0.01, -0.01, -0.01, -0.11,  0.04, -0.18,  0.  , -0.02, -0.02,\n",
       "         0.27,  0.14, -0.07],\n",
       "       [ 0.8 ,  0.79,  0.81,  0.74, -0.99,  0.96,  1.  ,  0.11, -0.5 ,\n",
       "        -0.08, -0.07, -0.08, -0.07, -0.01, -0.17, -0.06, -0.02, -0.1 ,\n",
       "         0.36,  0.17, -0.08],\n",
       "       [ 0.05,  0.1 ,  0.08, -0.04, -0.08,  0.08,  0.11,  1.  , -0.69,\n",
       "        -0.89, -0.94, -0.88,  0.92, -0.94,  0.85, -0.93,  0.95, -0.71,\n",
       "         0.82,  0.97,  0.92],\n",
       "       [-0.26, -0.3 , -0.29, -0.16,  0.48, -0.42, -0.5 , -0.69,  1.  ,\n",
       "         0.68,  0.68,  0.68, -0.59,  0.68, -0.44,  0.68, -0.56,  0.66,\n",
       "        -0.76, -0.72, -0.61],\n",
       "       [ 0.08,  0.04,  0.06,  0.17,  0.03, -0.01, -0.08, -0.89,  0.68,\n",
       "         1.  ,  0.99,  1.  , -0.88,  0.93, -0.78,  0.99, -0.76,  0.92,\n",
       "        -0.74, -0.93, -0.8 ],\n",
       "       [ 0.06,  0.02,  0.03,  0.15,  0.03, -0.01, -0.07, -0.94,  0.68,\n",
       "         0.99,  1.  ,  0.99, -0.92,  0.96, -0.83,  1.  , -0.83,  0.87,\n",
       "        -0.78, -0.96, -0.85],\n",
       "       [ 0.09,  0.04,  0.06,  0.17,  0.04, -0.01, -0.08, -0.88,  0.68,\n",
       "         1.  ,  0.99,  1.  , -0.87,  0.92, -0.76,  0.99, -0.74,  0.93,\n",
       "        -0.74, -0.92, -0.78],\n",
       "       [-0.13, -0.08, -0.11, -0.2 ,  0.12, -0.11, -0.07,  0.92, -0.59,\n",
       "        -0.88, -0.92, -0.87,  1.  , -0.99,  0.98, -0.92,  0.92, -0.72,\n",
       "         0.75,  0.93,  0.91],\n",
       "       [ 0.1 ,  0.05,  0.07,  0.18, -0.04,  0.04, -0.01, -0.94,  0.68,\n",
       "         0.93,  0.96,  0.92, -0.99,  1.  , -0.93,  0.96, -0.9 ,  0.79,\n",
       "        -0.78, -0.96, -0.9 ],\n",
       "       [-0.16, -0.12, -0.15, -0.22,  0.21, -0.18, -0.17,  0.85, -0.44,\n",
       "        -0.78, -0.83, -0.76,  0.98, -0.93,  1.  , -0.84,  0.9 , -0.6 ,\n",
       "         0.68,  0.86,  0.88],\n",
       "       [ 0.07,  0.03,  0.05,  0.16,  0.02,  0.  , -0.06, -0.93,  0.68,\n",
       "         0.99,  1.  ,  0.99, -0.92,  0.96, -0.84,  1.  , -0.83,  0.88,\n",
       "        -0.78, -0.96, -0.85],\n",
       "       [ 0.01,  0.05,  0.03, -0.07,  0.04, -0.02, -0.02,  0.95, -0.56,\n",
       "        -0.76, -0.83, -0.74,  0.92, -0.9 ,  0.9 , -0.83,  1.  , -0.53,\n",
       "         0.76,  0.91,  0.94],\n",
       "       [ 0.12,  0.09,  0.1 ,  0.18,  0.05, -0.02, -0.1 , -0.71,  0.66,\n",
       "         0.92,  0.87,  0.93, -0.72,  0.79, -0.6 ,  0.88, -0.53,  1.  ,\n",
       "        -0.59, -0.76, -0.6 ],\n",
       "       [ 0.12,  0.16,  0.15,  0.01, -0.31,  0.27,  0.36,  0.82, -0.76,\n",
       "        -0.74, -0.78, -0.74,  0.75, -0.78,  0.68, -0.78,  0.76, -0.59,\n",
       "         1.  ,  0.87,  0.76],\n",
       "       [ 0.08,  0.13,  0.11, -0.01, -0.14,  0.14,  0.17,  0.97, -0.72,\n",
       "        -0.93, -0.96, -0.92,  0.93, -0.96,  0.86, -0.96,  0.91, -0.76,\n",
       "         0.87,  1.  ,  0.91],\n",
       "       [-0.04,  0.  , -0.02, -0.12,  0.09, -0.07, -0.08,  0.92, -0.61,\n",
       "        -0.8 , -0.85, -0.78,  0.91, -0.9 ,  0.88, -0.85,  0.94, -0.6 ,\n",
       "         0.76,  0.91,  1.  ]])"
      ]
     },
     "execution_count": 7,
     "metadata": {},
     "output_type": "execute_result"
    }
   ],
   "source": [
    "np.around(corr_matrix, decimals=2)"
   ]
  },
  {
   "cell_type": "code",
   "execution_count": 8,
   "id": "mounted-animation",
   "metadata": {
    "scrolled": true
   },
   "outputs": [
    {
     "data": {
      "text/plain": [
       "<matplotlib.image.AxesImage at 0x7f991c209748>"
      ]
     },
     "execution_count": 8,
     "metadata": {},
     "output_type": "execute_result"
    },
    {
     "data": {
      "image/png": "[encoded data removed]",
      "text/plain": [
       "<Figure size 432x288 with 1 Axes>"
      ]
     },
     "metadata": {
      "needs_background": "light"
     },
     "output_type": "display_data"
    }
   ],
   "source": [
    "plt.imshow(corr_matrix)"
   ]
  },
  {
   "cell_type": "code",
   "execution_count": null,
   "id": "cardiac-apartment",
   "metadata": {},
   "outputs": [],
   "source": []
  },
  {
   "cell_type": "code",
   "execution_count": 9,
   "id": "geographic-anxiety",
   "metadata": {},
   "outputs": [],
   "source": [
    "np.savetxt(\"/home/niaki/Downloads/1Sweep2RuleEmALL_evaluation_msssim_voi_onlyBCE_corrmatrix.csv\", corr_matrix, delimiter=\",\")"
   ]
  },
  {
   "cell_type": "code",
   "execution_count": null,
   "id": "extreme-edinburgh",
   "metadata": {},
   "outputs": [],
   "source": []
  },
  {
   "cell_type": "code",
   "execution_count": null,
   "id": "mysterious-wellington",
   "metadata": {},
   "outputs": [],
   "source": []
  }
 ],
 "metadata": {
  "kernelspec": {
   "display_name": "Python (torch)",
   "language": "python",
   "name": "torch"
  },
  "language_info": {
   "codemirror_mode": {
    "name": "ipython",
    "version": 3
   },
   "file_extension": ".py",
   "mimetype": "text/x-python",
   "name": "python",
   "nbconvert_exporter": "python",
   "pygments_lexer": "ipython3",
   "version": "3.7.2"
  }
 },
 "nbformat": 4,
 "nbformat_minor": 5
}
