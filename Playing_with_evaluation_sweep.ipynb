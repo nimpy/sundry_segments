{
 "cells": [
  {
   "cell_type": "code",
   "execution_count": 1,
   "id": "first-discipline",
   "metadata": {},
   "outputs": [],
   "source": [
    "import pandas as pd\n",
    "import numpy as np\n",
    "import os\n",
    "import matplotlib.pyplot as plt"
   ]
  },
  {
   "cell_type": "code",
   "execution_count": 2,
   "id": "hollow-brown",
   "metadata": {},
   "outputs": [],
   "source": [
    "sweep_df = pd.read_csv(os.path.join('/home/niaki/Downloads/1Sweep2RuleEmALL_evaluation.csv'))"
   ]
  },
  {
   "cell_type": "code",
   "execution_count": 3,
   "id": "stock-allah",
   "metadata": {},
   "outputs": [],
   "source": [
    "hpatches_overall = sweep_df['hpatches_overall']\n",
    "matching_overall = sweep_df['matching_overall']\n",
    "retrieval_overall = sweep_df['retrieval_overall']\n",
    "verification_overall = sweep_df['verification_overall']\n",
    "\n",
    "mse = sweep_df['mse']\n",
    "psnr = sweep_df['psnr']\n",
    "ssim = sweep_df['ssim']\n",
    "# msssim = sweep_df['msssim']  # TODO\n",
    "\n",
    "are = sweep_df['are']\n",
    "\n",
    "nrmse_eucl = sweep_df['nrmse_eucl']\n",
    "nrmse_minmax = sweep_df['nrmse_minmax']\n",
    "nrmse_mean = sweep_df['nrmse_mean']\n",
    "\n",
    "voi_oi = sweep_df['voi_oi']\n",
    "voi_io = sweep_df['voi_io']\n",
    "\n",
    "rmse_sw = sweep_df['rmse_sw']\n",
    "uqi = sweep_df['uqi']\n",
    "ergas = sweep_df['ergas']\n",
    "scc = sweep_df['scc']\n",
    "# sam = sweep_df['sam']  # it's always a NaN\n",
    "vifp = sweep_df['vifp']\n",
    "psnrb = sweep_df['psnrb']"
   ]
  },
  {
   "cell_type": "code",
   "execution_count": 4,
   "id": "secure-welcome",
   "metadata": {},
   "outputs": [],
   "source": [
    "benchmark_metrics = [hpatches_overall, matching_overall, retrieval_overall, verification_overall]\n",
    "approximate_metrics = [mse, psnr, ssim, are, nrmse_eucl, nrmse_minmax, nrmse_mean, voi_oi, voi_io, rmse_sw, uqi, ergas, scc, vifp, psnrb]\n",
    "\n",
    "all_metrics = benchmark_metrics + approximate_metrics"
   ]
  },
  {
   "cell_type": "code",
   "execution_count": null,
   "id": "dressed-observation",
   "metadata": {},
   "outputs": [],
   "source": []
  },
  {
   "cell_type": "code",
   "execution_count": 5,
   "id": "romance-messenger",
   "metadata": {},
   "outputs": [],
   "source": [
    "corr_matrix = np.corrcoef(all_metrics)"
   ]
  },
  {
   "cell_type": "code",
   "execution_count": 6,
   "id": "interim-outside",
   "metadata": {
    "scrolled": true
   },
   "outputs": [
    {
     "data": {
      "text/plain": [
       "array([[ 1.  ,  0.98,  0.99,  0.97,  0.21,  0.22,  0.83, -0.26, -0.03,\n",
       "        -0.03, -0.04,  0.08, -0.14, -0.03,  0.03, -0.03,  0.19,  0.22,\n",
       "         0.01],\n",
       "       [ 0.98,  1.  ,  0.97,  0.91,  0.35,  0.07,  0.87, -0.28, -0.09,\n",
       "        -0.08, -0.09,  0.16, -0.22, -0.08,  0.06, -0.09,  0.23,  0.28,\n",
       "         0.05],\n",
       "       [ 0.99,  0.97,  1.  ,  0.94,  0.19,  0.25,  0.83, -0.27, -0.05,\n",
       "        -0.05, -0.05,  0.09, -0.15, -0.05,  0.05, -0.04,  0.21,  0.24,\n",
       "         0.03],\n",
       "       [ 0.97,  0.91,  0.94,  1.  ,  0.08,  0.33,  0.72, -0.21,  0.06,\n",
       "         0.06,  0.06, -0.02, -0.02,  0.07, -0.05,  0.05,  0.09,  0.11,\n",
       "        -0.07],\n",
       "       [ 0.21,  0.35,  0.19,  0.08,  1.  , -0.84,  0.47,  0.1 , -0.15,\n",
       "        -0.12, -0.16,  0.35, -0.37, -0.15,  0.09, -0.18,  0.16,  0.27,\n",
       "         0.11],\n",
       "       [ 0.22,  0.07,  0.25,  0.33, -0.84,  1.  , -0.05, -0.17,  0.1 ,\n",
       "         0.08,  0.11, -0.26,  0.27,  0.1 , -0.06,  0.14, -0.05, -0.16,\n",
       "        -0.09],\n",
       "       [ 0.83,  0.87,  0.83,  0.72,  0.47, -0.05,  1.  , -0.34, -0.22,\n",
       "        -0.19, -0.23,  0.24, -0.33, -0.2 ,  0.08, -0.26,  0.39,  0.38,\n",
       "         0.06],\n",
       "       [-0.26, -0.28, -0.27, -0.21,  0.1 , -0.17, -0.34,  1.  ,  0.46,\n",
       "         0.43,  0.48, -0.33,  0.46,  0.42, -0.29,  0.57, -0.33, -0.36,\n",
       "        -0.35],\n",
       "       [-0.03, -0.09, -0.05,  0.06, -0.15,  0.1 , -0.22,  0.46,  1.  ,\n",
       "         0.99,  1.  , -0.84,  0.89,  0.99, -0.78,  0.9 , -0.79, -0.9 ,\n",
       "        -0.84],\n",
       "       [-0.03, -0.08, -0.05,  0.06, -0.12,  0.08, -0.19,  0.43,  0.99,\n",
       "         1.  ,  0.98, -0.86,  0.89,  1.  , -0.85,  0.85, -0.83, -0.93,\n",
       "        -0.89],\n",
       "       [-0.04, -0.09, -0.05,  0.06, -0.16,  0.11, -0.23,  0.48,  1.  ,\n",
       "         0.98,  1.  , -0.83,  0.88,  0.98, -0.76,  0.92, -0.78, -0.89,\n",
       "        -0.83],\n",
       "       [ 0.08,  0.16,  0.09, -0.02,  0.35, -0.26,  0.24, -0.33, -0.84,\n",
       "        -0.86, -0.83,  1.  , -0.98, -0.87,  0.82, -0.67,  0.74,  0.85,\n",
       "         0.85],\n",
       "       [-0.14, -0.22, -0.15, -0.02, -0.37,  0.27, -0.33,  0.46,  0.89,\n",
       "         0.89,  0.88, -0.98,  1.  ,  0.9 , -0.79,  0.76, -0.75, -0.87,\n",
       "        -0.84],\n",
       "       [-0.03, -0.08, -0.05,  0.07, -0.15,  0.1 , -0.2 ,  0.42,  0.99,\n",
       "         1.  ,  0.98, -0.87,  0.9 ,  1.  , -0.85,  0.86, -0.83, -0.93,\n",
       "        -0.89],\n",
       "       [ 0.03,  0.06,  0.05, -0.05,  0.09, -0.06,  0.08, -0.29, -0.78,\n",
       "        -0.85, -0.76,  0.82, -0.79, -0.85,  1.  , -0.54,  0.81,  0.88,\n",
       "         0.94],\n",
       "       [-0.03, -0.09, -0.04,  0.05, -0.18,  0.14, -0.26,  0.57,  0.9 ,\n",
       "         0.85,  0.92, -0.67,  0.76,  0.86, -0.54,  1.  , -0.61, -0.73,\n",
       "        -0.63],\n",
       "       [ 0.19,  0.23,  0.21,  0.09,  0.16, -0.05,  0.39, -0.33, -0.79,\n",
       "        -0.83, -0.78,  0.74, -0.75, -0.83,  0.81, -0.61,  1.  ,  0.93,\n",
       "         0.8 ],\n",
       "       [ 0.22,  0.28,  0.24,  0.11,  0.27, -0.16,  0.38, -0.36, -0.9 ,\n",
       "        -0.93, -0.89,  0.85, -0.87, -0.93,  0.88, -0.73,  0.93,  1.  ,\n",
       "         0.88],\n",
       "       [ 0.01,  0.05,  0.03, -0.07,  0.11, -0.09,  0.06, -0.35, -0.84,\n",
       "        -0.89, -0.83,  0.85, -0.84, -0.89,  0.94, -0.63,  0.8 ,  0.88,\n",
       "         1.  ]])"
      ]
     },
     "execution_count": 6,
     "metadata": {},
     "output_type": "execute_result"
    }
   ],
   "source": [
    "np.around(corr_matrix, decimals=2)"
   ]
  },
  {
   "cell_type": "code",
   "execution_count": 7,
   "id": "intensive-passenger",
   "metadata": {
    "scrolled": true
   },
   "outputs": [
    {
     "data": {
      "text/plain": [
       "<matplotlib.image.AxesImage at 0x7fe62bb4e0b8>"
      ]
     },
     "execution_count": 7,
     "metadata": {},
     "output_type": "execute_result"
    },
    {
     "data": {
      "image/png": "[encoded data removed]",
      "text/plain": [
       "<Figure size 432x288 with 1 Axes>"
      ]
     },
     "metadata": {
      "needs_background": "light"
     },
     "output_type": "display_data"
    }
   ],
   "source": [
    "plt.imshow(corr_matrix)"
   ]
  },
  {
   "cell_type": "code",
   "execution_count": null,
   "id": "virgin-edmonton",
   "metadata": {},
   "outputs": [],
   "source": []
  },
  {
   "cell_type": "code",
   "execution_count": 8,
   "id": "forward-synthesis",
   "metadata": {},
   "outputs": [],
   "source": [
    "np.savetxt(\"/home/niaki/Downloads/1Sweep2RuleEmALL_evaluation_corrmatrix.csv\", corr_matrix, delimiter=\",\")"
   ]
  },
  {
   "cell_type": "code",
   "execution_count": null,
   "id": "elect-pregnancy",
   "metadata": {},
   "outputs": [],
   "source": []
  }
 ],
 "metadata": {
  "kernelspec": {
   "display_name": "Python (torch)",
   "language": "python",
   "name": "torch"
  },
  "language_info": {
   "codemirror_mode": {
    "name": "ipython",
    "version": 3
   },
   "file_extension": ".py",
   "mimetype": "text/x-python",
   "name": "python",
   "nbconvert_exporter": "python",
   "pygments_lexer": "ipython3",
   "version": "3.7.2"
  }
 },
 "nbformat": 4,
 "nbformat_minor": 5
}
