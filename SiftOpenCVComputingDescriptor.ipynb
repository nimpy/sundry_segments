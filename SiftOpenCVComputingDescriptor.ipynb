{
 "cells": [
  {
   "cell_type": "code",
   "execution_count": 1,
   "metadata": {},
   "outputs": [],
   "source": [
    "import cv2 as cv\n",
    "import imageio\n",
    "i"
   ]
  },
  {
   "cell_type": "code",
   "execution_count": 2,
   "metadata": {},
   "outputs": [],
   "source": [
    "sift = cv.xfeatures2d.SIFT_create()"
   ]
  },
  {
   "cell_type": "code",
   "execution_count": 3,
   "metadata": {},
   "outputs": [],
   "source": [
    "img = imageio.imread('/home/niaki/Downloads/Lenna.png')\n",
    "patch_size = 16\n",
    "x = 34\n",
    "y = 456\n",
    "patch = img[x: x + patch_size, y: y + patch_size, 0]"
   ]
  },
  {
   "cell_type": "code",
   "execution_count": 4,
   "metadata": {},
   "outputs": [
    {
     "name": "stdout",
     "output_type": "stream",
     "text": [
      "(1, 128)\n",
      "[[  0.   0.   0.   0.   0.   0.   0.   0.  37.  49.   1.   0.   1.   0.\n",
      "    0.   0.  20.  22.   1.   2.  13.   7.   3.   3.   0.   0.   0.   0.\n",
      "    1.   1.   1.   4.  45.  14.   0.   0.   0.   0.   0.   2. 220. 183.\n",
      "    0.   0.   0.   0.   1.  18. 220.  31.   0.   0.   3.  34.  44.  35.\n",
      "    1.   0.   0.   0.   0.  10.  27.  29.  37.   3.   0.   0.   0.   0.\n",
      "    0.   5. 220.  17.   0.   0.   0.   0.   0. 101. 220.   1.   0.   0.\n",
      "    2.  42.  22.  70.   0.   0.   0.   0.   2.  24.  12.   3.   0.   0.\n",
      "    0.   0.   0.   0.   0.   0.  17.   0.   0.   0.   0.   0.   0.  13.\n",
      "   21.   0.   0.   0.   1.   9.   5.  23.   0.   0.   0.   0.   0.   4.\n",
      "    0.   0.]]\n"
     ]
    }
   ],
   "source": [
    "# with detection of key points\n",
    "keypoints, desc = sift.detectAndCompute(patch, None)\n",
    "try:\n",
    "    print(desc.shape)\n",
    "    print(desc)\n",
    "except AttributeError:\n",
    "    print(\"Sift didn\\'t detect any key points in this patch!\")"
   ]
  },
  {
   "cell_type": "code",
   "execution_count": 5,
   "metadata": {},
   "outputs": [
    {
     "name": "stdout",
     "output_type": "stream",
     "text": [
      "(1, 128)\n",
      "[[  0.   0.   0.   0.   0.   0.   0.   0.   0.   0.   0.   0.   0.   0.\n",
      "    0.   0.   0.   0.   0.   0.   0.   0.   0.   0.   0.   0.   0.   0.\n",
      "    0.   0.   0.   0.   0.   0.   0.   0.   0.   0.   0.   0.  49.  25.\n",
      "   69. 217.  17.   0.   2.  19.  52.  19. 133. 217.  17.   0.   1.  19.\n",
      "    0.   0.   0.   0.   0.   0.   0.   0.   0.   0.   0.   0.   0.   0.\n",
      "    0.   0.  39.  18.  81. 217.  60.   1.   4.  24.  36.  14. 163. 217.\n",
      "   62.   1.   2.  15.   0.   0.   0.   0.   0.   0.   0.   0.   0.   0.\n",
      "    0.   0.   0.   0.   0.   0.   0.   0.   0.   0.   0.   0.   0.   0.\n",
      "    0.   0.   0.   0.   0.   0.   0.   0.   0.   0.   0.   0.   0.   0.\n",
      "    0.   0.]]\n"
     ]
    }
   ],
   "source": [
    "# setting a keypoint manually as the centre of the patch, with size (diameter) patch size\n",
    "\n",
    "keypoint = cv.KeyPoint((patch_size - 1) / 2, (patch_size - 1) / 2, _size=patch_size)\n",
    "keypoints = [keypoint]\n",
    "_, desc = sift.compute(patch, keypoints)\n",
    "print(desc.shape)\n",
    "print(desc)"
   ]
  },
  {
   "cell_type": "code",
   "execution_count": null,
   "metadata": {},
   "outputs": [],
   "source": []
  }
 ],
 "metadata": {
  "kernelspec": {
   "display_name": "Python [conda env:cv]",
   "language": "python",
   "name": "conda-env-cv-py"
  },
  "language_info": {
   "codemirror_mode": {
    "name": "ipython",
    "version": 2
   },
   "file_extension": ".py",
   "mimetype": "text/x-python",
   "name": "python",
   "nbconvert_exporter": "python",
   "pygments_lexer": "ipython2",
   "version": "2.7.15"
  }
 },
 "nbformat": 4,
 "nbformat_minor": 2
}
