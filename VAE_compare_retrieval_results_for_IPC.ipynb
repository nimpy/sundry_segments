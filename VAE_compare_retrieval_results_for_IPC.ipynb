{
 "cells": [
  {
   "cell_type": "code",
   "execution_count": 13,
   "metadata": {},
   "outputs": [],
   "source": [
    "import numpy as np\n",
    "import imageio\n",
    "import os\n",
    "import argparse\n",
    "import matplotlib.pyplot as plt\n",
    "import sys\n",
    "\n",
    "import torch\n",
    "from torch.utils.data import Dataset, DataLoader\n",
    "from torch.autograd import Variable\n",
    "import torchvision.transforms as transforms\n",
    "\n",
    "from skimage.metrics import structural_similarity as ssim\n",
    "from skimage.metrics import peak_signal_noise_ratio as psnr\n",
    "from skimage.metrics import mean_squared_error as mse"
   ]
  },
  {
   "cell_type": "code",
   "execution_count": 2,
   "metadata": {},
   "outputs": [],
   "source": [
    "sys.path.append('/tmp/pycharm_project_262/')\n",
    "import model.vae2 as vae\n",
    "import model.data_loader as data_loader\n",
    "import utils"
   ]
  },
  {
   "cell_type": "code",
   "execution_count": 4,
   "metadata": {},
   "outputs": [],
   "source": [
    "base_dir = '/scratch/image_datasets/3_65x65/ready/weights'\n",
    "weights_path = os.path.join(base_dir, 'vae_20201211_151545/best.pth.tar')\n",
    "\n",
    "model_vae = vae.BetaVAE(128)\n",
    "model_vae.load_state_dict(torch.load(weights_path)['state_dict'])\n",
    "model_vae.eval()\n",
    "\n",
    "model_vae = model_vae.cuda()"
   ]
  },
  {
   "cell_type": "code",
   "execution_count": null,
   "metadata": {},
   "outputs": [],
   "source": []
  },
  {
   "cell_type": "code",
   "execution_count": 5,
   "metadata": {},
   "outputs": [],
   "source": [
    "json_path = os.path.join('/tmp/pycharm_project_262/', 'model', 'params.json')\n",
    "params = utils.Params(json_path)\n",
    "params.cuda = torch.cuda.is_available()  # use GPU if available\n",
    "dataloaders = data_loader.fetch_dataloader(['test'], '/scratch/image_datasets/3_65x65/ready', params)\n",
    "test_dl = dataloaders['test']"
   ]
  },
  {
   "cell_type": "code",
   "execution_count": 6,
   "metadata": {},
   "outputs": [],
   "source": [
    "for data_batch in test_dl:\n",
    "\n",
    "    # move to GPU if available\n",
    "    data_batch = data_batch.cuda(non_blocking=True)\n",
    "    # fetch the next evaluation batch\n",
    "    data_batch = Variable(data_batch)\n",
    "\n",
    "    # compute model output\n",
    "    encodings, _, _ = model_vae.encode(data_batch)\n"
   ]
  },
  {
   "cell_type": "code",
   "execution_count": 7,
   "metadata": {},
   "outputs": [],
   "source": [
    "encodings = encodings.detach().cpu().numpy()"
   ]
  },
  {
   "cell_type": "code",
   "execution_count": 8,
   "metadata": {},
   "outputs": [
    {
     "data": {
      "text/plain": [
       "-3.3291934"
      ]
     },
     "execution_count": 8,
     "metadata": {},
     "output_type": "execute_result"
    }
   ],
   "source": [
    "np.min(encodings)"
   ]
  },
  {
   "cell_type": "code",
   "execution_count": 9,
   "metadata": {
    "scrolled": true
   },
   "outputs": [
    {
     "data": {
      "text/plain": [
       "array([-4.04874355e-01, -4.71714810e-02,  1.03075898e+00, -2.40795329e-01,\n",
       "        1.20140485e-01, -8.13469529e-01, -6.44869506e-01, -8.68164241e-01,\n",
       "        5.78785419e-01,  2.19005823e+00, -1.82745367e-01,  7.28188515e-01,\n",
       "       -2.70004964e+00,  1.47726297e-01,  4.31561857e-01, -3.81249845e-01,\n",
       "        1.38332999e+00, -5.47505498e-01,  8.11517835e-01,  2.47116804e-01,\n",
       "        3.13582942e-02, -1.33907235e+00,  9.78638470e-01,  5.63702464e-01,\n",
       "       -1.36166108e+00, -8.73600304e-01, -4.70336288e-01, -1.71052933e+00,\n",
       "        3.82346421e-01, -4.01076376e-02, -6.01031423e-01, -1.08540423e-01,\n",
       "       -2.63363779e-01, -1.43486309e+00, -6.81756020e-01, -8.34467530e-01,\n",
       "       -4.95619744e-01,  7.99460709e-01,  2.32774615e+00,  5.51418185e-01,\n",
       "       -1.42778957e+00,  1.21354342e+00,  2.45356590e-01, -1.98243797e-01,\n",
       "        1.84711301e+00, -9.47164237e-01, -1.01505435e+00,  7.33042121e-01,\n",
       "       -2.64143795e-01,  2.09842175e-02,  9.90704656e-01,  1.69562593e-01,\n",
       "        3.64892155e-01, -4.95594949e-01,  2.78837413e-01, -5.27876765e-02,\n",
       "       -1.83574259e+00,  1.66412675e+00, -9.79780316e-01,  1.90556324e+00,\n",
       "       -1.36662567e+00, -3.18117499e-01, -5.03719568e-01,  1.75419700e+00,\n",
       "       -1.19811349e-01,  1.49546909e+00,  2.16461158e+00,  8.89123142e-01,\n",
       "        2.80180478e+00,  1.65582526e+00, -1.46706432e-01,  1.23911512e+00,\n",
       "       -6.33250594e-01,  9.81722474e-01, -1.28091246e-01, -4.12484854e-01,\n",
       "        9.60304141e-01,  3.19959134e-01, -2.89393991e-01, -1.96277499e-02,\n",
       "       -1.86762929e+00, -1.60853565e+00,  5.92902005e-01,  2.71797836e-01,\n",
       "       -1.46442878e+00,  8.08956444e-01, -9.83957872e-02,  1.77890271e-01,\n",
       "        1.11657143e+00,  9.71746862e-01,  1.46540284e+00,  1.20915318e+00,\n",
       "       -6.79936409e-01, -1.52483261e+00,  4.35107052e-01,  5.49471319e-01,\n",
       "       -9.09293175e-01, -1.76589340e-01, -1.56913674e+00,  3.08229148e-01,\n",
       "       -1.02388072e+00,  2.56295353e-01,  5.27756453e-01,  1.06060386e+00,\n",
       "       -6.42788783e-03, -5.78483701e-01, -2.74279341e-03,  1.37409854e+00,\n",
       "        4.30078596e-01,  6.62769616e-01, -9.38300848e-01, -3.05194795e-01,\n",
       "       -2.53972673e+00,  7.54199505e-01,  2.69605339e-01, -1.20512211e+00,\n",
       "        6.74224734e-01, -1.18785357e+00, -2.46701390e-01,  1.07496178e+00,\n",
       "        1.24817526e+00, -7.94534922e-01,  2.40633607e-01,  1.94622979e-01,\n",
       "        2.92197391e-02,  5.70991695e-01, -5.21320760e-01,  1.65496498e-01],\n",
       "      dtype=float32)"
      ]
     },
     "execution_count": 9,
     "metadata": {},
     "output_type": "execute_result"
    }
   ],
   "source": [
    "encodings[0]"
   ]
  },
  {
   "cell_type": "code",
   "execution_count": null,
   "metadata": {},
   "outputs": [],
   "source": []
  },
  {
   "cell_type": "code",
   "execution_count": 10,
   "metadata": {},
   "outputs": [],
   "source": [
    "data_batch = data_batch.detach().cpu().numpy()"
   ]
  },
  {
   "cell_type": "code",
   "execution_count": 11,
   "metadata": {},
   "outputs": [
    {
     "name": "stdout",
     "output_type": "stream",
     "text": [
      "1.0\n"
     ]
    }
   ],
   "source": [
    "print(np.max(data_batch))"
   ]
  },
  {
   "cell_type": "code",
   "execution_count": null,
   "metadata": {},
   "outputs": [],
   "source": []
  },
  {
   "cell_type": "code",
   "execution_count": 22,
   "metadata": {},
   "outputs": [],
   "source": [
    "import PIL\n",
    "image = imageio.imread('/home/niaki/Downloads/Lenna.png')\n",
    "image = PIL.Image.open('/home/niaki/Downloads/Lenna.png')"
   ]
  },
  {
   "cell_type": "code",
   "execution_count": 14,
   "metadata": {},
   "outputs": [],
   "source": [
    "eval_transformer = transforms.Compose([\n",
    "    transforms.CenterCrop(64),\n",
    "    transforms.ToTensor()])"
   ]
  },
  {
   "cell_type": "code",
   "execution_count": 20,
   "metadata": {},
   "outputs": [
    {
     "data": {
      "text/plain": [
       "torchvision.transforms.transforms.Compose"
      ]
     },
     "execution_count": 20,
     "metadata": {},
     "output_type": "execute_result"
    }
   ],
   "source": [
    "type(eval_transformer)"
   ]
  },
  {
   "cell_type": "code",
   "execution_count": 24,
   "metadata": {},
   "outputs": [],
   "source": [
    "image = eval_transformer(image)"
   ]
  },
  {
   "cell_type": "code",
   "execution_count": 25,
   "metadata": {},
   "outputs": [
    {
     "data": {
      "text/plain": [
       "torch.Size([3, 64, 64])"
      ]
     },
     "execution_count": 25,
     "metadata": {},
     "output_type": "execute_result"
    }
   ],
   "source": [
    "image.shape"
   ]
  },
  {
   "cell_type": "code",
   "execution_count": null,
   "metadata": {},
   "outputs": [],
   "source": []
  },
  {
   "cell_type": "code",
   "execution_count": null,
   "metadata": {},
   "outputs": [],
   "source": [
    "def calculate_SSDs_for_descr(which_desc, image, patch_size=65, query_stride=65, compare_stride=65, nr_similar_patches=6, eps=0.0001):\n",
    "\n",
    "    image_height = image.shape[0]\n",
    "    image_width = image.shape[1]\n",
    "    \n",
    "    query_x_coords = []\n",
    "    query_y_coords = []\n",
    "\n",
    "    results_noisy_descr_patches_diffs = {}\n",
    "    results_noisy_descr_patches_x_coords = {}\n",
    "    results_noisy_descr_patches_y_coords = {}\n",
    "    results_noisy_descr_patches_positions = {}\n",
    "\n",
    "    counter_query_patches = 0\n",
    "\n",
    "    # just for the sake of output\n",
    "    total_nr_query_patches = len(range(0, image_width - patch_size + 1, query_stride)) * len(\n",
    "        range(0, image_height - patch_size + 1, query_stride))\n",
    "\n",
    "    for y_query in range(0, image_width - patch_size + 1, query_stride):\n",
    "        for x_query in range(0, image_height - patch_size + 1, query_stride):\n",
    "            sys.stdout.write(\"\\r\" + str(counter_query_patches + 1) + \"/\" + str(total_nr_query_patches))\n",
    "\n",
    "            query_x_coords.append(x_query)\n",
    "            query_y_coords.append(y_query)\n",
    "\n",
    "            query_patch = image[x_query: x_query + patch_size, y_query: y_query + patch_size]\n",
    "            \n",
    "            if which_desc == 0:\n",
    "#                 query_patch_descr = compute_descriptor(ae32_encoder, query_patch)\n",
    "                pass\n",
    "            elif which_desc == 1:\n",
    "#                 query_patch_descr = compute_descriptor(vae.encoder, query_patch)\n",
    "            \n",
    "            else:\n",
    "                raise Exception(\"Wrong input for which_desc\")\n",
    "            \n",
    "            counter_compare_patches = 0\n",
    "\n",
    "            patches_diffs = [1000000000]\n",
    "            patches_x_coords = [-1]\n",
    "            patches_y_coords = [-1]\n",
    "            patches_positions = [-1]\n",
    "\n",
    "            for y_compare in range(0, image_width - patch_size + 1, compare_stride):\n",
    "                for x_compare in range(0, image_height - patch_size + 1, compare_stride):\n",
    "\n",
    "                    compare_patch = image[x_compare: x_compare + patch_size, y_compare: y_compare + patch_size]\n",
    "\n",
    "                    if which_desc == 0:\n",
    "#                         compare_patch_descr = compute_descriptor(ae32_encoder, compare_patch)\n",
    "                        pass\n",
    "                    elif which_desc == 1:\n",
    "#                         compare_patch_descr = compute_descriptor(vae.encoder, compare_patch)\n",
    "            \n",
    "                    else:\n",
    "                        raise Exception(\"Wrong input for which_desc\")\n",
    "\n",
    "                    diff = calculate_ssd(query_patch_descr, compare_patch_descr)\n",
    "\n",
    "                    if diff < eps:\n",
    "                        counter_compare_patches += 1\n",
    "                        continue\n",
    "\n",
    "                    # sorting\n",
    "                    for i in range(len(patches_diffs)):\n",
    "                        if diff < patches_diffs[i]:\n",
    "                            patches_diffs.insert(i, diff)\n",
    "                            patches_x_coords.insert(i, x_compare)\n",
    "                            patches_y_coords.insert(i, y_compare)\n",
    "                            patches_positions.insert(i, counter_compare_patches)\n",
    "                            break\n",
    "\n",
    "                    counter_compare_patches += 1\n",
    "            \n",
    "                       \n",
    "            results_noisy_descr_patches_diffs[counter_query_patches] = patches_diffs[:nr_similar_patches]\n",
    "            results_noisy_descr_patches_x_coords[counter_query_patches] = patches_x_coords[:nr_similar_patches]\n",
    "            results_noisy_descr_patches_y_coords[counter_query_patches] = patches_y_coords[:nr_similar_patches]\n",
    "            results_noisy_descr_patches_positions[counter_query_patches] = patches_positions[:nr_similar_patches]\n",
    "\n",
    "            counter_query_patches += 1\n",
    "\n",
    "    ssds = []\n",
    "    ssims = []\n",
    "    psnrs=[]\n",
    "\n",
    "    for q_it in range(total_nr_query_patches):\n",
    "        for c_it in range(nr_similar_patches):\n",
    "\n",
    "            # getting the query patch from the clean image\n",
    "            x_query = query_x_coords[q_it]\n",
    "            y_query = query_y_coords[q_it]\n",
    "            query_patch = image[x_query: x_query + patch_size, y_query: y_query + patch_size]\n",
    "\n",
    "            # getting the compare patch from the clean image\n",
    "            x_compare = results_noisy_descr_patches_x_coords[q_it][c_it]\n",
    "            y_compare = results_noisy_descr_patches_y_coords[q_it][c_it]\n",
    "            compare_patch = image[x_compare: x_compare + patch_size, y_compare: y_compare + patch_size]\n",
    "\n",
    "            # calculating the difference in the clean image\n",
    "            actual_diff = calculate_ssd(query_patch, compare_patch)\n",
    "            ssds.append(actual_diff)\n",
    "            \n",
    "            dr_max = max(query_patch.max(), compare_patch.max())\n",
    "            dr_min = min(query_patch.min(), compare_patch.min())\n",
    "            diff_ssim = ssim(query_patch, compare_patch, data_range=dr_max - dr_min)\n",
    "            ssims.append(diff_ssim)\n",
    "            \n",
    "            diff_psnr = calculate_psnr(query_patch, compare_patch, max_value=255)\n",
    "            psnrs.append(diff_psnr)\n",
    "            \n",
    "    ssds = np.array(ssds)\n",
    "    ssims = np.array(ssims)\n",
    "    psnrs = np.array(psnrs)\n",
    "    \n",
    "    return ssds, ssims, psnrs"
   ]
  },
  {
   "cell_type": "code",
   "execution_count": null,
   "metadata": {},
   "outputs": [],
   "source": []
  },
  {
   "cell_type": "code",
   "execution_count": null,
   "metadata": {},
   "outputs": [],
   "source": []
  },
  {
   "cell_type": "code",
   "execution_count": null,
   "metadata": {},
   "outputs": [],
   "source": []
  },
  {
   "cell_type": "code",
   "execution_count": null,
   "metadata": {},
   "outputs": [],
   "source": []
  },
  {
   "cell_type": "code",
   "execution_count": null,
   "metadata": {},
   "outputs": [],
   "source": []
  },
  {
   "cell_type": "code",
   "execution_count": null,
   "metadata": {},
   "outputs": [],
   "source": []
  },
  {
   "cell_type": "code",
   "execution_count": null,
   "metadata": {},
   "outputs": [],
   "source": []
  },
  {
   "cell_type": "code",
   "execution_count": null,
   "metadata": {},
   "outputs": [],
   "source": []
  },
  {
   "cell_type": "code",
   "execution_count": null,
   "metadata": {},
   "outputs": [],
   "source": []
  },
  {
   "cell_type": "code",
   "execution_count": null,
   "metadata": {},
   "outputs": [],
   "source": []
  },
  {
   "cell_type": "code",
   "execution_count": 49,
   "metadata": {},
   "outputs": [],
   "source": [
    "x_ax = [0.00001, 0.0001, 0.001, 0.01, 0.1, 1, 10, 100]\n",
    "retrieval_ssim = [0.2456442946, 0.2522387713, 0.2373298755, 0.2212246955, 0.209240617, 0.1603289464, 0.1621682582, 0.1590089617]\n",
    "retrieval_psnr = [25.42065018, 24.5505158, 19.98648621, 15.80595361, 14.74284083, 13.93896855, 14.15154281, 13.57112419]"
   ]
  },
  {
   "cell_type": "code",
   "execution_count": 51,
   "metadata": {},
   "outputs": [],
   "source": [
    "inversion_ssim = [0.4931766805, 0.5089288117, 0.4895139822, 0.4059314291, 0.2677550599, 0.2018798471, 0.1781645129, 0.173142699]\n",
    "inversion_psnr = [19.77837203, 20.24035882, 19.78922854, 18.11084078, 15.42325332, 12.80464801, 10.21999193, 9.132503846]"
   ]
  },
  {
   "cell_type": "code",
   "execution_count": 87,
   "metadata": {},
   "outputs": [],
   "source": [
    "fig_size = (5, 2.5)\n",
    "fig_size_combined = (5, 5)"
   ]
  },
  {
   "cell_type": "code",
   "execution_count": 82,
   "metadata": {},
   "outputs": [
    {
     "data": {
      "image/png": "[encoded data removed]",
      "text/plain": [
       "<Figure size 360x180 with 1 Axes>"
      ]
     },
     "metadata": {
      "needs_background": "light"
     },
     "output_type": "display_data"
    }
   ],
   "source": [
    "plt.figure(figsize=fig_size)\n",
    "plt.title('Patch retrieval')\n",
    "plt.plot(x_ax, retrieval_ssim, 'o-r')\n",
    "plt.xlabel(r'$\\beta_{norm}$')\n",
    "plt.ylabel('SSIM')\n",
    "plt.tight_layout()\n",
    "axes = plt.gca()\n",
    "axes.set_xscale('log')\n",
    "plt.savefig(\"/home/niaki/Downloads/bVAE_patch_retrieval_ssim.pdf\", bbox_inches='tight')"
   ]
  },
  {
   "cell_type": "code",
   "execution_count": 83,
   "metadata": {},
   "outputs": [
    {
     "data": {
      "image/png": "[encoded data removed]",
      "text/plain": [
       "<Figure size 360x180 with 1 Axes>"
      ]
     },
     "metadata": {
      "needs_background": "light"
     },
     "output_type": "display_data"
    }
   ],
   "source": [
    "plt.figure(figsize=fig_size)\n",
    "plt.title('Patch retrieval')\n",
    "plt.plot(x_ax, retrieval_psnr, 'o-')\n",
    "plt.xlabel(r'$\\beta_{norm}$')\n",
    "plt.ylabel('PSNR')\n",
    "plt.tight_layout()\n",
    "axes = plt.gca()\n",
    "axes.set_xscale('log')\n",
    "plt.savefig(\"/home/niaki/Downloads/bVAE_patch_retrieval_psnr.pdf\", bbox_inches='tight')"
   ]
  },
  {
   "cell_type": "code",
   "execution_count": 84,
   "metadata": {},
   "outputs": [
    {
     "data": {
      "image/png": "[encoded data removed]",
      "text/plain": [
       "<Figure size 360x180 with 1 Axes>"
      ]
     },
     "metadata": {
      "needs_background": "light"
     },
     "output_type": "display_data"
    }
   ],
   "source": [
    "plt.figure(figsize=fig_size)\n",
    "plt.title('Patch inversion')\n",
    "plt.plot(x_ax, inversion_ssim, 'o-r')\n",
    "plt.xlabel(r'$\\beta_{norm}$')\n",
    "plt.ylabel('SSIM')\n",
    "plt.tight_layout()\n",
    "axes = plt.gca()\n",
    "axes.set_xscale('log')\n",
    "plt.savefig(\"/home/niaki/Downloads/bVAE_patch_inversion_ssim.pdf\", bbox_inches='tight')"
   ]
  },
  {
   "cell_type": "code",
   "execution_count": 85,
   "metadata": {},
   "outputs": [
    {
     "data": {
      "image/png": "[encoded data removed]",
      "text/plain": [
       "<Figure size 360x180 with 1 Axes>"
      ]
     },
     "metadata": {
      "needs_background": "light"
     },
     "output_type": "display_data"
    }
   ],
   "source": [
    "plt.figure(figsize=fig_size)\n",
    "plt.title('Patch inversion')\n",
    "plt.plot(x_ax, inversion_psnr, 'o-')\n",
    "plt.xlabel(r'$\\beta_{norm}$')\n",
    "plt.ylabel('PSNR')\n",
    "plt.tight_layout()\n",
    "axes = plt.gca()\n",
    "axes.set_xscale('log')\n",
    "plt.savefig(\"/home/niaki/Downloads/bVAE_patch_inversion_psnr.pdf\", bbox_inches='tight')"
   ]
  },
  {
   "cell_type": "code",
   "execution_count": null,
   "metadata": {},
   "outputs": [],
   "source": []
  },
  {
   "cell_type": "code",
   "execution_count": null,
   "metadata": {},
   "outputs": [],
   "source": []
  },
  {
   "cell_type": "code",
   "execution_count": null,
   "metadata": {},
   "outputs": [],
   "source": []
  },
  {
   "cell_type": "code",
   "execution_count": null,
   "metadata": {},
   "outputs": [],
   "source": []
  },
  {
   "cell_type": "code",
   "execution_count": 97,
   "metadata": {
    "scrolled": false
   },
   "outputs": [
    {
     "data": {
      "image/png": "[encoded data removed]",
      "text/plain": [
       "<Figure size 360x360 with 2 Axes>"
      ]
     },
     "metadata": {
      "needs_background": "light"
     },
     "output_type": "display_data"
    }
   ],
   "source": [
    "plt.figure(figsize=fig_size_combined)\n",
    "plt.subplot(2,1,1)\n",
    "plt.title('Patch retrieval', y=1.08, fontsize=15)\n",
    "plt.plot(x_ax, retrieval_psnr, 'o-')\n",
    "plt.xlabel(r'$\\beta_{norm}$')\n",
    "plt.ylabel('PSNR')\n",
    "plt.tight_layout()\n",
    "axes = plt.gca()\n",
    "axes.set_xscale('log')\n",
    "plt.subplot(2,1,2)\n",
    "plt.plot(x_ax, retrieval_ssim, 'o-r')\n",
    "plt.xlabel(r'$\\beta_{norm}$')\n",
    "plt.ylabel('SSIM')\n",
    "plt.tight_layout()\n",
    "axes = plt.gca()\n",
    "axes.set_xscale('log')\n",
    "\n",
    "plt.savefig(\"/home/niaki/Downloads/bVAE_patch_retrieval.pdf\", bbox_inches='tight')"
   ]
  },
  {
   "cell_type": "code",
   "execution_count": 99,
   "metadata": {},
   "outputs": [
    {
     "data": {
      "image/png": "[encoded data removed]",
      "text/plain": [
       "<Figure size 360x360 with 2 Axes>"
      ]
     },
     "metadata": {
      "needs_background": "light"
     },
     "output_type": "display_data"
    }
   ],
   "source": [
    "plt.figure(figsize=fig_size_combined)\n",
    "plt.subplot(2,1,1)\n",
    "plt.title('Patch inversion', y=1.08, fontsize=15)\n",
    "plt.plot(x_ax, inversion_psnr, 'o-')\n",
    "plt.xlabel(r'$\\beta_{norm}$')\n",
    "plt.ylabel('PSNR')\n",
    "plt.tight_layout()\n",
    "axes = plt.gca()\n",
    "axes.set_xscale('log')\n",
    "plt.subplot(2,1,2)\n",
    "plt.plot(x_ax, inversion_ssim, 'o-r')\n",
    "plt.xlabel(r'$\\beta_{norm}$')\n",
    "plt.ylabel('SSIM')\n",
    "plt.tight_layout()\n",
    "axes = plt.gca()\n",
    "axes.set_xscale('log')\n",
    "\n",
    "plt.savefig(\"/home/niaki/Downloads/bVAE_patch_inversion.pdf\", bbox_inches='tight')"
   ]
  },
  {
   "cell_type": "code",
   "execution_count": null,
   "metadata": {},
   "outputs": [],
   "source": []
  }
 ],
 "metadata": {
  "kernelspec": {
   "display_name": "Python (torch)",
   "language": "python",
   "name": "torch"
  },
  "language_info": {
   "codemirror_mode": {
    "name": "ipython",
    "version": 3
   },
   "file_extension": ".py",
   "mimetype": "text/x-python",
   "name": "python",
   "nbconvert_exporter": "python",
   "pygments_lexer": "ipython3",
   "version": "3.7.9"
  }
 },
 "nbformat": 4,
 "nbformat_minor": 2
}
